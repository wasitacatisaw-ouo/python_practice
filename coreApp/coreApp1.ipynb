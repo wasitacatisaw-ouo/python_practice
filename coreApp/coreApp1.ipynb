{
 "cells": [
  {
   "cell_type": "markdown",
   "id": "af6847df",
   "metadata": {},
   "source": [
    "#####   class ( var(class, local, instance), func(instance, class, static, abstract) ), func\n",
    "#####   multi-inharitance (선조클래스 이름.접근 || super(). 접근 || self.접근), 좌측 선조부터 접근\n",
    "#####   override O, overload X\n",
    "<hr>\n",
    "\n",
    "#### module (var + method + class ...)\n",
    "#### Convention(), exception handler, file stream\n",
    "#### visualize - Matplotlib, NumPy, Pandas\n",
    "<hr>\n",
    "\n",
    "#### DataExtraction - (PythonData, Crawling, openApi)\n",
    "#### DataSave - (DB(SQL, Oracle, MongoDb), JSON, XML, CSV)\n",
    "#### DataPreprocessing - Pandas, NumPy, EDA\n",
    "<hr>\n",
    "\n",
    "#### MachineLearning (Classification, Regression, Clustering)\n",
    "#### DeepLearning ()"
   ]
  },
  {
   "cell_type": "markdown",
   "id": "c86039ff",
   "metadata": {},
   "source": [
    "* 모듈과 패키지"
   ]
  },
  {
   "cell_type": "code",
   "execution_count": null,
   "id": "26165641",
   "metadata": {},
   "outputs": [],
   "source": [
    "# import math\n",
    "# print(math.pi)"
   ]
  },
  {
   "cell_type": "code",
   "execution_count": null,
   "id": "6127a77b",
   "metadata": {},
   "outputs": [],
   "source": [
    "# import math as m  # as는 alias를 의미. sqrt=제곱근\n",
    "# print(m.sqrt(16))"
   ]
  },
  {
   "cell_type": "code",
   "execution_count": null,
   "id": "b616aa58",
   "metadata": {},
   "outputs": [],
   "source": [
    "# from math import pi,sqrt\n",
    "# print(pi)\n",
    "# print(sqrt(2))"
   ]
  },
  {
   "cell_type": "code",
   "execution_count": null,
   "id": "e87ac48c",
   "metadata": {},
   "outputs": [],
   "source": [
    "# from math import pi as p, sqrt as s\n",
    "# print(s(9))\n",
    "# print(p)"
   ]
  },
  {
   "cell_type": "code",
   "execution_count": null,
   "id": "f3de11f6",
   "metadata": {},
   "outputs": [],
   "source": [
    "# import urllib.request\n",
    "# response=urllib.request.urlopen('http://www.google.co.kr')\n",
    "# print(response.status)"
   ]
  },
  {
   "cell_type": "code",
   "execution_count": null,
   "id": "9f222e9b",
   "metadata": {},
   "outputs": [],
   "source": [
    "# import urllib.request as r\n",
    "# response=r.urlopen('http://www.google.co.kr')\n",
    "# print(response.status)"
   ]
  },
  {
   "cell_type": "code",
   "execution_count": null,
   "id": "347cdc2e",
   "metadata": {},
   "outputs": [],
   "source": [
    "# from urllib.request import Request, urlopen\n",
    "# req=Request('http://www.google.co.kr')\n",
    "# res=urlopen(req)\n",
    "# print(res.status)"
   ]
  },
  {
   "cell_type": "code",
   "execution_count": null,
   "id": "fb4ba1d0",
   "metadata": {},
   "outputs": [],
   "source": [
    "from urllib.request import Request as r, urlopen as u\n",
    "req=r('http://www.google.co.kr')\n",
    "res=u(req)\n",
    "print(res.status)"
   ]
  },
  {
   "cell_type": "code",
   "execution_count": null,
   "id": "8db3c1bb",
   "metadata": {},
   "outputs": [],
   "source": [
    "import sqq as a # module 확장자명 .py 여야 import 가능\n",
    "print(a.square(9))"
   ]
  },
  {
   "cell_type": "code",
   "execution_count": null,
   "id": "570a3194",
   "metadata": {},
   "outputs": [],
   "source": [
    "from sqq import square as s\n",
    "print(s(10))"
   ]
  },
  {
   "cell_type": "code",
   "execution_count": null,
   "id": "888c8f25",
   "metadata": {},
   "outputs": [],
   "source": [
    "import person\n",
    "p1=person.Person('Damien', 25, 'Seoul')\n",
    "p1.greeting()"
   ]
  },
  {
   "cell_type": "code",
   "execution_count": null,
   "id": "7c078045",
   "metadata": {},
   "outputs": [],
   "source": [
    "import calcpkag.op\n",
    "print(calcpkag.op.add(10,20))\n",
    "print(calcpkag.op.mul(10,20))\n",
    "print(calcpkag.op.minus(10,20))\n",
    "print(calcpkag.op.div(10,20))"
   ]
  },
  {
   "cell_type": "code",
   "execution_count": 2,
   "id": "c478fe14",
   "metadata": {},
   "outputs": [
    {
     "name": "stdout",
     "output_type": "stream",
     "text": [
      "30\n",
      "200\n",
      "-10\n",
      "0.5\n"
     ]
    }
   ],
   "source": [
    "from calcpkag.op import *\n",
    "print(add(10,20))\n",
    "print(mul(10,20))\n",
    "print(minus(10,20))\n",
    "print(div(10,20))"
   ]
  },
  {
   "cell_type": "code",
   "execution_count": null,
   "id": "e6acf3e8",
   "metadata": {},
   "outputs": [],
   "source": []
  },
  {
   "cell_type": "code",
   "execution_count": null,
   "id": "451dc7c5",
   "metadata": {},
   "outputs": [],
   "source": []
  }
 ],
 "metadata": {
  "kernelspec": {
   "display_name": "Python 3 (ipykernel)",
   "language": "python",
   "name": "python3"
  },
  "language_info": {
   "codemirror_mode": {
    "name": "ipython",
    "version": 3
   },
   "file_extension": ".py",
   "mimetype": "text/x-python",
   "name": "python",
   "nbconvert_exporter": "python",
   "pygments_lexer": "ipython3",
   "version": "3.7.15"
  }
 },
 "nbformat": 4,
 "nbformat_minor": 5
}
