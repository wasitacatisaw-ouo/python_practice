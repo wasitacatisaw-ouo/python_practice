{
 "cells": [
  {
   "cell_type": "markdown",
   "id": "58396ad1",
   "metadata": {},
   "source": [
    "## 예외처리"
   ]
  },
  {
   "cell_type": "code",
   "execution_count": null,
   "id": "2a6ff067",
   "metadata": {},
   "outputs": [],
   "source": [
    "def show_div(x):\n",
    "    return 10/x\n",
    "\n",
    "\n",
    "try:\n",
    "    x=int(input('나눌 값을 입력'))\n",
    "    y=10/x\n",
    "    print(y)\n",
    "except: # 예외가 발생했을 때 실행\n",
    "    print('exception accrued!')"
   ]
  },
  {
   "cell_type": "code",
   "execution_count": null,
   "id": "20343ce7",
   "metadata": {},
   "outputs": [],
   "source": [
    "y=[10,20,30,40]\n",
    "try:\n",
    "    index,x=map(int, input('나눌 숫자 입력').split())\n",
    "    print(y[index]/x)\n",
    "except ZeroDivisionError:\n",
    "    print('zero division error exception accrued!')\n",
    "except IndexError:\n",
    "    print('인덱스 범위 초과')\n",
    "    "
   ]
  },
  {
   "cell_type": "code",
   "execution_count": null,
   "id": "7048fc00",
   "metadata": {},
   "outputs": [],
   "source": [
    "y=[10,20,30,40]\n",
    "try:\n",
    "    index,x=map(int, input('나눌 숫자 입력').split())\n",
    "    print(y[index]/x)\n",
    "except ZeroDivisionError as e:\n",
    "    print('zero division error exception accrued!', e)\n",
    "except IndexError as i:\n",
    "    print('인덱스 범위 초과', i)\n",
    "    "
   ]
  },
  {
   "cell_type": "code",
   "execution_count": null,
   "id": "359d92fb",
   "metadata": {},
   "outputs": [],
   "source": [
    "try:\n",
    "    x=int(input('나눌 숫자 입력'))\n",
    "    y=10/x\n",
    "except ZeroDivisionError:\n",
    "    print('ZeroDivisionError')\n",
    "else:\n",
    "    print(y)\n",
    "finally:\n",
    "    print('finally')"
   ]
  },
  {
   "cell_type": "code",
   "execution_count": null,
   "id": "d9e4a4bb",
   "metadata": {},
   "outputs": [],
   "source": [
    "x=int(input('3의 배수 입력'))\n",
    "assert x%3==0,'3의 배수가 아닙니다'\n",
    "print(x)"
   ]
  },
  {
   "cell_type": "code",
   "execution_count": null,
   "id": "1afa7453",
   "metadata": {},
   "outputs": [],
   "source": [
    "try:\n",
    "    x=int(input('3의 배수 입력'))\n",
    "    if x%3!=0:\n",
    "        raise Exception('%i은(는) 3의 배수가 아닙니다' %x)\n",
    "    else:\n",
    "        print(x)\n",
    "except Exception as e:\n",
    "    print('exception accrued!', e)\n",
    "    "
   ]
  },
  {
   "cell_type": "code",
   "execution_count": null,
   "id": "c0b7cb78",
   "metadata": {},
   "outputs": [],
   "source": [
    "def exception_show():\n",
    "    x=int(input('3의 배수 입력'))\n",
    "    if x%3!=0:\n",
    "        raise Exception('%i은(는) 3의 배수가 아닙니다' %x)\n",
    "    print(x)\n",
    "    \n",
    "try:\n",
    "    exception_show()\n",
    "except Exception as e:\n",
    "    print('exception accrued!', e)"
   ]
  },
  {
   "cell_type": "code",
   "execution_count": null,
   "id": "95fa00ee",
   "metadata": {},
   "outputs": [],
   "source": [
    "def multiple_exception():\n",
    "    try:\n",
    "        x=int(input('3의 배수 입력'))\n",
    "        if x%3!=0:\n",
    "            raise Exception('%i은(는) 3의 배수가 아닙니다' %x)\n",
    "        print(x)\n",
    "    except Exception as e:\n",
    "        print('exception accrued!', e)\n",
    "        raise # 예외 발생시 아래의 예외 프린트시킴. 없으면 위에것만\n",
    "\n",
    "try:\n",
    "    multiple_exception()\n",
    "except Exception as e:\n",
    "    print('예외..', e)"
   ]
  },
  {
   "cell_type": "code",
   "execution_count": null,
   "id": "393c9080",
   "metadata": {},
   "outputs": [],
   "source": [
    "class UserException(Exception):\n",
    "    def __init__(self):\n",
    "        super().__init__('3의배수가 아닙니다..')\n",
    "\n",
    "def show_ex():\n",
    "    try:\n",
    "        x=int(input('3의 배수 입력'))\n",
    "        if x%3!=0:\n",
    "            raise UserException()\n",
    "        print(x) \n",
    "    except UserException as e:\n",
    "        print(\"UserException......\", e)\n",
    "\n",
    "show_ex()"
   ]
  },
  {
   "cell_type": "code",
   "execution_count": 12,
   "id": "abb5ed55",
   "metadata": {},
   "outputs": [
    {
     "name": "stdout",
     "output_type": "stream",
     "text": [
      "oop\n",
      "21\n",
      "['h', 'i', 'j', 'k']\n",
      "i\n",
      "0\n",
      "h\n",
      "i\n",
      "j\n",
      "k\n",
      "AttributeError 'dict' object has no attribute 'append'\n"
     ]
    }
   ],
   "source": [
    "dict_value={'name':'oop', 'age':21}\n",
    "try:\n",
    "    #print(cc) # NameError\n",
    "    print(dict_value['name']) # -------- key error\n",
    "    print(dict_value['age']) \n",
    "    #print(dict_value['oop']) # -------- key error\n",
    "    #print(int('하이')) # -------------- value error\n",
    "    list_value=['h','i','j','k']\n",
    "    print(list_value)\n",
    "    print(list_value[1]) # ------------- index error\n",
    "    print(list_value.index('h')) # ----- value error\n",
    "    for i in list_value:\n",
    "        print(i)\n",
    "    #print(5+'팔') # -------------------- TypeError\n",
    "    #dict_value.append('hi') # ---------- AttributeError \n",
    "\n",
    "except AttributeError as a:\n",
    "    print('AttributeError',a)\n",
    "except KeyError as a:\n",
    "    print('KeyError',a)\n",
    "except IndentationError as a:\n",
    "    print('IndentationError',a)\n",
    "except ValueError as a:\n",
    "    print('ValueError',a)\n",
    "except IndexError as a:\n",
    "    print('IndexError',a)\n",
    "except SyntaxError as a: # ------ 문법오류, compile시 에러가 나므로 exception 발생은 하지 않는다\n",
    "    print('SyntaxError',a)\n",
    "except NameError as a:  # ------- 지역변수나 전역변수를 찾을 수 없음\n",
    "    print('NameError',a)\n",
    "except ZeroDivisionError as a:\n",
    "    print('ZeroDivisionError',a)\n",
    "except TypeError as a:  # ------- 문자 + 숫자\n",
    "    print('TypeError',a)\n"
   ]
  },
  {
   "cell_type": "code",
   "execution_count": null,
   "id": "f78d6d19",
   "metadata": {},
   "outputs": [],
   "source": []
  },
  {
   "cell_type": "code",
   "execution_count": null,
   "id": "b079b77e",
   "metadata": {},
   "outputs": [],
   "source": []
  }
 ],
 "metadata": {
  "kernelspec": {
   "display_name": "Python 3 (ipykernel)",
   "language": "python",
   "name": "python3"
  },
  "language_info": {
   "codemirror_mode": {
    "name": "ipython",
    "version": 3
   },
   "file_extension": ".py",
   "mimetype": "text/x-python",
   "name": "python",
   "nbconvert_exporter": "python",
   "pygments_lexer": "ipython3",
   "version": "3.7.15"
  }
 },
 "nbformat": 4,
 "nbformat_minor": 5
}
