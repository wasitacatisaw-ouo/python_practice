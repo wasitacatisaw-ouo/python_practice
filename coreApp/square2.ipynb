{
 "cells": [
  {
   "cell_type": "code",
   "execution_count": 1,
   "id": "72c42d54",
   "metadata": {},
   "outputs": [],
   "source": [
    "base=2"
   ]
  },
  {
   "cell_type": "code",
   "execution_count": 5,
   "id": "df7eba3b",
   "metadata": {},
   "outputs": [],
   "source": [
    "def square(n):\n",
    "    return n**base"
   ]
  },
  {
   "cell_type": "code",
   "execution_count": null,
   "id": "92f7c08a",
   "metadata": {},
   "outputs": [],
   "source": []
  }
 ],
 "metadata": {
  "kernelspec": {
   "display_name": "Python 3 (ipykernel)",
   "language": "python",
   "name": "python3"
  },
  "language_info": {
   "codemirror_mode": {
    "name": "ipython",
    "version": 3
   },
   "file_extension": ".py",
   "mimetype": "text/x-python",
   "name": "python",
   "nbconvert_exporter": "python",
   "pygments_lexer": "ipython3",
   "version": "3.7.15"
  }
 },
 "nbformat": 4,
 "nbformat_minor": 5
}
