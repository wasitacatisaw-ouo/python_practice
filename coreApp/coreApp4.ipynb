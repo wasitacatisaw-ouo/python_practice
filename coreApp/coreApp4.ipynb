{
 "cells": [
  {
   "cell_type": "markdown",
   "id": "787d2cc2",
   "metadata": {},
   "source": [
    "* 파일처리"
   ]
  },
  {
   "cell_type": "code",
   "execution_count": 18,
   "id": "b965ae4d",
   "metadata": {},
   "outputs": [],
   "source": [
    "f=open(\"showmessage.txt\",'w')   # ------ stream 객체 생성\n",
    "f.write('Hi, Python\\n')\n",
    "f.write('Hi, Java\\n')\n",
    "f.close()             # ---------------- stream 객체 소멸"
   ]
  },
  {
   "cell_type": "code",
   "execution_count": 21,
   "id": "2b831abe",
   "metadata": {},
   "outputs": [
    {
     "name": "stdout",
     "output_type": "stream",
     "text": [
      "Hi, Python\n",
      "Hi, Java\n",
      "\n"
     ]
    }
   ],
   "source": [
    "f=open(\"showmessage.txt\",'r', encoding='utf-8')\n",
    "#print(f.readlines())\n",
    "print(f.read())\n",
    "f.close()"
   ]
  },
  {
   "cell_type": "code",
   "execution_count": 22,
   "id": "46a58458",
   "metadata": {},
   "outputs": [
    {
     "name": "stdout",
     "output_type": "stream",
     "text": [
      "['Hi,', 'Python', 'Hi,', 'Java']\n"
     ]
    }
   ],
   "source": [
    "f=open(\"showmessage.txt\",'r', encoding='utf-8')\n",
    "read=f.read()\n",
    "split=read.split()\n",
    "print(split)\n",
    "f.close()"
   ]
  },
  {
   "cell_type": "code",
   "execution_count": 26,
   "id": "84535015",
   "metadata": {},
   "outputs": [],
   "source": [
    "stream = open('testShow.txt', 'w', encoding='utf-8')\n",
    "for i in range(1, 101):\n",
    "    data='%d번째 LINE\\n' %i\n",
    "    stream.write(data)\n",
    "stream.close()"
   ]
  },
  {
   "cell_type": "code",
   "execution_count": 28,
   "id": "18ffa5c2",
   "metadata": {},
   "outputs": [
    {
     "data": {
      "text/plain": [
       "'testShowCopy3.txt'"
      ]
     },
     "execution_count": 28,
     "metadata": {},
     "output_type": "execute_result"
    }
   ],
   "source": [
    "import shutil\n",
    "shutil.copyfile('testShow.txt', 'testShowCopy.txt') # ----- 파일 복사\n",
    "shutil.copy('testShow.txt', 'testShowCopy2.txt')   #  ----- 파일 권한까지 복사 \n",
    "shutil.copy2('testShow.txt', 'testShowCopy3.txt')  #  ----- 파일 metadata까지 복사"
   ]
  },
  {
   "cell_type": "code",
   "execution_count": 31,
   "id": "3a0801c3",
   "metadata": {},
   "outputs": [],
   "source": [
    "stream = open('testShow.txt', 'r', encoding='utf-8')\n",
    "copy = open('testShowCopy4.txt', 'w', encoding='utf-8') # --- file copy\n",
    "read=stream.read()\n",
    "copy.write(read)\n",
    "stream.close()\n",
    "copy.close()"
   ]
  },
  {
   "cell_type": "code",
   "execution_count": 32,
   "id": "f0808538",
   "metadata": {},
   "outputs": [],
   "source": [
    "stream = open('testShow.txt', 'r', encoding='utf-8')\n",
    "copy = open('testShowCopy4.txt', 'a', encoding='utf-8') # --- file copy + apend\n",
    "read=stream.read()\n",
    "copy.write(read)\n",
    "stream.close()\n",
    "copy.close()"
   ]
  },
  {
   "cell_type": "code",
   "execution_count": 34,
   "id": "bea0bc88",
   "metadata": {},
   "outputs": [
    {
     "name": "stdout",
     "output_type": "stream",
     "text": [
      "java python oracle"
     ]
    }
   ],
   "source": [
    "stream = open('withFile.txt', 'w', encoding='utf-8')\n",
    "stream.writelines(' '.join(['java', 'python', 'oracle']))\n",
    "stream.close()\n",
    "try:\n",
    "    streamread=open('withFile.txt', 'r', encoding='utf-8')\n",
    "    for s in streamread:\n",
    "        print(s, end='')\n",
    "except:\n",
    "    print('Exception Throw')\n",
    "finally:\n",
    "    stream.close()\n",
    "    streamread.close()"
   ]
  },
  {
   "cell_type": "code",
   "execution_count": 39,
   "id": "b0056f03",
   "metadata": {},
   "outputs": [
    {
     "name": "stdout",
     "output_type": "stream",
     "text": [
      "파일위치 0\n",
      "java python oracle\n",
      "파일위치 18\n",
      "va python oracle\n",
      "e\n"
     ]
    }
   ],
   "source": [
    "stream = open('withFile.txt', 'r', encoding='utf-8')\n",
    "print('파일위치',stream.tell())\n",
    "print(stream.read())\n",
    "print('파일위치',stream.tell())\n",
    "stream.seek(2)\n",
    "print(stream.read())\n",
    "stream.seek(17)\n",
    "print(stream.read())"
   ]
  },
  {
   "cell_type": "code",
   "execution_count": 41,
   "id": "8a0202d7",
   "metadata": {},
   "outputs": [
    {
     "name": "stdout",
     "output_type": "stream",
     "text": [
      "<_csv.reader object at 0x000001504634D520>\n",
      "\n",
      "['Code', 'Symbol', 'Name']\n",
      "['AED', 'د.إ', 'United Arab Emirates d']\n",
      "['AFN', '؋', 'Afghan afghani']\n",
      "['ALL', 'L', 'Albanian lek']\n",
      "['AMD', 'AMD', 'Armenian dram']\n",
      "['ANG', 'ƒ', 'Netherlands Antillean gu']\n",
      "['AOA', 'Kz', 'Angolan kwanza']\n",
      "['ARS', '$', 'Argentine peso']\n",
      "['AUD', '$', 'Australian dollar']\n",
      "['AWG', 'Afl.', 'Aruban florin']\n",
      "['AZN', 'AZN', 'Azerbaijani manat']\n",
      "['BAM', 'KM', 'Bosnia and Herzegovina ']\n",
      "['BBD', '$', 'Barbadian dollar']\n",
      "['BDT', '৳ ', 'Bangladeshi taka']\n",
      "['BGN', 'лв.', 'Bulgarian lev']\n",
      "['BHD', '.د.ب', 'Bahraini dinar']\n",
      "['BIF', 'Fr', 'Burundian franc']\n",
      "['BMD', '$', 'Bermudian dollar']\n",
      "['BND', '$', 'Brunei dollar']\n",
      "['BOB', 'Bs.', 'Bolivian boliviano']\n",
      "['BRL', 'R$', 'Brazilian real']\n",
      "['BSD', '$', 'Bahamian dollar']\n",
      "['BTC', '฿', 'Bitcoin']\n",
      "['BTN', 'Nu.', 'Bhutanese ngultrum']\n",
      "['BWP', 'P', 'Botswana pula']\n",
      "['BYR', 'Br', \"Belarusian ruble (old)'\"]\n",
      "['BYN', 'Br', 'Belarusian ruble']\n",
      "['BZD', '$', 'Belize dollar']\n",
      "['CAD', '$', 'Canadian dollar']\n",
      "['CDF', 'Fr', 'Congolese franc']\n",
      "['CHF', 'CHF', 'Swiss franc']\n",
      "['CLP', '$', 'Chilean peso']\n",
      "['CNY', '¥', 'Chinese yuan']\n",
      "['COP', '$', 'Colombian peso']\n",
      "['CRC', '₡', 'Costa Rican colón']\n",
      "['CUC', '$', \"Cuban convertible peso')\"]\n",
      "['CUP', '$', 'Cuban peso']\n",
      "['CVE', '$', 'Cape Verdean escudo']\n",
      "['CZK', 'Kč', 'Czech koruna']\n",
      "['DJF', 'Fr', 'Djiboutian franc']\n",
      "['DKK', 'DKK', 'Danish krone']\n",
      "['DOP', 'RD$', 'Dominican peso']\n",
      "['DZD', 'د.ج', 'Algerian dinar']\n",
      "['EGP', 'EGP', 'Egyptian pound']\n",
      "['ERN', 'Nfk', 'Eritrean nakfa']\n",
      "['ETB', 'Br', 'Ethiopian birr']\n",
      "['EUR', '€', 'Euro']\n",
      "['FJD', '$', 'Fijian dollar']\n",
      "['FKP', '£', \"Falkland Islands pound')\"]\n",
      "['GBP', '£', 'Pound sterling']\n",
      "['GEL', '₾', 'Georgian lari']\n",
      "['GGP', '£', 'Guernsey pound']\n",
      "['GHS', '₵', 'Ghana cedi']\n",
      "['GIP', '£', 'Gibraltar pound']\n",
      "['GMD', 'D', 'Gambian dalasi']\n",
      "['GNF', 'Fr', 'Guinean franc']\n",
      "['GTQ', 'Q', 'Guatemalan quetzal']\n",
      "['GYD', '$', 'Guyanese dollar']\n",
      "['HKD', '$', 'Hong Kong dollar']\n",
      "['HNL', 'L', 'Honduran lempira']\n",
      "['HRK', 'kn', 'Croatian kuna']\n",
      "['HTG', 'G', 'Haitian gourde']\n",
      "['HUF', 'Ft', 'Hungarian forint']\n",
      "['IDR', 'Rp', 'Indonesian rupiah']\n",
      "['ILS', '₪', 'Israeli new shekel']\n",
      "['IMP', '£', 'Manx pound']\n",
      "['INR', '₹', 'Indian rupee']\n",
      "['IQD', 'ع.د', 'Iraqi dinar']\n",
      "['IRR', '﷼', 'Iranian rial']\n",
      "['IRT', 'تومان', 'Iranian toman']\n",
      "['ISK', 'kr.', 'Icelandic króna']\n",
      "['JEP', '£', 'Jersey pound']\n",
      "['JMD', '$', 'Jamaican dollar']\n",
      "['JOD', 'د.ا', 'Jordanian dinar']\n",
      "['JPY', '¥', 'Japanese yen']\n",
      "['KES', 'KSh', 'Kenyan shilling']\n",
      "['KGS', 'сом', 'Kyrgyzstani som']\n",
      "['KHR', '៛', 'Cambodian riel']\n",
      "['KMF', 'Fr', 'Comorian franc']\n",
      "['KPW', '₩', 'North Korean won']\n",
      "['KRW', '₩', 'South Korean won']\n",
      "['KWD', 'د.ك', 'Kuwaiti dinar']\n",
      "['KYD', '$', 'Cayman Islands dollar']\n",
      "['KZT', '₸', 'Kazakhstani tenge']\n",
      "['LAK', '₭', 'Lao kip']\n",
      "['LBP', 'ل.ل', 'Lebanese pound']\n",
      "['LKR', 'රු', 'Sri Lankan rupee']\n",
      "['LRD', '$', 'Liberian dollar']\n",
      "['LSL', 'L', 'Lesotho loti']\n",
      "['LYD', 'ل.د', 'Libyan dinar']\n",
      "['MAD', 'د.م.', 'Moroccan dirham']\n",
      "['MDL', 'MDL', 'Moldovan leu']\n",
      "['MGA', 'Ar', 'Malagasy ariary']\n",
      "['MKD', 'ден', 'Macedonian denar']\n",
      "['MMK', 'Ks', 'Burmese kyat']\n",
      "['MNT', '₮', 'Mongolian tögrög']\n",
      "['MOP', 'P', 'Macanese pataca']\n",
      "['MRU', 'UM', 'Mauritanian ouguiya']\n",
      "['MUR', '₨', 'Mauritian rupee']\n",
      "['MVR', '.ރ', 'Maldivian rufiyaa']\n",
      "['MWK', 'MK', 'Malawian kwacha']\n",
      "['MXN', '$', 'Mexican peso']\n",
      "['MYR', 'RM', 'Malaysian ringgit']\n",
      "['MZN', 'MT', 'Mozambican metical']\n",
      "['NAD', 'N$', 'Namibian dollar']\n",
      "['NGN', '₦', 'Nigerian naira']\n",
      "['NIO', 'C$', 'Nicaraguan córdoba']\n",
      "['NOK', 'kr', 'Norwegian krone']\n",
      "['NPR', '₨', 'Nepalese rupee']\n",
      "['NZD', '$', 'New Zealand dollar']\n",
      "['OMR', 'ر.ع.', 'Omani rial']\n",
      "['PAB', 'B/.', 'Panamanian balboa']\n",
      "['PEN', 'S/', 'Sol']\n",
      "['PGK', 'K', \"Papua New Guinean kina')\"]\n",
      "['PHP', '₱', 'Philippine peso']\n",
      "['PKR', '₨', 'Pakistani rupee']\n",
      "['PLN', 'zł', 'Polish złoty']\n",
      "['PRB', 'р.', 'Transnistrian ruble']\n",
      "['PYG', '₲', 'Paraguayan guaraní']\n",
      "['QAR', 'ر.ق', 'Qatari riyal']\n",
      "['RON', 'lei', 'Romanian leu']\n",
      "['RSD', 'рсд', 'Serbian dinar']\n",
      "['RUB', '₽', 'Russian ruble']\n",
      "['RWF', 'Fr', 'Rwandan franc']\n",
      "['SAR', 'ر.س', 'Saudi riyal']\n",
      "['SBD', '$', \"Solomon Islands dollar')\"]\n",
      "['SCR', '₨', 'Seychellois rupee']\n",
      "['SDG', 'ج.س.', 'Sudanese pound']\n",
      "['SEK', 'kr', 'Swedish krona']\n",
      "['SGD', '$', 'Singapore dollar']\n",
      "['SHP', '£', 'Saint Helena pound']\n",
      "['SLL', 'Le', 'Sierra Leonean leone']\n",
      "['SOS', 'Sh', 'Somali shilling']\n",
      "['SRD', '$', 'Surinamese dollar']\n",
      "['SSP', '£', 'South Sudanese pound']\n",
      "['STN', 'Db', 'São Tomé and Príncipe d']\n",
      "['SYP', 'ل.س', 'Syrian pound']\n",
      "['SZL', 'L', 'Swazi lilangeni']\n",
      "['THB', '฿', 'Thai baht']\n",
      "['TJS', 'ЅМ', 'Tajikistani somoni']\n",
      "['TMT', 'm', 'Turkmenistan manat']\n",
      "['TND', 'د.ت', 'Tunisian dinar']\n",
      "['TOP', 'T$', 'Tongan paʻanga']\n",
      "['TRY', '₺', 'Turkish lira']\n",
      "['TTD', '$', 'Trinidad and Tobago doll']\n",
      "['TWD', 'NT$', 'New Taiwan dollar']\n",
      "['TZS', 'Sh', 'Tanzanian shilling']\n",
      "['UAH', '₴', 'Ukrainian hryvnia']\n",
      "['UGX', 'UGX', 'Ugandan shilling']\n",
      "['USD', '$', 'United States (US) dolla']\n",
      "['UYU', '$', 'Uruguayan peso']\n",
      "['UZS', 'UZS', 'Uzbekistani som']\n",
      "['VEF', 'Bs F', 'Venezuelan bolívar']\n",
      "['VES', 'Bs.S', 'Bolívar soberano']\n",
      "['VND', '₫', 'Vietnamese đồng']\n",
      "['VUV', 'Vt', 'Vanuatu vatu']\n",
      "['WST', 'T', 'Samoan tālā']\n",
      "['XAF', 'CFA', 'Central African CFA fr']\n",
      "['XCD', '$', 'East Caribbean dollar']\n",
      "['XOF', 'CFA', 'West African CFA franc']\n",
      "['XPF', 'Fr', 'CFP franc']\n",
      "['YER', '﷼', 'Yemeni rial']\n",
      "['ZAR', 'R', 'South African rand']\n",
      "['ZMW', 'ZK', 'Zambian kwacha']\n"
     ]
    }
   ],
   "source": [
    "import csv\n",
    "with open('e:/currency.csv', 'r', encoding='utf-8') as f:\n",
    "    read=csv.reader(f)\n",
    "    print(read)\n",
    "    print()\n",
    "    for c in read:\n",
    "        print(c)"
   ]
  },
  {
   "cell_type": "code",
   "execution_count": null,
   "id": "89accfee",
   "metadata": {},
   "outputs": [],
   "source": []
  },
  {
   "cell_type": "code",
   "execution_count": null,
   "id": "d0bc7591",
   "metadata": {},
   "outputs": [],
   "source": []
  },
  {
   "cell_type": "code",
   "execution_count": null,
   "id": "a4860bd8",
   "metadata": {},
   "outputs": [],
   "source": []
  },
  {
   "cell_type": "code",
   "execution_count": null,
   "id": "0ae87faa",
   "metadata": {},
   "outputs": [],
   "source": []
  }
 ],
 "metadata": {
  "kernelspec": {
   "display_name": "Python [conda env:root]",
   "language": "python",
   "name": "conda-root-py"
  },
  "language_info": {
   "codemirror_mode": {
    "name": "ipython",
    "version": 3
   },
   "file_extension": ".py",
   "mimetype": "text/x-python",
   "name": "python",
   "nbconvert_exporter": "python",
   "pygments_lexer": "ipython3",
   "version": "3.9.13"
  }
 },
 "nbformat": 4,
 "nbformat_minor": 5
}
