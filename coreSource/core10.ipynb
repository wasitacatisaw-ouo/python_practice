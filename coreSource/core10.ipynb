{
 "cells": [
  {
   "cell_type": "markdown",
   "id": "cef04949",
   "metadata": {},
   "source": [
    "# Class (inherit, decorator)"
   ]
  },
  {
   "cell_type": "code",
   "execution_count": 1,
   "id": "5d031b95",
   "metadata": {
    "scrolled": true
   },
   "outputs": [
    {
     "name": "stdout",
     "output_type": "stream",
     "text": [
      "golgolgolgol\n",
      "['me', 'cat', 'fish', 'dog']\n",
      "파닥파닥\n",
      "cat ate fish\n",
      "['me', 'cat', 'dog']\n",
      "범이가 꼬리를 칩니다\n",
      "범이는 산책이 가고싶습니다\n",
      "zzz\n",
      "식빵 굽기\n",
      "cat 낮잠 자는중..\n",
      "zzz\n"
     ]
    }
   ],
   "source": [
    "class Animal():\n",
    "    animal_list=[]\n",
    "    def __init__(self, name):\n",
    "        self.name=name\n",
    "        self.animal_list.append(name)\n",
    "    def cry(self):\n",
    "        print('&#$!@&!!')\n",
    "    def sleep(self):\n",
    "        print('zzz')\n",
    "    def eat(self, prey):\n",
    "        print('%s ate %s' %(self.name, prey))\n",
    "        self.animal_list.remove(prey)\n",
    "\n",
    "class Mammal(Animal):\n",
    "    def __init__(self, name):\n",
    "        super().__init__(name)\n",
    "        self.species='mammal'\n",
    "\n",
    "class Feline(Mammal):\n",
    "    def __init__(self, name):\n",
    "        super().__init__(name)\n",
    "        self.species='feline'\n",
    "    def nap(self, name):\n",
    "        print('%s 낮잠 자는중..' %name)\n",
    "    def golgol(self):\n",
    "        print('golgolgolgol')\n",
    "    def bake(self):\n",
    "        print('식빵 굽기')\n",
    "    def alert(self):\n",
    "        print('HaaAaAkK!')\n",
    "\n",
    "class Canine(Mammal):\n",
    "    def __init__(self, name):\n",
    "        super().__init__(name)\n",
    "        self.species='canine'\n",
    "    def bark(self):\n",
    "        print('woof! woof!')\n",
    "    def tail(self, name):\n",
    "        print('%s가 꼬리를 칩니다' %name)\n",
    "    def howl(self):\n",
    "        print('howling')\n",
    "    def walk(self, name):\n",
    "        print('%s는 산책이 가고싶습니다' %name)\n",
    "        \n",
    "class Pisces(Animal):\n",
    "    def __init__(self, name):\n",
    "        super().__init__(name)\n",
    "        self.species='pisces'\n",
    "    def padak(self):\n",
    "        print('파닥파닥')\n",
    "        \n",
    "me=Animal('me')\n",
    "cat=Feline('cat')\n",
    "fish=Pisces('fish')\n",
    "dog=Canine('dog')\n",
    "cat.golgol()\n",
    "print(dog.animal_list)\n",
    "fish.padak()\n",
    "cat.eat('fish')\n",
    "print(me.animal_list)\n",
    "dog.tail('범이')\n",
    "dog.walk('범이')\n",
    "dog.sleep()\n",
    "cat.bake()\n",
    "cat.nap('cat')\n",
    "me.sleep()"
   ]
  },
  {
   "cell_type": "code",
   "execution_count": 21,
   "id": "3b41ea8e",
   "metadata": {},
   "outputs": [
    {
     "name": "stdout",
     "output_type": "stream",
     "text": [
      "display_1함수가 호출되기 전...\n",
      "display_1 함수가 실행중...\n",
      "display_2함수가 호출되기 전...\n",
      "display_2 함수가 실행중...\n"
     ]
    }
   ],
   "source": [
    "def decorator_func(original_function):\n",
    "    def wrapper_func():\n",
    "        print('{}함수가 호출되기 전...'.format(original_function.__name__))\n",
    "        return original_function()\n",
    "    return wrapper_func\n",
    "\n",
    "@decorator_func\n",
    "def display_1():\n",
    "    print('display_1 함수가 실행중...')\n",
    "@decorator_func\n",
    "def display_2():\n",
    "    print('display_2 함수가 실행중...')\n",
    "\n",
    "display_1()\n",
    "display_2()"
   ]
  },
  {
   "cell_type": "code",
   "execution_count": 31,
   "id": "867a35c4",
   "metadata": {},
   "outputs": [
    {
     "name": "stdout",
     "output_type": "stream",
     "text": [
      "show_message함수가 호출되기 전...\n",
      "show_message 핵심코드...\n",
      "show_message(oop,22) 핵심코드...\n"
     ]
    }
   ],
   "source": [
    "def decorator_functionDemo(original_function):\n",
    "    def innerDeco(*x,**y):\n",
    "        print('{}함수가 호출되기 전...'.format(original_function.__name__))\n",
    "        return original_function(*x,**y)\n",
    "    return innerDeco\n",
    "\n",
    "@decorator_functionDemo\n",
    "def show_message():\n",
    "    print('show_message 핵심코드...')\n",
    "\n",
    "def show_message_info(name, age):\n",
    "    print('show_message({},{}) 핵심코드...'.format(name, age))\n",
    "\n",
    "show_message()\n",
    "show_message_info('oop', 22)"
   ]
  },
  {
   "cell_type": "code",
   "execution_count": 38,
   "id": "fad1a1c7",
   "metadata": {},
   "outputs": [],
   "source": [
    "class SelfTest:\n",
    "    def function1(self):\n",
    "        print('function1 call')\n",
    "    def function2(self):\n",
    "        print('function2 call')    \n",
    "    def function3():\n",
    "        print('function3 call')"
   ]
  },
  {
   "cell_type": "code",
   "execution_count": 43,
   "id": "958d1d4d",
   "metadata": {},
   "outputs": [
    {
     "name": "stdout",
     "output_type": "stream",
     "text": [
      "['__class__', '__delattr__', '__dict__', '__dir__', '__doc__', '__eq__', '__format__', '__ge__', '__getattribute__', '__gt__', '__hash__', '__init__', '__init_subclass__', '__le__', '__lt__', '__module__', '__ne__', '__new__', '__reduce__', '__reduce_ex__', '__repr__', '__setattr__', '__sizeof__', '__str__', '__subclasshook__', '__weakref__', 'function1', 'function2', 'function3']\n",
      "function1 call\n",
      "function3 call\n"
     ]
    },
    {
     "ename": "TypeError",
     "evalue": "function3() takes 0 positional arguments but 1 was given",
     "output_type": "error",
     "traceback": [
      "\u001b[1;31m---------------------------------------------------------------------------\u001b[0m",
      "\u001b[1;31mTypeError\u001b[0m                                 Traceback (most recent call last)",
      "\u001b[1;32m~\\AppData\\Local\\Temp\\ipykernel_8484\\718381610.py\u001b[0m in \u001b[0;36m<module>\u001b[1;34m\u001b[0m\n\u001b[0;32m      3\u001b[0m \u001b[0mf\u001b[0m\u001b[1;33m.\u001b[0m\u001b[0mfunction1\u001b[0m\u001b[1;33m(\u001b[0m\u001b[1;33m)\u001b[0m\u001b[1;33m\u001b[0m\u001b[1;33m\u001b[0m\u001b[0m\n\u001b[0;32m      4\u001b[0m \u001b[0mSelfTest\u001b[0m\u001b[1;33m.\u001b[0m\u001b[0mfunction3\u001b[0m\u001b[1;33m(\u001b[0m\u001b[1;33m)\u001b[0m\u001b[1;33m\u001b[0m\u001b[1;33m\u001b[0m\u001b[0m\n\u001b[1;32m----> 5\u001b[1;33m \u001b[0mf\u001b[0m\u001b[1;33m.\u001b[0m\u001b[0mfunction3\u001b[0m\u001b[1;33m(\u001b[0m\u001b[1;33m)\u001b[0m\u001b[1;33m\u001b[0m\u001b[1;33m\u001b[0m\u001b[0m\n\u001b[0m",
      "\u001b[1;31mTypeError\u001b[0m: function3() takes 0 positional arguments but 1 was given"
     ]
    }
   ],
   "source": [
    "f=SelfTest()\n",
    "print(dir(f))\n",
    "f.function1()\n",
    "SelfTest.function3()\n",
    "#f.function3()   # -- 안된다"
   ]
  },
  {
   "cell_type": "code",
   "execution_count": 70,
   "id": "59bd9a71",
   "metadata": {},
   "outputs": [
    {
     "name": "stdout",
     "output_type": "stream",
     "text": [
      "oop\n",
      "22\n",
      "_method4\n",
      "method3\n",
      "__method2__\n"
     ]
    },
    {
     "ename": "AttributeError",
     "evalue": "'ProcessAction' object has no attribute '__method1'",
     "output_type": "error",
     "traceback": [
      "\u001b[1;31m---------------------------------------------------------------------------\u001b[0m",
      "\u001b[1;31mAttributeError\u001b[0m                            Traceback (most recent call last)",
      "\u001b[1;32m~\\AppData\\Local\\Temp\\ipykernel_8484\\1109470635.py\u001b[0m in \u001b[0;36m<module>\u001b[1;34m\u001b[0m\n\u001b[0;32m     18\u001b[0m \u001b[0mp1\u001b[0m\u001b[1;33m.\u001b[0m\u001b[0mmethod3\u001b[0m\u001b[1;33m(\u001b[0m\u001b[1;33m)\u001b[0m\u001b[1;33m\u001b[0m\u001b[1;33m\u001b[0m\u001b[0m\n\u001b[0;32m     19\u001b[0m \u001b[0mp1\u001b[0m\u001b[1;33m.\u001b[0m\u001b[0m__method2__\u001b[0m\u001b[1;33m(\u001b[0m\u001b[1;33m)\u001b[0m\u001b[1;33m\u001b[0m\u001b[1;33m\u001b[0m\u001b[0m\n\u001b[1;32m---> 20\u001b[1;33m \u001b[0mp1\u001b[0m\u001b[1;33m.\u001b[0m\u001b[0m__method1\u001b[0m\u001b[1;33m(\u001b[0m\u001b[1;33m)\u001b[0m\u001b[1;33m\u001b[0m\u001b[1;33m\u001b[0m\u001b[0m\n\u001b[0m\u001b[0;32m     21\u001b[0m \u001b[1;33m\u001b[0m\u001b[0m\n",
      "\u001b[1;31mAttributeError\u001b[0m: 'ProcessAction' object has no attribute '__method1'"
     ]
    }
   ],
   "source": [
    "class ProcessAction:\n",
    "    def __init__(self, name, age, addr):\n",
    "        self.name=name\n",
    "        self.__age__=age\n",
    "        self.__addr__=addr \n",
    "    def __method1(self):\n",
    "        print('외부에서 접근 불가!')  # 변수 앞에 __ 붙이면 비공개(private), 호출불가\n",
    "    def __method2__(self):\n",
    "        print('__method2__')  # 변수 양 옆에 __ 붙이면 호출가능\n",
    "    def method3(self):\n",
    "        print('method3')\n",
    "    def _method4(self):\n",
    "        print('_method4')\n",
    "p1=ProcessAction('oop', 22, 'seoul')\n",
    "print(p1.name)\n",
    "print(p1.__age__)\n",
    "p1._method4()\n",
    "p1.method3()\n",
    "p1.__method2__()\n",
    "p1.__method1()\n",
    "\n"
   ]
  },
  {
   "cell_type": "code",
   "execution_count": 75,
   "id": "99db4720",
   "metadata": {},
   "outputs": [
    {
     "name": "stdout",
     "output_type": "stream",
     "text": [
      "show\n",
      "__show__\n",
      "_show_\n",
      "_show\n"
     ]
    },
    {
     "ename": "AttributeError",
     "evalue": "'AccessModify' object has no attribute '__show'",
     "output_type": "error",
     "traceback": [
      "\u001b[1;31m---------------------------------------------------------------------------\u001b[0m",
      "\u001b[1;31mAttributeError\u001b[0m                            Traceback (most recent call last)",
      "\u001b[1;32m~\\AppData\\Local\\Temp\\ipykernel_8484\\1700994941.py\u001b[0m in \u001b[0;36m<module>\u001b[1;34m\u001b[0m\n\u001b[0;32m     16\u001b[0m \u001b[0ma\u001b[0m\u001b[1;33m.\u001b[0m\u001b[0m_show_\u001b[0m\u001b[1;33m(\u001b[0m\u001b[1;33m)\u001b[0m\u001b[1;33m\u001b[0m\u001b[1;33m\u001b[0m\u001b[0m\n\u001b[0;32m     17\u001b[0m \u001b[0ma\u001b[0m\u001b[1;33m.\u001b[0m\u001b[0m_show\u001b[0m\u001b[1;33m(\u001b[0m\u001b[1;33m)\u001b[0m\u001b[1;33m\u001b[0m\u001b[1;33m\u001b[0m\u001b[0m\n\u001b[1;32m---> 18\u001b[1;33m \u001b[0ma\u001b[0m\u001b[1;33m.\u001b[0m\u001b[0m__show\u001b[0m\u001b[1;33m(\u001b[0m\u001b[1;33m)\u001b[0m\u001b[1;33m\u001b[0m\u001b[1;33m\u001b[0m\u001b[0m\n\u001b[0m",
      "\u001b[1;31mAttributeError\u001b[0m: 'AccessModify' object has no attribute '__show'"
     ]
    }
   ],
   "source": [
    "class AccessModify:\n",
    "    def show(self):\n",
    "        print('show')\n",
    "    def __show__(self):\n",
    "        print('__show__')\n",
    "    def _show_(self):\n",
    "        print('_show_')\n",
    "    def _show(self):\n",
    "        print('_show')\n",
    "    def __show(self):\n",
    "        print('__show')  # 얘만 안된다.\n",
    "    \n",
    "a=AccessModify()\n",
    "a.show()\n",
    "a.__show__()\n",
    "a._show_()\n",
    "a._show()\n",
    "a.__show()\n"
   ]
  },
  {
   "cell_type": "code",
   "execution_count": null,
   "id": "e478999b",
   "metadata": {},
   "outputs": [],
   "source": []
  },
  {
   "cell_type": "code",
   "execution_count": null,
   "id": "5fe9c65c",
   "metadata": {},
   "outputs": [],
   "source": []
  }
 ],
 "metadata": {
  "kernelspec": {
   "display_name": "Python 3 (ipykernel)",
   "language": "python",
   "name": "python3"
  },
  "language_info": {
   "codemirror_mode": {
    "name": "ipython",
    "version": 3
   },
   "file_extension": ".py",
   "mimetype": "text/x-python",
   "name": "python",
   "nbconvert_exporter": "python",
   "pygments_lexer": "ipython3",
   "version": "3.7.15"
  }
 },
 "nbformat": 4,
 "nbformat_minor": 5
}
