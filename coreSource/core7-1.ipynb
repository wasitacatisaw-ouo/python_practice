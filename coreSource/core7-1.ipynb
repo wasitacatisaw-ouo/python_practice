{
 "cells": [
  {
   "cell_type": "markdown",
   "id": "2880410a",
   "metadata": {},
   "source": [
    "# 내장함수\n",
    "### string"
   ]
  },
  {
   "cell_type": "code",
   "execution_count": 16,
   "id": "6d104899",
   "metadata": {},
   "outputs": [
    {
     "name": "stdout",
     "output_type": "stream",
     "text": [
      "1\n",
      "HOBBY\n",
      "hobby\n",
      "Hobby\n",
      "HobBY\n"
     ]
    }
   ],
   "source": [
    "a='hOBby'\n",
    "print(a.count('b'))\n",
    "print(str.upper(a))\n",
    "print(str.lower(a))\n",
    "print(str.capitalize(a))\n",
    "print(str.swapcase(a))"
   ]
  },
  {
   "cell_type": "code",
   "execution_count": 39,
   "id": "a5ce6e96",
   "metadata": {},
   "outputs": [
    {
     "name": "stdout",
     "output_type": "stream",
     "text": [
      "21\n",
      "-1\n",
      "6\n",
      "Life is short, Try Python\n",
      "Peter PiXer Xicked a Xeck of Xickled XeXXers A Xeck of Xickled XeXXers Peter PiXer Xicked\n",
      "If Peter PiXer Xicked a Xeck of Xickled XeXXers\n",
      "Where’s the Xeck of Xickled XeXXers Peter PiXer Xicked?\n"
     ]
    }
   ],
   "source": [
    "a = \"Life is short, Learn Python\"\n",
    "\n",
    "b = \"\"\"Peter Piper picked a peck of pickled peppers A peck of pickled peppers Peter Piper picked\n",
    "If Peter Piper picked a peck of pickled peppers\n",
    "Where’s the peck of pickled peppers Peter Piper picked?\"\"\"\n",
    "\n",
    "print(a.find('P'))\n",
    "print(a.find('p')) # 없으면 -1\n",
    "print(a.index('s')) # 해당 문자의 처음 index값. 없으면 에러.\n",
    "print(a.replace(\"Learn\", \"Try\"))\n",
    "\n",
    "print(b.replace(\"p\", \"X\", 50)) # 교체. 대소문자 구분."
   ]
  },
  {
   "cell_type": "code",
   "execution_count": 12,
   "id": "cc2eac9d",
   "metadata": {},
   "outputs": [
    {
     "name": "stdout",
     "output_type": "stream",
     "text": [
      "a!b!c!d\n",
      "a#b#c\n"
     ]
    }
   ],
   "source": [
    "# \"a\".join(string)\n",
    "# string 사이에 a 끼워넣기\n",
    "\n",
    "print(\"!\".join(\"abcd\"))\n",
    "print(\"#\".join([\"a\", \"b\", \"c\"]))"
   ]
  },
  {
   "cell_type": "code",
   "execution_count": 23,
   "id": "a86f8a9e",
   "metadata": {},
   "outputs": [
    {
     "name": "stdout",
     "output_type": "stream",
     "text": [
      "True\n",
      "True\n",
      "True\n"
     ]
    }
   ],
   "source": [
    "# trim()과 같은 기능\n",
    "a = \"  hello, world  \"\n",
    "print(a.rstrip()==\"  hello, world\")\n",
    "print(a.lstrip()==\"hello, world  \")\n",
    "print(a.strip()==\"hello, world\")"
   ]
  },
  {
   "cell_type": "code",
   "execution_count": 45,
   "id": "e5fa87ee",
   "metadata": {},
   "outputs": [
    {
     "name": "stdout",
     "output_type": "stream",
     "text": [
      "['Betty', 'Botter', 'bought', 'some', 'butter'] <class 'list'>\n",
      "['Betty']\n",
      "['Botter']\n",
      "['bought']\n",
      "['some']\n",
      "['butter']\n"
     ]
    }
   ],
   "source": [
    "# List 형태로 문자열을 마디별로 자르기\n",
    "\n",
    "a = \"Betty Botter bought some butter\"\n",
    "print(a.split(), type(a.split()))\n",
    "for i in a.split():\n",
    "    print(i.split())"
   ]
  },
  {
   "cell_type": "code",
   "execution_count": 44,
   "id": "5047263a",
   "metadata": {},
   "outputs": [
    {
     "name": "stdout",
     "output_type": "stream",
     "text": [
      "['This is Jupy', 'er No', 'ebook']\n"
     ]
    }
   ],
   "source": [
    "# split() 에 기준이 되는 문자를 정할 수 있다.\n",
    "\n",
    "a = \"This is Jupyter Notebook\"\n",
    "print(a.split(\"t\"))"
   ]
  },
  {
   "cell_type": "code",
   "execution_count": 46,
   "id": "1af5d63d",
   "metadata": {},
   "outputs": [
    {
     "name": "stdout",
     "output_type": "stream",
     "text": [
      "a\n",
      "b\n",
      "c\n",
      "d\n",
      "e\n",
      "f\n",
      "g\n"
     ]
    }
   ],
   "source": [
    "a=\"a,b,c,d,e,f,g\"\n",
    "for i in a.split(\",\"):\n",
    "    print(i)"
   ]
  },
  {
   "cell_type": "markdown",
   "id": "6c4b2538",
   "metadata": {},
   "source": [
    "# 내장함수\n",
    "### list"
   ]
  },
  {
   "cell_type": "code",
   "execution_count": 17,
   "id": "beb06135",
   "metadata": {},
   "outputs": [
    {
     "name": "stdout",
     "output_type": "stream",
     "text": [
      "[1, 2, 3, 4]\n",
      "[23, 65, 31, 85, 11]\n",
      "[4, 3, 2, 1] [11, 85, 31, 65, 23]\n",
      "[11, 23, 31, 65, 85]\n",
      "2\n"
     ]
    }
   ],
   "source": [
    "a=[1,2,3]\n",
    "b=[23,65,31,85,11]\n",
    "\n",
    "a.append(4)   # 맨 뒤로 들어간다.\n",
    "print(a)\n",
    "print(b)\n",
    "\n",
    "b.reverse()\n",
    "a.reverse()\n",
    "print(a, b)\n",
    "\n",
    "print(sorted(b))\n",
    "\n",
    "a.append(1)\n",
    "print(a.count(1))\n"
   ]
  },
  {
   "cell_type": "code",
   "execution_count": 27,
   "id": "01f6df2f",
   "metadata": {},
   "outputs": [
    {
     "name": "stdout",
     "output_type": "stream",
     "text": [
      "[1, 4, 2, 3]\n",
      "[1, 2, 3]\n",
      "3\n",
      "[1, 2]\n",
      "[1, 2, 34, 11, 76]\n",
      "[1, 2, 34, 11, 76, [32, 44]]\n"
     ]
    }
   ],
   "source": [
    "a=[1,2,3]\n",
    "a.insert(1,4)  # 1 뒤에 4 삽입\n",
    "print(a)\n",
    "\n",
    "a.remove(4)\n",
    "print(a)\n",
    "\n",
    "print(a.pop())   # pop() 하면 맨 뒤의 객체를 뺀다. 원본에서도 빠진다.\n",
    "print(a)\n",
    "\n",
    "a.extend([34,11,76])  # append와 extend의 차이 주목\n",
    "print(a)\n",
    "\n",
    "a.append([32,44])\n",
    "print(a)"
   ]
  },
  {
   "cell_type": "markdown",
   "id": "24f0007f",
   "metadata": {},
   "source": [
    "# 내장함수\n",
    "### dictionary"
   ]
  },
  {
   "cell_type": "code",
   "execution_count": 59,
   "id": "5acbbefa",
   "metadata": {},
   "outputs": [
    {
     "name": "stdout",
     "output_type": "stream",
     "text": [
      "dict_keys(['name', 'age', 'addr'])\n",
      "dict_values(['Damien', 32, 'Hanam'])\n",
      "dict_items([('name', 'Damien'), ('age', 32), ('addr', 'Hanam')])\n",
      "Damien\n",
      "False\n",
      "32\n",
      "{}\n"
     ]
    }
   ],
   "source": [
    "a={'name':'Damien', 'age':32, 'addr':'Hanam'}\n",
    "\n",
    "print(a.keys())\n",
    "print(a.values())\n",
    "print(a.items())\n",
    "print(a.get('name'))\n",
    "print('pnum' in a)\n",
    "\n",
    "while 'name' in a:\n",
    "    print(a.get('age'))\n",
    "    break\n",
    "\n",
    "a.clear()\n",
    "print(a)"
   ]
  },
  {
   "cell_type": "markdown",
   "id": "638d908c",
   "metadata": {},
   "source": [
    "# 내장함수\n",
    "### set"
   ]
  },
  {
   "cell_type": "code",
   "execution_count": 30,
   "id": "6d525497",
   "metadata": {},
   "outputs": [
    {
     "name": "stdout",
     "output_type": "stream",
     "text": [
      "{1, 2, 3, 4}\n",
      "{1, 2, 3, 4, 5, 6, 7}\n",
      "{1, 2, 3, 4, 5, 7}\n"
     ]
    }
   ],
   "source": [
    "s1=set([1,2,3])\n",
    "s1.add(4)\n",
    "print(s1)\n",
    "s1.update([5,6,7])\n",
    "print(s1)\n",
    "s1.remove(6)\n",
    "print(s1)"
   ]
  },
  {
   "cell_type": "code",
   "execution_count": 43,
   "id": "33a34a5d",
   "metadata": {},
   "outputs": [
    {
     "name": "stdout",
     "output_type": "stream",
     "text": [
      "{1, 2, 3}\n",
      "{4, 5}\n",
      "False\n",
      "True\n",
      "{1, 2, 3, 4, 5}\n",
      "{4, 5}\n",
      "{1, 2, 3, 4}\n"
     ]
    }
   ],
   "source": [
    "a={1,2,3,4,5}\n",
    "b={1,2,3}\n",
    "print(a.intersection(b))   # 교집합\n",
    "print(a.difference(b))   # 차집합\n",
    "print(a.issubset(b))   # 부분집합\n",
    "print(b.issubset(a))\n",
    "print(a.union(b))      # 합집합\n",
    "print(a.symmetric_difference(b)) # 배타집합\n",
    "a.discard(5)  # 제거\n",
    "a.discard(7)\n",
    "#a.remove(7)   # 제거. 없는 원소면 에러\n",
    "print(a)"
   ]
  },
  {
   "cell_type": "code",
   "execution_count": 62,
   "id": "d61b2f03",
   "metadata": {},
   "outputs": [
    {
     "name": "stdout",
     "output_type": "stream",
     "text": [
      "{1, 2, 3, 4, 6}\n",
      "1\n",
      "2\n",
      "{3, 4, 6}\n"
     ]
    }
   ],
   "source": [
    "a={1,2,3,4,5,6}\n",
    "a.discard(5)  # 제거\n",
    "a.discard(7)   # 없는 원소여도 에러x\n",
    "#a.remove(7)   # 제거. 없는 원소면 에러\n",
    "print(a)\n",
    "\n",
    "print(a.pop())  # 리턴. 원본에서 제거\n",
    "print(a.pop())\n",
    "print(a)"
   ]
  },
  {
   "cell_type": "code",
   "execution_count": null,
   "id": "2374970c",
   "metadata": {},
   "outputs": [],
   "source": []
  }
 ],
 "metadata": {
  "kernelspec": {
   "display_name": "Python 3 (ipykernel)",
   "language": "python",
   "name": "python3"
  },
  "language_info": {
   "codemirror_mode": {
    "name": "ipython",
    "version": 3
   },
   "file_extension": ".py",
   "mimetype": "text/x-python",
   "name": "python",
   "nbconvert_exporter": "python",
   "pygments_lexer": "ipython3",
   "version": "3.7.15"
  }
 },
 "nbformat": 4,
 "nbformat_minor": 5
}
