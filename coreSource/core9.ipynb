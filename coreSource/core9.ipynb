{
 "cells": [
  {
   "cell_type": "markdown",
   "id": "9d50782c",
   "metadata": {},
   "source": [
    "# Class(cls, instance, inheritance)"
   ]
  },
  {
   "cell_type": "code",
   "execution_count": 10,
   "id": "d3f96212",
   "metadata": {},
   "outputs": [
    {
     "name": "stdout",
     "output_type": "stream",
     "text": [
      "init\n",
      "init\n",
      "init\n",
      "['book'] ['apple'] ['phone']\n",
      "['book', 'apple', 'phone'] ['book', 'apple', 'phone'] ['book', 'apple', 'phone']\n"
     ]
    }
   ],
   "source": [
    "class Person:\n",
    "    bag=[]         # ------------- class field\n",
    "    \n",
    "    def __init__(self):\n",
    "        print('init')\n",
    "        self.bag2=[]  # ---------- instance field declare\n",
    "        \n",
    "    def put_bag2(self, stuff):\n",
    "        self.bag2.append(stuff)\n",
    "    def put_bag(self, stuff):\n",
    "        self.bag.append(stuff)\n",
    "\n",
    "person1=Person()\n",
    "person1.put_bag2('book')\n",
    "person1.put_bag('book')\n",
    "person2=Person()\n",
    "person2.put_bag2('apple')\n",
    "person2.put_bag('apple')\n",
    "person3=Person()\n",
    "person3.put_bag2('phone')\n",
    "person3.put_bag('phone')\n",
    "\n",
    "print(person1.bag2, person2.bag2, person3.bag2)  #   ['book'] ['apple'] ['phone']\n",
    "print(person1.bag, person2.bag, person3.bag)     #  ['book', 'apple', 'phone'] ['book', 'apple', 'phone'] ['book', 'apple', 'phone']\n"
   ]
  },
  {
   "cell_type": "code",
   "execution_count": 11,
   "id": "a12bb46e",
   "metadata": {},
   "outputs": [],
   "source": [
    "class Home:\n",
    "    r1=[]\n",
    "    r2=[]\n",
    "    bathr=[]\n",
    "    livingr=[]\n",
    "    shoecase=[]\n",
    "    def __init__(self, person):\n",
    "        self.shoecase.append(person)\n",
    "    def enter_r1(self, person):\n",
    "        self.r1.pop(person)\n",
    "    def enter_r1(self, person):\n",
    "        self.r2.pop(person)\n",
    "    def enter_bathr(self, person):\n",
    "        self.bathr.pop(person)\n",
    "    def enter_livingr(self, person):\n",
    "        self.livingr.pop(person)"
   ]
  },
  {
   "cell_type": "code",
   "execution_count": null,
   "id": "8b26f6aa",
   "metadata": {},
   "outputs": [],
   "source": []
  },
  {
   "cell_type": "markdown",
   "id": "71ebf971",
   "metadata": {},
   "source": [
    "## 생성과 소멸\n",
    "### classvar, instancevar, init, del"
   ]
  },
  {
   "cell_type": "code",
   "execution_count": 15,
   "id": "1de1cae6",
   "metadata": {},
   "outputs": [
    {
     "name": "stdout",
     "output_type": "stream",
     "text": [
      "name: oop\n",
      "name: oop\n"
     ]
    }
   ],
   "source": [
    "class UserInfo:\n",
    "    def __init__(self):\n",
    "        self.name='oop'\n",
    "    def print_info(self):\n",
    "        print('name:', self.name)\n",
    "\n",
    "k=UserInfo()\n",
    "y=UserInfo()\n",
    "k.print_info()\n",
    "y.print_info()"
   ]
  },
  {
   "cell_type": "code",
   "execution_count": 16,
   "id": "6b66d655",
   "metadata": {},
   "outputs": [
    {
     "name": "stdout",
     "output_type": "stream",
     "text": [
      "name: kim\n",
      "name: yu\n"
     ]
    }
   ],
   "source": [
    "class UserInfo:\n",
    "    def __init__(self, name):\n",
    "        self.name=name\n",
    "    def print_info(self):\n",
    "        print('name:', self.name)\n",
    "\n",
    "k=UserInfo('kim')\n",
    "y=UserInfo('yu')\n",
    "k.print_info()\n",
    "y.print_info()"
   ]
  },
  {
   "cell_type": "code",
   "execution_count": 22,
   "id": "06ab6656",
   "metadata": {},
   "outputs": [
    {
     "name": "stdout",
     "output_type": "stream",
     "text": [
      "kim INSTANCE DEL\n",
      "yu INSTANCE DEL\n",
      "name: kim\n",
      "addr: seoul\n",
      "email: gmail\n",
      "\n",
      "name: yu\n",
      "addr: incheon\n",
      "email: naver\n",
      "\n",
      "kim INSTANCE DEL\n",
      "yu INSTANCE DEL\n"
     ]
    }
   ],
   "source": [
    "class UserInfo:\n",
    "    def __init__(self, name, addr, email):\n",
    "        self.name=name\n",
    "        self.addr=addr\n",
    "        self.email=email\n",
    "        \n",
    "    def print_info(self):\n",
    "        print('name:', self.name)\n",
    "        print('addr:', self.addr)\n",
    "        print('email:', self.email)\n",
    "        print()\n",
    "\n",
    "    def __del__(self):   # ------------------ 소멸자\n",
    "        print(\"{} INSTANCE DEL\".format(self.name))\n",
    "\n",
    "k=UserInfo('kim', 'seoul', 'gmail')\n",
    "y=UserInfo('yu', 'incheon', 'naver')\n",
    "k.print_info()\n",
    "y.print_info()\n",
    "del k\n",
    "del y"
   ]
  },
  {
   "cell_type": "markdown",
   "id": "16bbbc5f",
   "metadata": {},
   "source": [
    "## Class(getter, setter)"
   ]
  },
  {
   "cell_type": "code",
   "execution_count": 64,
   "id": "3000c5c5",
   "metadata": {},
   "outputs": [
    {
     "name": "stdout",
     "output_type": "stream",
     "text": [
      "홍길동 INSTANCE DEL\n",
      "고길동 INSTANCE DEL\n",
      "이원복 대한민국 삼육대학교 31\n",
      "이원복\n",
      "22\n",
      "국민대학교\n",
      "영국\n",
      "이원복 INSTANCE DEL\n"
     ]
    }
   ],
   "source": [
    "class SiStudent():\n",
    "    nation=\"대한민국\"  # ------- 클래스변수\n",
    "    \n",
    "    def __init__(self, name, school_name, age):\n",
    "        self.name=name # --------- 인스턴스변수\n",
    "        self.school_name=school_name\n",
    "        self.age=age\n",
    "        if school_name=='옥스포드':\n",
    "            self.nation='영국'\n",
    "    \n",
    "    def __del__(self):\n",
    "        print(\"{} INSTANCE DEL\".format(self.name))\n",
    "    \n",
    "    def set_name(self, name):\n",
    "        self.name=name\n",
    "    def get_name(self):\n",
    "        return self.name\n",
    "    def set_school_name(self, school_name):\n",
    "        self.school_name=school_name\n",
    "        if school_name=='옥스포드':\n",
    "            self.nation='영국'\n",
    "    def get_school_name(self):\n",
    "        return self.school_name\n",
    "    def set_age(self, age):\n",
    "        self.age=age\n",
    "    def get_age(self):\n",
    "        return self.age\n",
    "    \n",
    "    def __str__(self):   # -------------- toString()\n",
    "        return self.name+' '+self.nation+' '+self.school_name+' '+str(self.age)\n",
    "    \n",
    "a=SiStudent('이원복', '삼육대학교', 31)\n",
    "b=SiStudent('홍길동', '옥스포드', 22)\n",
    "c=SiStudent('고길동', '국민대학교', 45)\n",
    "print(str(a))\n",
    "\n",
    "print(a.get_name())\n",
    "print(b.get_age())\n",
    "print(c.get_school_name())\n",
    "print(b.nation)\n",
    "del a"
   ]
  },
  {
   "cell_type": "code",
   "execution_count": 110,
   "id": "1fae531f",
   "metadata": {},
   "outputs": [
    {
     "name": "stdout",
     "output_type": "stream",
     "text": [
      "Parrot Fly\n",
      "Airplane Fly\n",
      "Whale Swim\n"
     ]
    }
   ],
   "source": [
    "class Parrot:\n",
    "    def fly(self):\n",
    "        print('Parrot Fly')\n",
    "\n",
    "class Airplane:\n",
    "    def fly(self):\n",
    "        print('Airplane Fly')\n",
    "\n",
    "class Whale:\n",
    "    def swim(self):\n",
    "        print('Whale Swim')\n",
    "\n",
    "def lift_off(entity):\n",
    "    entity.fly()\n",
    "\n",
    "parrot=Parrot()\n",
    "ap=Airplane()\n",
    "whale=Whale()\n",
    "lift_off(parrot)\n",
    "lift_off(ap)\n",
    "#lift_off(whale)\n",
    "whale.swim()"
   ]
  },
  {
   "cell_type": "code",
   "execution_count": null,
   "id": "3209bd7e",
   "metadata": {},
   "outputs": [],
   "source": []
  },
  {
   "cell_type": "code",
   "execution_count": 101,
   "id": "56804f9e",
   "metadata": {},
   "outputs": [
    {
     "name": "stdout",
     "output_type": "stream",
     "text": [
      "golgolgolgol\n",
      "['me', 'cat', 'fish', 'dog']\n",
      "파닥파닥\n",
      "cat ate fish\n",
      "['me', 'cat', 'dog']\n",
      "범이가 꼬리를 칩니다\n",
      "범이는 산책이 가고싶습니다\n",
      "zzz\n",
      "식빵 굽기\n",
      "cat 낮잠 자는중..\n",
      "zzz\n"
     ]
    }
   ],
   "source": [
    "class Animal():\n",
    "    animal_list=[]\n",
    "    def __init__(self, name):\n",
    "        self.name=name\n",
    "        self.animal_list.append(name)\n",
    "    def cry(self):\n",
    "        print('&#$!@&!!')\n",
    "    def sleep(self):\n",
    "        print('zzz')\n",
    "    def eat(self, prey):\n",
    "        print('%s ate %s' %(self.name, prey))\n",
    "        self.animal_list.remove(prey)\n",
    "\n",
    "class Mammal(Animal):\n",
    "    def __init__(self, name):\n",
    "        super().__init__(name)\n",
    "        self.species='mammal'\n",
    "\n",
    "class Feline(Mammal):\n",
    "    def __init__(self, name):\n",
    "        super().__init__(name)\n",
    "        self.species='feline'\n",
    "    def nap(self, name):\n",
    "        print('%s 낮잠 자는중..' %name)\n",
    "    def golgol(self):\n",
    "        print('golgolgolgol')\n",
    "    def bake(self):\n",
    "        print('식빵 굽기')\n",
    "    def alert(self):\n",
    "        print('HaaAaAkK!')\n",
    "\n",
    "class Canine(Mammal):\n",
    "    def __init__(self, name):\n",
    "        super().__init__(name)\n",
    "        self.species='canine'\n",
    "    def bark(self):\n",
    "        print('woof! woof!')\n",
    "    def tail(self, name):\n",
    "        print('%s가 꼬리를 칩니다' %name)\n",
    "    def howl(self):\n",
    "        print('howling')\n",
    "    def walk(self, name):\n",
    "        print('%s는 산책이 가고싶습니다' %name)\n",
    "        \n",
    "class Pisces(Animal):\n",
    "    def __init__(self, name):\n",
    "        super().__init__(name)\n",
    "        self.species='pisces'\n",
    "    def padak(self):\n",
    "        print('파닥파닥')\n",
    "        \n",
    "me=Animal('me')\n",
    "cat=Feline('cat')\n",
    "fish=Pisces('fish')\n",
    "dog=Canine('dog')\n",
    "cat.golgol()\n",
    "print(dog.animal_list)\n",
    "fish.padak()\n",
    "cat.eat('fish')\n",
    "print(me.animal_list)\n",
    "dog.tail('범이')\n",
    "dog.walk('범이')\n",
    "dog.sleep()\n",
    "cat.bake()\n",
    "cat.nap('cat')\n",
    "me.sleep()"
   ]
  },
  {
   "cell_type": "code",
   "execution_count": null,
   "id": "90e164a3",
   "metadata": {},
   "outputs": [],
   "source": []
  },
  {
   "cell_type": "code",
   "execution_count": null,
   "id": "e1acd239",
   "metadata": {},
   "outputs": [],
   "source": []
  }
 ],
 "metadata": {
  "kernelspec": {
   "display_name": "Python 3 (ipykernel)",
   "language": "python",
   "name": "python3"
  },
  "language_info": {
   "codemirror_mode": {
    "name": "ipython",
    "version": 3
   },
   "file_extension": ".py",
   "mimetype": "text/x-python",
   "name": "python",
   "nbconvert_exporter": "python",
   "pygments_lexer": "ipython3",
   "version": "3.7.15"
  }
 },
 "nbformat": 4,
 "nbformat_minor": 5
}
