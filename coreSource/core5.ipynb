{
 "cells": [
  {
   "cell_type": "markdown",
   "id": "5ebcb943",
   "metadata": {},
   "source": [
    "# Scope (=유효범위), InnerFunction, Closure, Lambda, Binding"
   ]
  },
  {
   "cell_type": "code",
   "execution_count": 4,
   "id": "975bf3a8",
   "metadata": {},
   "outputs": [
    {
     "name": "stdout",
     "output_type": "stream",
     "text": [
      "input A5\n",
      "input B5\n",
      "10\n"
     ]
    }
   ],
   "source": [
    "a=int(input('input A'))\n",
    "b=int(input('input B'))\n",
    "def test():\n",
    "    global a\n",
    "    global b\n",
    "    return(a+b)\n",
    "print(test())"
   ]
  },
  {
   "cell_type": "code",
   "execution_count": 11,
   "id": "cee31280",
   "metadata": {
    "scrolled": false
   },
   "outputs": [
    {
     "name": "stdout",
     "output_type": "stream",
     "text": [
      "input A10\n",
      "input B2\n",
      "sum / mult / powpow\n",
      "100\n"
     ]
    }
   ],
   "source": [
    "a=int(input('input A'))\n",
    "b=int(input('input B'))\n",
    "c=input('sum / mult / pow')\n",
    "def calc():\n",
    "    global a\n",
    "    global b\n",
    "    global c\n",
    "    if c=='sum':\n",
    "        return a+b\n",
    "    elif c=='mult':\n",
    "        return a*b\n",
    "    elif c=='pow':\n",
    "        return a**b\n",
    "    else:\n",
    "        return 'error'\n",
    "print(calc())"
   ]
  },
  {
   "cell_type": "markdown",
   "id": "47f29e02",
   "metadata": {},
   "source": [
    "## Binding\n",
    "#### 프로그램에서 기본단위가 가질 수 있는 구체적인 값, 성격을 확정하는 것\n",
    "#### int array[]=new int[50] 정적바인딩, 동적바인딩"
   ]
  },
  {
   "cell_type": "code",
   "execution_count": 5,
   "id": "a115284e",
   "metadata": {},
   "outputs": [
    {
     "name": "stdout",
     "output_type": "stream",
     "text": [
      "10 10\n",
      "2241723198032 2241723198032\n"
     ]
    }
   ],
   "source": [
    "a=10    # <-binding\n",
    "b=a\n",
    "print(a, b)\n",
    "print(id(a), id(b))   # <- id가 같다"
   ]
  },
  {
   "cell_type": "code",
   "execution_count": 19,
   "id": "e0141712",
   "metadata": {},
   "outputs": [
    {
     "name": "stdout",
     "output_type": "stream",
     "text": [
      "[1, 2, 3, 4, 5] [1, 2, 3, 4, 5]\n",
      "[1, 2, 3, 4, 5, 6, 7, 8, 9] [1, 2, 3, 4, 5, 6, 7, 8, 9]\n"
     ]
    }
   ],
   "source": [
    "c=[1,2,3,4,5]\n",
    "d=c\n",
    "print(c, d)\n",
    "c+=[6,7,8,9]\n",
    "print(c, d)"
   ]
  },
  {
   "cell_type": "markdown",
   "id": "bedb7813",
   "metadata": {},
   "source": [
    "## Closure\n",
    "#### 변수를 바인딩하기 위한 하나의 기술. 외부함수와 내부함수의 메모리 이해"
   ]
  },
  {
   "cell_type": "code",
   "execution_count": 26,
   "id": "b8a3a43f",
   "metadata": {},
   "outputs": [
    {
     "name": "stdout",
     "output_type": "stream",
     "text": [
      "Hello, Function\n"
     ]
    }
   ],
   "source": [
    "def print_hello():\n",
    "    hello='Hello, Function' # Outter method, Local variable\n",
    "    def print_message():  # Inner method\n",
    "        print(hello)\n",
    "    print_message()   # Inner method 호출\n",
    "print_hello()   # Outter method 호출"
   ]
  },
  {
   "cell_type": "code",
   "execution_count": 31,
   "id": "4e17e0ee",
   "metadata": {},
   "outputs": [
    {
     "name": "stdout",
     "output_type": "stream",
     "text": [
      "10\n"
     ]
    }
   ],
   "source": [
    "def a1():\n",
    "    x=10\n",
    "    def b1():\n",
    "        x=20\n",
    "    b1()\n",
    "    print(x)\n",
    "a1()"
   ]
  },
  {
   "cell_type": "code",
   "execution_count": 32,
   "id": "40d37f93",
   "metadata": {},
   "outputs": [
    {
     "name": "stdout",
     "output_type": "stream",
     "text": [
      "20\n"
     ]
    }
   ],
   "source": [
    "def a1():\n",
    "    x=10\n",
    "    def b1():\n",
    "        x=20\n",
    "        print(x)\n",
    "    b1()\n",
    "a1()"
   ]
  },
  {
   "cell_type": "code",
   "execution_count": 35,
   "id": "904c839c",
   "metadata": {},
   "outputs": [
    {
     "name": "stdout",
     "output_type": "stream",
     "text": [
      "20\n"
     ]
    }
   ],
   "source": [
    "def a1():\n",
    "    x=10\n",
    "    def b1():\n",
    "        nonlocal x  # 가장 가까운 외부 변수를 가져온다\n",
    "        x=20\n",
    "    b1()\n",
    "    print(x)\n",
    "a1()"
   ]
  },
  {
   "cell_type": "code",
   "execution_count": 46,
   "id": "fc8fbdaa",
   "metadata": {},
   "outputs": [
    {
     "ename": "SyntaxError",
     "evalue": "no binding for nonlocal 'x' found (3127428470.py, line 6)",
     "output_type": "error",
     "traceback": [
      "\u001b[1;36m  File \u001b[1;32m\"C:\\Users\\BIT'\\AppData\\Local\\Temp\\ipykernel_2172\\3127428470.py\"\u001b[1;36m, line \u001b[1;32m6\u001b[0m\n\u001b[1;33m    nonlocal x\u001b[0m\n\u001b[1;37m    ^\u001b[0m\n\u001b[1;31mSyntaxError\u001b[0m\u001b[1;31m:\u001b[0m no binding for nonlocal 'x' found\n"
     ]
    }
   ],
   "source": [
    "x=1\n",
    "def a1():\n",
    "    global x\n",
    "    x=10\n",
    "    def b1():\n",
    "        nonlocal x  # global이어야 한다\n",
    "        x=20\n",
    "    b1()\n",
    "    print(x)\n",
    "a1()"
   ]
  },
  {
   "cell_type": "code",
   "execution_count": 57,
   "id": "de991c7f",
   "metadata": {},
   "outputs": [
    {
     "name": "stdout",
     "output_type": "stream",
     "text": [
      "xxx= 50 yyy= 310\n"
     ]
    }
   ],
   "source": [
    "def aaa():\n",
    "    xxx=10\n",
    "    yyy=10\n",
    "    def bbb():\n",
    "        # nonlocal xxx\n",
    "        # nonlocal yyy\n",
    "        xxx=20\n",
    "        def ccc():\n",
    "            nonlocal xxx  # 최인접 메소드에서 nonlocal 선언 안해도 가져올 수 있다.\n",
    "            nonlocal yyy  # =최인접 메소드에서 사용하지 않더라도 변수 가져올 수 있다.\n",
    "            xxx=xxx+30\n",
    "            yyy=yyy+300\n",
    "            print(\"xxx=\", xxx, \"yyy=\",yyy)\n",
    "        ccc()\n",
    "    bbb()\n",
    "aaa()"
   ]
  },
  {
   "cell_type": "code",
   "execution_count": 82,
   "id": "68bce515",
   "metadata": {},
   "outputs": [
    {
     "name": "stdout",
     "output_type": "stream",
     "text": [
      "xxx= 60 yyy= 365 zzz= 50\n"
     ]
    }
   ],
   "source": [
    "yyy=60\n",
    "zzz=10\n",
    "def aaa():\n",
    "    xxx=10\n",
    "    yyy=10\n",
    "    def bbb():\n",
    "        nonlocal xxx\n",
    "        global yyy\n",
    "        xxx+=20\n",
    "        yyy+=5\n",
    "        zzz=40   # global zzz와는 다른 zzz 선언\n",
    "        def ccc():\n",
    "            nonlocal xxx\n",
    "            global yyy\n",
    "            #global zzz   # global zzz를 호출\n",
    "            nonlocal zzz # 바로 위 zzz를 호출\n",
    "            xxx=xxx+30\n",
    "            yyy=yyy+300\n",
    "            zzz=zzz+10\n",
    "            print(\"xxx=\", xxx, \"yyy=\",yyy, \"zzz=\",zzz)\n",
    "        ccc()\n",
    "    bbb()\n",
    "aaa()"
   ]
  },
  {
   "cell_type": "markdown",
   "id": "eb7796c4",
   "metadata": {},
   "source": [
    "### 전역함수 --> 클래스 --> 모듈 패키지 --> 예외처리 --> 파일처리, 시각화() --> NumPy, Pandas"
   ]
  },
  {
   "cell_type": "code",
   "execution_count": 88,
   "id": "36906694",
   "metadata": {},
   "outputs": [
    {
     "data": {
      "text/plain": [
       "<function __main__.calc.<locals>.add_inner(param)>"
      ]
     },
     "execution_count": 88,
     "metadata": {},
     "output_type": "execute_result"
    }
   ],
   "source": [
    "def calc():\n",
    "    k=7\n",
    "    w=9\n",
    "    def add_inner(param):\n",
    "        return (k*param)+(w*param)\n",
    "    return add_inner\n",
    "calc()"
   ]
  },
  {
   "cell_type": "code",
   "execution_count": 89,
   "id": "66979994",
   "metadata": {},
   "outputs": [
    {
     "name": "stdout",
     "output_type": "stream",
     "text": [
      "<function calc.<locals>.add_inner at 0x00000209F8891F70>\n"
     ]
    }
   ],
   "source": [
    "def calc():\n",
    "    k=7\n",
    "    w=9\n",
    "    def add_inner(param):\n",
    "        return (k*param)+(w*param)\n",
    "    return add_inner\n",
    "rs=calc() # 외부함수가 여기서 종료됐음에도 내부함수에 접근 가능\n",
    "print(rs) # 내부함수 주소"
   ]
  },
  {
   "cell_type": "code",
   "execution_count": 90,
   "id": "c71a2552",
   "metadata": {},
   "outputs": [
    {
     "name": "stdout",
     "output_type": "stream",
     "text": [
      "112\n"
     ]
    }
   ],
   "source": [
    "def calc():\n",
    "    k=7\n",
    "    w=9\n",
    "    def add_inner(param):\n",
    "        return (k*param)+(w*param)\n",
    "    return add_inner\n",
    "rs=calc()\n",
    "print(rs(7))"
   ]
  },
  {
   "cell_type": "code",
   "execution_count": 91,
   "id": "6ac2264b",
   "metadata": {},
   "outputs": [
    {
     "name": "stdout",
     "output_type": "stream",
     "text": [
      "98\n"
     ]
    }
   ],
   "source": [
    "def calc():\n",
    "    k=9\n",
    "    w=5\n",
    "    def add_inner(param):\n",
    "        return (k*param)+(w*param)\n",
    "    return add_inner\n",
    "print(calc()(7))"
   ]
  },
  {
   "cell_type": "code",
   "execution_count": 93,
   "id": "bdff71b0",
   "metadata": {},
   "outputs": [
    {
     "name": "stdout",
     "output_type": "stream",
     "text": [
      "112\n"
     ]
    }
   ],
   "source": [
    "def calc():\n",
    "    k=9\n",
    "    w=5\n",
    "    return lambda param:(k*param)+(w*param)   # ~(param): 과 같다\n",
    "print(calc()(8))"
   ]
  },
  {
   "cell_type": "code",
   "execution_count": 102,
   "id": "aa340746",
   "metadata": {},
   "outputs": [
    {
     "name": "stdout",
     "output_type": "stream",
     "text": [
      "total= 17\n"
     ]
    }
   ],
   "source": [
    "def operator():\n",
    "    xoper=5\n",
    "    yoper=9\n",
    "    total=0\n",
    "    def operator_inner(param):\n",
    "        nonlocal total\n",
    "        total=total+xoper+yoper+param\n",
    "        print('total=', total)\n",
    "    return operator_inner\n",
    "operator()(3)"
   ]
  },
  {
   "cell_type": "code",
   "execution_count": 104,
   "id": "17087d04",
   "metadata": {},
   "outputs": [
    {
     "name": "stdout",
     "output_type": "stream",
     "text": [
      "17\n"
     ]
    }
   ],
   "source": [
    "def operator():\n",
    "    xoper=5\n",
    "    yoper=9\n",
    "    total=0\n",
    "    return lambda param:total+xoper+yoper+param\n",
    "print(operator()(3))"
   ]
  },
  {
   "cell_type": "code",
   "execution_count": null,
   "id": "2e918653",
   "metadata": {},
   "outputs": [],
   "source": []
  },
  {
   "cell_type": "code",
   "execution_count": null,
   "id": "9ef6cfea",
   "metadata": {},
   "outputs": [],
   "source": []
  }
 ],
 "metadata": {
  "kernelspec": {
   "display_name": "Python 3 (ipykernel)",
   "language": "python",
   "name": "python3"
  },
  "language_info": {
   "codemirror_mode": {
    "name": "ipython",
    "version": 3
   },
   "file_extension": ".py",
   "mimetype": "text/x-python",
   "name": "python",
   "nbconvert_exporter": "python",
   "pygments_lexer": "ipython3",
   "version": "3.9.13"
  }
 },
 "nbformat": 4,
 "nbformat_minor": 5
}
