{
 "cells": [
  {
   "cell_type": "markdown",
   "id": "163a0999",
   "metadata": {},
   "source": [
    "## <font color=red> Function2</font>"
   ]
  },
  {
   "cell_type": "code",
   "execution_count": 10,
   "id": "6208e9d3",
   "metadata": {},
   "outputs": [
    {
     "name": "stdout",
     "output_type": "stream",
     "text": [
      "name addr weight\n",
      "이원복 하남시 78kg\n"
     ]
    }
   ],
   "source": [
    "def personInfo(name, addr, weight):\n",
    "    print(name, addr, weight)\n",
    "\n",
    "x={'name':'이원복', 'addr':'하남시', 'weight':'78kg'}\n",
    "\n",
    "personInfo(*x)  # key값\n",
    "personInfo(**x) # value값"
   ]
  },
  {
   "cell_type": "code",
   "execution_count": 22,
   "id": "e28745b9",
   "metadata": {},
   "outputs": [
    {
     "name": "stdout",
     "output_type": "stream",
     "text": [
      "name : 이원복\n",
      "addr : 하남시\n",
      "weight : 78kg\n",
      "name : 조유리\n",
      "addr : 부산시\n",
      "height : 163\n",
      "job : singer\n",
      "gender : female\n"
     ]
    }
   ],
   "source": [
    "def personInfo2(**arg):\n",
    "    for k, v in arg.items():\n",
    "        print(k,':',v)\n",
    "y={'name':'조유리', 'addr':'부산시', 'height':163, 'job':'singer', 'gender':'female'}\n",
    "personInfo2(**x)\n",
    "personInfo2(**y)"
   ]
  },
  {
   "cell_type": "code",
   "execution_count": 32,
   "id": "936c8626",
   "metadata": {},
   "outputs": [
    {
     "name": "stdout",
     "output_type": "stream",
     "text": [
      "구구단입니다\n",
      "----------------------------------------------------------------------------------------------------------------------------------\n",
      "2 단 : ['2 * 1 = 2', '2 * 2 = 4', '2 * 3 = 6', '2 * 4 = 8', '2 * 5 = 10', '2 * 6 = 12', '2 * 7 = 14', '2 * 8 = 16', '2 * 9 = 18']\n",
      "----------------------------------------------------------------------------------------------------------------------------------\n",
      "3 단 : ['3 * 1 = 3', '3 * 2 = 6', '3 * 3 = 9', '3 * 4 = 12', '3 * 5 = 15', '3 * 6 = 18', '3 * 7 = 21', '3 * 8 = 24', '3 * 9 = 27']\n",
      "----------------------------------------------------------------------------------------------------------------------------------\n",
      "4 단 : ['4 * 1 = 4', '4 * 2 = 8', '4 * 3 = 12', '4 * 4 = 16', '4 * 5 = 20', '4 * 6 = 24', '4 * 7 = 28', '4 * 8 = 32', '4 * 9 = 36']\n",
      "----------------------------------------------------------------------------------------------------------------------------------\n",
      "5 단 : ['5 * 1 = 5', '5 * 2 = 10', '5 * 3 = 15', '5 * 4 = 20', '5 * 5 = 25', '5 * 6 = 30', '5 * 7 = 35', '5 * 8 = 40', '5 * 9 = 45']\n",
      "----------------------------------------------------------------------------------------------------------------------------------\n",
      "6 단 : ['6 * 1 = 6', '6 * 2 = 12', '6 * 3 = 18', '6 * 4 = 24', '6 * 5 = 30', '6 * 6 = 36', '6 * 7 = 42', '6 * 8 = 48', '6 * 9 = 54']\n",
      "----------------------------------------------------------------------------------------------------------------------------------\n",
      "7 단 : ['7 * 1 = 7', '7 * 2 = 14', '7 * 3 = 21', '7 * 4 = 28', '7 * 5 = 35', '7 * 6 = 42', '7 * 7 = 49', '7 * 8 = 56', '7 * 9 = 63']\n",
      "----------------------------------------------------------------------------------------------------------------------------------\n",
      "8 단 : ['8 * 1 = 8', '8 * 2 = 16', '8 * 3 = 24', '8 * 4 = 32', '8 * 5 = 40', '8 * 6 = 48', '8 * 7 = 56', '8 * 8 = 64', '8 * 9 = 72']\n",
      "----------------------------------------------------------------------------------------------------------------------------------\n",
      "9 단 : ['9 * 1 = 9', '9 * 2 = 18', '9 * 3 = 27', '9 * 4 = 36', '9 * 5 = 45', '9 * 6 = 54', '9 * 7 = 63', '9 * 8 = 72', '9 * 9 = 81']\n",
      "----------------------------------------------------------------------------------------------------------------------------------\n"
     ]
    }
   ],
   "source": [
    "res={}\n",
    "list=[]\n",
    "i=2\n",
    "for i in range(2,10):\n",
    "    for j in range (1,10):\n",
    "        result=(\"%s * %s = %s\" %(i, j, i*j))\n",
    "        list.append(result)\n",
    "        res['%s 단'%i]=list\n",
    "        if j==9:\n",
    "            list=[]\n",
    "def gugudan(**arg):\n",
    "    print('구구단입니다')\n",
    "    print('-'*130)\n",
    "    for k, v in arg.items():\n",
    "        print(k,':',v)\n",
    "        print('-'*130)\n",
    "gugudan(**res)"
   ]
  },
  {
   "cell_type": "code",
   "execution_count": 37,
   "id": "1ba1c7f3",
   "metadata": {},
   "outputs": [
    {
     "name": "stdout",
     "output_type": "stream",
     "text": [
      "1, 2, 3."
     ]
    }
   ],
   "source": [
    "def custom_print(*x, **y):\n",
    "    print(*x, **y)\n",
    "    \n",
    "custom_print(1,2,3, sep=', ', end='.')"
   ]
  },
  {
   "cell_type": "code",
   "execution_count": 48,
   "id": "56b22454",
   "metadata": {},
   "outputs": [
    {
     "name": "stdout",
     "output_type": "stream",
     "text": [
      "음수 : [-100, -93, -86, -79, -72, -65, -58, -51, -44, -37, -30, -23, -16, -9, -2]\n",
      "홀수인 양수 : [5, 19, 33, 47, 61, 75, 89]\n",
      "짝수인 양수 : [12, 26, 40, 54, 68, 82, 96]\n"
     ]
    }
   ],
   "source": [
    "a={}\n",
    "neg=[]\n",
    "odd=[]\n",
    "eve=[]\n",
    "\n",
    "def custom_print(**arg):\n",
    "    for k, v in arg.items():\n",
    "        print(k,':',v)\n",
    "\n",
    "for x in range(-100,100,7):\n",
    "    if x<0:\n",
    "        neg.append(x)\n",
    "    elif x%2==0:\n",
    "        eve.append(x)\n",
    "    elif x%2!=0:\n",
    "        odd.append(x)\n",
    "    a['음수']=neg\n",
    "    a['홀수인 양수']=odd\n",
    "    a['짝수인 양수']=eve\n",
    "\n",
    "custom_print(**a)"
   ]
  },
  {
   "cell_type": "code",
   "execution_count": 60,
   "id": "f5d5381d",
   "metadata": {},
   "outputs": [
    {
     "name": "stdout",
     "output_type": "stream",
     "text": [
      "blue 1234 hwfrzy@gmail.com\n"
     ]
    }
   ],
   "source": [
    "def showDataInfo(id, password, email):\n",
    "    print(id, password, email)\n",
    "\n",
    "z={'id':'blue', 'password':'1234', 'email':'hwfrzy@gmail.com'}\n",
    "\n",
    "showDataInfo(**z)"
   ]
  },
  {
   "cell_type": "code",
   "execution_count": 71,
   "id": "cf575094",
   "metadata": {},
   "outputs": [
    {
     "name": "stdout",
     "output_type": "stream",
     "text": [
      "10 20 30\n"
     ]
    }
   ],
   "source": [
    "# list의 값을 parameter로 받기\n",
    "def showDataInfo2(scorex, scorey, scorez):\n",
    "    print(scorex, scorey, scorez)\n",
    "showDataInfo2(*[10,20,30])\n"
   ]
  },
  {
   "cell_type": "code",
   "execution_count": 72,
   "id": "088a6819",
   "metadata": {},
   "outputs": [
    {
     "name": "stdout",
     "output_type": "stream",
     "text": [
      "10 <class 'int'>\n",
      "20 <class 'int'>\n",
      "30 <class 'int'>\n"
     ]
    }
   ],
   "source": [
    "# 함수 내부 for문\n",
    "def showDataInfo3(*score):\n",
    "    for v in score:\n",
    "        print(v, type(v))\n",
    "showDataInfo3(10,20,30)"
   ]
  },
  {
   "cell_type": "code",
   "execution_count": 79,
   "id": "2f2c06f6",
   "metadata": {},
   "outputs": [
    {
     "name": "stdout",
     "output_type": "stream",
     "text": [
      "([{'id': 'blue1', 'password': '1234', 'email1': 'blue1@nate.com'}, {'id': 'blue2', 'password': '1235', 'email2': 'blue2@nate.com'}],)\n"
     ]
    }
   ],
   "source": [
    "def showDataInfoDict(*k):\n",
    "    print(k)   \n",
    "    \n",
    "z1={'id':'blue1','password':'1234','email1':'blue1@nate.com'}\n",
    "z2={'id':'blue2','password':'1235','email2':'blue2@nate.com'}\n",
    "z3={'id':'blue3','password':'1236','email3':'blue3@nate.com'}\n",
    "z4={'id':'blue4','password':'1237','email4':'blue4@nate.com'}\n",
    "\n",
    "result=[z1,z2]\n",
    "\n",
    "showDataInfoDict(result)"
   ]
  },
  {
   "cell_type": "code",
   "execution_count": 89,
   "id": "e4a646a5",
   "metadata": {},
   "outputs": [
    {
     "name": "stdout",
     "output_type": "stream",
     "text": [
      "10 (20, 30, 40)\n",
      "10 ()\n",
      "[10, 20, 30] (40,)\n",
      "10 (20, 30)\n"
     ]
    }
   ],
   "source": [
    "# 10만 정수로 받고 20부터 리스트로 받기\n",
    "def print_number(a, *b):\n",
    "    print(a, b)\n",
    "print_number(10, 20, 30, 40)\n",
    "# 10 (20, 30, 40)\n",
    "print_number(10)\n",
    "# 10 ()\n",
    "print_number([10, 20, 30], 40)\n",
    "# [10, 20, 30] (40,)\n",
    "print_number(*[10, 20, 30])\n",
    "# 10 (20, 30)"
   ]
  },
  {
   "cell_type": "code",
   "execution_count": null,
   "id": "e6f34bae",
   "metadata": {},
   "outputs": [],
   "source": []
  },
  {
   "cell_type": "code",
   "execution_count": null,
   "id": "462e7226",
   "metadata": {},
   "outputs": [],
   "source": []
  }
 ],
 "metadata": {
  "kernelspec": {
   "display_name": "Python 3 (ipykernel)",
   "language": "python",
   "name": "python3"
  },
  "language_info": {
   "codemirror_mode": {
    "name": "ipython",
    "version": 3
   },
   "file_extension": ".py",
   "mimetype": "text/x-python",
   "name": "python",
   "nbconvert_exporter": "python",
   "pygments_lexer": "ipython3",
   "version": "3.7.15"
  }
 },
 "nbformat": 4,
 "nbformat_minor": 5
}
