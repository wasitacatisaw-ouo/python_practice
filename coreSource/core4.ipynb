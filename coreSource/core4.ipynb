{
 "cells": [
  {
   "cell_type": "code",
   "execution_count": 2,
   "id": "50581106",
   "metadata": {},
   "outputs": [
    {
     "data": {
      "text/plain": [
       "30"
      ]
     },
     "execution_count": 2,
     "metadata": {},
     "output_type": "execute_result"
    }
   ],
   "source": [
    "def add(x, y):\n",
    "    if x>y:\n",
    "        return x+y\n",
    "    else:\n",
    "        return x+y\n",
    "add(10,20)"
   ]
  },
  {
   "cell_type": "code",
   "execution_count": 4,
   "id": "bd62923f",
   "metadata": {},
   "outputs": [
    {
     "data": {
      "text/plain": [
       "10"
      ]
     },
     "execution_count": 4,
     "metadata": {},
     "output_type": "execute_result"
    }
   ],
   "source": [
    "def add(*x):\n",
    "    return x[0]\n",
    "add(10, 20, 30)"
   ]
  },
  {
   "cell_type": "code",
   "execution_count": 7,
   "id": "8ff28b00",
   "metadata": {},
   "outputs": [
    {
     "name": "stdout",
     "output_type": "stream",
     "text": [
      "(10, 20, 30)\n",
      "None\n"
     ]
    }
   ],
   "source": [
    "def add(*x):\n",
    "    print(x)\n",
    "\n",
    "r=add(10,20,30)\n",
    "print(r)"
   ]
  },
  {
   "cell_type": "code",
   "execution_count": 11,
   "id": "19f10b75",
   "metadata": {},
   "outputs": [
    {
     "name": "stdout",
     "output_type": "stream",
     "text": [
      "[10, 20, 30]\n",
      "10\n"
     ]
    }
   ],
   "source": [
    "def add(x):\n",
    "    print(x)\n",
    "    return x[0]\n",
    "\n",
    "r=add([10,20,30])\n",
    "print(r)"
   ]
  },
  {
   "cell_type": "code",
   "execution_count": 12,
   "id": "81b9f6d9",
   "metadata": {},
   "outputs": [
    {
     "name": "stdout",
     "output_type": "stream",
     "text": [
      "([10, 20, 30],)\n",
      "[10, 20, 30]\n"
     ]
    }
   ],
   "source": [
    "def add(*x):\n",
    "    print(x)\n",
    "    return x[0]\n",
    "\n",
    "r=add([10,20,30])\n",
    "print(r)"
   ]
  },
  {
   "cell_type": "code",
   "execution_count": 16,
   "id": "19fb7eaf",
   "metadata": {},
   "outputs": [
    {
     "name": "stdout",
     "output_type": "stream",
     "text": [
      "[10, 20, 30, 40, 50]\n",
      "([10, 20, 30, 40, 50],)\n"
     ]
    }
   ],
   "source": [
    "def ifMethod(*x):\n",
    "    for i in x:\n",
    "        print(i)\n",
    "        print(x)\n",
    "\n",
    "arg=[10,20,30,40,50]\n",
    "ifMethod(arg)"
   ]
  },
  {
   "cell_type": "code",
   "execution_count": 17,
   "id": "96077c1f",
   "metadata": {},
   "outputs": [
    {
     "name": "stdout",
     "output_type": "stream",
     "text": [
      "10\n",
      "[10, 20, 30, 40, 50]\n",
      "20\n",
      "[10, 20, 30, 40, 50]\n",
      "30\n",
      "[10, 20, 30, 40, 50]\n",
      "40\n",
      "[10, 20, 30, 40, 50]\n",
      "50\n",
      "[10, 20, 30, 40, 50]\n"
     ]
    }
   ],
   "source": [
    "def ifMethod(x):\n",
    "    for i in x:\n",
    "        print(i)\n",
    "        print(x)\n",
    "\n",
    "arg=[10,20,30,40,50]\n",
    "ifMethod(arg)"
   ]
  },
  {
   "cell_type": "code",
   "execution_count": 22,
   "id": "8cc8accd",
   "metadata": {},
   "outputs": [
    {
     "name": "stdout",
     "output_type": "stream",
     "text": [
      "([10, 20, 30, 40, 50],)\n",
      "[10, 20, 30, 40, 50]\n",
      "([100, 200, 300, 400, 500],)\n",
      "[100, 200, 300, 400, 500]\n",
      "([10, 20, 30, 40, 50], [100, 200, 300, 400, 500])\n",
      "[10, 20, 30, 40, 50]\n",
      "[100, 200, 300, 400, 500]\n"
     ]
    }
   ],
   "source": [
    "def ifMethod(*x):\n",
    "    print(x)\n",
    "    for i in x:\n",
    "        print(i)\n",
    "\n",
    "\n",
    "arg1=[10,20,30,40,50]\n",
    "arg2=[100,200,300,400,500]\n",
    "ifMethod(arg1)\n",
    "ifMethod(arg2)\n",
    "ifMethod(arg1,arg2)"
   ]
  },
  {
   "cell_type": "code",
   "execution_count": 23,
   "id": "e932976d",
   "metadata": {},
   "outputs": [
    {
     "name": "stdout",
     "output_type": "stream",
     "text": [
      "[10, 20, 30, 40, 50]\n",
      "10\n",
      "20\n",
      "30\n",
      "40\n",
      "50\n",
      "[100, 200, 300, 400, 500]\n",
      "100\n",
      "200\n",
      "300\n",
      "400\n",
      "500\n"
     ]
    },
    {
     "ename": "TypeError",
     "evalue": "ifMethod() takes 1 positional argument but 2 were given",
     "output_type": "error",
     "traceback": [
      "\u001b[1;31m---------------------------------------------------------------------------\u001b[0m",
      "\u001b[1;31mTypeError\u001b[0m                                 Traceback (most recent call last)",
      "\u001b[1;32m~\\AppData\\Local\\Temp\\ipykernel_6976\\930850734.py\u001b[0m in \u001b[0;36m<module>\u001b[1;34m\u001b[0m\n\u001b[0;32m      8\u001b[0m \u001b[0mifMethod\u001b[0m\u001b[1;33m(\u001b[0m\u001b[0marg1\u001b[0m\u001b[1;33m)\u001b[0m\u001b[1;33m\u001b[0m\u001b[1;33m\u001b[0m\u001b[0m\n\u001b[0;32m      9\u001b[0m \u001b[0mifMethod\u001b[0m\u001b[1;33m(\u001b[0m\u001b[0marg2\u001b[0m\u001b[1;33m)\u001b[0m\u001b[1;33m\u001b[0m\u001b[1;33m\u001b[0m\u001b[0m\n\u001b[1;32m---> 10\u001b[1;33m \u001b[0mifMethod\u001b[0m\u001b[1;33m(\u001b[0m\u001b[0marg1\u001b[0m\u001b[1;33m,\u001b[0m\u001b[0marg2\u001b[0m\u001b[1;33m)\u001b[0m\u001b[1;33m\u001b[0m\u001b[1;33m\u001b[0m\u001b[0m\n\u001b[0m",
      "\u001b[1;31mTypeError\u001b[0m: ifMethod() takes 1 positional argument but 2 were given"
     ]
    }
   ],
   "source": [
    "def ifMethod(x):\n",
    "    print(x)\n",
    "    for i in x:\n",
    "        print(i)\n",
    "\n",
    "arg1=[10,20,30,40,50]\n",
    "arg2=[100,200,300,400,500]\n",
    "ifMethod(arg1)\n",
    "ifMethod(arg2)\n",
    "ifMethod(arg1,arg2)"
   ]
  },
  {
   "cell_type": "code",
   "execution_count": 25,
   "id": "89fd0a06",
   "metadata": {},
   "outputs": [
    {
     "name": "stdout",
     "output_type": "stream",
     "text": [
      "([10, 20, 30, 40, 50], [100, 200, 300, 400, 500])\n",
      "10 20 30 40 50 "
     ]
    }
   ],
   "source": [
    "def ifMethod(*x):\n",
    "    print(x)\n",
    "    for i in x:\n",
    "        for j in i:\n",
    "            if j>50:\n",
    "                return\n",
    "            else:\n",
    "                print(j, end=\" \")\n",
    "\n",
    "arg1=[10,20,30,40,50]\n",
    "arg2=[100,200,300,400,500]\n",
    "ifMethod(arg1,arg2)"
   ]
  },
  {
   "cell_type": "code",
   "execution_count": 36,
   "id": "eb7aa223",
   "metadata": {},
   "outputs": [
    {
     "name": "stdout",
     "output_type": "stream",
     "text": [
      "14\n"
     ]
    }
   ],
   "source": [
    "def add_sub(x, y):\n",
    "    if x < y:\n",
    "        return x+y\n",
    "    else:\n",
    "        return x*y\n",
    "rs = add_sub(5, 9)\n",
    "print(rs)"
   ]
  },
  {
   "cell_type": "code",
   "execution_count": 35,
   "id": "89e84af3",
   "metadata": {},
   "outputs": [
    {
     "name": "stdout",
     "output_type": "stream",
     "text": [
      "14 45\n"
     ]
    }
   ],
   "source": [
    "def add_sub(x, y):\n",
    "    return (x+y), (x*y)\n",
    "rsx, rsy = add_sub(5, 9)\n",
    "print(rsx, rsy)"
   ]
  },
  {
   "cell_type": "code",
   "execution_count": 50,
   "id": "6ae062a7",
   "metadata": {},
   "outputs": [
    {
     "name": "stdout",
     "output_type": "stream",
     "text": [
      "(10, 20, 30)\n",
      "[40, 50]\n",
      "{60, 70}\n",
      "{'no': 1, 'name': 'Python'}\n",
      "(10, 20, 30) [40, 50] {60, 70} {'no': 1, 'name': 'Python'}\n",
      "((10, 20, 30), [40, 50], {60, 70}, {'no': 1, 'name': 'Python'})\n",
      "[40, 50]\n"
     ]
    }
   ],
   "source": [
    "def returnTypeFun():\n",
    "    return (10,20,30), [40,50], {60, 70}, {'no':1, 'name':'Python'}\n",
    "    return [(10,20,30), [40,50], {60, 70}, {'no':1, 'name':'Python'}]\n",
    "\n",
    "tupleValue, listValue, setValue, dictValue=returnTypeFun()\n",
    "print(tupleValue)\n",
    "print(listValue)\n",
    "print(setValue)\n",
    "print(dictValue)\n",
    "print(tupleValue, listValue, setValue, dictValue)\n",
    "print(returnTypeFun())\n",
    "print(returnTypeFun()[1])"
   ]
  },
  {
   "cell_type": "code",
   "execution_count": 51,
   "id": "c755ad0a",
   "metadata": {},
   "outputs": [
    {
     "name": "stdout",
     "output_type": "stream",
     "text": [
      "(10, 20, 30)\n",
      "[40, 50]\n",
      "{60, 70}\n",
      "{'no': 1, 'name': 'Python'}\n",
      "(10, 20, 30) [40, 50] {60, 70} {'no': 1, 'name': 'Python'}\n",
      "[(10, 20, 30), [40, 50], {60, 70}, {'no': 1, 'name': 'Python'}]\n",
      "[40, 50]\n"
     ]
    }
   ],
   "source": [
    "def returnTypeFun():\n",
    "    #return (10,20,30), [40,50], {60, 70}, {'no':1, 'name':'Python'}\n",
    "    return [(10,20,30), [40,50], {60, 70}, {'no':1, 'name':'Python'}]\n",
    "\n",
    "tupleValue, listValue, setValue, dictValue=returnTypeFun()\n",
    "print(tupleValue)\n",
    "print(listValue)\n",
    "print(setValue)\n",
    "print(dictValue)\n",
    "print(tupleValue, listValue, setValue, dictValue)\n",
    "print(returnTypeFun())\n",
    "print(returnTypeFun()[1])"
   ]
  },
  {
   "cell_type": "code",
   "execution_count": 52,
   "id": "ad4cc5a2",
   "metadata": {
    "scrolled": true
   },
   "outputs": [
    {
     "name": "stdout",
     "output_type": "stream",
     "text": [
      "(10, 20, 30)\n",
      "[40, 50]\n",
      "{60, 70}\n",
      "{'no': 1, 'name': 'Python'}\n",
      "(10, 20, 30) [40, 50] {60, 70} {'no': 1, 'name': 'Python'}\n",
      "((10, 20, 30), [40, 50], {60, 70}, {'no': 1, 'name': 'Python'})\n",
      "[40, 50]\n"
     ]
    }
   ],
   "source": [
    "# return을 list로 묶어주지 않으면 기본형은 set\n",
    "\n",
    "def returnTypeFun():\n",
    "    return (10,20,30), [40,50], {60, 70}, {'no':1, 'name':'Python'}\n",
    "    #return [(10,20,30), [40,50], {60, 70}, {'no':1, 'name':'Python'}]\n",
    "\n",
    "tupleValue, listValue, setValue, dictValue=returnTypeFun()\n",
    "print(tupleValue)\n",
    "print(listValue)\n",
    "print(setValue)\n",
    "print(dictValue)\n",
    "print(tupleValue, listValue, setValue, dictValue)\n",
    "print(returnTypeFun())\n",
    "print(returnTypeFun()[1])"
   ]
  },
  {
   "cell_type": "code",
   "execution_count": 54,
   "id": "6ddc3d74",
   "metadata": {},
   "outputs": [
    {
     "name": "stdout",
     "output_type": "stream",
     "text": [
      "((10, 20, 30), [40, 50], {60, 70}, {'no': 1, 'name': 'Python'})\n"
     ]
    }
   ],
   "source": [
    "def returnTypeFun():\n",
    "    return (10,20,30), [40,50], {60, 70}, {'no':1, 'name':'Python'}\n",
    "    \n",
    "print(returnTypeFun())"
   ]
  },
  {
   "cell_type": "code",
   "execution_count": 62,
   "id": "0aaca2e8",
   "metadata": {},
   "outputs": [
    {
     "name": "stdout",
     "output_type": "stream",
     "text": [
      "10 20 30\n",
      "40 50\n",
      "60 70\n",
      "no name\n",
      "(10, 20, 30)\n",
      "[40, 50]\n",
      "{60, 70}\n",
      "{'no': 1, 'name': 'Python'}\n"
     ]
    }
   ],
   "source": [
    "def returnTypeFun():\n",
    "    return (10,20,30), [40,50], {60, 70}, {'no':1, 'name':'Python'}\n",
    "    \n",
    "print(*returnTypeFun()[0])\n",
    "print(*returnTypeFun()[1])\n",
    "print(*returnTypeFun()[2])\n",
    "print(*returnTypeFun()[3])\n",
    "print(returnTypeFun()[0])\n",
    "print(returnTypeFun()[1])\n",
    "print(returnTypeFun()[2])\n",
    "print(returnTypeFun()[3])"
   ]
  },
  {
   "cell_type": "code",
   "execution_count": 64,
   "id": "cb9bc3dc",
   "metadata": {},
   "outputs": [
    {
     "name": "stdout",
     "output_type": "stream",
     "text": [
      "rs: 10\n",
      "mrs: 210\n"
     ]
    }
   ],
   "source": [
    "def mulFun(x,y):\n",
    "    r=x*y\n",
    "    return r\n",
    "def resultFun(x,y):\n",
    "    rs=x+y\n",
    "    print('rs:', rs)\n",
    "    mrs=mulFun(x+y, x*y)\n",
    "    print('mrs:', mrs)\n",
    "resultFun(3,7)"
   ]
  },
  {
   "cell_type": "code",
   "execution_count": 80,
   "id": "570c0495",
   "metadata": {},
   "outputs": [
    {
     "name": "stdout",
     "output_type": "stream",
     "text": [
      "aValue: 1\n"
     ]
    }
   ],
   "source": [
    "aValue=1  # ==== global 변수\n",
    "def var_test1(aValue):\n",
    "    aValue+=1   # ==== local 변수\n",
    "var_test1(aValue)\n",
    "print('aValue:',aValue)\n",
    "# aValue: 1\n",
    "# global변수에 영향을 주지 못하므로 변하지 않는다."
   ]
  },
  {
   "cell_type": "code",
   "execution_count": 83,
   "id": "614941c7",
   "metadata": {},
   "outputs": [
    {
     "name": "stdout",
     "output_type": "stream",
     "text": [
      "aValue: 2\n"
     ]
    }
   ],
   "source": [
    "aValue=1\n",
    "def var_test2():\n",
    "    global aValue    # ==== global 변수를 method 내부에서 사용하겠다고 선언!\n",
    "    aValue+=1\n",
    "    \n",
    "var_test2()\n",
    "print('aValue:',aValue)\n",
    "# aValue: 2"
   ]
  },
  {
   "cell_type": "code",
   "execution_count": 85,
   "id": "03cd52b4",
   "metadata": {},
   "outputs": [
    {
     "name": "stdout",
     "output_type": "stream",
     "text": [
      "{'__name__': '__main__', '__doc__': 'Automatically created module for IPython interactive environment', '__package__': None, '__loader__': None, '__spec__': None, '__builtin__': <module 'builtins' (built-in)>, '__builtins__': <module 'builtins' (built-in)>, '_ih': ['', 'def add(x, y):\\n    return x+y\\nadd(1,2)', 'def add(x, y):\\n    if x>y:\\n        return x+y\\n    else:\\n        return x+y\\nadd(10,20)', 'def add(*x):\\n    return x[0]\\nadd(10)', 'def add(*x):\\n    return x[0]\\nadd(10, 20, 30)', 'def add(*x):\\n    print(x)\\n\\nr=add(10,20,30)\\nprint(r)', 'def add(x):\\n    print(x)\\n\\nr=add(10,20,30)\\nprint(r)', 'def add(*x):\\n    print(x)\\n\\nr=add(10,20,30)\\nprint(r)', 'def add(*x):\\n    print(x)\\n\\nr=add(10,20,30)\\nprint(r)', 'def add(*x):\\n    print(x)\\n    return (x[0])\\n\\nr=add([10,20,30])\\nprint(r)', 'def add(*x):\\n    print(x)\\n    return x[0]\\n\\nr=add([10,20,30])\\nprint(r)', 'def add(x):\\n    print(x)\\n    return x[0]\\n\\nr=add([10,20,30])\\nprint(r)', 'def add(*x):\\n    print(x)\\n    return x[0]\\n\\nr=add([10,20,30])\\nprint(r)', 'def ifMethod(*x):\\n    pass\\narg=[10,20,30,40,50]\\nifMethod(arg)', 'def ifMethod(*x):\\n    for i in x:\\n        print(i)\\narg=[10,20,30,40,50]\\nifMethod(arg)', 'def ifMethod(*x):\\n    for i in x:\\n        print(i)\\n\\narg=[10,20,30,40,50]\\nifMethod(arg)', 'def ifMethod(*x):\\n    for i in x:\\n        print(i)\\n        print(x)\\n\\narg=[10,20,30,40,50]\\nifMethod(arg)', 'def ifMethod(x):\\n    for i in x:\\n        print(i)\\n        print(x)\\n\\narg=[10,20,30,40,50]\\nifMethod(arg)', 'def ifMethod(*x):\\n    for i in x:\\n        print(i)\\n        print(x)\\n\\narg1=[10,20,30,40,50]\\narg2=[100,200,300,400,500]\\nifMethod(arg1)', 'def ifMethod(*x):\\n    for i in x:\\n        print(i)\\n        print(x)\\n\\narg1=[10,20,30,40,50]\\narg2=[100,200,300,400,500]\\nifMethod(arg1)\\nifMethod(arg2)', 'def ifMethod(*x):\\n    for i in x:\\n        print(i)\\n        print(x)\\n\\narg1=[10,20,30,40,50]\\narg2=[100,200,300,400,500]\\nifMethod(arg1)\\nifMethod(arg2)\\nifMethod(arg1,arg2)', 'def ifMethod(x):\\n    for i in x:\\n        print(i)\\n        print(x)\\n\\narg1=[10,20,30,40,50]\\narg2=[100,200,300,400,500]\\nifMethod(arg1)\\nifMethod(arg2)\\nifMethod(arg1,arg2)', 'def ifMethod(*x):\\n    print(x)\\n    for i in x:\\n        print(i)\\n\\n\\narg1=[10,20,30,40,50]\\narg2=[100,200,300,400,500]\\nifMethod(arg1)\\nifMethod(arg2)\\nifMethod(arg1,arg2)', 'def ifMethod(x):\\n    print(x)\\n    for i in x:\\n        print(i)\\n\\narg1=[10,20,30,40,50]\\narg2=[100,200,300,400,500]\\nifMethod(arg1)\\nifMethod(arg2)\\nifMethod(arg1,arg2)', 'def ifMethod(*x):\\n    print(x)\\n    for i in x:\\n        for j in i:\\n            if j>50:\\n                return\\n            else:\\n                print(j, end=\" \")\\n\\narg1=[10,20,30,40,50]\\narg2=[100,200,300,400,500]\\nifMethod(arg1)\\nifMethod(arg2)\\nifMethod(arg1,arg2)', 'def ifMethod(*x):\\n    print(x)\\n    for i in x:\\n        for j in i:\\n            if j>50:\\n                return\\n            else:\\n                print(j, end=\" \")\\n\\narg1=[10,20,30,40,50]\\narg2=[100,200,300,400,500]\\nifMethod(arg1,arg2)', 'def add_sub(x,y):\\n    pass\\nadd_sub(10, 20)', 'def add_sub(x,y):\\n    if x < y:\\n        return x+y\\n    else:\\n        return x+y\\nadd_sub(10, 20)', 'def add_sub(x,y):\\n    if x < y:\\n        return x+y\\n    else:\\n        return x+y\\nrs = add_sub(10, 20)\\nprint(rs)', 'def add_sub(x,y):\\n    if x < y:\\n        return x+y\\n    else:\\n        return x+y\\nrs = add_sub(5, 7)\\nprint(rs)', 'def add_sub(x,y):\\n    if x < y:\\n        return x+y\\n    else:\\n        return x+y\\nrs = add_sub(5, 4)\\nprint(rs)', 'def add_sub(x,y):\\n    if x < y:\\n        return x+y\\n    else:\\n        return x+y\\nrs = add_sub(5, 9)\\nprint(rs)', 'def add_sub(x,y):\\n    return (x+y),(x+y)\\nrs = add_sub(5, 9)\\nprint(rs)', 'def add_sub(x,y):\\n    return (x+y),(x*y)\\nrsx, rsy = add_sub(5, 9)\\nprint(rs)', 'def add_sub(x,y):\\n    return (x+y), (x*y)\\nrsx, rsy = add_sub(5, 9)\\nprint(rs)', 'def add_sub(x,y):\\n    return (x+y), (x*y)\\nrsx, rsy = add_sub(5, 9)\\nprint(rsx, rsy)', 'def add_sub(x, y):\\n    if x < y:\\n        return x+y\\n    else:\\n        return x*y\\nrs = add_sub(5, 9)\\nprint(rs)', 'def returnTypeFun():\\n    return(10,20,30)', 'def returnTypeFun():\\n    return(10,20,30), [40,50]', 'def returnTypeFun():\\n    return (10,20,30), [40,50], {60, 70}', \"def returnTypeFun():\\n    return (10,20,30), [40,50], {60, 70}, {'no':1, 'name':'Python'}\", \"def returnTypeFun():\\n    return (10,20,30), [40,50], {60, 70}, {'no':1, 'name':'Python'}\\n    return [(10,20,30), [40,50], {60, 70}, {'no':1, 'name':'Python'}]\", \"def returnTypeFun():\\n    return (10,20,30), [40,50], {60, 70}, {'no':1, 'name':'Python'}\\n    return [(10,20,30), [40,50], {60, 70}, {'no':1, 'name':'Python'}]\\ntupleValue, listValue, setValue, dictValue=returnTypeFun()\", \"def returnTypeFun():\\n    return (10,20,30), [40,50], {60, 70}, {'no':1, 'name':'Python'}\\n    return [(10,20,30), [40,50], {60, 70}, {'no':1, 'name':'Python'}]\\n\\ntupleValue, listValue, setValue, dictValue=returnTypeFun()\\nprint(tupleValue)\", \"def returnTypeFun():\\n    return (10,20,30), [40,50], {60, 70}, {'no':1, 'name':'Python'}\\n    return [(10,20,30), [40,50], {60, 70}, {'no':1, 'name':'Python'}]\\n\\ntupleValue, listValue, setValue, dictValue=returnTypeFun()\\nprint(tupleValue)\\nprint(listValue)\\nprint(setValue)\\nprint(dictValue)\", \"def returnTypeFun():\\n    return (10,20,30), [40,50], {60, 70}, {'no':1, 'name':'Python'}\\n    return [(10,20,30), [40,50], {60, 70}, {'no':1, 'name':'Python'}]\\n\\ntupleValue, listValue, setValue, dictValue=returnTypeFun()\\nprint(tupleValue)\\nprint(listValue)\\nprint(setValue)\\nprint(dictValue)\\nprint(tupleValue, listValue, setValue, dictValue)\", \"def returnTypeFun():\\n    return (10,20,30), [40,50], {60, 70}, {'no':1, 'name':'Python'}\\n    return [(10,20,30), [40,50], {60, 70}, {'no':1, 'name':'Python'}]\\n\\ntupleValue, listValue, setValue, dictValue=returnTypeFun()\\nprint(tupleValue)\\nprint(listValue)\\nprint(setValue)\\nprint(dictValue)\\nprint(tupleValue, listValue, setValue, dictValue)\\nprint(returnTypeFun())\", \"def returnTypeFun():\\n    return (10,20,30), [40,50], {60, 70}, {'no':1, 'name':'Python'}\\n    return [(10,20,30), [40,50], {60, 70}, {'no':1, 'name':'Python'}]\\n\\ntupleValue, listValue, setValue, dictValue=returnTypeFun()\\nprint(tupleValue)\\nprint(listValue)\\nprint(setValue)\\nprint(dictValue)\\nprint(tupleValue, listValue, setValue, dictValue)\\nprint(returnTypeFun()[0])\", \"def returnTypeFun():\\n    return (10,20,30), [40,50], {60, 70}, {'no':1, 'name':'Python'}\\n    return [(10,20,30), [40,50], {60, 70}, {'no':1, 'name':'Python'}]\\n\\ntupleValue, listValue, setValue, dictValue=returnTypeFun()\\nprint(tupleValue)\\nprint(listValue)\\nprint(setValue)\\nprint(dictValue)\\nprint(tupleValue, listValue, setValue, dictValue)\\nprint(returnTypeFun())\\nprint(returnTypeFun()[1])\", \"def returnTypeFun():\\n    #return (10,20,30), [40,50], {60, 70}, {'no':1, 'name':'Python'}\\n    return [(10,20,30), [40,50], {60, 70}, {'no':1, 'name':'Python'}]\\n\\ntupleValue, listValue, setValue, dictValue=returnTypeFun()\\nprint(tupleValue)\\nprint(listValue)\\nprint(setValue)\\nprint(dictValue)\\nprint(tupleValue, listValue, setValue, dictValue)\\nprint(returnTypeFun())\\nprint(returnTypeFun()[1])\", \"def returnTypeFun():\\n    return (10,20,30), [40,50], {60, 70}, {'no':1, 'name':'Python'}\\n    return [(10,20,30), [40,50], {60, 70}, {'no':1, 'name':'Python'}]\\n\\ntupleValue, listValue, setValue, dictValue=returnTypeFun()\\nprint(tupleValue)\\nprint(listValue)\\nprint(setValue)\\nprint(dictValue)\\nprint(tupleValue, listValue, setValue, dictValue)\\nprint(returnTypeFun())\\nprint(returnTypeFun()[1])\", \"def returnTypeFun():\\n    #return (10,20,30), [40,50], {60, 70}, {'no':1, 'name':'Python'}\\n    return [(10,20,30), [40,50], {60, 70}, {'no':1, 'name':'Python'}]\\n\\ntupleValue, listValue, setValue, dictValue=returnTypeFun()\\nprint(tupleValue)\\nprint(listValue)\\nprint(setValue)\\nprint(dictValue)\\nprint(tupleValue, listValue, setValue, dictValue)\\nprint(returnTypeFun())\\nprint(returnTypeFun()[1])\", \"def returnTypeFun():\\n    return (10,20,30), [40,50], {60, 70}, {'no':1, 'name':'Python'}\\n    #return [(10,20,30), [40,50], {60, 70}, {'no':1, 'name':'Python'}]\\n\\ntupleValue, listValue, setValue, dictValue=returnTypeFun()\\nprint(tupleValue)\\nprint(listValue)\\nprint(setValue)\\nprint(dictValue)\\nprint(tupleValue, listValue, setValue, dictValue)\\nprint(returnTypeFun())\\nprint(returnTypeFun()[1])\", \"def returnTypeFun():\\n    return (10,20,30), [40,50], {60, 70}, {'no':1, 'name':'Python'}\\n    \\nprint(returnTypeFun)\", \"def returnTypeFun():\\n    return (10,20,30), [40,50], {60, 70}, {'no':1, 'name':'Python'}\\n    \\nprint(returnTypeFun())\", \"def returnTypeFun():\\n    return (10,20,30), [40,50], {60, 70}, {'no':1, 'name':'Python'}\\n    \\nprint(*returnTypeFun()[0])\", \"def returnTypeFun():\\n    return (10,20,30), [40,50], {60, 70}, {'no':1, 'name':'Python'}\\n    \\nprint(*returnTypeFun()[0])\\nprint(*returnTypeFun()[0][0])\", \"def returnTypeFun():\\n    return (10,20,30), [40,50], {60, 70}, {'no':1, 'name':'Python'}\\n    \\nprint(*returnTypeFun()[0])\\nprint(returnTypeFun()[0])\", \"def returnTypeFun():\\n    return (10,20,30), [40,50], {60, 70}, {'no':1, 'name':'Python'}\\n    \\nprint(*returnTypeFun()[0])\\nprint(*returnTypeFun()[1])\\nprint(returnTypeFun()[0])\", \"def returnTypeFun():\\n    return (10,20,30), [40,50], {60, 70}, {'no':1, 'name':'Python'}\\n    \\nprint(*returnTypeFun()[0])\\nprint(*returnTypeFun()[1])\\nprint(*returnTypeFun()[2])\\nprint(*returnTypeFun()[3])\\nprint(returnTypeFun()[0])\", \"def returnTypeFun():\\n    return (10,20,30), [40,50], {60, 70}, {'no':1, 'name':'Python'}\\n    \\nprint(*returnTypeFun()[0])\\nprint(*returnTypeFun()[1])\\nprint(*returnTypeFun()[2])\\nprint(*returnTypeFun()[3][1])\\nprint(returnTypeFun()[0])\", \"def returnTypeFun():\\n    return (10,20,30), [40,50], {60, 70}, {'no':1, 'name':'Python'}\\n    \\nprint(*returnTypeFun()[0])\\nprint(*returnTypeFun()[1])\\nprint(*returnTypeFun()[2])\\nprint(*returnTypeFun()[3])\\nprint(returnTypeFun()[0])\", \"def returnTypeFun():\\n    return (10,20,30), [40,50], {60, 70}, {'no':1, 'name':'Python'}\\n    \\nprint(*returnTypeFun()[0])\\nprint(*returnTypeFun()[1])\\nprint(*returnTypeFun()[2])\\nprint(*returnTypeFun()[3])\\nprint(returnTypeFun()[0])\\nprint(returnTypeFun()[1])\\nprint(returnTypeFun()[2])\\nprint(returnTypeFun()[3])\", 'def mulFun(x,y):\\n    r=x*y\\n    return r', \"def mulFun(x,y):\\n    r=x*y\\n    return r\\ndef resultFun(x,y):\\n    rs=x+y\\n    print('rs:', rs)\\n    mrs=mulFun(x+y, x*y)\\n    print('mrs:', mrs)\\nresultFun(3,7)\", \"aValue=1\\ndef var_test1():\\n    aValue+=1\\nprint('aValue:'.aValue)\", \"aValue=1\\ndef var_test1():\\n    aValue+=1\\nprint('aValue:',aValue)\", \"aValue=1\\ndef var_test1():\\n    aValue+=1\\nprint('aValue:',aValue)\", \"aValue=1\\ndef var_test1():\\n    aValue+=1\\nvar_test1(aValue)\\nprint('aValue:',aValue)\", \"aValue=1\\ndef var_test1(aValue):\\n    aValue+=1\\nvar_test1(aValue)\\nprint('aValue:',aValue)\", \"aValue=1\\ndef var_test1(aValue):\\n    aValue+=1\\nvar_test1(aValue)\\nprint('aValue:',aValue)\", \"aValue=1\\ndef var_test1(aValue):\\n    aValue+=1\\nvar_test1(aValue)\\nprint('aValue:',aValue)\", \"aValue=1\\ndef var_test1(aValue):\\n    aValue+=1\\nvar_test1(aValue)\\nprint('aValue:',aValue)\", \"aValue=1\\ndef var_test1(aValue):\\n    aValue+=1\\nvar_test1(aValue)\\nprint('aValue:',aValue)\", \"aValue=1\\ndef var_test1(aValue):\\n    aValue+=1\\nvar_test1(aValue)\\nprint('aValue:',aValue)\", \"aValue=1\\ndef var_test1(aValue):\\n    aValue+=1\\nvar_test1(aValue)\\nprint('aValue:',aValue)\", \"aValue=1\\ndef var_test1(aValue):\\n    aValue+=1\\nvar_test1(aValue)\\nprint('aValue:',aValue)\", \"aValue=1\\ndef var_test1(aValue):\\n    aValue+=1\\nvar_test1(aValue)\\nprint('aValue:',aValue)\", \"aValue=1\\ndef var_test1(aValue):\\n    aValue+=1\\nvar_test1(aValue)\\nprint('aValue:',aValue)\", \"aValue=1\\ndef var_test1(aValue):\\n    aValue+=1\\nvar_test1(aValue)\\nprint('aValue:',aValue)\", \"aValue=1\\ndef var_test1(aValue):\\n    aValue+=1\\nvar_test1(aValue)\\nprint('aValue:',aValue)\", \"aValue=1\\ndef var_test2():\\n    aValue+=1   \\n    \\nvar_test2()\\nprint('aValue:',aValue)\", \"aValue=1\\ndef var_test2():\\n    global aValue\\n    aValue+=1\\n    \\nvar_test2()\\nprint('aValue:',aValue)\", \"aValue=1\\ndef var_test2():\\n    global aValue\\n    aValue+=1\\n    \\nvar_test2()\\nprint('aValue:',aValue)\", 'print(locals)', 'print(locals())'], '_oh': {1: 3, 2: 30, 3: 10, 4: 10, 27: 30}, '_dh': ['C:\\\\jupyter_home\\\\pythonSource\\\\coreSource'], 'In': ['', 'def add(x, y):\\n    return x+y\\nadd(1,2)', 'def add(x, y):\\n    if x>y:\\n        return x+y\\n    else:\\n        return x+y\\nadd(10,20)', 'def add(*x):\\n    return x[0]\\nadd(10)', 'def add(*x):\\n    return x[0]\\nadd(10, 20, 30)', 'def add(*x):\\n    print(x)\\n\\nr=add(10,20,30)\\nprint(r)', 'def add(x):\\n    print(x)\\n\\nr=add(10,20,30)\\nprint(r)', 'def add(*x):\\n    print(x)\\n\\nr=add(10,20,30)\\nprint(r)', 'def add(*x):\\n    print(x)\\n\\nr=add(10,20,30)\\nprint(r)', 'def add(*x):\\n    print(x)\\n    return (x[0])\\n\\nr=add([10,20,30])\\nprint(r)', 'def add(*x):\\n    print(x)\\n    return x[0]\\n\\nr=add([10,20,30])\\nprint(r)', 'def add(x):\\n    print(x)\\n    return x[0]\\n\\nr=add([10,20,30])\\nprint(r)', 'def add(*x):\\n    print(x)\\n    return x[0]\\n\\nr=add([10,20,30])\\nprint(r)', 'def ifMethod(*x):\\n    pass\\narg=[10,20,30,40,50]\\nifMethod(arg)', 'def ifMethod(*x):\\n    for i in x:\\n        print(i)\\narg=[10,20,30,40,50]\\nifMethod(arg)', 'def ifMethod(*x):\\n    for i in x:\\n        print(i)\\n\\narg=[10,20,30,40,50]\\nifMethod(arg)', 'def ifMethod(*x):\\n    for i in x:\\n        print(i)\\n        print(x)\\n\\narg=[10,20,30,40,50]\\nifMethod(arg)', 'def ifMethod(x):\\n    for i in x:\\n        print(i)\\n        print(x)\\n\\narg=[10,20,30,40,50]\\nifMethod(arg)', 'def ifMethod(*x):\\n    for i in x:\\n        print(i)\\n        print(x)\\n\\narg1=[10,20,30,40,50]\\narg2=[100,200,300,400,500]\\nifMethod(arg1)', 'def ifMethod(*x):\\n    for i in x:\\n        print(i)\\n        print(x)\\n\\narg1=[10,20,30,40,50]\\narg2=[100,200,300,400,500]\\nifMethod(arg1)\\nifMethod(arg2)', 'def ifMethod(*x):\\n    for i in x:\\n        print(i)\\n        print(x)\\n\\narg1=[10,20,30,40,50]\\narg2=[100,200,300,400,500]\\nifMethod(arg1)\\nifMethod(arg2)\\nifMethod(arg1,arg2)', 'def ifMethod(x):\\n    for i in x:\\n        print(i)\\n        print(x)\\n\\narg1=[10,20,30,40,50]\\narg2=[100,200,300,400,500]\\nifMethod(arg1)\\nifMethod(arg2)\\nifMethod(arg1,arg2)', 'def ifMethod(*x):\\n    print(x)\\n    for i in x:\\n        print(i)\\n\\n\\narg1=[10,20,30,40,50]\\narg2=[100,200,300,400,500]\\nifMethod(arg1)\\nifMethod(arg2)\\nifMethod(arg1,arg2)', 'def ifMethod(x):\\n    print(x)\\n    for i in x:\\n        print(i)\\n\\narg1=[10,20,30,40,50]\\narg2=[100,200,300,400,500]\\nifMethod(arg1)\\nifMethod(arg2)\\nifMethod(arg1,arg2)', 'def ifMethod(*x):\\n    print(x)\\n    for i in x:\\n        for j in i:\\n            if j>50:\\n                return\\n            else:\\n                print(j, end=\" \")\\n\\narg1=[10,20,30,40,50]\\narg2=[100,200,300,400,500]\\nifMethod(arg1)\\nifMethod(arg2)\\nifMethod(arg1,arg2)', 'def ifMethod(*x):\\n    print(x)\\n    for i in x:\\n        for j in i:\\n            if j>50:\\n                return\\n            else:\\n                print(j, end=\" \")\\n\\narg1=[10,20,30,40,50]\\narg2=[100,200,300,400,500]\\nifMethod(arg1,arg2)', 'def add_sub(x,y):\\n    pass\\nadd_sub(10, 20)', 'def add_sub(x,y):\\n    if x < y:\\n        return x+y\\n    else:\\n        return x+y\\nadd_sub(10, 20)', 'def add_sub(x,y):\\n    if x < y:\\n        return x+y\\n    else:\\n        return x+y\\nrs = add_sub(10, 20)\\nprint(rs)', 'def add_sub(x,y):\\n    if x < y:\\n        return x+y\\n    else:\\n        return x+y\\nrs = add_sub(5, 7)\\nprint(rs)', 'def add_sub(x,y):\\n    if x < y:\\n        return x+y\\n    else:\\n        return x+y\\nrs = add_sub(5, 4)\\nprint(rs)', 'def add_sub(x,y):\\n    if x < y:\\n        return x+y\\n    else:\\n        return x+y\\nrs = add_sub(5, 9)\\nprint(rs)', 'def add_sub(x,y):\\n    return (x+y),(x+y)\\nrs = add_sub(5, 9)\\nprint(rs)', 'def add_sub(x,y):\\n    return (x+y),(x*y)\\nrsx, rsy = add_sub(5, 9)\\nprint(rs)', 'def add_sub(x,y):\\n    return (x+y), (x*y)\\nrsx, rsy = add_sub(5, 9)\\nprint(rs)', 'def add_sub(x,y):\\n    return (x+y), (x*y)\\nrsx, rsy = add_sub(5, 9)\\nprint(rsx, rsy)', 'def add_sub(x, y):\\n    if x < y:\\n        return x+y\\n    else:\\n        return x*y\\nrs = add_sub(5, 9)\\nprint(rs)', 'def returnTypeFun():\\n    return(10,20,30)', 'def returnTypeFun():\\n    return(10,20,30), [40,50]', 'def returnTypeFun():\\n    return (10,20,30), [40,50], {60, 70}', \"def returnTypeFun():\\n    return (10,20,30), [40,50], {60, 70}, {'no':1, 'name':'Python'}\", \"def returnTypeFun():\\n    return (10,20,30), [40,50], {60, 70}, {'no':1, 'name':'Python'}\\n    return [(10,20,30), [40,50], {60, 70}, {'no':1, 'name':'Python'}]\", \"def returnTypeFun():\\n    return (10,20,30), [40,50], {60, 70}, {'no':1, 'name':'Python'}\\n    return [(10,20,30), [40,50], {60, 70}, {'no':1, 'name':'Python'}]\\ntupleValue, listValue, setValue, dictValue=returnTypeFun()\", \"def returnTypeFun():\\n    return (10,20,30), [40,50], {60, 70}, {'no':1, 'name':'Python'}\\n    return [(10,20,30), [40,50], {60, 70}, {'no':1, 'name':'Python'}]\\n\\ntupleValue, listValue, setValue, dictValue=returnTypeFun()\\nprint(tupleValue)\", \"def returnTypeFun():\\n    return (10,20,30), [40,50], {60, 70}, {'no':1, 'name':'Python'}\\n    return [(10,20,30), [40,50], {60, 70}, {'no':1, 'name':'Python'}]\\n\\ntupleValue, listValue, setValue, dictValue=returnTypeFun()\\nprint(tupleValue)\\nprint(listValue)\\nprint(setValue)\\nprint(dictValue)\", \"def returnTypeFun():\\n    return (10,20,30), [40,50], {60, 70}, {'no':1, 'name':'Python'}\\n    return [(10,20,30), [40,50], {60, 70}, {'no':1, 'name':'Python'}]\\n\\ntupleValue, listValue, setValue, dictValue=returnTypeFun()\\nprint(tupleValue)\\nprint(listValue)\\nprint(setValue)\\nprint(dictValue)\\nprint(tupleValue, listValue, setValue, dictValue)\", \"def returnTypeFun():\\n    return (10,20,30), [40,50], {60, 70}, {'no':1, 'name':'Python'}\\n    return [(10,20,30), [40,50], {60, 70}, {'no':1, 'name':'Python'}]\\n\\ntupleValue, listValue, setValue, dictValue=returnTypeFun()\\nprint(tupleValue)\\nprint(listValue)\\nprint(setValue)\\nprint(dictValue)\\nprint(tupleValue, listValue, setValue, dictValue)\\nprint(returnTypeFun())\", \"def returnTypeFun():\\n    return (10,20,30), [40,50], {60, 70}, {'no':1, 'name':'Python'}\\n    return [(10,20,30), [40,50], {60, 70}, {'no':1, 'name':'Python'}]\\n\\ntupleValue, listValue, setValue, dictValue=returnTypeFun()\\nprint(tupleValue)\\nprint(listValue)\\nprint(setValue)\\nprint(dictValue)\\nprint(tupleValue, listValue, setValue, dictValue)\\nprint(returnTypeFun()[0])\", \"def returnTypeFun():\\n    return (10,20,30), [40,50], {60, 70}, {'no':1, 'name':'Python'}\\n    return [(10,20,30), [40,50], {60, 70}, {'no':1, 'name':'Python'}]\\n\\ntupleValue, listValue, setValue, dictValue=returnTypeFun()\\nprint(tupleValue)\\nprint(listValue)\\nprint(setValue)\\nprint(dictValue)\\nprint(tupleValue, listValue, setValue, dictValue)\\nprint(returnTypeFun())\\nprint(returnTypeFun()[1])\", \"def returnTypeFun():\\n    #return (10,20,30), [40,50], {60, 70}, {'no':1, 'name':'Python'}\\n    return [(10,20,30), [40,50], {60, 70}, {'no':1, 'name':'Python'}]\\n\\ntupleValue, listValue, setValue, dictValue=returnTypeFun()\\nprint(tupleValue)\\nprint(listValue)\\nprint(setValue)\\nprint(dictValue)\\nprint(tupleValue, listValue, setValue, dictValue)\\nprint(returnTypeFun())\\nprint(returnTypeFun()[1])\", \"def returnTypeFun():\\n    return (10,20,30), [40,50], {60, 70}, {'no':1, 'name':'Python'}\\n    return [(10,20,30), [40,50], {60, 70}, {'no':1, 'name':'Python'}]\\n\\ntupleValue, listValue, setValue, dictValue=returnTypeFun()\\nprint(tupleValue)\\nprint(listValue)\\nprint(setValue)\\nprint(dictValue)\\nprint(tupleValue, listValue, setValue, dictValue)\\nprint(returnTypeFun())\\nprint(returnTypeFun()[1])\", \"def returnTypeFun():\\n    #return (10,20,30), [40,50], {60, 70}, {'no':1, 'name':'Python'}\\n    return [(10,20,30), [40,50], {60, 70}, {'no':1, 'name':'Python'}]\\n\\ntupleValue, listValue, setValue, dictValue=returnTypeFun()\\nprint(tupleValue)\\nprint(listValue)\\nprint(setValue)\\nprint(dictValue)\\nprint(tupleValue, listValue, setValue, dictValue)\\nprint(returnTypeFun())\\nprint(returnTypeFun()[1])\", \"def returnTypeFun():\\n    return (10,20,30), [40,50], {60, 70}, {'no':1, 'name':'Python'}\\n    #return [(10,20,30), [40,50], {60, 70}, {'no':1, 'name':'Python'}]\\n\\ntupleValue, listValue, setValue, dictValue=returnTypeFun()\\nprint(tupleValue)\\nprint(listValue)\\nprint(setValue)\\nprint(dictValue)\\nprint(tupleValue, listValue, setValue, dictValue)\\nprint(returnTypeFun())\\nprint(returnTypeFun()[1])\", \"def returnTypeFun():\\n    return (10,20,30), [40,50], {60, 70}, {'no':1, 'name':'Python'}\\n    \\nprint(returnTypeFun)\", \"def returnTypeFun():\\n    return (10,20,30), [40,50], {60, 70}, {'no':1, 'name':'Python'}\\n    \\nprint(returnTypeFun())\", \"def returnTypeFun():\\n    return (10,20,30), [40,50], {60, 70}, {'no':1, 'name':'Python'}\\n    \\nprint(*returnTypeFun()[0])\", \"def returnTypeFun():\\n    return (10,20,30), [40,50], {60, 70}, {'no':1, 'name':'Python'}\\n    \\nprint(*returnTypeFun()[0])\\nprint(*returnTypeFun()[0][0])\", \"def returnTypeFun():\\n    return (10,20,30), [40,50], {60, 70}, {'no':1, 'name':'Python'}\\n    \\nprint(*returnTypeFun()[0])\\nprint(returnTypeFun()[0])\", \"def returnTypeFun():\\n    return (10,20,30), [40,50], {60, 70}, {'no':1, 'name':'Python'}\\n    \\nprint(*returnTypeFun()[0])\\nprint(*returnTypeFun()[1])\\nprint(returnTypeFun()[0])\", \"def returnTypeFun():\\n    return (10,20,30), [40,50], {60, 70}, {'no':1, 'name':'Python'}\\n    \\nprint(*returnTypeFun()[0])\\nprint(*returnTypeFun()[1])\\nprint(*returnTypeFun()[2])\\nprint(*returnTypeFun()[3])\\nprint(returnTypeFun()[0])\", \"def returnTypeFun():\\n    return (10,20,30), [40,50], {60, 70}, {'no':1, 'name':'Python'}\\n    \\nprint(*returnTypeFun()[0])\\nprint(*returnTypeFun()[1])\\nprint(*returnTypeFun()[2])\\nprint(*returnTypeFun()[3][1])\\nprint(returnTypeFun()[0])\", \"def returnTypeFun():\\n    return (10,20,30), [40,50], {60, 70}, {'no':1, 'name':'Python'}\\n    \\nprint(*returnTypeFun()[0])\\nprint(*returnTypeFun()[1])\\nprint(*returnTypeFun()[2])\\nprint(*returnTypeFun()[3])\\nprint(returnTypeFun()[0])\", \"def returnTypeFun():\\n    return (10,20,30), [40,50], {60, 70}, {'no':1, 'name':'Python'}\\n    \\nprint(*returnTypeFun()[0])\\nprint(*returnTypeFun()[1])\\nprint(*returnTypeFun()[2])\\nprint(*returnTypeFun()[3])\\nprint(returnTypeFun()[0])\\nprint(returnTypeFun()[1])\\nprint(returnTypeFun()[2])\\nprint(returnTypeFun()[3])\", 'def mulFun(x,y):\\n    r=x*y\\n    return r', \"def mulFun(x,y):\\n    r=x*y\\n    return r\\ndef resultFun(x,y):\\n    rs=x+y\\n    print('rs:', rs)\\n    mrs=mulFun(x+y, x*y)\\n    print('mrs:', mrs)\\nresultFun(3,7)\", \"aValue=1\\ndef var_test1():\\n    aValue+=1\\nprint('aValue:'.aValue)\", \"aValue=1\\ndef var_test1():\\n    aValue+=1\\nprint('aValue:',aValue)\", \"aValue=1\\ndef var_test1():\\n    aValue+=1\\nprint('aValue:',aValue)\", \"aValue=1\\ndef var_test1():\\n    aValue+=1\\nvar_test1(aValue)\\nprint('aValue:',aValue)\", \"aValue=1\\ndef var_test1(aValue):\\n    aValue+=1\\nvar_test1(aValue)\\nprint('aValue:',aValue)\", \"aValue=1\\ndef var_test1(aValue):\\n    aValue+=1\\nvar_test1(aValue)\\nprint('aValue:',aValue)\", \"aValue=1\\ndef var_test1(aValue):\\n    aValue+=1\\nvar_test1(aValue)\\nprint('aValue:',aValue)\", \"aValue=1\\ndef var_test1(aValue):\\n    aValue+=1\\nvar_test1(aValue)\\nprint('aValue:',aValue)\", \"aValue=1\\ndef var_test1(aValue):\\n    aValue+=1\\nvar_test1(aValue)\\nprint('aValue:',aValue)\", \"aValue=1\\ndef var_test1(aValue):\\n    aValue+=1\\nvar_test1(aValue)\\nprint('aValue:',aValue)\", \"aValue=1\\ndef var_test1(aValue):\\n    aValue+=1\\nvar_test1(aValue)\\nprint('aValue:',aValue)\", \"aValue=1\\ndef var_test1(aValue):\\n    aValue+=1\\nvar_test1(aValue)\\nprint('aValue:',aValue)\", \"aValue=1\\ndef var_test1(aValue):\\n    aValue+=1\\nvar_test1(aValue)\\nprint('aValue:',aValue)\", \"aValue=1\\ndef var_test1(aValue):\\n    aValue+=1\\nvar_test1(aValue)\\nprint('aValue:',aValue)\", \"aValue=1\\ndef var_test1(aValue):\\n    aValue+=1\\nvar_test1(aValue)\\nprint('aValue:',aValue)\", \"aValue=1\\ndef var_test1(aValue):\\n    aValue+=1\\nvar_test1(aValue)\\nprint('aValue:',aValue)\", \"aValue=1\\ndef var_test2():\\n    aValue+=1   \\n    \\nvar_test2()\\nprint('aValue:',aValue)\", \"aValue=1\\ndef var_test2():\\n    global aValue\\n    aValue+=1\\n    \\nvar_test2()\\nprint('aValue:',aValue)\", \"aValue=1\\ndef var_test2():\\n    global aValue\\n    aValue+=1\\n    \\nvar_test2()\\nprint('aValue:',aValue)\", 'print(locals)', 'print(locals())'], 'Out': {1: 3, 2: 30, 3: 10, 4: 10, 27: 30}, 'get_ipython': <bound method InteractiveShell.get_ipython of <ipykernel.zmqshell.ZMQInteractiveShell object at 0x0000026436F58088>>, 'exit': <IPython.core.autocall.ZMQExitAutocall object at 0x0000026436F6A2C8>, 'quit': <IPython.core.autocall.ZMQExitAutocall object at 0x0000026436F6A2C8>, '_': 30, '__': 10, '___': 10, '_i': 'print(locals)', '_ii': \"aValue=1\\ndef var_test2():\\n    global aValue\\n    aValue+=1\\n    \\nvar_test2()\\nprint('aValue:',aValue)\", '_iii': \"aValue=1\\ndef var_test2():\\n    global aValue\\n    aValue+=1\\n    \\nvar_test2()\\nprint('aValue:',aValue)\", '_i1': 'def add(x, y):\\n    return x+y\\nadd(1,2)', 'add': <function add at 0x0000026437097048>, '_1': 3, '_i2': 'def add(x, y):\\n    if x>y:\\n        return x+y\\n    else:\\n        return x+y\\nadd(10,20)', '_2': 30, '_i3': 'def add(*x):\\n    return x[0]\\nadd(10)', '_3': 10, '_i4': 'def add(*x):\\n    return x[0]\\nadd(10, 20, 30)', '_4': 10, '_i5': 'def add(*x):\\n    print(x)\\n\\nr=add(10,20,30)\\nprint(r)', 'r': [10, 20, 30], '_i6': 'def add(x):\\n    print(x)\\n\\nr=add(10,20,30)\\nprint(r)', '_i7': 'def add(*x):\\n    print(x)\\n\\nr=add(10,20,30)\\nprint(r)', '_i8': 'def add(*x):\\n    print(x)\\n\\nr=add(10,20,30)\\nprint(r)', '_i9': 'def add(*x):\\n    print(x)\\n    return (x[0])\\n\\nr=add([10,20,30])\\nprint(r)', '_i10': 'def add(*x):\\n    print(x)\\n    return x[0]\\n\\nr=add([10,20,30])\\nprint(r)', '_i11': 'def add(x):\\n    print(x)\\n    return x[0]\\n\\nr=add([10,20,30])\\nprint(r)', '_i12': 'def add(*x):\\n    print(x)\\n    return x[0]\\n\\nr=add([10,20,30])\\nprint(r)', '_i13': 'def ifMethod(*x):\\n    pass\\narg=[10,20,30,40,50]\\nifMethod(arg)', 'ifMethod': <function ifMethod at 0x0000026437085438>, 'arg': [10, 20, 30, 40, 50], '_i14': 'def ifMethod(*x):\\n    for i in x:\\n        print(i)\\narg=[10,20,30,40,50]\\nifMethod(arg)', '_i15': 'def ifMethod(*x):\\n    for i in x:\\n        print(i)\\n\\narg=[10,20,30,40,50]\\nifMethod(arg)', '_i16': 'def ifMethod(*x):\\n    for i in x:\\n        print(i)\\n        print(x)\\n\\narg=[10,20,30,40,50]\\nifMethod(arg)', '_i17': 'def ifMethod(x):\\n    for i in x:\\n        print(i)\\n        print(x)\\n\\narg=[10,20,30,40,50]\\nifMethod(arg)', '_i18': 'def ifMethod(*x):\\n    for i in x:\\n        print(i)\\n        print(x)\\n\\narg1=[10,20,30,40,50]\\narg2=[100,200,300,400,500]\\nifMethod(arg1)', 'arg1': [10, 20, 30, 40, 50], 'arg2': [100, 200, 300, 400, 500], '_i19': 'def ifMethod(*x):\\n    for i in x:\\n        print(i)\\n        print(x)\\n\\narg1=[10,20,30,40,50]\\narg2=[100,200,300,400,500]\\nifMethod(arg1)\\nifMethod(arg2)', '_i20': 'def ifMethod(*x):\\n    for i in x:\\n        print(i)\\n        print(x)\\n\\narg1=[10,20,30,40,50]\\narg2=[100,200,300,400,500]\\nifMethod(arg1)\\nifMethod(arg2)\\nifMethod(arg1,arg2)', '_i21': 'def ifMethod(x):\\n    for i in x:\\n        print(i)\\n        print(x)\\n\\narg1=[10,20,30,40,50]\\narg2=[100,200,300,400,500]\\nifMethod(arg1)\\nifMethod(arg2)\\nifMethod(arg1,arg2)', '_i22': 'def ifMethod(*x):\\n    print(x)\\n    for i in x:\\n        print(i)\\n\\n\\narg1=[10,20,30,40,50]\\narg2=[100,200,300,400,500]\\nifMethod(arg1)\\nifMethod(arg2)\\nifMethod(arg1,arg2)', '_i23': 'def ifMethod(x):\\n    print(x)\\n    for i in x:\\n        print(i)\\n\\narg1=[10,20,30,40,50]\\narg2=[100,200,300,400,500]\\nifMethod(arg1)\\nifMethod(arg2)\\nifMethod(arg1,arg2)', '_i24': 'def ifMethod(*x):\\n    print(x)\\n    for i in x:\\n        for j in i:\\n            if j>50:\\n                return\\n            else:\\n                print(j, end=\" \")\\n\\narg1=[10,20,30,40,50]\\narg2=[100,200,300,400,500]\\nifMethod(arg1)\\nifMethod(arg2)\\nifMethod(arg1,arg2)', '_i25': 'def ifMethod(*x):\\n    print(x)\\n    for i in x:\\n        for j in i:\\n            if j>50:\\n                return\\n            else:\\n                print(j, end=\" \")\\n\\narg1=[10,20,30,40,50]\\narg2=[100,200,300,400,500]\\nifMethod(arg1,arg2)', '_i26': 'def add_sub(x,y):\\n    pass\\nadd_sub(10, 20)', 'add_sub': <function add_sub at 0x00000264370973A8>, '_i27': 'def add_sub(x,y):\\n    if x < y:\\n        return x+y\\n    else:\\n        return x+y\\nadd_sub(10, 20)', '_27': 30, '_i28': 'def add_sub(x,y):\\n    if x < y:\\n        return x+y\\n    else:\\n        return x+y\\nrs = add_sub(10, 20)\\nprint(rs)', 'rs': 14, '_i29': 'def add_sub(x,y):\\n    if x < y:\\n        return x+y\\n    else:\\n        return x+y\\nrs = add_sub(5, 7)\\nprint(rs)', '_i30': 'def add_sub(x,y):\\n    if x < y:\\n        return x+y\\n    else:\\n        return x+y\\nrs = add_sub(5, 4)\\nprint(rs)', '_i31': 'def add_sub(x,y):\\n    if x < y:\\n        return x+y\\n    else:\\n        return x+y\\nrs = add_sub(5, 9)\\nprint(rs)', '_i32': 'def add_sub(x,y):\\n    return (x+y),(x+y)\\nrs = add_sub(5, 9)\\nprint(rs)', '_i33': 'def add_sub(x,y):\\n    return (x+y),(x*y)\\nrsx, rsy = add_sub(5, 9)\\nprint(rs)', 'rsx': 14, 'rsy': 45, '_i34': 'def add_sub(x,y):\\n    return (x+y), (x*y)\\nrsx, rsy = add_sub(5, 9)\\nprint(rs)', '_i35': 'def add_sub(x,y):\\n    return (x+y), (x*y)\\nrsx, rsy = add_sub(5, 9)\\nprint(rsx, rsy)', '_i36': 'def add_sub(x, y):\\n    if x < y:\\n        return x+y\\n    else:\\n        return x*y\\nrs = add_sub(5, 9)\\nprint(rs)', '_i37': 'def returnTypeFun():\\n    return(10,20,30)', 'returnTypeFun': <function returnTypeFun at 0x0000026437097A68>, '_i38': 'def returnTypeFun():\\n    return(10,20,30), [40,50]', '_i39': 'def returnTypeFun():\\n    return (10,20,30), [40,50], {60, 70}', '_i40': \"def returnTypeFun():\\n    return (10,20,30), [40,50], {60, 70}, {'no':1, 'name':'Python'}\", '_i41': \"def returnTypeFun():\\n    return (10,20,30), [40,50], {60, 70}, {'no':1, 'name':'Python'}\\n    return [(10,20,30), [40,50], {60, 70}, {'no':1, 'name':'Python'}]\", '_i42': \"def returnTypeFun():\\n    return (10,20,30), [40,50], {60, 70}, {'no':1, 'name':'Python'}\\n    return [(10,20,30), [40,50], {60, 70}, {'no':1, 'name':'Python'}]\\ntupleValue, listValue, setValue, dictValue=returnTypeFun()\", 'tupleValue': (10, 20, 30), 'listValue': [40, 50], 'setValue': {60, 70}, 'dictValue': {'no': 1, 'name': 'Python'}, '_i43': \"def returnTypeFun():\\n    return (10,20,30), [40,50], {60, 70}, {'no':1, 'name':'Python'}\\n    return [(10,20,30), [40,50], {60, 70}, {'no':1, 'name':'Python'}]\\n\\ntupleValue, listValue, setValue, dictValue=returnTypeFun()\\nprint(tupleValue)\", '_i44': \"def returnTypeFun():\\n    return (10,20,30), [40,50], {60, 70}, {'no':1, 'name':'Python'}\\n    return [(10,20,30), [40,50], {60, 70}, {'no':1, 'name':'Python'}]\\n\\ntupleValue, listValue, setValue, dictValue=returnTypeFun()\\nprint(tupleValue)\\nprint(listValue)\\nprint(setValue)\\nprint(dictValue)\", '_i45': \"def returnTypeFun():\\n    return (10,20,30), [40,50], {60, 70}, {'no':1, 'name':'Python'}\\n    return [(10,20,30), [40,50], {60, 70}, {'no':1, 'name':'Python'}]\\n\\ntupleValue, listValue, setValue, dictValue=returnTypeFun()\\nprint(tupleValue)\\nprint(listValue)\\nprint(setValue)\\nprint(dictValue)\\nprint(tupleValue, listValue, setValue, dictValue)\", '_i46': \"def returnTypeFun():\\n    return (10,20,30), [40,50], {60, 70}, {'no':1, 'name':'Python'}\\n    return [(10,20,30), [40,50], {60, 70}, {'no':1, 'name':'Python'}]\\n\\ntupleValue, listValue, setValue, dictValue=returnTypeFun()\\nprint(tupleValue)\\nprint(listValue)\\nprint(setValue)\\nprint(dictValue)\\nprint(tupleValue, listValue, setValue, dictValue)\\nprint(returnTypeFun())\", '_i47': \"def returnTypeFun():\\n    return (10,20,30), [40,50], {60, 70}, {'no':1, 'name':'Python'}\\n    return [(10,20,30), [40,50], {60, 70}, {'no':1, 'name':'Python'}]\\n\\ntupleValue, listValue, setValue, dictValue=returnTypeFun()\\nprint(tupleValue)\\nprint(listValue)\\nprint(setValue)\\nprint(dictValue)\\nprint(tupleValue, listValue, setValue, dictValue)\\nprint(returnTypeFun()[0])\", '_i48': \"def returnTypeFun():\\n    return (10,20,30), [40,50], {60, 70}, {'no':1, 'name':'Python'}\\n    return [(10,20,30), [40,50], {60, 70}, {'no':1, 'name':'Python'}]\\n\\ntupleValue, listValue, setValue, dictValue=returnTypeFun()\\nprint(tupleValue)\\nprint(listValue)\\nprint(setValue)\\nprint(dictValue)\\nprint(tupleValue, listValue, setValue, dictValue)\\nprint(returnTypeFun())\\nprint(returnTypeFun()[1])\", '_i49': \"def returnTypeFun():\\n    #return (10,20,30), [40,50], {60, 70}, {'no':1, 'name':'Python'}\\n    return [(10,20,30), [40,50], {60, 70}, {'no':1, 'name':'Python'}]\\n\\ntupleValue, listValue, setValue, dictValue=returnTypeFun()\\nprint(tupleValue)\\nprint(listValue)\\nprint(setValue)\\nprint(dictValue)\\nprint(tupleValue, listValue, setValue, dictValue)\\nprint(returnTypeFun())\\nprint(returnTypeFun()[1])\", '_i50': \"def returnTypeFun():\\n    return (10,20,30), [40,50], {60, 70}, {'no':1, 'name':'Python'}\\n    return [(10,20,30), [40,50], {60, 70}, {'no':1, 'name':'Python'}]\\n\\ntupleValue, listValue, setValue, dictValue=returnTypeFun()\\nprint(tupleValue)\\nprint(listValue)\\nprint(setValue)\\nprint(dictValue)\\nprint(tupleValue, listValue, setValue, dictValue)\\nprint(returnTypeFun())\\nprint(returnTypeFun()[1])\", '_i51': \"def returnTypeFun():\\n    #return (10,20,30), [40,50], {60, 70}, {'no':1, 'name':'Python'}\\n    return [(10,20,30), [40,50], {60, 70}, {'no':1, 'name':'Python'}]\\n\\ntupleValue, listValue, setValue, dictValue=returnTypeFun()\\nprint(tupleValue)\\nprint(listValue)\\nprint(setValue)\\nprint(dictValue)\\nprint(tupleValue, listValue, setValue, dictValue)\\nprint(returnTypeFun())\\nprint(returnTypeFun()[1])\", '_i52': \"def returnTypeFun():\\n    return (10,20,30), [40,50], {60, 70}, {'no':1, 'name':'Python'}\\n    #return [(10,20,30), [40,50], {60, 70}, {'no':1, 'name':'Python'}]\\n\\ntupleValue, listValue, setValue, dictValue=returnTypeFun()\\nprint(tupleValue)\\nprint(listValue)\\nprint(setValue)\\nprint(dictValue)\\nprint(tupleValue, listValue, setValue, dictValue)\\nprint(returnTypeFun())\\nprint(returnTypeFun()[1])\", '_i53': \"def returnTypeFun():\\n    return (10,20,30), [40,50], {60, 70}, {'no':1, 'name':'Python'}\\n    \\nprint(returnTypeFun)\", '_i54': \"def returnTypeFun():\\n    return (10,20,30), [40,50], {60, 70}, {'no':1, 'name':'Python'}\\n    \\nprint(returnTypeFun())\", '_i55': \"def returnTypeFun():\\n    return (10,20,30), [40,50], {60, 70}, {'no':1, 'name':'Python'}\\n    \\nprint(*returnTypeFun()[0])\", '_i56': \"def returnTypeFun():\\n    return (10,20,30), [40,50], {60, 70}, {'no':1, 'name':'Python'}\\n    \\nprint(*returnTypeFun()[0])\\nprint(*returnTypeFun()[0][0])\", '_i57': \"def returnTypeFun():\\n    return (10,20,30), [40,50], {60, 70}, {'no':1, 'name':'Python'}\\n    \\nprint(*returnTypeFun()[0])\\nprint(returnTypeFun()[0])\", '_i58': \"def returnTypeFun():\\n    return (10,20,30), [40,50], {60, 70}, {'no':1, 'name':'Python'}\\n    \\nprint(*returnTypeFun()[0])\\nprint(*returnTypeFun()[1])\\nprint(returnTypeFun()[0])\", '_i59': \"def returnTypeFun():\\n    return (10,20,30), [40,50], {60, 70}, {'no':1, 'name':'Python'}\\n    \\nprint(*returnTypeFun()[0])\\nprint(*returnTypeFun()[1])\\nprint(*returnTypeFun()[2])\\nprint(*returnTypeFun()[3])\\nprint(returnTypeFun()[0])\", '_i60': \"def returnTypeFun():\\n    return (10,20,30), [40,50], {60, 70}, {'no':1, 'name':'Python'}\\n    \\nprint(*returnTypeFun()[0])\\nprint(*returnTypeFun()[1])\\nprint(*returnTypeFun()[2])\\nprint(*returnTypeFun()[3][1])\\nprint(returnTypeFun()[0])\", '_i61': \"def returnTypeFun():\\n    return (10,20,30), [40,50], {60, 70}, {'no':1, 'name':'Python'}\\n    \\nprint(*returnTypeFun()[0])\\nprint(*returnTypeFun()[1])\\nprint(*returnTypeFun()[2])\\nprint(*returnTypeFun()[3])\\nprint(returnTypeFun()[0])\", '_i62': \"def returnTypeFun():\\n    return (10,20,30), [40,50], {60, 70}, {'no':1, 'name':'Python'}\\n    \\nprint(*returnTypeFun()[0])\\nprint(*returnTypeFun()[1])\\nprint(*returnTypeFun()[2])\\nprint(*returnTypeFun()[3])\\nprint(returnTypeFun()[0])\\nprint(returnTypeFun()[1])\\nprint(returnTypeFun()[2])\\nprint(returnTypeFun()[3])\", '_i63': 'def mulFun(x,y):\\n    r=x*y\\n    return r', 'mulFun': <function mulFun at 0x0000026437097828>, '_i64': \"def mulFun(x,y):\\n    r=x*y\\n    return r\\ndef resultFun(x,y):\\n    rs=x+y\\n    print('rs:', rs)\\n    mrs=mulFun(x+y, x*y)\\n    print('mrs:', mrs)\\nresultFun(3,7)\", 'resultFun': <function resultFun at 0x00000264370978B8>, '_i65': \"aValue=1\\ndef var_test1():\\n    aValue+=1\\nprint('aValue:'.aValue)\", 'aValue': 2, 'var_test1': <function var_test1 at 0x00000264370AE5E8>, '_i66': \"aValue=1\\ndef var_test1():\\n    aValue+=1\\nprint('aValue:',aValue)\", '_i67': \"aValue=1\\ndef var_test1():\\n    aValue+=1\\nprint('aValue:',aValue)\", '_i68': \"aValue=1\\ndef var_test1():\\n    aValue+=1\\nvar_test1(aValue)\\nprint('aValue:',aValue)\", '_i69': \"aValue=1\\ndef var_test1(aValue):\\n    aValue+=1\\nvar_test1(aValue)\\nprint('aValue:',aValue)\", '_i70': \"aValue=1\\ndef var_test1(aValue):\\n    aValue+=1\\nvar_test1(aValue)\\nprint('aValue:',aValue)\", '_i71': \"aValue=1\\ndef var_test1(aValue):\\n    aValue+=1\\nvar_test1(aValue)\\nprint('aValue:',aValue)\", '_i72': \"aValue=1\\ndef var_test1(aValue):\\n    aValue+=1\\nvar_test1(aValue)\\nprint('aValue:',aValue)\", '_i73': \"aValue=1\\ndef var_test1(aValue):\\n    aValue+=1\\nvar_test1(aValue)\\nprint('aValue:',aValue)\", '_i74': \"aValue=1\\ndef var_test1(aValue):\\n    aValue+=1\\nvar_test1(aValue)\\nprint('aValue:',aValue)\", '_i75': \"aValue=1\\ndef var_test1(aValue):\\n    aValue+=1\\nvar_test1(aValue)\\nprint('aValue:',aValue)\", '_i76': \"aValue=1\\ndef var_test1(aValue):\\n    aValue+=1\\nvar_test1(aValue)\\nprint('aValue:',aValue)\", '_i77': \"aValue=1\\ndef var_test1(aValue):\\n    aValue+=1\\nvar_test1(aValue)\\nprint('aValue:',aValue)\", '_i78': \"aValue=1\\ndef var_test1(aValue):\\n    aValue+=1\\nvar_test1(aValue)\\nprint('aValue:',aValue)\", '_i79': \"aValue=1\\ndef var_test1(aValue):\\n    aValue+=1\\nvar_test1(aValue)\\nprint('aValue:',aValue)\", '_i80': \"aValue=1\\ndef var_test1(aValue):\\n    aValue+=1\\nvar_test1(aValue)\\nprint('aValue:',aValue)\", '_i81': \"aValue=1\\ndef var_test2():\\n    aValue+=1   \\n    \\nvar_test2()\\nprint('aValue:',aValue)\", 'var_test2': <function var_test2 at 0x0000026436CE1828>, '_i82': \"aValue=1\\ndef var_test2():\\n    global aValue\\n    aValue+=1\\n    \\nvar_test2()\\nprint('aValue:',aValue)\", '_i83': \"aValue=1\\ndef var_test2():\\n    global aValue\\n    aValue+=1\\n    \\nvar_test2()\\nprint('aValue:',aValue)\", '_i84': 'print(locals)', '_i85': 'print(locals())'}\n"
     ]
    }
   ],
   "source": [
    "print(locals())"
   ]
  },
  {
   "cell_type": "code",
   "execution_count": 86,
   "id": "ce160f3f",
   "metadata": {},
   "outputs": [
    {
     "name": "stdout",
     "output_type": "stream",
     "text": [
      "\n",
      "locals {'v': 10}\n",
      "aValue 2\n"
     ]
    }
   ],
   "source": [
    "aValue=1\n",
    "v=100\n",
    "print()\n",
    "def var_test2():\n",
    "    global aValue\n",
    "    v=10\n",
    "    print('locals',locals())\n",
    "    aValue+=1\n",
    "var_test2()    \n",
    "print('aValue',aValue)"
   ]
  },
  {
   "cell_type": "code",
   "execution_count": 95,
   "id": "4ae8639c",
   "metadata": {},
   "outputs": [
    {
     "name": "stdout",
     "output_type": "stream",
     "text": [
      "1\n"
     ]
    }
   ],
   "source": [
    "def test(a):\n",
    "    a+=10\n",
    "a=1\n",
    "test(a)\n",
    "print(a)"
   ]
  },
  {
   "cell_type": "code",
   "execution_count": 98,
   "id": "50da8c4a",
   "metadata": {},
   "outputs": [
    {
     "name": "stdout",
     "output_type": "stream",
     "text": [
      "11\n"
     ]
    }
   ],
   "source": [
    "a=1\n",
    "def test(x):\n",
    "    global a\n",
    "    a+=10\n",
    "test(a)\n",
    "print(a)"
   ]
  },
  {
   "cell_type": "code",
   "execution_count": 91,
   "id": "5a75deae",
   "metadata": {},
   "outputs": [
    {
     "name": "stdout",
     "output_type": "stream",
     "text": [
      "['python']\n"
     ]
    }
   ],
   "source": [
    "# x는 y의 주소를 의미하므로 method가 작동하는것이다\n",
    "\n",
    "def test2(x):\n",
    "    x[0]='python'\n",
    "y=['oracle']\n",
    "test2(y)\n",
    "print(y)"
   ]
  },
  {
   "cell_type": "code",
   "execution_count": 101,
   "id": "1860f3f4",
   "metadata": {},
   "outputs": [
    {
     "name": "stdout",
     "output_type": "stream",
     "text": [
      "['java', 'b']\n"
     ]
    }
   ],
   "source": [
    "xx=['a', 'b']\n",
    "def test3(xx):\n",
    "    xx[0]='java'\n",
    "test3(xx)\n",
    "print(xx)"
   ]
  },
  {
   "cell_type": "code",
   "execution_count": 102,
   "id": "764bfc26",
   "metadata": {},
   "outputs": [
    {
     "name": "stdout",
     "output_type": "stream",
     "text": [
      "100\n",
      "10\n"
     ]
    }
   ],
   "source": [
    "yyy=10\n",
    "def test4(yyy):\n",
    "    yyy=100\n",
    "\n",
    "test4()\n",
    "print(yyy)"
   ]
  },
  {
   "cell_type": "code",
   "execution_count": 107,
   "id": "8a88c853",
   "metadata": {},
   "outputs": [
    {
     "name": "stdout",
     "output_type": "stream",
     "text": [
      "100\n"
     ]
    }
   ],
   "source": [
    "yyy=10\n",
    "def test5():\n",
    "    global yyy\n",
    "    yyy=100\n",
    "test5()\n",
    "print(yyy)"
   ]
  },
  {
   "cell_type": "code",
   "execution_count": 109,
   "id": "6547f5eb",
   "metadata": {},
   "outputs": [
    {
     "name": "stdout",
     "output_type": "stream",
     "text": [
      "1 1 1\n"
     ]
    }
   ],
   "source": [
    "a=1\n",
    "b=1\n",
    "c=1\n",
    "print(a,b,c)"
   ]
  },
  {
   "cell_type": "code",
   "execution_count": null,
   "id": "36a4c872",
   "metadata": {},
   "outputs": [],
   "source": []
  },
  {
   "cell_type": "code",
   "execution_count": null,
   "id": "fbc2a56e",
   "metadata": {},
   "outputs": [],
   "source": []
  }
 ],
 "metadata": {
  "kernelspec": {
   "display_name": "Python 3 (ipykernel)",
   "language": "python",
   "name": "python3"
  },
  "language_info": {
   "codemirror_mode": {
    "name": "ipython",
    "version": 3
   },
   "file_extension": ".py",
   "mimetype": "text/x-python",
   "name": "python",
   "nbconvert_exporter": "python",
   "pygments_lexer": "ipython3",
   "version": "3.7.15"
  }
 },
 "nbformat": 4,
 "nbformat_minor": 5
}
