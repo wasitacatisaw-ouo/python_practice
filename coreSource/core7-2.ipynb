{
 "cells": [
  {
   "cell_type": "markdown",
   "id": "f4a94199",
   "metadata": {},
   "source": [
    "# Function Arguments"
   ]
  },
  {
   "cell_type": "code",
   "execution_count": 69,
   "id": "1d462745",
   "metadata": {},
   "outputs": [
    {
     "name": "stdout",
     "output_type": "stream",
     "text": [
      "('java', 'oracle', 1, 2)\n"
     ]
    }
   ],
   "source": [
    "def save_ranking(*args):\n",
    "    print(args)\n",
    "save_ranking('java', 'oracle', 1, 2)"
   ]
  },
  {
   "cell_type": "code",
   "execution_count": 71,
   "id": "10aa8ca0",
   "metadata": {},
   "outputs": [
    {
     "name": "stdout",
     "output_type": "stream",
     "text": [
      "{'first': 'ming', 'second': 'alice', 'fourth': 'wilson', 'third': 'tom', 'fifth': 'roy'}\n",
      "first second fourth third fifth\n"
     ]
    }
   ],
   "source": [
    "def save_ranking(**kwargs):\n",
    "    print(kwargs)\n",
    "    print(*kwargs)\n",
    "save_ranking(first='ming', second='alice', fourth='wilson', third='tom', fifth='roy')"
   ]
  },
  {
   "cell_type": "markdown",
   "id": "6ae0a027",
   "metadata": {},
   "source": [
    "# Built-in Functions"
   ]
  },
  {
   "cell_type": "code",
   "execution_count": 13,
   "id": "c717cb61",
   "metadata": {},
   "outputs": [
    {
     "name": "stdout",
     "output_type": "stream",
     "text": [
      "6\n",
      "True\n",
      "False\n",
      "True\n",
      "True\n"
     ]
    }
   ],
   "source": [
    "print(abs(-6)) # 절대값\n",
    "print(all([1,2,3]))\n",
    "print(all([1,2,3,0]))\n",
    "print(any([1,2,3]))\n",
    "print(any([1,2,3,0])) # 하나라도 참이면 참"
   ]
  },
  {
   "cell_type": "code",
   "execution_count": 21,
   "id": "e81073ba",
   "metadata": {},
   "outputs": [
    {
     "name": "stdout",
     "output_type": "stream",
     "text": [
      "c\n",
      "['__add__', '__class__', '__contains__', '__delattr__', '__delitem__', '__dir__', '__doc__', '__eq__', '__format__', '__ge__', '__getattribute__', '__getitem__', '__gt__', '__hash__', '__iadd__', '__imul__', '__init__', '__init_subclass__', '__iter__', '__le__', '__len__', '__lt__', '__mul__', '__ne__', '__new__', '__reduce__', '__reduce_ex__', '__repr__', '__reversed__', '__rmul__', '__setattr__', '__setitem__', '__sizeof__', '__str__', '__subclasshook__', 'append', 'clear', 'copy', 'count', 'extend', 'index', 'insert', 'pop', 'remove', 'reverse', 'sort']\n"
     ]
    }
   ],
   "source": [
    "print(chr(99)) # 아스키코드\n",
    "print(dir([1,2,3])) # 객체가 가지고있는 변수나 함수 목록"
   ]
  },
  {
   "cell_type": "code",
   "execution_count": 20,
   "id": "0e02f7ba",
   "metadata": {},
   "outputs": [
    {
     "name": "stdout",
     "output_type": "stream",
     "text": [
      "['__add__', '__class__', '__contains__', '__delattr__', '__dir__', '__doc__', '__eq__', '__format__', '__ge__', '__getattribute__', '__getitem__', '__getnewargs__', '__gt__', '__hash__', '__init__', '__init_subclass__', '__iter__', '__le__', '__len__', '__lt__', '__mod__', '__mul__', '__ne__', '__new__', '__reduce__', '__reduce_ex__', '__repr__', '__rmod__', '__rmul__', '__setattr__', '__sizeof__', '__str__', '__subclasshook__', 'capitalize', 'casefold', 'center', 'count', 'encode', 'endswith', 'expandtabs', 'find', 'format', 'format_map', 'index', 'isalnum', 'isalpha', 'isascii', 'isdecimal', 'isdigit', 'isidentifier', 'islower', 'isnumeric', 'isprintable', 'isspace', 'istitle', 'isupper', 'join', 'ljust', 'lower', 'lstrip', 'maketrans', 'partition', 'replace', 'rfind', 'rindex', 'rjust', 'rpartition', 'rsplit', 'rstrip', 'split', 'splitlines', 'startswith', 'strip', 'swapcase', 'title', 'translate', 'upper', 'zfill']\n"
     ]
    }
   ],
   "source": [
    "print(dir(\"hi\"))"
   ]
  },
  {
   "cell_type": "code",
   "execution_count": 22,
   "id": "7fb56f75",
   "metadata": {},
   "outputs": [
    {
     "name": "stdout",
     "output_type": "stream",
     "text": [
      "['__class__', '__contains__', '__delattr__', '__delitem__', '__dir__', '__doc__', '__eq__', '__format__', '__ge__', '__getattribute__', '__getitem__', '__gt__', '__hash__', '__init__', '__init_subclass__', '__iter__', '__le__', '__len__', '__lt__', '__ne__', '__new__', '__reduce__', '__reduce_ex__', '__repr__', '__setattr__', '__setitem__', '__sizeof__', '__str__', '__subclasshook__', 'clear', 'copy', 'fromkeys', 'get', 'items', 'keys', 'pop', 'popitem', 'setdefault', 'update', 'values']\n"
     ]
    }
   ],
   "source": [
    "a={'name':'Damien', 'age':32, 'addr':'Hanam'}\n",
    "print(dir(a))"
   ]
  },
  {
   "cell_type": "code",
   "execution_count": 26,
   "id": "71ad1bf8",
   "metadata": {},
   "outputs": [
    {
     "name": "stdout",
     "output_type": "stream",
     "text": [
      "(5, 2)\n",
      "5\n",
      "2\n"
     ]
    }
   ],
   "source": [
    "print(divmod(17,3))     # 17을 3으로 나눈 몫과 나머지\n",
    "print(divmod(17,3)[0])  # 몫\n",
    "print(divmod(17,3)[1])  # 나머지"
   ]
  },
  {
   "cell_type": "code",
   "execution_count": 63,
   "id": "2ce58132",
   "metadata": {},
   "outputs": [
    {
     "name": "stdout",
     "output_type": "stream",
     "text": [
      "0 python\n",
      "1 java\n",
      "2 c#\n",
      "0 p\n",
      "1 y\n",
      "2 t\n",
      "3 h\n",
      "4 o\n",
      "5 n\n"
     ]
    }
   ],
   "source": [
    "for i, name in enumerate(['python', 'java', 'c#']):\n",
    "    print(i, name)\n",
    "for i, obj in enumerate(\"python\"):\n",
    "                   print(i, obj)"
   ]
  },
  {
   "cell_type": "code",
   "execution_count": 77,
   "id": "09616ac8",
   "metadata": {},
   "outputs": [
    {
     "name": "stdout",
     "output_type": "stream",
     "text": [
      "11\n",
      "3\n",
      "1764698599536\n",
      "6\n",
      "1764815847880\n",
      "1764815591752\n",
      "False\n",
      "True\n"
     ]
    }
   ],
   "source": [
    "print(len('hello world'))\n",
    "print(eval('1+2'))\n",
    "print(id('java')) # 객체 고유 주소값\n",
    "print(round(5.6))\n",
    "\n",
    "a=[1,2,3]\n",
    "print(id(a))\n",
    "print(id([1,2,3])) # 메모리는 선언과 동시에 할당된다\n",
    "print(id(a)==id([1,2,3]))\n",
    "print(id(a[0])==id(1)) # a[0]은 1의 주소를 가리킨다"
   ]
  },
  {
   "cell_type": "code",
   "execution_count": 34,
   "id": "09a93557",
   "metadata": {},
   "outputs": [
    {
     "name": "stdout",
     "output_type": "stream",
     "text": [
      "False\n"
     ]
    }
   ],
   "source": [
    "def positive(a):\n",
    "    return a>0\n",
    "print(positive(-1))"
   ]
  },
  {
   "cell_type": "code",
   "execution_count": 42,
   "id": "32a07e49",
   "metadata": {},
   "outputs": [
    {
     "name": "stdout",
     "output_type": "stream",
     "text": [
      "0xea\n",
      "0x3\n",
      "['p', 'y', 't', 'h', 'o', 'n']\n",
      "[1, 2, 3]\n"
     ]
    }
   ],
   "source": [
    "print(hex(234))\n",
    "print(hex(3)) \n",
    "print(list(\"python\"))\n",
    "print(list((1, 2, 3)))"
   ]
  },
  {
   "cell_type": "code",
   "execution_count": 41,
   "id": "1949e624",
   "metadata": {},
   "outputs": [
    {
     "name": "stdout",
     "output_type": "stream",
     "text": [
      "[2, 4, 6, 8, 10]\n"
     ]
    }
   ],
   "source": [
    "def two_times(x):\n",
    "    return x*2\n",
    "print(list(map(two_times, [1,2,3,4,5])))"
   ]
  },
  {
   "cell_type": "code",
   "execution_count": 52,
   "id": "7f74435d",
   "metadata": {},
   "outputs": [
    {
     "name": "stdout",
     "output_type": "stream",
     "text": [
      "['a', 'c', 'f', 'h', 'z']\n",
      "('l', 'i', 'f', 'e', ' ', 'i', 's', ' ', 't', 'o', 'o', ' ', 's', 'h', 'o', 'r', 't')\n"
     ]
    }
   ],
   "source": [
    "print(sorted(['f','z','h','a','c']))\n",
    "print(tuple(\"life is too short\"))"
   ]
  },
  {
   "cell_type": "code",
   "execution_count": 66,
   "id": "88259c8a",
   "metadata": {},
   "outputs": [
    {
     "name": "stdout",
     "output_type": "stream",
     "text": [
      "[(1, 4, 7), (2, 5, 8), (3, 6, 9)]\n",
      "[('a', 'c', 'e'), ('b', 'd', 'f')]\n",
      "[(1, 3, 5, 7, 9), (2, 4, 6, 8, 10)]\n",
      "[('s', 'a'), ('a', 'p'), ('m', 'p'), ('s', 'l'), ('u', 'e')]\n",
      "(('o', 'p'), ('r', 'y'), ('a', 't'), ('c', 'h'), ('l', 'o'), ('e', 'n'))\n"
     ]
    }
   ],
   "source": [
    "print(list(zip([1,2,3],[4,5,6],[7,8,9])))\n",
    "print(list(zip(['a','b'],['c','d'],['e','f'])))\n",
    "print(list(zip([1,2],[3,4],[5,6],[7,8],[9,10])))\n",
    "print(list(zip(\"samsung\",\"apple\")))      # 한 객체가 길면 작은 객체 길이 기준으로\n",
    "print(tuple(zip(\"oracle\", \"python\")))"
   ]
  },
  {
   "cell_type": "code",
   "execution_count": 61,
   "id": "128a7085",
   "metadata": {},
   "outputs": [
    {
     "name": "stdout",
     "output_type": "stream",
     "text": [
      "0 (1, 4, 7)\n",
      "1 (2, 5, 8)\n",
      "2 (3, 6, 9)\n",
      "0 l\n",
      "1 i\n",
      "2 f\n",
      "3 e\n",
      "4  \n",
      "5 i\n",
      "6 s\n",
      "7  \n",
      "8 t\n",
      "9 o\n",
      "10 o\n",
      "11  \n",
      "12 s\n",
      "13 h\n",
      "14 o\n",
      "15 r\n",
      "16 t\n"
     ]
    }
   ],
   "source": [
    "for i, obj in enumerate(list(zip([1,2,3],[4,5,6],[7,8,9]))):\n",
    "                   print(i, obj)\n",
    "\n",
    "for i, obj in enumerate(tuple(\"life is too short\")):\n",
    "                   print(i, obj)"
   ]
  },
  {
   "cell_type": "code",
   "execution_count": null,
   "id": "adb7fae8",
   "metadata": {},
   "outputs": [],
   "source": []
  }
 ],
 "metadata": {
  "kernelspec": {
   "display_name": "Python 3 (ipykernel)",
   "language": "python",
   "name": "python3"
  },
  "language_info": {
   "codemirror_mode": {
    "name": "ipython",
    "version": 3
   },
   "file_extension": ".py",
   "mimetype": "text/x-python",
   "name": "python",
   "nbconvert_exporter": "python",
   "pygments_lexer": "ipython3",
   "version": "3.7.15"
  }
 },
 "nbformat": 4,
 "nbformat_minor": 5
}
