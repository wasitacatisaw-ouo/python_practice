{
 "cells": [
  {
   "cell_type": "markdown",
   "id": "01810c7d",
   "metadata": {},
   "source": [
    "# Lambda\n",
    "#### (1)Python에서는 Lambda는 한시적으로 사용되는 함수를 정의한다<br>(2)일반함수는 def를 반드시 명시한다"
   ]
  },
  {
   "cell_type": "code",
   "execution_count": 11,
   "id": "5fbc73bd",
   "metadata": {},
   "outputs": [
    {
     "name": "stdout",
     "output_type": "stream",
     "text": [
      "12\n",
      "12\n"
     ]
    }
   ],
   "source": [
    "# 일반 함수\n",
    "def funX(x):\n",
    "    return x*2\n",
    "print(funX(6))\n",
    "\n",
    "# 람다식\n",
    "u=lambda x:x*2\n",
    "print(u(6))"
   ]
  },
  {
   "cell_type": "code",
   "execution_count": 17,
   "id": "2baeee10",
   "metadata": {},
   "outputs": [
    {
     "name": "stdout",
     "output_type": "stream",
     "text": [
      "10\n"
     ]
    }
   ],
   "source": [
    "# 인자가 여러개인 람다\n",
    "u=lambda x,y,z:x+y+z\n",
    "print(u(2,2,6))"
   ]
  },
  {
   "cell_type": "code",
   "execution_count": 23,
   "id": "eb9cc166",
   "metadata": {},
   "outputs": [
    {
     "name": "stdout",
     "output_type": "stream",
     "text": [
      "10\n"
     ]
    }
   ],
   "source": [
    "#  (외부함수 인자)(람다 인자)\n",
    "def inc(n):\n",
    "    return lambda xx:xx*n\n",
    "print(inc(2)(5))"
   ]
  },
  {
   "cell_type": "markdown",
   "id": "afd5bfeb",
   "metadata": {},
   "source": [
    "## Lambda, map(), filter(), reduce()"
   ]
  },
  {
   "cell_type": "code",
   "execution_count": 28,
   "id": "e56a44bd",
   "metadata": {},
   "outputs": [
    {
     "name": "stdout",
     "output_type": "stream",
     "text": [
      "[1, 2, 3, 4] [9, 10, 11, 12]\n",
      "[10, 12, 14, 16]\n"
     ]
    }
   ],
   "source": [
    "a=[1,2,3,4]\n",
    "b=[9,10,11,12]\n",
    "print(a,b)\n",
    "print(list(map(lambda x,y:x+y,a,b)))"
   ]
  },
  {
   "cell_type": "code",
   "execution_count": 31,
   "id": "1b14dc1d",
   "metadata": {},
   "outputs": [
    {
     "name": "stdout",
     "output_type": "stream",
     "text": [
      "[1, 2, 3, 4] [10, 10]\n",
      "[11, 12]\n"
     ]
    }
   ],
   "source": [
    "a=[1,2,3,4]  # 앞쪽만 더하고 더한 값만 나온다\n",
    "b=[10,10]\n",
    "print(list(map(lambda x,y:x+y,a,b)))"
   ]
  },
  {
   "cell_type": "code",
   "execution_count": 33,
   "id": "0aafc4b2",
   "metadata": {},
   "outputs": [
    {
     "name": "stdout",
     "output_type": "stream",
     "text": [
      "[1, 2] [10, 11, 12, 13]\n",
      "[11, 13]\n"
     ]
    }
   ],
   "source": [
    "a=[1,2]      # 앞쪽만 더하고 더한 값만 나온다\n",
    "b=[10,11,12,13]\n",
    "print(list(map(lambda x,y:x+y,a,b)))"
   ]
  },
  {
   "cell_type": "code",
   "execution_count": 35,
   "id": "aaec3632",
   "metadata": {},
   "outputs": [
    {
     "name": "stdout",
     "output_type": "stream",
     "text": [
      "[9, 20, 33, 48]\n"
     ]
    }
   ],
   "source": [
    "a=[1,2,3,4]\n",
    "b=[9,10,11,12]\n",
    "print(list(map(lambda x,y:x*y,a,b)))"
   ]
  },
  {
   "cell_type": "code",
   "execution_count": 36,
   "id": "1c97ce01",
   "metadata": {},
   "outputs": [
    {
     "name": "stdout",
     "output_type": "stream",
     "text": [
      "[1, 7]\n"
     ]
    }
   ],
   "source": [
    "a=[1,2,3,4]\n",
    "b=[9,10,11,12]\n",
    "c=[9,5]\n",
    "print(list(map(lambda x,y,z:x+y-z,a,b,c)))"
   ]
  },
  {
   "cell_type": "markdown",
   "id": "cc460a73",
   "metadata": {},
   "source": [
    "## filter()\n",
    "#### map()과 유사하지만, boolean값을 반환한다"
   ]
  },
  {
   "cell_type": "code",
   "execution_count": 37,
   "id": "668656ee",
   "metadata": {},
   "outputs": [
    {
     "name": "stdout",
     "output_type": "stream",
     "text": [
      "[3, 6, 1, 45, 88, 7, 21]\n"
     ]
    }
   ],
   "source": [
    "foo=[3,6,1,45,88,7,21]\n",
    "print(foo)      # 전체요소출력"
   ]
  },
  {
   "cell_type": "code",
   "execution_count": 40,
   "id": "d61bbd3d",
   "metadata": {},
   "outputs": [
    {
     "name": "stdout",
     "output_type": "stream",
     "text": [
      "[3, 6, 45, 88, 21]\n"
     ]
    }
   ],
   "source": [
    "print(list(filter(lambda x:x%3==0 or x>10, foo))) # 3의 배수거나 10 초과를 출력하는 필터"
   ]
  },
  {
   "cell_type": "code",
   "execution_count": 72,
   "id": "690b97e6",
   "metadata": {},
   "outputs": [
    {
     "name": "stdout",
     "output_type": "stream",
     "text": [
      "[81, 85, 99]\n"
     ]
    }
   ],
   "source": [
    "foo=[3,6,1,45,88,7,21]\n",
    "fxx=[78,79,34,12,11,45]\n",
    "v=(list(map(lambda x,y:x+y,foo,fxx)))\n",
    "#print(v)\n",
    "print(list(filter(lambda xx:xx>60,v)))"
   ]
  },
  {
   "cell_type": "code",
   "execution_count": 71,
   "id": "3f946b16",
   "metadata": {},
   "outputs": [
    {
     "name": "stdout",
     "output_type": "stream",
     "text": [
      "[81, 85, 99]\n"
     ]
    }
   ],
   "source": [
    "foo=[3,6,1,45,88,7,21]\n",
    "fxx=[78,79,34,12,11,45]\n",
    "print(list(filter(lambda xx:xx>60,(list(map(lambda x,y:x+y,foo,fxx))))))"
   ]
  },
  {
   "cell_type": "markdown",
   "id": "26cb69d8",
   "metadata": {},
   "source": [
    "## reduce()\n",
    "#### 누적 집계, 순회 데이터"
   ]
  },
  {
   "cell_type": "code",
   "execution_count": 78,
   "id": "d0dd6332",
   "metadata": {},
   "outputs": [
    {
     "name": "stdout",
     "output_type": "stream",
     "text": [
      "200\n"
     ]
    }
   ],
   "source": [
    "from functools import reduce\n",
    "xx=[3,5,1,31,14,56,23,67]\n",
    "rs=reduce(lambda x,y:x+y, xx)\n",
    "print(rs)"
   ]
  },
  {
   "cell_type": "code",
   "execution_count": null,
   "id": "43577df8",
   "metadata": {},
   "outputs": [],
   "source": []
  },
  {
   "cell_type": "code",
   "execution_count": null,
   "id": "fa2340b1",
   "metadata": {},
   "outputs": [],
   "source": []
  },
  {
   "cell_type": "code",
   "execution_count": null,
   "id": "ba643468",
   "metadata": {},
   "outputs": [],
   "source": []
  }
 ],
 "metadata": {
  "kernelspec": {
   "display_name": "Python 3 (ipykernel)",
   "language": "python",
   "name": "python3"
  },
  "language_info": {
   "codemirror_mode": {
    "name": "ipython",
    "version": 3
   },
   "file_extension": ".py",
   "mimetype": "text/x-python",
   "name": "python",
   "nbconvert_exporter": "python",
   "pygments_lexer": "ipython3",
   "version": "3.9.13"
  }
 },
 "nbformat": 4,
 "nbformat_minor": 5
}
