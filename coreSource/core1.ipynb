{
 "cells": [
  {
   "cell_type": "markdown",
   "id": "128b70bb",
   "metadata": {},
   "source": [
    "## 조건문과 collection"
   ]
  },
  {
   "cell_type": "code",
   "execution_count": 2,
   "id": "0a902236",
   "metadata": {},
   "outputs": [
    {
     "name": "stdout",
     "output_type": "stream",
     "text": [
      "조건문에서 0은 거짓을 의미한다\n"
     ]
    }
   ],
   "source": [
    "n=0\n",
    "if not n:\n",
    "    print('조건문에서 0은 거짓을 의미한다')"
   ]
  },
  {
   "cell_type": "code",
   "execution_count": 11,
   "id": "a0369f8c",
   "metadata": {},
   "outputs": [
    {
     "name": "stdout",
     "output_type": "stream",
     "text": [
      "조건은 거짓입니다\n"
     ]
    }
   ],
   "source": [
    "n=1\n",
    "k=5\n",
    "z=8\n",
    "x=0\n",
    "if n!=1 or k==5 and z!=8:\n",
    "    print('조건은 참입니다')\n",
    "else:\n",
    "    print('조건은 거짓입니다')"
   ]
  },
  {
   "cell_type": "code",
   "execution_count": 30,
   "id": "85838ae5",
   "metadata": {},
   "outputs": [
    {
     "name": "stdout",
     "output_type": "stream",
     "text": [
      "False Value\n"
     ]
    }
   ],
   "source": [
    "string=''\n",
    "myTuple=()\n",
    "myList=[]\n",
    "mySet=set()\n",
    "myDict={}\n",
    "if string and myTuple and myList and mySet and myDict:\n",
    "    print('True Value')\n",
    "else:\n",
    "    print('False Value')"
   ]
  },
  {
   "cell_type": "code",
   "execution_count": 31,
   "id": "20956e6f",
   "metadata": {},
   "outputs": [
    {
     "name": "stdout",
     "output_type": "stream",
     "text": [
      "True Value\n"
     ]
    }
   ],
   "source": [
    "string='a'\n",
    "myTuple=()\n",
    "myList=[]\n",
    "mySet=set()\n",
    "myDict={}\n",
    "if string or myTuple or myList or mySet or myDict:\n",
    "    print('True Value')\n",
    "else:\n",
    "    print('False Value')"
   ]
  },
  {
   "cell_type": "code",
   "execution_count": 40,
   "id": "c3d17c23",
   "metadata": {},
   "outputs": [
    {
     "name": "stdout",
     "output_type": "stream",
     "text": [
      "input num5\n",
      "5는 양수입니다\n",
      "input num8\n"
     ]
    }
   ],
   "source": [
    "num = int(input('input num'))\n",
    "if num < 0:\n",
    "    print('{}는 음수입니다.'.format(num))\n",
    "    num=int(input('양수를 입력'))\n",
    "if num==0:\n",
    "    print('{}은 입력받을 수 없습니다'.format(num))\n",
    "    num = int(input('input num'))\n",
    "if num>0:\n",
    "    print('{}는 양수입니다'.format(num))\n",
    "    num = int(input('input num'))"
   ]
  },
  {
   "cell_type": "code",
   "execution_count": 43,
   "id": "df61f834",
   "metadata": {},
   "outputs": [
    {
     "name": "stdout",
     "output_type": "stream",
     "text": [
      "other...\n"
     ]
    }
   ],
   "source": [
    "x=5\n",
    "if x>=10 :\n",
    "    print('10 이상입니다.')\n",
    "    if x==15 :\n",
    "        print('15입니다')\n",
    "    if x==20 :\n",
    "        print('20입니다')\n",
    "print('other...')"
   ]
  },
  {
   "cell_type": "code",
   "execution_count": 44,
   "id": "1c67b2f2",
   "metadata": {},
   "outputs": [
    {
     "ename": "KeyboardInterrupt",
     "evalue": "",
     "output_type": "error",
     "traceback": [
      "\u001b[1;31m---------------------------------------------------------------------------\u001b[0m",
      "\u001b[1;31mKeyboardInterrupt\u001b[0m                         Traceback (most recent call last)",
      "\u001b[1;32m~\\AppData\\Local\\Temp\\ipykernel_4200\\1035212012.py\u001b[0m in \u001b[0;36m<module>\u001b[1;34m\u001b[0m\n\u001b[0;32m      1\u001b[0m \u001b[1;32mwhile\u001b[0m \u001b[1;32mTrue\u001b[0m \u001b[1;33m:\u001b[0m\u001b[1;33m\u001b[0m\u001b[1;33m\u001b[0m\u001b[0m\n\u001b[1;32m----> 2\u001b[1;33m     \u001b[1;32mpass\u001b[0m\u001b[1;33m\u001b[0m\u001b[1;33m\u001b[0m\u001b[0m\n\u001b[0m",
      "\u001b[1;31mKeyboardInterrupt\u001b[0m: "
     ]
    }
   ],
   "source": [
    "while True :\n",
    "    pass"
   ]
  },
  {
   "cell_type": "code",
   "execution_count": 50,
   "id": "d6875587",
   "metadata": {},
   "outputs": [
    {
     "name": "stdout",
     "output_type": "stream",
     "text": [
      "B\n"
     ]
    }
   ],
   "source": [
    "avg=88.9\n",
    "if avg>=90 :\n",
    "    print('A')\n",
    "elif avg>=80 :\n",
    "    print('B')\n",
    "elif avg>=70 :\n",
    "    print('C')\n",
    "else:\n",
    "    print('학고')\n"
   ]
  },
  {
   "cell_type": "code",
   "execution_count": 83,
   "id": "29ab4013",
   "metadata": {},
   "outputs": [
    {
     "name": "stdout",
     "output_type": "stream",
     "text": [
      "odd numbers =  [1, 3, 5, 7, 9, 11, 13, 15, 17, 19, 21, 23, 25, 27, 29, 31, 33, 35, 37, 39, 41, 43, 45, 47, 49, 51, 53, 55, 57, 59, 61, 63, 65, 67, 69, 71, 73, 75, 77, 79, 81, 83, 85, 87, 89, 91, 93, 95, 97, 99]\n",
      "even numbers =  [0, 2, 4, 6, 8, 10, 12, 14, 16, 18, 20, 22, 24, 26, 28, 30, 32, 34, 36, 38, 40, 42, 44, 46, 48, 50, 52, 54, 56, 58, 60, 62, 64, 66, 68, 70, 72, 74, 76, 78, 80, 82, 84, 86, 88, 90, 92, 94, 96, 98]\n",
      "negative numbers =  [-100, -99, -98, -97, -96, -95, -94, -93, -92, -91, -90, -89, -88, -87, -86, -85, -84, -83, -82, -81, -80, -79, -78, -77, -76, -75, -74, -73, -72, -71, -70, -69, -68, -67, -66, -65, -64, -63, -62, -61, -60, -59, -58, -57, -56, -55, -54, -53, -52, -51, -50, -49, -48, -47, -46, -45, -44, -43, -42, -41, -40, -39, -38, -37, -36, -35, -34, -33, -32, -31, -30, -29, -28, -27, -26, -25, -24, -23, -22, -21, -20, -19, -18, -17, -16, -15, -14, -13, -12, -11, -10, -9, -8, -7, -6, -5, -4, -3, -2, -1]\n"
     ]
    }
   ],
   "source": [
    "oddList=[]\n",
    "evenList=[]\n",
    "negList=[]\n",
    "for num in range(-100,100) :\n",
    "    if num<0 :\n",
    "        negList.append(num)\n",
    "    elif num%2==0 :\n",
    "        evenList.append(num)\n",
    "    elif num%2==1 :\n",
    "        oddList.append(num)\n",
    "print('odd numbers = ',oddList)\n",
    "print('even numbers = ',evenList)\n",
    "print('negative numbers = ', negList)"
   ]
  },
  {
   "cell_type": "code",
   "execution_count": 66,
   "id": "1065e644",
   "metadata": {},
   "outputs": [
    {
     "name": "stdout",
     "output_type": "stream",
     "text": [
      "True\n",
      "지우개 없다...\n",
      "공부해라\n",
      "필기해라\n"
     ]
    }
   ],
   "source": [
    "pocket=['연필', '책', '돈']\n",
    "print('책' in pocket)\n",
    "if '지우개' in pocket :\n",
    "    print('지우개.......')\n",
    "else :\n",
    "    print('지우개 없다...')\n",
    "    if '책' in pocket :\n",
    "        print('공부해라')\n",
    "        if '연필' in pocket :\n",
    "            print('필기해라')\n",
    "    else :\n",
    "        if '돈' in pocket :\n",
    "            print('책과 지우개를 사라')\n",
    "        \n",
    "    "
   ]
  },
  {
   "cell_type": "code",
   "execution_count": 70,
   "id": "dc187da6",
   "metadata": {},
   "outputs": [
    {
     "name": "stdout",
     "output_type": "stream",
     "text": [
      "Python is Easy!\n",
      "Python includes yth!\n"
     ]
    }
   ],
   "source": [
    "str='Python is Easy!'\n",
    "if 'Easy' in str :\n",
    "    print('Python is Easy!')\n",
    "if 'yth' in str :\n",
    "    print('Python includes yth!')\n",
    "else :\n",
    "    print('Python is Hard!')"
   ]
  },
  {
   "cell_type": "code",
   "execution_count": 74,
   "id": "410adedb",
   "metadata": {},
   "outputs": [
    {
     "name": "stdout",
     "output_type": "stream",
     "text": [
      "1\t3\t5\t7\t9\t11\t13\t15\t17\t19\t21\t23\t25\t27\t29\t31\t33\t35\t37\t39\t41\t43\t45\t47\t49\t51\t53\t55\t57\t59\t61\t63\t65\t67\t69\t71\t73\t75\t77\t79\t81\t83\t85\t87\t89\t91\t93\t95\t97\t99\t"
     ]
    }
   ],
   "source": [
    "i=0\n",
    "while i<100 :\n",
    "    i+=1\n",
    "    if i%2==0 :\n",
    "        continue\n",
    "    print(i, end='\\t')"
   ]
  },
  {
   "cell_type": "code",
   "execution_count": 77,
   "id": "e6da79e8",
   "metadata": {},
   "outputs": [
    {
     "name": "stdout",
     "output_type": "stream",
     "text": [
      "[0, 1, 2, 3, 4, 5, 6, 7, 8, 9]\n"
     ]
    }
   ],
   "source": [
    "number1=[]\n",
    "for n in range(0,10):\n",
    "    number1.append(n)\n",
    "print(number1)\n"
   ]
  },
  {
   "cell_type": "code",
   "execution_count": 79,
   "id": "b27c5632",
   "metadata": {},
   "outputs": [
    {
     "name": "stdout",
     "output_type": "stream",
     "text": [
      "[0, 5, 10, 15, 20, 25, 30, 35, 40, 45]\n"
     ]
    }
   ],
   "source": [
    "number2=[x*5 for x in range(10)]\n",
    "print(number2)"
   ]
  },
  {
   "cell_type": "code",
   "execution_count": 81,
   "id": "4735a3c5",
   "metadata": {},
   "outputs": [
    {
     "name": "stdout",
     "output_type": "stream",
     "text": [
      "[2, 4, 6, 8, 10, 12, 14, 16, 18, 20, 22, 24, 26, 28, 30, 32, 34, 36, 38, 40, 42, 44, 46, 48, 50, 52, 54, 56, 58, 60, 62, 64, 66, 68, 70, 72, 74, 76, 78, 80, 82, 84, 86, 88, 90, 92, 94, 96, 98]\n",
      "[1, 3, 5, 7, 9, 11, 13, 15, 17, 19, 21, 23, 25, 27, 29, 31, 33, 35, 37, 39, 41, 43, 45, 47, 49, 51, 53, 55, 57, 59, 61, 63, 65, 67, 69, 71, 73, 75, 77, 79, 81, 83, 85, 87, 89, 91, 93, 95, 97, 99]\n",
      "[3, 6, 9, 12, 15, 18, 21, 24, 27, 30, 33, 36, 39, 42, 45, 48, 51, 54, 57, 60, 63, 66, 69, 72, 75, 78, 81, 84, 87, 90, 93, 96, 99]\n"
     ]
    }
   ],
   "source": [
    "even=[]\n",
    "odd=[]\n",
    "sam=[]\n",
    "for x in range(1,100):\n",
    "    if x%2==0:\n",
    "        even.append(x)\n",
    "    if x%2==1:\n",
    "        odd.append(x)\n",
    "    if x%3==0:\n",
    "        sam.append(x)\n",
    "print(even)\n",
    "print(odd)\n",
    "print(sam)"
   ]
  },
  {
   "cell_type": "code",
   "execution_count": 101,
   "id": "96aa6399",
   "metadata": {},
   "outputs": [
    {
     "name": "stdout",
     "output_type": "stream",
     "text": [
      "경우의 수 =  18 가지\n",
      "['쌈밥', '물', '배달']\n",
      "['쌈밥', '물', '포장']\n",
      "['쌈밥', '콜라', '배달']\n",
      "['쌈밥', '콜라', '포장']\n",
      "['쌈밥', '주스', '배달']\n",
      "['쌈밥', '주스', '포장']\n",
      "['치킨', '물', '배달']\n",
      "['치킨', '물', '포장']\n",
      "['치킨', '콜라', '배달']\n",
      "['치킨', '콜라', '포장']\n",
      "['치킨', '주스', '배달']\n",
      "['치킨', '주스', '포장']\n",
      "['피자', '물', '배달']\n",
      "['피자', '물', '포장']\n",
      "['피자', '콜라', '배달']\n",
      "['피자', '콜라', '포장']\n",
      "['피자', '주스', '배달']\n",
      "['피자', '주스', '포장']\n"
     ]
    }
   ],
   "source": [
    "tuList=[[x, y, z] for x in ['쌈밥', '치킨', '피자'] for y in ['물', '콜라', '주스'] for z in ['배달', '포장']]\n",
    "print('경우의 수 = ', len(tuList),'가지')\n",
    "for items in tuList:\n",
    "    print(items)"
   ]
  },
  {
   "cell_type": "code",
   "execution_count": 109,
   "id": "b2d469a5",
   "metadata": {},
   "outputs": [
    {
     "name": "stdout",
     "output_type": "stream",
     "text": [
      "[2, 4, 6, 8]\n"
     ]
    }
   ],
   "source": [
    "list=[q for q in range(10) if q%2==0 and q!=0]\n",
    "print(list)"
   ]
  },
  {
   "cell_type": "code",
   "execution_count": 114,
   "id": "f025522d",
   "metadata": {},
   "outputs": [
    {
     "name": "stdout",
     "output_type": "stream",
     "text": [
      "[1552, 1556, 1560, 1564, 1568, 1572, 1576, 1580, 1584, 1588, 1592, 1596, 1600, 1604, 1608, 1612, 1616, 1620, 1624, 1628, 1632, 1636, 1640, 1644, 1648, 1652, 1656, 1660, 1664, 1668, 1672, 1676, 1680, 1684, 1688, 1692, 1696, 1704, 1708, 1712, 1716, 1720, 1724, 1728, 1732, 1736, 1740, 1744, 1748, 1752, 1756, 1760, 1764, 1768, 1772, 1776, 1780, 1784, 1788, 1792, 1796, 1804, 1808, 1812, 1816, 1820, 1824, 1828, 1832, 1836, 1840, 1844, 1848, 1852, 1856, 1860, 1864, 1868, 1872, 1876, 1880, 1884, 1888, 1892, 1896, 1904, 1908, 1912, 1916, 1920, 1924, 1928, 1932, 1936, 1940, 1944, 1948, 1952, 1956, 1960, 1964, 1968, 1972, 1976, 1980, 1984, 1988, 1992, 1996, 2000, 2004, 2008, 2012, 2016, 2020]\n"
     ]
    }
   ],
   "source": [
    "# 윤달 공식\n",
    "list=[q for q in range(1,2023) if (q%4==0 and q%100!=0 or q%400==0) and q>1550]\n",
    "print(list)"
   ]
  },
  {
   "cell_type": "code",
   "execution_count": null,
   "id": "ddf956cf",
   "metadata": {},
   "outputs": [],
   "source": []
  },
  {
   "cell_type": "code",
   "execution_count": null,
   "id": "a8434261",
   "metadata": {},
   "outputs": [],
   "source": []
  },
  {
   "cell_type": "code",
   "execution_count": null,
   "id": "bbc20ed9",
   "metadata": {},
   "outputs": [],
   "source": []
  }
 ],
 "metadata": {
  "kernelspec": {
   "display_name": "Python 3 (ipykernel)",
   "language": "python",
   "name": "python3"
  },
  "language_info": {
   "codemirror_mode": {
    "name": "ipython",
    "version": 3
   },
   "file_extension": ".py",
   "mimetype": "text/x-python",
   "name": "python",
   "nbconvert_exporter": "python",
   "pygments_lexer": "ipython3",
   "version": "3.7.15"
  }
 },
 "nbformat": 4,
 "nbformat_minor": 5
}
