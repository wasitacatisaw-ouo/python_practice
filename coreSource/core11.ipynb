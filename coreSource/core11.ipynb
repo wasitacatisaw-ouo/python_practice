{
 "cells": [
  {
   "cell_type": "markdown",
   "id": "92a4aaf2",
   "metadata": {},
   "source": [
    "## Function(일반함수, member함수, class함수, static함수, instance함수, init, del)\n",
    "## Variable(global, local, class, instance)\n",
    "## Class - 설계도(속성 + 기능)\n",
    "## Inharitance, Module, Package, Exception"
   ]
  },
  {
   "cell_type": "code",
   "execution_count": 64,
   "id": "046c08df",
   "metadata": {},
   "outputs": [],
   "source": [
    "class Animal:\n",
    "    name=\"\"\n",
    "    def eat(self):\n",
    "        print('animal eat')\n",
    "    def sleep(self):\n",
    "        print('animal sleeping')\n",
    "    def cry(self):\n",
    "        print('animal cry')"
   ]
  },
  {
   "cell_type": "code",
   "execution_count": 68,
   "id": "6f3a1fd5",
   "metadata": {},
   "outputs": [],
   "source": [
    "class Dog(Animal):\n",
    "    def show_attribute_dog(self):\n",
    "        print('dog show_attribute')\n",
    "    def display(self):\n",
    "        print('im a dog')\n",
    "    def eat(self):\n",
    "        super().eat()\n",
    "        print('dog eat')  # ------------- override\n",
    "    def cry(self):\n",
    "        super().cry()\n",
    "        print('mung')\n",
    "class Cat(Animal):\n",
    "    def show_attribute_cat(self):\n",
    "        print('cat show_attribute')\n",
    "    def display(self):\n",
    "        print('im a cat')\n",
    "    def sleep(self):\n",
    "        super().eat()\n",
    "        print('cat sleeping')\n",
    "    def cry(self):\n",
    "        super().cry()\n",
    "        print('nya')"
   ]
  },
  {
   "cell_type": "code",
   "execution_count": 69,
   "id": "1c0689f2",
   "metadata": {},
   "outputs": [
    {
     "name": "stdout",
     "output_type": "stream",
     "text": [
      "cat show_attribute\n",
      "dog show_attribute\n",
      "나비\n",
      "바둑이\n",
      "animal eat\n",
      "dog eat\n",
      "animal eat\n",
      "cat sleeping\n",
      "animal cry\n",
      "mung\n",
      "animal cry\n",
      "nya\n"
     ]
    }
   ],
   "source": [
    "dog=Dog()\n",
    "dog.name='바둑이'\n",
    "cat=Cat()\n",
    "cat.name='나비'\n",
    "cat.show_attribute_cat()\n",
    "dog.show_attribute_dog()\n",
    "print(cat.name)\n",
    "print(dog.name)\n",
    "dog.eat()\n",
    "cat.sleep()\n",
    "dog.cry()\n",
    "cat.cry()"
   ]
  },
  {
   "cell_type": "code",
   "execution_count": 70,
   "id": "aff97ff2",
   "metadata": {},
   "outputs": [],
   "source": [
    "class Pommeranian(Dog):\n",
    "    pass\n",
    "class Nor_For(Cat):\n",
    "    pass"
   ]
  },
  {
   "cell_type": "code",
   "execution_count": null,
   "id": "a87e4104",
   "metadata": {},
   "outputs": [],
   "source": []
  },
  {
   "cell_type": "code",
   "execution_count": 42,
   "id": "de07acd9",
   "metadata": {},
   "outputs": [
    {
     "name": "stdout",
     "output_type": "stream",
     "text": [
      "im a lion\n",
      "im a tiger\n"
     ]
    }
   ],
   "source": [
    "class Tiger(Animal):\n",
    "    def display(self):\n",
    "        print('im a tiger')\n",
    "class Lion(Animal):\n",
    "    def display(self):\n",
    "        print('im a lion')\n",
    "class Liger1(Lion, Tiger): # ------ 다중상속. 앞에 상속받은 클래스가 우선\n",
    "    pass\n",
    "class Liger2(Tiger, Lion):\n",
    "    pass\n",
    "liger1=Liger1()\n",
    "liger2=Liger2()\n",
    "liger1.display()\n",
    "liger2.display()"
   ]
  },
  {
   "cell_type": "code",
   "execution_count": null,
   "id": "df5d7f5c",
   "metadata": {},
   "outputs": [],
   "source": []
  },
  {
   "cell_type": "code",
   "execution_count": 4,
   "id": "0ef94250",
   "metadata": {},
   "outputs": [],
   "source": [
    "class Polygon:\n",
    "    def __init__(self, no_of_sides):  # ------------ 생성자 초기화\n",
    "        self.nos=no_of_sides\n",
    "        self.sides=[0 for i in range(no_of_sides)]\n",
    "        print(self.sides)\n",
    "    def input_sides(self):        # ---------------- sides 값 input으로 받기\n",
    "        self.sides=[float(input(\"Enter sides\"+str(i+1)+\":\"))for i in range(self.nos)]\n",
    "    def disp_sides(self):\n",
    "        for i in range(self.nos):\n",
    "            print(\"Side\", i+1, \"is\", self.sides[i])"
   ]
  },
  {
   "cell_type": "code",
   "execution_count": 5,
   "id": "5ef8cf00",
   "metadata": {},
   "outputs": [
    {
     "name": "stdout",
     "output_type": "stream",
     "text": [
      "[0, 0, 0]\n",
      "Enter sides1:10\n",
      "Enter sides2:10\n",
      "Enter sides3:10\n",
      "Side 1 is 10.0\n",
      "Side 2 is 10.0\n",
      "Side 3 is 10.0\n"
     ]
    }
   ],
   "source": [
    "a=Polygon(3)\n",
    "a.input_sides()\n",
    "a.disp_sides()"
   ]
  },
  {
   "cell_type": "code",
   "execution_count": 3,
   "id": "72d1d171",
   "metadata": {},
   "outputs": [
    {
     "ename": "NameError",
     "evalue": "name 'Polygon' is not defined",
     "output_type": "error",
     "traceback": [
      "\u001b[1;31m---------------------------------------------------------------------------\u001b[0m",
      "\u001b[1;31mNameError\u001b[0m                                 Traceback (most recent call last)",
      "\u001b[1;32m~\\AppData\\Local\\Temp\\ipykernel_4872\\1485626048.py\u001b[0m in \u001b[0;36m<module>\u001b[1;34m\u001b[0m\n\u001b[1;32m----> 1\u001b[1;33m \u001b[1;32mclass\u001b[0m \u001b[0mTriangle\u001b[0m\u001b[1;33m(\u001b[0m\u001b[0mPolygon\u001b[0m\u001b[1;33m)\u001b[0m\u001b[1;33m:\u001b[0m\u001b[1;33m\u001b[0m\u001b[1;33m\u001b[0m\u001b[0m\n\u001b[0m\u001b[0;32m      2\u001b[0m     \u001b[1;32mdef\u001b[0m \u001b[0m__init__\u001b[0m\u001b[1;33m(\u001b[0m\u001b[0mself\u001b[0m\u001b[1;33m)\u001b[0m\u001b[1;33m:\u001b[0m\u001b[1;33m\u001b[0m\u001b[1;33m\u001b[0m\u001b[0m\n\u001b[0;32m      3\u001b[0m         \u001b[0mPolygon\u001b[0m\u001b[1;33m.\u001b[0m\u001b[0m__init__\u001b[0m\u001b[1;33m(\u001b[0m\u001b[0mself\u001b[0m\u001b[1;33m,\u001b[0m \u001b[1;36m3\u001b[0m\u001b[1;33m)\u001b[0m\u001b[1;33m\u001b[0m\u001b[1;33m\u001b[0m\u001b[0m\n\u001b[0;32m      4\u001b[0m     \u001b[1;32mdef\u001b[0m \u001b[0mfind_area\u001b[0m\u001b[1;33m(\u001b[0m\u001b[0mself\u001b[0m\u001b[1;33m)\u001b[0m\u001b[1;33m:\u001b[0m\u001b[1;33m\u001b[0m\u001b[1;33m\u001b[0m\u001b[0m\n\u001b[0;32m      5\u001b[0m         \u001b[0ma\u001b[0m\u001b[1;33m,\u001b[0m\u001b[0mb\u001b[0m\u001b[1;33m,\u001b[0m\u001b[0mc\u001b[0m\u001b[1;33m=\u001b[0m\u001b[0mself\u001b[0m\u001b[1;33m.\u001b[0m\u001b[0msides\u001b[0m\u001b[1;33m\u001b[0m\u001b[1;33m\u001b[0m\u001b[0m\n",
      "\u001b[1;31mNameError\u001b[0m: name 'Polygon' is not defined"
     ]
    }
   ],
   "source": [
    "class Triangle(Polygon):\n",
    "    def __init__(self):\n",
    "        Polygon.__init__(self, 3)\n",
    "    def find_area(self):\n",
    "        a,b,c=self.sides\n",
    "        s=(a+b+c)/2\n",
    "        area=(s*(s-a)*(s-b)*(s-c))**0.5\n",
    "        print('The area of the Triangle is ',area)\n",
    "\n",
    "\n",
    "t=Triangle()\n",
    "t.input_sides()\n",
    "t.find_area()"
   ]
  },
  {
   "cell_type": "code",
   "execution_count": 7,
   "id": "6382a25b",
   "metadata": {},
   "outputs": [
    {
     "name": "stdout",
     "output_type": "stream",
     "text": [
      "[0, 0, 0, 0]\n",
      "Enter sides1:10\n",
      "Enter sides2:10\n",
      "Enter sides3:10\n",
      "Enter sides4:10\n",
      "The area of the Rectangle is  447.21359549995793\n"
     ]
    }
   ],
   "source": [
    "class Rectangle(Polygon):\n",
    "    def __init__(self):\n",
    "        Polygon.__init__(self, 4)\n",
    "    def find_area(self):\n",
    "        a,b,c,d=self.sides\n",
    "        s=(a+b+c+d)/2\n",
    "        area=(s*(s-a)*(s-b)*(s-c)*(s-d))**0.5\n",
    "        print('The area of the Rectangle is ',area)\n",
    "    \n",
    "\n",
    "r=Rectangle()\n",
    "r.input_sides()\n",
    "r.find_area()"
   ]
  },
  {
   "cell_type": "code",
   "execution_count": 9,
   "id": "afdc0343",
   "metadata": {},
   "outputs": [
    {
     "name": "stdout",
     "output_type": "stream",
     "text": [
      "[0, 0, 0, 0]\n",
      "Enter sides1:10\n",
      "Enter sides2:10\n",
      "Enter sides3:10\n",
      "Enter sides4:10\n",
      "63.24555320336759\n"
     ]
    }
   ],
   "source": [
    "class Rectangle(Polygon):\n",
    "    def __init__(self):\n",
    "        Polygon.__init__(self, 4)\n",
    "    def find_area(self):\n",
    "        s=sum(self.sides)/2\n",
    "        for i in range(self.nos):\n",
    "            area=s*(s-self.sides[i])**0.5\n",
    "        print(area)\n",
    "\n",
    "r=Rectangle()\n",
    "r.input_sides()\n",
    "r.find_area()\n"
   ]
  },
  {
   "cell_type": "code",
   "execution_count": null,
   "id": "f039e5ed",
   "metadata": {},
   "outputs": [],
   "source": [
    "def find_area(self):\n",
    "    s=sum(self.sides)/2\n",
    "    for i in range(self.nos-1):\n",
    "        area=s*(s-self.sides[i])**0.5\n",
    "    print(area)"
   ]
  },
  {
   "cell_type": "code",
   "execution_count": 134,
   "id": "cd61ac32",
   "metadata": {},
   "outputs": [
    {
     "name": "stdout",
     "output_type": "stream",
     "text": [
      "hi im a\n",
      "hi im b\n",
      "hi im c\n",
      "[<__main__.Person object at 0x00000265E720D148>, <__main__.Person object at 0x00000265E720D088>, <__main__.Person object at 0x00000265E7216A48>]\n"
     ]
    }
   ],
   "source": [
    "class Person:\n",
    "    def message(self, message):\n",
    "        print(message)\n",
    "class PersonList:\n",
    "    def __init__(self):\n",
    "        self.person_list=[]\n",
    "    def append_person(self, person):\n",
    "        self.person_list.append(person)\n",
    "a=Person()\n",
    "a.message('hi im a')\n",
    "b=Person()\n",
    "b.message('hi im b')\n",
    "c=Person()\n",
    "c.message('hi im c')\n",
    "pl=PersonList()\n",
    "pl.append_person(a)\n",
    "pl.append_person(b)\n",
    "pl.append_person(c)\n",
    "print(pl.person_list)\n"
   ]
  }
 ],
 "metadata": {
  "kernelspec": {
   "display_name": "Python 3 (ipykernel)",
   "language": "python",
   "name": "python3"
  },
  "language_info": {
   "codemirror_mode": {
    "name": "ipython",
    "version": 3
   },
   "file_extension": ".py",
   "mimetype": "text/x-python",
   "name": "python",
   "nbconvert_exporter": "python",
   "pygments_lexer": "ipython3",
   "version": "3.7.15"
  }
 },
 "nbformat": 4,
 "nbformat_minor": 5
}
