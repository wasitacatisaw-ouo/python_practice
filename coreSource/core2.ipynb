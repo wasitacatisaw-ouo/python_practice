{
 "cells": [
  {
   "cell_type": "markdown",
   "id": "3d361d88",
   "metadata": {},
   "source": [
    "## 1. Function"
   ]
  },
  {
   "cell_type": "code",
   "execution_count": 2,
   "id": "0c9e4178",
   "metadata": {},
   "outputs": [],
   "source": [
    "def helloFunction():   #pass 없으면 에러난다.(추상 선언을 안했으므로)\n",
    "    pass"
   ]
  },
  {
   "cell_type": "code",
   "execution_count": 3,
   "id": "14b5e806",
   "metadata": {},
   "outputs": [],
   "source": [
    "def helloFunction():\n",
    "    print('Hello Function')"
   ]
  },
  {
   "cell_type": "code",
   "execution_count": 10,
   "id": "54c58611",
   "metadata": {},
   "outputs": [
    {
     "name": "stdout",
     "output_type": "stream",
     "text": [
      "Hello Function\n",
      "None\n",
      "<function helloFunction at 0x0000018F584899D8>\n",
      "Hello Function\n"
     ]
    }
   ],
   "source": [
    "print(helloFunction())\n",
    "print(helloFunction)\n",
    "helloFunction()"
   ]
  },
  {
   "cell_type": "code",
   "execution_count": 19,
   "id": "3e24de96",
   "metadata": {},
   "outputs": [
    {
     "name": "stdout",
     "output_type": "stream",
     "text": [
      "function1()\n",
      "function2(x) 1\n",
      "function3(x,y)2, 3 \n"
     ]
    }
   ],
   "source": [
    "# 인자가 없는 함수\n",
    "def function1():\n",
    "    print('function1()')\n",
    "    \n",
    "# 인자가 하나인 함수\n",
    "def function2(x):\n",
    "    print('function2(x) {}' .format(x))\n",
    "    \n",
    "# 인자가 두개인 함수\n",
    "def function3(x,y):\n",
    "    print('function3(x,y){0}, {1} '.format(x,y))\n",
    "\n",
    "# 호출\n",
    "function1()\n",
    "function2(1)\n",
    "function3(2,3)\n",
    "\n",
    "# 결과값\n",
    "#function1()\n",
    "#function2(x) 1\n",
    "#function3(x,y)2, 3 "
   ]
  },
  {
   "cell_type": "code",
   "execution_count": 28,
   "id": "887300d2",
   "metadata": {},
   "outputs": [
    {
     "name": "stdout",
     "output_type": "stream",
     "text": [
      "35\n",
      "37\n"
     ]
    }
   ],
   "source": [
    "# 호출시 인자 갯수가 맞아야 정상작동한다.\n",
    "# 단, 선언부 파라미터 내부에서 선언된 변수는 인자로 받지 않아도 작동한다.\n",
    "\n",
    "def calc1(a, b):\n",
    "    return a*b\n",
    "\n",
    "def calc2(i, j, k=2):\n",
    "    return i*j+k\n",
    "\n",
    "result1=calc1(5,7)\n",
    "result2=calc2(5,7)\n",
    "\n",
    "print(result1)\n",
    "print(result2)"
   ]
  },
  {
   "cell_type": "code",
   "execution_count": 35,
   "id": "7d29deb4",
   "metadata": {},
   "outputs": [
    {
     "name": "stdout",
     "output_type": "stream",
     "text": [
      "이름은 이원복 . 32 세, 100 점\n",
      "이원복 32 100\n"
     ]
    }
   ],
   "source": [
    "# 인자를 그냥 넣으면 순서대로 들어간다.\n",
    "# 변수 이름을 지정해서 넣으면 파라미터를 알아서 찾아간다.\n",
    "\n",
    "def report1(name, age, score):\n",
    "    print('이름은',name,'.', age,'세,', score,'점')\n",
    "\n",
    "def report2(name, age, score):\n",
    "    print(name, age, score)\n",
    "    \n",
    "report1('이원복', '32', '100')\n",
    "report2(score='100', name='이원복', age='32')"
   ]
  },
  {
   "cell_type": "code",
   "execution_count": 41,
   "id": "bed6fdd4",
   "metadata": {},
   "outputs": [
    {
     "name": "stdout",
     "output_type": "stream",
     "text": [
      "numbers2= 10\n"
     ]
    }
   ],
   "source": [
    "# overload 불가능하다.\n",
    "def total(numbers1):\n",
    "    print('numbers1=',numbers1)\n",
    "def total(numbers2):\n",
    "    print('numbers2=',numbers2)\n",
    "total(10)"
   ]
  },
  {
   "cell_type": "markdown",
   "id": "1ee81c59",
   "metadata": {},
   "source": [
    "def total(numbers1):\n",
    "    print('numbers1=',numbers1)\n",
    "def total(numbers2, numbers3):\n",
    "    print('numbers2=',numbers2,'numbers3=',numbers3)\n",
    "total(10)\n",
    "\n",
    "---------------------------------------------------------------------------\n",
    "TypeError                                 Traceback (most recent call last)\n",
    "~\\AppData\\Local\\Temp\\ipykernel_3508\\874642424.py in <module>\n",
    "      3 def total(numbers2, number3):\n",
    "      4     print('numbers2=',numbers2,'numbers3=',numbers3)\n",
    "----> 5 total(10)\n",
    "\n",
    "TypeError: total() missing 1 required positional argument: 'number3'"
   ]
  },
  {
   "cell_type": "code",
   "execution_count": 48,
   "id": "d09625ca",
   "metadata": {
    "scrolled": true
   },
   "outputs": [
    {
     "name": "stdout",
     "output_type": "stream",
     "text": [
      "numbers2= 10 numbers3= 11\n"
     ]
    }
   ],
   "source": [
    "# 마지막으로 선언된 total()만 살아있는데, 살아있는 total()은 parameter가 2개이므로.\n",
    "# parameter가 달라도 overload는 안된다\n",
    "\n",
    "def total(numbers1):\n",
    "    print('numbers1=',numbers1)\n",
    "def total(numbers2, numbers3):\n",
    "    print('numbers2=',numbers2,'numbers3=',numbers3)\n",
    "total(10, 11)"
   ]
  },
  {
   "cell_type": "markdown",
   "id": "6a69dffa",
   "metadata": {},
   "source": [
    "def injectionMethod(x):\n",
    "    return x\n",
    "print(injectionMethod('hi there'))\n",
    "hi there"
   ]
  },
  {
   "cell_type": "code",
   "execution_count": 56,
   "id": "b317d182",
   "metadata": {},
   "outputs": [
    {
     "name": "stdout",
     "output_type": "stream",
     "text": [
      "1\n",
      "2\n",
      "3\n",
      "4\n",
      "5\n",
      "6\n",
      "7\n",
      "8\n",
      "9\n",
      "10\n"
     ]
    }
   ],
   "source": [
    "# 가변인자\n",
    "def injectionMethod(*x):\n",
    "    for i in x:\n",
    "        print(i)\n",
    "injectionMethod(1,2,3,4,5,6,7,8,9,10)"
   ]
  },
  {
   "cell_type": "code",
   "execution_count": 58,
   "id": "298f25ac",
   "metadata": {},
   "outputs": [
    {
     "name": "stdout",
     "output_type": "stream",
     "text": [
      "1, 2, 3, 4, 5, 6, 7, 8, 9, 10, "
     ]
    }
   ],
   "source": [
    "def injectionMethod(*x):\n",
    "    for i in x:\n",
    "        print(i, end=', ')\n",
    "injectionMethod(1,2,3,4,5,6,7,8,9,10)"
   ]
  },
  {
   "cell_type": "code",
   "execution_count": 65,
   "id": "5bbfcca6",
   "metadata": {},
   "outputs": [
    {
     "name": "stdout",
     "output_type": "stream",
     "text": [
      "10 20 30 10 20 30 "
     ]
    }
   ],
   "source": [
    "def print_numbers(x,y,z):\n",
    "    print(x,y,z, end=' ')\n",
    "    \n",
    "x=[10,20,30]\n",
    "print_numbers(x[0], x[1], x[2])\n",
    "print_numbers(*x)"
   ]
  },
  {
   "cell_type": "code",
   "execution_count": 66,
   "id": "2677a013",
   "metadata": {},
   "outputs": [
    {
     "name": "stdout",
     "output_type": "stream",
     "text": [
      "40 50 60 "
     ]
    }
   ],
   "source": [
    "k=(40,50,60)\n",
    "print_numbers(*k)"
   ]
  },
  {
   "cell_type": "code",
   "execution_count": null,
   "id": "ec28fb2d",
   "metadata": {},
   "outputs": [],
   "source": []
  }
 ],
 "metadata": {
  "kernelspec": {
   "display_name": "Python 3 (ipykernel)",
   "language": "python",
   "name": "python3"
  },
  "language_info": {
   "codemirror_mode": {
    "name": "ipython",
    "version": 3
   },
   "file_extension": ".py",
   "mimetype": "text/x-python",
   "name": "python",
   "nbconvert_exporter": "python",
   "pygments_lexer": "ipython3",
   "version": "3.7.15"
  }
 },
 "nbformat": 4,
 "nbformat_minor": 5
}
