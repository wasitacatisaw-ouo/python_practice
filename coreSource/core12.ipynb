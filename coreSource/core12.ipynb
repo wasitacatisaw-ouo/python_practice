{
 "cells": [
  {
   "cell_type": "markdown",
   "id": "c369a4ba",
   "metadata": {},
   "source": [
    "# Inheritance (is a, has a)\n",
    "# Abstract Method, Static Method, Class Method"
   ]
  },
  {
   "cell_type": "code",
   "execution_count": 22,
   "id": "fb191fde",
   "metadata": {},
   "outputs": [],
   "source": [
    "class SuperClass:\n",
    "    def __init__(self, name, country):\n",
    "        self.name=name\n",
    "        self.country=country\n",
    "    def super_method(self):\n",
    "        print('SuperClass super_method')\n",
    "class SubClass(SuperClass):\n",
    "    def __init__(self, name, country):\n",
    "        super().__init__(name, country)\n",
    "    def print_name(self):\n",
    "        print('이름은 {}입니다.'.format(self.name))\n",
    "    def print_country(self):\n",
    "        print('사는곳은 {}입니다.'.format(self.country))\n",
    "    def super_method(self):\n",
    "        super().super_method()\n",
    "        print('SubClass super_method')"
   ]
  },
  {
   "cell_type": "code",
   "execution_count": 23,
   "id": "b0a3ed45",
   "metadata": {},
   "outputs": [
    {
     "name": "stdout",
     "output_type": "stream",
     "text": [
      "이름은 java입니다.\n",
      "사는곳은 oop입니다.\n",
      "SuperClass super_method\n",
      "SubClass super_method\n"
     ]
    }
   ],
   "source": [
    "sup=SuperClass('python', 'aop')\n",
    "sub=SubClass('java', 'oop')\n",
    "sub.print_name()\n",
    "sub.print_country()\n",
    "sub.super_method()"
   ]
  },
  {
   "cell_type": "code",
   "execution_count": 25,
   "id": "28878e18",
   "metadata": {},
   "outputs": [
    {
     "name": "stdout",
     "output_type": "stream",
     "text": [
      "이름은 name이고, 사는곳은 country입니다\n",
      "SuperClass super_method\n",
      "SubClass super_method\n",
      "SubSubClass super_method\n"
     ]
    }
   ],
   "source": [
    "class SubSubClass(SubClass):\n",
    "    def __init__(self, name, country):\n",
    "        super().__init__(name, country)\n",
    "    def print_introduce(self):\n",
    "        print('이름은 {}이고, 사는곳은 {}입니다'.format(self.name, self.country))\n",
    "    def super_method(self):\n",
    "        super().super_method()\n",
    "        print('SubSubClass super_method')\n",
    "\n",
    "a=SubSubClass('name', 'country')\n",
    "a.print_introduce()\n",
    "a.super_method()"
   ]
  },
  {
   "cell_type": "code",
   "execution_count": null,
   "id": "3dcdf67b",
   "metadata": {},
   "outputs": [],
   "source": [
    "# 다중상속"
   ]
  },
  {
   "cell_type": "code",
   "execution_count": 31,
   "id": "571a029d",
   "metadata": {},
   "outputs": [
    {
     "name": "stdout",
     "output_type": "stream",
     "text": [
      "Saram Says...\n",
      "Playing Game...\n",
      "Eating...\n",
      "Final Process..!\n"
     ]
    }
   ],
   "source": [
    "class SaRam:\n",
    "    def say(self):\n",
    "        print('Saram Says...')\n",
    "class Game:\n",
    "    def play(self):\n",
    "        print('Playing Game...')\n",
    "class Eat:\n",
    "    def eat_action(self):\n",
    "        print('Eating...')\n",
    "class FinalSub(SaRam, Game, Eat):\n",
    "    def final_process(self):\n",
    "        print('Final Process..!')\n",
    "a=FinalSub()\n",
    "a.say()\n",
    "a.play()\n",
    "a.eat_action()\n",
    "a.final_process()"
   ]
  },
  {
   "cell_type": "markdown",
   "id": "fcc24b60",
   "metadata": {},
   "source": [
    "# Diamond Inheritance"
   ]
  },
  {
   "cell_type": "code",
   "execution_count": 37,
   "id": "f86b5394",
   "metadata": {},
   "outputs": [
    {
     "name": "stdout",
     "output_type": "stream",
     "text": [
      "B say\n",
      "C say\n"
     ]
    }
   ],
   "source": [
    "class A:\n",
    "    def say_message(self):\n",
    "        print('A say')\n",
    "class B(A):\n",
    "    def say_message(self):\n",
    "        print('B say')\n",
    "class C(A):\n",
    "    def say_message(self):\n",
    "        print('C say')\n",
    "class D(B, C):\n",
    "    pass\n",
    "class E(C, B):\n",
    "    pass\n",
    "\n",
    "z=D()\n",
    "y=E()\n",
    "z.say_message()\n",
    "y.say_message()"
   ]
  },
  {
   "cell_type": "code",
   "execution_count": 66,
   "id": "212da396",
   "metadata": {},
   "outputs": [
    {
     "name": "stdout",
     "output_type": "stream",
     "text": [
      "ParentOne Funct\n",
      "Child one_func\n",
      "ParentTwo Funct\n",
      "Child two_func\n",
      "ParentOne Funct\n",
      "ParentThree Funct\n",
      "ParentThree Funct\n",
      "ParentOne Funct\n"
     ]
    }
   ],
   "source": [
    "class ParentOne:\n",
    "    def __init__(self, one):\n",
    "        self.one=one\n",
    "    def func(self):\n",
    "        print('ParentOne Funct')\n",
    "class ParentTwo:\n",
    "    def __init__(self, two):\n",
    "        self.two=two\n",
    "    def func(self):\n",
    "        print('ParentTwo Funct')\n",
    "\n",
    "class ParentThree:\n",
    "    def __init__(self, three):\n",
    "        self.three=three\n",
    "    def func(self):\n",
    "        print('ParentThree Funct')\n",
    "        \n",
    "class Child(ParentOne, ParentTwo):\n",
    "    def __init__(self, one, two, three):\n",
    "        ParentOne.__init__(self, one)  # ---------- super() 안쓰면 self 보내줘야한다.\n",
    "        ParentTwo.__init__(self, two)\n",
    "        self.three=three\n",
    "    def one_func(self):\n",
    "        ParentOne.func(self)\n",
    "        print('Child one_func')\n",
    "    def two_func(self):\n",
    "        ParentTwo.func(self)  # ---------------- two는 우선상속이 아니지만 직접 불러서 내부 함수 호출 가능하다.\n",
    "        print('Child two_func')\n",
    "\n",
    "class Child2(ParentThree):\n",
    "    def __init__(self, pthree):\n",
    "        ParentThree.__init__(self, pthree)\n",
    "        self.pthree=pthree\n",
    "    def three_func(self):\n",
    "        ParentThree.func(self)\n",
    "        print('Child2 three_func')\n",
    "class Child3(ParentOne, ParentTwo, ParentThree):\n",
    "    def __init__ (self, one, two, pthree, four):\n",
    "        ParentOne.__init__(self, one)\n",
    "        ParentTwo.__init__(self, two)\n",
    "        ParentThree.__init__(self, pthree)\n",
    "        self.four=four\n",
    "    def four_func(self):\n",
    "        ParentOne.func(self)\n",
    "        ParentTwo.func(self)\n",
    "        ParentThree.func(self)\n",
    "        print('Final Child Func!!!')\n",
    "child3=Child3(1,2,3,4)\n",
    "child=Child(8,9,10)\n",
    "child2=Child2(3)\n",
    "p3=ParentThree(3)\n",
    "\n",
    "child.one_func()\n",
    "child.two_func()\n",
    "child.func()\n",
    "child2.func()\n",
    "p3.func()\n",
    "\n",
    "child3.func()"
   ]
  },
  {
   "cell_type": "code",
   "execution_count": 179,
   "id": "40272e97",
   "metadata": {},
   "outputs": [
    {
     "name": "stdout",
     "output_type": "stream",
     "text": [
      "GrandFather __init__\n",
      "Father __init__\n",
      "Me __init__\n",
      "Grand Value: 10\n",
      "Father Value: 20\n",
      "Father Value: 20\n",
      "Father Value: 20\n"
     ]
    },
    {
     "ename": "AttributeError",
     "evalue": "'NoneType' object has no attribute 'super'",
     "output_type": "error",
     "traceback": [
      "\u001b[1;31m---------------------------------------------------------------------------\u001b[0m",
      "\u001b[1;31mAttributeError\u001b[0m                            Traceback (most recent call last)",
      "\u001b[1;32m~\\AppData\\Local\\Temp\\ipykernel_7556\\429017238.py\u001b[0m in \u001b[0;36m<module>\u001b[1;34m\u001b[0m\n\u001b[0;32m     46\u001b[0m \u001b[1;33m\u001b[0m\u001b[0m\n\u001b[0;32m     47\u001b[0m \u001b[0mm\u001b[0m\u001b[1;33m=\u001b[0m\u001b[0mMe\u001b[0m\u001b[1;33m(\u001b[0m\u001b[1;33m)\u001b[0m\u001b[1;33m\u001b[0m\u001b[1;33m\u001b[0m\u001b[0m\n\u001b[1;32m---> 48\u001b[1;33m \u001b[0mm\u001b[0m\u001b[1;33m.\u001b[0m\u001b[0mshow\u001b[0m\u001b[1;33m(\u001b[0m\u001b[1;33m)\u001b[0m\u001b[1;33m\u001b[0m\u001b[1;33m\u001b[0m\u001b[0m\n\u001b[0m\u001b[0;32m     49\u001b[0m \u001b[1;31m# m.show_pay()\u001b[0m\u001b[1;33m\u001b[0m\u001b[1;33m\u001b[0m\u001b[1;33m\u001b[0m\u001b[0m\n\u001b[0;32m     50\u001b[0m \u001b[1;33m\u001b[0m\u001b[0m\n",
      "\u001b[1;32m~\\AppData\\Local\\Temp\\ipykernel_7556\\429017238.py\u001b[0m in \u001b[0;36mshow\u001b[1;34m(self)\u001b[0m\n\u001b[0;32m     42\u001b[0m         \u001b[0mFather\u001b[0m\u001b[1;33m.\u001b[0m\u001b[0mshow_data\u001b[0m\u001b[1;33m(\u001b[0m\u001b[0mself\u001b[0m\u001b[1;33m)\u001b[0m\u001b[1;33m\u001b[0m\u001b[1;33m\u001b[0m\u001b[0m\n\u001b[0;32m     43\u001b[0m         \u001b[0msuper\u001b[0m\u001b[1;33m(\u001b[0m\u001b[1;33m)\u001b[0m\u001b[1;33m.\u001b[0m\u001b[0mshow_data\u001b[0m\u001b[1;33m(\u001b[0m\u001b[1;33m)\u001b[0m\u001b[1;33m\u001b[0m\u001b[1;33m\u001b[0m\u001b[0m\n\u001b[1;32m---> 44\u001b[1;33m         \u001b[0msuper\u001b[0m\u001b[1;33m(\u001b[0m\u001b[1;33m)\u001b[0m\u001b[1;33m.\u001b[0m\u001b[0mshow_data\u001b[0m\u001b[1;33m(\u001b[0m\u001b[1;33m)\u001b[0m\u001b[1;33m.\u001b[0m\u001b[0msuper\u001b[0m\u001b[1;33m(\u001b[0m\u001b[1;33m)\u001b[0m\u001b[1;33m.\u001b[0m\u001b[0mshow_data\u001b[0m\u001b[1;33m(\u001b[0m\u001b[1;33m)\u001b[0m\u001b[1;33m\u001b[0m\u001b[1;33m\u001b[0m\u001b[0m\n\u001b[0m\u001b[0;32m     45\u001b[0m         \u001b[0mself\u001b[0m\u001b[1;33m.\u001b[0m\u001b[0mshow_data\u001b[0m\u001b[1;33m(\u001b[0m\u001b[1;33m)\u001b[0m\u001b[1;33m\u001b[0m\u001b[1;33m\u001b[0m\u001b[0m\n\u001b[0;32m     46\u001b[0m \u001b[1;33m\u001b[0m\u001b[0m\n",
      "\u001b[1;31mAttributeError\u001b[0m: 'NoneType' object has no attribute 'super'"
     ]
    }
   ],
   "source": [
    "class GrandFather:\n",
    "    grandValue=10\n",
    "    def __init__ (self):\n",
    "        self.pay=10\n",
    "        print('GrandFather __init__')\n",
    "    def show_data(self):\n",
    "        print('Grand Value:', GrandFather.grandValue)\n",
    "        #print('Grand Value:', grandValue) # -------------- 못찾는다.\n",
    "    def grandfather(self):\n",
    "        print('grand father function()')\n",
    "    def show_pay(self):\n",
    "        print('Grand Father Pay:', self.pay)\n",
    "\n",
    "class Father(GrandFather):\n",
    "    fatherValue=20\n",
    "    def __init__ (self):\n",
    "        super().__init__()\n",
    "        self.pay=100\n",
    "        print('Father __init__')\n",
    "    def father(self):\n",
    "        print('father function()')\n",
    "    def show_data(self):\n",
    "        print('Father Value:', Father.fatherValue)\n",
    "    def show_pay(self):\n",
    "        print('Father Pay:', self.pay)\n",
    "        return self.pay\n",
    "        \n",
    "class Me(Father):\n",
    "    myValue=30\n",
    "    def __init__ (self):        \n",
    "        super().__init__()\n",
    "        self.pay=1000\n",
    "        print('Me __init__')\n",
    "    def me(self):\n",
    "        print('me function')\n",
    "    def show_data(self):\n",
    "        print('meValue:', self.myValue)\n",
    "    def show_pay(self):\n",
    "        print('My pay:', Father.self.pay)\n",
    "    def show(self):\n",
    "        GrandFather.show_data(self)\n",
    "        Father.show_data(self)\n",
    "        super().show_data()\n",
    "        super().show_data()\n",
    "        self.show_data()\n",
    "\n",
    "m=Me()\n",
    "m.show()\n",
    "# m.show_pay()\n",
    "\n",
    "# g.show_data()\n",
    "# f=Father()\n",
    "# f.show_data()\n",
    "# me=Me()\n",
    "# me.show_data()\n",
    "\n",
    "# g.show_pay()\n",
    "# f.show_pay()\n",
    "# me.show_pay()\n",
    "\n",
    "# print(me.fatherValue, me.grandValue)\n"
   ]
  },
  {
   "cell_type": "code",
   "execution_count": 168,
   "id": "18add532",
   "metadata": {},
   "outputs": [
    {
     "name": "stdout",
     "output_type": "stream",
     "text": [
      "99\n",
      "10\n",
      "50\n",
      "10\n",
      "69\n"
     ]
    }
   ],
   "source": [
    "class AA:\n",
    "    pay=10\n",
    "    def __init__(self):\n",
    "        self.pay=69\n",
    "class BB(AA):\n",
    "    pay=99\n",
    "    def __init__(self):\n",
    "        self.pay=50\n",
    "    \n",
    "b=BB()\n",
    "print(BB.pay)\n",
    "print(AA.pay)\n",
    "print(b.pay)\n",
    "a=AA()\n",
    "print(AA.pay)\n",
    "print(a.pay)\n"
   ]
  },
  {
   "cell_type": "code",
   "execution_count": null,
   "id": "cbe121ca",
   "metadata": {},
   "outputs": [],
   "source": []
  },
  {
   "cell_type": "code",
   "execution_count": null,
   "id": "89c96545",
   "metadata": {},
   "outputs": [],
   "source": []
  },
  {
   "cell_type": "code",
   "execution_count": null,
   "id": "f328aa64",
   "metadata": {},
   "outputs": [],
   "source": []
  },
  {
   "cell_type": "code",
   "execution_count": null,
   "id": "ec753b8c",
   "metadata": {},
   "outputs": [],
   "source": []
  },
  {
   "cell_type": "code",
   "execution_count": null,
   "id": "d3c79773",
   "metadata": {},
   "outputs": [],
   "source": []
  },
  {
   "cell_type": "code",
   "execution_count": null,
   "id": "7b43f41a",
   "metadata": {},
   "outputs": [],
   "source": []
  },
  {
   "cell_type": "code",
   "execution_count": null,
   "id": "18a61635",
   "metadata": {},
   "outputs": [],
   "source": []
  },
  {
   "cell_type": "code",
   "execution_count": null,
   "id": "58c391f4",
   "metadata": {},
   "outputs": [],
   "source": []
  },
  {
   "cell_type": "code",
   "execution_count": null,
   "id": "d8e2b37e",
   "metadata": {},
   "outputs": [],
   "source": []
  },
  {
   "cell_type": "code",
   "execution_count": null,
   "id": "d0cf54b7",
   "metadata": {},
   "outputs": [],
   "source": []
  },
  {
   "cell_type": "code",
   "execution_count": null,
   "id": "2328155a",
   "metadata": {},
   "outputs": [],
   "source": []
  },
  {
   "cell_type": "code",
   "execution_count": null,
   "id": "fdd8aa56",
   "metadata": {},
   "outputs": [],
   "source": []
  }
 ],
 "metadata": {
  "kernelspec": {
   "display_name": "Python 3 (ipykernel)",
   "language": "python",
   "name": "python3"
  },
  "language_info": {
   "codemirror_mode": {
    "name": "ipython",
    "version": 3
   },
   "file_extension": ".py",
   "mimetype": "text/x-python",
   "name": "python",
   "nbconvert_exporter": "python",
   "pygments_lexer": "ipython3",
   "version": "3.7.15"
  }
 },
 "nbformat": 4,
 "nbformat_minor": 5
}
