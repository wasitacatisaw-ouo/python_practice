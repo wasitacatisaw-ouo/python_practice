{
 "cells": [
  {
   "cell_type": "markdown",
   "id": "22823f91",
   "metadata": {},
   "source": [
    "# Class, Module(package, exception)"
   ]
  },
  {
   "cell_type": "markdown",
   "id": "efce9a0f",
   "metadata": {},
   "source": [
    "### class = 속성 + 기능 (동적, 정적)"
   ]
  },
  {
   "cell_type": "code",
   "execution_count": 2,
   "id": "b6a74bc0",
   "metadata": {},
   "outputs": [],
   "source": [
    "class Person:\n",
    "    pass"
   ]
  },
  {
   "cell_type": "code",
   "execution_count": 29,
   "id": "02d7e010",
   "metadata": {},
   "outputs": [
    {
     "name": "stdout",
     "output_type": "stream",
     "text": [
      "Hello Person\n",
      "greetingFunction\n",
      "hi\n"
     ]
    }
   ],
   "source": [
    "class Person:\n",
    "    message = \"Hello Person\"\n",
    "    def greeting(self, message):       # self가 없으면 호출할 수 없다!\n",
    "        print('greetingFunction')\n",
    "        message=message\n",
    "        print(message)\n",
    "p1=Person()\n",
    "\n",
    "print(p1.message)\n",
    "p1.greeting(\"hi\")"
   ]
  },
  {
   "cell_type": "code",
   "execution_count": 41,
   "id": "362b17e7",
   "metadata": {},
   "outputs": [
    {
     "name": "stdout",
     "output_type": "stream",
     "text": [
      "2302957955656\n",
      "2302957955656\n",
      "4 5\n",
      "2302957953864\n",
      "2302957953864\n",
      "21 33\n"
     ]
    }
   ],
   "source": [
    "class FourClass1:\n",
    "    first=None\n",
    "    second=None\n",
    "    def set_data(self, first, second):\n",
    "        self.first = first\n",
    "        self.second = second\n",
    "        self.print_self_id()\n",
    "    def print_self_id(self):\n",
    "        print(id(self))\n",
    "        \n",
    "        \n",
    "a=FourClass1()   # 동적으로 메모리 할당\n",
    "print(id(a))    # a의 고유 주소값\n",
    "a.set_data(4,5)\n",
    "print(a.first, a.second)\n",
    "\n",
    "b=FourClass1()   # a와 주소가 다르다.\n",
    "print(id(b))\n",
    "b.set_data(21, 33)\n",
    "print(b.first, b.second)"
   ]
  },
  {
   "cell_type": "code",
   "execution_count": 74,
   "id": "46c30e0f",
   "metadata": {},
   "outputs": [
    {
     "name": "stdout",
     "output_type": "stream",
     "text": [
      "<__main__.FourClass2 object at 0x0000021832F0E688> 2302957119112\n",
      "2302957119112\n",
      "88 99\n"
     ]
    }
   ],
   "source": [
    "class FourClass2:\n",
    "    def set_data(self, firstVal, secondVal):\n",
    "        self.fv = firstVal\n",
    "        self.sv = secondVal\n",
    "        self.print_self_id()\n",
    "    def print_self_id(self):\n",
    "        print(id(self))\n",
    "\n",
    "b = FourClass2()\n",
    "print(b, id(b))\n",
    "b.set_data(88, 99)\n",
    "print(b.fv, b.sv)"
   ]
  },
  {
   "cell_type": "code",
   "execution_count": 99,
   "id": "a8aebdeb",
   "metadata": {},
   "outputs": [
    {
     "name": "stdout",
     "output_type": "stream",
     "text": [
      "<__main__.FourClass3 object at 0x0000021832F37AC8> 2302957288136\n",
      "7 8\n",
      "9\n"
     ]
    }
   ],
   "source": [
    "class FourClass3:\n",
    "    def set_data(self, a, x, y, z):\n",
    "        self.__a=a\n",
    "        self._x=x      # .__ = private, ._ = protected, . = public\n",
    "        self._y=y\n",
    "        self.z=z\n",
    "c=FourClass3()\n",
    "print(c, id(c))\n",
    "c.set_data(6, 7, 8, 9)\n",
    "print(c._x, c._y)\n",
    "print(c.z)"
   ]
  },
  {
   "cell_type": "code",
   "execution_count": 111,
   "id": "148b216c",
   "metadata": {},
   "outputs": [
    {
     "name": "stdout",
     "output_type": "stream",
     "text": [
      "Damien Synclaire 1234\n",
      "Damien\n",
      "None\n",
      "Maximiliano\n"
     ]
    }
   ],
   "source": [
    "class Member:\n",
    "    def __init__ (self, name, id, password):\n",
    "        print(name, id, password)\n",
    "        self.__name=name\n",
    "        self.__id=id\n",
    "        self.__password=password\n",
    "    def get_name (self):\n",
    "        return self.__name\n",
    "    def set_name (self, name):\n",
    "        self.__name=name\n",
    "\n",
    "m=Member('Damien', 'Synclaire', 1234)\n",
    "print(m.get_name())\n",
    "print(m.set_name('Maximiliano'))\n",
    "print(m.get_name())"
   ]
  },
  {
   "cell_type": "code",
   "execution_count": 133,
   "id": "7ec3bfa0",
   "metadata": {},
   "outputs": [
    {
     "name": "stdout",
     "output_type": "stream",
     "text": [
      "2302958370888\n",
      "['LWB', 'Python', 19000]\n",
      "19000\n"
     ]
    }
   ],
   "source": [
    "class Book:\n",
    "    def __init__ (self, author, title, price):\n",
    "        self.__author=author\n",
    "        self.__title=title\n",
    "        self.__price=price\n",
    "    def set_author(self, author):\n",
    "        self.__author=author\n",
    "    def get_author(self):\n",
    "        return self.__author\n",
    "    def set_title(self, title):\n",
    "        self.__title=title\n",
    "    def set_title(self):\n",
    "        return self.__title\n",
    "    def set_price(self, price):\n",
    "        self.__price=price\n",
    "    def get_price(self):\n",
    "        return self.__price\n",
    "    def print_book_info(self):\n",
    "        info=[self.__author, self.__title, self.__price]\n",
    "        return info\n",
    "b=Book('LWB', 'Python', 13000)\n",
    "print(id(b))\n",
    "b.print_book_info()\n",
    "b.set_price(19000)\n",
    "print(b.print_book_info())\n",
    "print(b.get_price())"
   ]
  },
  {
   "cell_type": "code",
   "execution_count": 213,
   "id": "86ac64f2",
   "metadata": {},
   "outputs": [
    {
     "name": "stdout",
     "output_type": "stream",
     "text": [
      "yum!\n",
      "None\n",
      "working...\n",
      "None\n",
      "..zzz..\n",
      "None\n"
     ]
    },
    {
     "ename": "AttributeError",
     "evalue": "'Adult' object has no attribute 'cry'",
     "output_type": "error",
     "traceback": [
      "\u001b[1;31m---------------------------------------------------------------------------\u001b[0m",
      "\u001b[1;31mAttributeError\u001b[0m                            Traceback (most recent call last)",
      "\u001b[1;32m~\\AppData\\Local\\Temp\\ipykernel_7128\\2757911108.py\u001b[0m in \u001b[0;36m<module>\u001b[1;34m\u001b[0m\n\u001b[0;32m     14\u001b[0m \u001b[0mprint\u001b[0m\u001b[1;33m(\u001b[0m\u001b[0mlwb\u001b[0m\u001b[1;33m.\u001b[0m\u001b[0mwork\u001b[0m\u001b[1;33m(\u001b[0m\u001b[1;33m)\u001b[0m\u001b[1;33m)\u001b[0m\u001b[1;33m\u001b[0m\u001b[1;33m\u001b[0m\u001b[0m\n\u001b[0;32m     15\u001b[0m \u001b[0mprint\u001b[0m\u001b[1;33m(\u001b[0m\u001b[0mlwb\u001b[0m\u001b[1;33m.\u001b[0m\u001b[0msleep\u001b[0m\u001b[1;33m(\u001b[0m\u001b[1;33m)\u001b[0m\u001b[1;33m)\u001b[0m\u001b[1;33m\u001b[0m\u001b[1;33m\u001b[0m\u001b[0m\n\u001b[1;32m---> 16\u001b[1;33m \u001b[0mprint\u001b[0m\u001b[1;33m(\u001b[0m\u001b[0mlwb\u001b[0m\u001b[1;33m.\u001b[0m\u001b[0mcry\u001b[0m\u001b[1;33m(\u001b[0m\u001b[1;33m)\u001b[0m\u001b[1;33m)\u001b[0m\u001b[1;33m\u001b[0m\u001b[1;33m\u001b[0m\u001b[0m\n\u001b[0m",
      "\u001b[1;31mAttributeError\u001b[0m: 'Adult' object has no attribute 'cry'"
     ]
    }
   ],
   "source": [
    "class Human:\n",
    "    def eat(self):\n",
    "        print(\"yum!\")\n",
    "    def sleep(self):\n",
    "        print(\"..zzz..\")\n",
    "class Adult(Human):\n",
    "    def work(self):\n",
    "        print(\"working...\")\n",
    "class Baby(Human):\n",
    "    def cry(self):\n",
    "        print(\"WRAAA\")\n",
    "lwb=Adult()\n",
    "print(lwb.eat())\n",
    "print(lwb.work())\n",
    "print(lwb.sleep())\n",
    "print(lwb.cry())"
   ]
  },
  {
   "cell_type": "code",
   "execution_count": 212,
   "id": "869bb670",
   "metadata": {},
   "outputs": [
    {
     "name": "stdout",
     "output_type": "stream",
     "text": [
      "['Joanne K Rolling', 'HarryPotter', 11000, 'Novel']\n",
      "['LWB', 'Python', 13000, 'Text Book']\n"
     ]
    }
   ],
   "source": [
    "class Book:\n",
    "    def __init__ (self, author, title, price):\n",
    "        self.__author=author\n",
    "        self.__title=title\n",
    "        self.__price=price\n",
    "        self.__genre=\"Not defined\"\n",
    "    def set_author(self, author):\n",
    "        self.__author=author\n",
    "    def get_author(self):\n",
    "        return self.__author\n",
    "    def set_title(self, title):\n",
    "        self.__title=title\n",
    "    def set_title(self):\n",
    "        return self.__title\n",
    "    def set_price(self, price):\n",
    "        self.__price=price\n",
    "    def get_price(self):\n",
    "        return self.__price\n",
    "    def set_genre(self, genre):\n",
    "        self.__genre=genre\n",
    "    def get_genre(self):\n",
    "        return self.__genre\n",
    "    def print_book_info(self):\n",
    "        info=[self.__author, self.__title, self.__price, self._genre]\n",
    "        return info\n",
    "    \n",
    "class Novel(Book):\n",
    "    def __init__(self, author, title, price):\n",
    "        super().__init__(author, title, price)\n",
    "        self._genre='Novel'\n",
    "    def print_book_info(self):\n",
    "        return super().print_book_info()\n",
    "\n",
    "class Textbook(Book):\n",
    "    def __init__(self, author, title, price):\n",
    "        super().__init__(author, title, price)\n",
    "        self._genre='Text Book'\n",
    "    def print_book_info(self):\n",
    "        return super().print_book_info()\n",
    "    \n",
    "hp=Novel('Joanne K Rolling', 'HarryPotter', 11000)\n",
    "b=Textbook('LWB', 'Python', 13000)\n",
    "print(hp.print_book_info())\n",
    "print(b.print_book_info())"
   ]
  },
  {
   "cell_type": "code",
   "execution_count": null,
   "id": "7415ffe5",
   "metadata": {},
   "outputs": [],
   "source": []
  }
 ],
 "metadata": {
  "kernelspec": {
   "display_name": "Python 3 (ipykernel)",
   "language": "python",
   "name": "python3"
  },
  "language_info": {
   "codemirror_mode": {
    "name": "ipython",
    "version": 3
   },
   "file_extension": ".py",
   "mimetype": "text/x-python",
   "name": "python",
   "nbconvert_exporter": "python",
   "pygments_lexer": "ipython3",
   "version": "3.7.15"
  }
 },
 "nbformat": 4,
 "nbformat_minor": 5
}
