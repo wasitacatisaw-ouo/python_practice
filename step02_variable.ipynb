{
 "cells": [
  {
   "cell_type": "markdown",
   "id": "84325342",
   "metadata": {},
   "source": [
    "* 문자열"
   ]
  },
  {
   "cell_type": "code",
   "execution_count": 1,
   "id": "d10b22a3",
   "metadata": {
    "scrolled": true
   },
   "outputs": [
    {
     "name": "stdout",
     "output_type": "stream",
     "text": [
      "I'm Python\n",
      "I said, \"Python is fun!!\"\n"
     ]
    }
   ],
   "source": [
    "str1 = \"I'm Python\"\n",
    "str2 = 'I said, \"Python is fun!!\"'\n",
    "print(str1)\n",
    "print(str2)"
   ]
  },
  {
   "cell_type": "code",
   "execution_count": 2,
   "id": "0f0bfd75",
   "metadata": {},
   "outputs": [
    {
     "name": "stdout",
     "output_type": "stream",
     "text": [
      "Life is too short,\n",
      "You need python\n",
      "Life is too short, You need python\n"
     ]
    }
   ],
   "source": [
    "str3=\"\"\"Life is too short,\n",
    "You need python\"\"\"            # \"\"\"는 입력한 대로 인식\n",
    "print (str3)\n",
    "\n",
    "str3=\"Life is too short, \\\n",
    "You need python\"                # \\는 문장이 연결된다는 으미\n",
    "print (str3)"
   ]
  },
  {
   "cell_type": "code",
   "execution_count": 3,
   "id": "fcc316d5",
   "metadata": {},
   "outputs": [
    {
     "name": "stdout",
     "output_type": "stream",
     "text": [
      "Life is too short,\n",
      "You need python\n"
     ]
    }
   ],
   "source": [
    "str3=\"Life is too short,\\nYou need python\"\n",
    "print (str3)"
   ]
  },
  {
   "cell_type": "markdown",
   "id": "c8c61717",
   "metadata": {},
   "source": [
    "* 연결연산자"
   ]
  },
  {
   "cell_type": "code",
   "execution_count": 4,
   "id": "ffd651b2",
   "metadata": {},
   "outputs": [
    {
     "name": "stdout",
     "output_type": "stream",
     "text": [
      "120\n"
     ]
    }
   ],
   "source": [
    "total = 2 * 3 * \\\n",
    "       4 * 5\n",
    "print(total)"
   ]
  },
  {
   "cell_type": "code",
   "execution_count": 5,
   "id": "520fb03b",
   "metadata": {},
   "outputs": [
    {
     "name": "stdout",
     "output_type": "stream",
     "text": [
      "korea fighting!!\n"
     ]
    }
   ],
   "source": [
    "s = \"korea\" \" fighting\" \"!!\"\n",
    "print(s)"
   ]
  },
  {
   "cell_type": "code",
   "execution_count": 6,
   "id": "c2491030",
   "metadata": {},
   "outputs": [
    {
     "name": "stdout",
     "output_type": "stream",
     "text": [
      "korea fighting!!\n"
     ]
    }
   ],
   "source": [
    "s = (\"korea\" \n",
    "     \" fighting\" \n",
    "     \"!!\")\n",
    "print(s)"
   ]
  },
  {
   "cell_type": "markdown",
   "id": "4c3a3415",
   "metadata": {},
   "source": [
    "* 아스키코드(ASCII코드): 0-127(2의 7승)\n",
    "*  A (1000001): 65\n",
    "*  B (1000010): 66\n",
    "*  a : 97\n",
    "*  1 : 49\n",
    "*  공백: 13"
   ]
  },
  {
   "cell_type": "code",
   "execution_count": 9,
   "id": "a62b3b47",
   "metadata": {
    "scrolled": true
   },
   "outputs": [
    {
     "name": "stdout",
     "output_type": "stream",
     "text": [
      "97\n",
      "A\n",
      "A B C D E F G H I J K L M N O P Q R S T U V W X Y Z "
     ]
    }
   ],
   "source": [
    "print(ord('a'))   # ord(): 아스키문자 -> 코드값\n",
    "print (chr(65))   # chr(): 아스키코드값 -> 문자\n",
    "\n",
    "for c in range(ord('A'), ord('Z')+1):\n",
    "    print(chr(c), end=' ')"
   ]
  },
  {
   "cell_type": "code",
   "execution_count": 7,
   "id": "f19010d9",
   "metadata": {},
   "outputs": [
    {
     "name": "stdout",
     "output_type": "stream",
     "text": [
      "이순신 귀하\n",
      "홍길동 귀하\n",
      "강호동 귀하\n"
     ]
    }
   ],
   "source": [
    "member = ['이순신','홍길동','강호동']\n",
    "for m in member:\n",
    "    print(m, '귀하')"
   ]
  },
  {
   "cell_type": "code",
   "execution_count": 8,
   "id": "6f372a5c",
   "metadata": {},
   "outputs": [
    {
     "name": "stdout",
     "output_type": "stream",
     "text": [
      "이순신 귀하\n",
      "홍길동 귀하\n",
      "강호동 귀하\n"
     ]
    }
   ],
   "source": [
    "member = ('이순신','홍길동','강호동')\n",
    "for m in member:\n",
    "    print(m, '귀하')"
   ]
  },
  {
   "cell_type": "code",
   "execution_count": null,
   "id": "7ec1c2a4",
   "metadata": {},
   "outputs": [],
   "source": []
  }
 ],
 "metadata": {
  "kernelspec": {
   "display_name": "Python 3 (ipykernel)",
   "language": "python",
   "name": "python3"
  },
  "language_info": {
   "codemirror_mode": {
    "name": "ipython",
    "version": 3
   },
   "file_extension": ".py",
   "mimetype": "text/x-python",
   "name": "python",
   "nbconvert_exporter": "python",
   "pygments_lexer": "ipython3",
   "version": "3.7.15"
  }
 },
 "nbformat": 4,
 "nbformat_minor": 5
}
