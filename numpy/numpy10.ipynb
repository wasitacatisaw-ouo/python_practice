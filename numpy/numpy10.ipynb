{
 "cells": [
  {
   "cell_type": "markdown",
   "id": "3695c7a6",
   "metadata": {},
   "source": [
    "* Numpy"
   ]
  },
  {
   "cell_type": "code",
   "execution_count": 1,
   "id": "520f6a45",
   "metadata": {},
   "outputs": [],
   "source": [
    "import numpy as np"
   ]
  },
  {
   "cell_type": "code",
   "execution_count": 2,
   "id": "be3765b9",
   "metadata": {},
   "outputs": [
    {
     "name": "stdout",
     "output_type": "stream",
     "text": [
      "[8 7 2 5 1]\n"
     ]
    }
   ],
   "source": [
    "org_array=np.array([8,7,2,5,1])\n",
    "print(org_array)"
   ]
  },
  {
   "cell_type": "code",
   "execution_count": 3,
   "id": "348ff749",
   "metadata": {},
   "outputs": [],
   "source": [
    "cp=org_array #배열복사 view"
   ]
  },
  {
   "cell_type": "code",
   "execution_count": 4,
   "id": "3f6143ec",
   "metadata": {},
   "outputs": [
    {
     "name": "stdout",
     "output_type": "stream",
     "text": [
      "org_array [8 7 2 5 1]\n",
      "[8 7 2 5 1]\n",
      "88\n",
      "org_array [88  7  2  5  1]\n"
     ]
    }
   ],
   "source": [
    "print('org_array',org_array)\n",
    "print(cp)\n",
    "cp[0]=88 #\n",
    "print(cp[0])\n",
    "print('org_array',org_array)"
   ]
  },
  {
   "cell_type": "code",
   "execution_count": 5,
   "id": "fc048246",
   "metadata": {},
   "outputs": [],
   "source": [
    "a=np.array([58,70,29,55,100])\n",
    "b=a.view()  \n",
    "b[1]=700"
   ]
  },
  {
   "cell_type": "code",
   "execution_count": 6,
   "id": "fcc35d37",
   "metadata": {},
   "outputs": [
    {
     "name": "stdout",
     "output_type": "stream",
     "text": [
      "[ 58 700  29  55 100]\n"
     ]
    }
   ],
   "source": [
    "print(a)"
   ]
  },
  {
   "cell_type": "code",
   "execution_count": 7,
   "id": "ec3d22a2",
   "metadata": {},
   "outputs": [],
   "source": [
    "c=np.array([5,7,9,35,100])"
   ]
  },
  {
   "cell_type": "code",
   "execution_count": 8,
   "id": "827eb396",
   "metadata": {},
   "outputs": [
    {
     "name": "stdout",
     "output_type": "stream",
     "text": [
      "[  5   7   9  35 100]\n",
      "[  5   7   9  35 100]\n"
     ]
    }
   ],
   "source": [
    "d=c.copy()\n",
    "print(c)\n",
    "print(d)"
   ]
  },
  {
   "cell_type": "code",
   "execution_count": 9,
   "id": "2215f16f",
   "metadata": {},
   "outputs": [],
   "source": [
    "d[0]=99 #copyArray를 변경"
   ]
  },
  {
   "cell_type": "code",
   "execution_count": 10,
   "id": "e379c37e",
   "metadata": {},
   "outputs": [
    {
     "name": "stdout",
     "output_type": "stream",
     "text": [
      "[  5   7   9  35 100]\n"
     ]
    }
   ],
   "source": [
    "print(c)#copy() 사용해서 copy했을때 copyArray를 변경해도 원본 변경 불가 "
   ]
  },
  {
   "cell_type": "code",
   "execution_count": 11,
   "id": "3b1261b5",
   "metadata": {},
   "outputs": [
    {
     "name": "stdout",
     "output_type": "stream",
     "text": [
      "[1 3 5 9]\n"
     ]
    }
   ],
   "source": [
    "org_array = np.array([3, 1, 9, 5])\n",
    "print(np.sort(org_array))\n"
   ]
  },
  {
   "cell_type": "code",
   "execution_count": 12,
   "id": "eef55631",
   "metadata": {},
   "outputs": [
    {
     "name": "stdout",
     "output_type": "stream",
     "text": [
      "<class 'numpy.ndarray'>\n",
      "행렬 정렬 시 원본 행렬의 인덱스: [1 0 3 2]\n",
      "None\n",
      "[1 3 5 9]\n"
     ]
    }
   ],
   "source": [
    "sort_indices = np.argsort(org_array)\n",
    "print(type(sort_indices))\n",
    "print('행렬 정렬 시 원본 행렬의 인덱스:', sort_indices) #오르차순\n",
    "print(org_array.sort())\n",
    "print(org_array)"
   ]
  },
  {
   "cell_type": "code",
   "execution_count": 13,
   "id": "fa47dda8",
   "metadata": {},
   "outputs": [
    {
     "name": "stdout",
     "output_type": "stream",
     "text": [
      "[9 5 3 1]\n",
      "행렬 내림차순 정렬 시 원본 행렬의 인덱스: [3 2 1 0]\n"
     ]
    }
   ],
   "source": [
    "print(np.sort(org_array)[::-1])\n",
    "sort_indices_desc = np.argsort(org_array)[::-1]\n",
    "print('행렬 내림차순 정렬 시 원본 행렬의 인덱스:', sort_indices_desc)"
   ]
  },
  {
   "cell_type": "code",
   "execution_count": 14,
   "id": "be658e0c",
   "metadata": {},
   "outputs": [
    {
     "name": "stdout",
     "output_type": "stream",
     "text": [
      "sort indices: [0 2 4 1 3]\n"
     ]
    }
   ],
   "source": [
    "name_array=np.array(['John', 'Mike', 'Sarah', 'Kate', 'Samuel'])\n",
    "score_array=np.array([78, 95, 84, 98, 88])\n",
    "sort_indices = np.argsort(score_array)\n",
    "print(\"sort indices:\", sort_indices)\n",
    "name_array_sort = name_array[sort_indices]\n",
    "# score_array_sort = score_array[sort_indices]\n",
    "# print(name_array_sort)\n",
    "# print(score_array_sort)"
   ]
  },
  {
   "cell_type": "code",
   "execution_count": 15,
   "id": "f81b2da9",
   "metadata": {},
   "outputs": [
    {
     "name": "stdout",
     "output_type": "stream",
     "text": [
      "[ 0  1  2  3  4  5  6  7  8  9 10 11 12 13 14 15 16 17 18 19 20 21 22 23]\n"
     ]
    }
   ],
   "source": [
    "a0 = np.arange(24)  # 1차원 배열\n",
    "print(a0)"
   ]
  },
  {
   "cell_type": "code",
   "execution_count": 16,
   "id": "a2306e4b",
   "metadata": {},
   "outputs": [
    {
     "name": "stdout",
     "output_type": "stream",
     "text": [
      "[[ 0  1  2  3  4  5]\n",
      " [ 6  7  8  9 10 11]\n",
      " [12 13 14 15 16 17]\n",
      " [18 19 20 21 22 23]]\n"
     ]
    }
   ],
   "source": [
    "a1 = np.arange(24).reshape((4, 6))  # 2차원 배열\n",
    "print(a1)"
   ]
  },
  {
   "cell_type": "code",
   "execution_count": 17,
   "id": "00a99fcc",
   "metadata": {},
   "outputs": [
    {
     "name": "stdout",
     "output_type": "stream",
     "text": [
      "[[[ 0  1  2]\n",
      "  [ 3  4  5]\n",
      "  [ 6  7  8]\n",
      "  [ 9 10 11]]\n",
      "\n",
      " [[12 13 14]\n",
      "  [15 16 17]\n",
      "  [18 19 20]\n",
      "  [21 22 23]]]\n"
     ]
    }
   ],
   "source": [
    "a2 = np.arange(24).reshape((2, 4, 3))  # 3차원 배열\n",
    "print(a2)"
   ]
  },
  {
   "cell_type": "code",
   "execution_count": 18,
   "id": "3dadb4dd",
   "metadata": {},
   "outputs": [
    {
     "name": "stdout",
     "output_type": "stream",
     "text": [
      "5\n",
      "45\n"
     ]
    }
   ],
   "source": [
    "print(a0[5])  # 5번 인덱스 요소 참조\n",
    "a0[5]=45\n",
    "print(a0[5])  # 5번 인덱스 요소 참조"
   ]
  },
  {
   "cell_type": "code",
   "execution_count": 19,
   "id": "b2e9a1cf",
   "metadata": {},
   "outputs": [
    {
     "name": "stdout",
     "output_type": "stream",
     "text": [
      "19\n",
      "99\n"
     ]
    }
   ],
   "source": [
    "print(a1[3][1])\n",
    "a1[3][1]=99\n",
    "print(a1[3][1])"
   ]
  },
  {
   "cell_type": "code",
   "execution_count": 20,
   "id": "87e7ebc9",
   "metadata": {},
   "outputs": [
    {
     "name": "stdout",
     "output_type": "stream",
     "text": [
      "[[[ 0  1  2]\n",
      "  [ 3  4  5]\n",
      "  [ 6  7  8]\n",
      "  [ 9 10 11]]\n",
      "\n",
      " [[12 13 14]\n",
      "  [15 16 17]\n",
      "  [18 19 20]\n",
      "  [21 22 23]]]\n",
      "[[[ 0  1  2]\n",
      "  [ 3  4  5]\n",
      "  [99  7  8]\n",
      "  [ 9 10 11]]\n",
      "\n",
      " [[12 13 14]\n",
      "  [15 16 17]\n",
      "  [18 19 20]\n",
      "  [21 22 23]]]\n"
     ]
    }
   ],
   "source": [
    "print(a2)\n",
    "a2[0,2,0]=99\n",
    "print(a2)"
   ]
  },
  {
   "cell_type": "code",
   "execution_count": 21,
   "id": "5709b192",
   "metadata": {},
   "outputs": [],
   "source": [
    "def pprint(arr):\n",
    "    print(\"type:{}\".format(type(arr)))\n",
    "    print(\"shape: {}, dimension: {}, dtype:{}\".format(arr.shape, arr.ndim, arr.dtype))\n",
    "    print(\"Array's Data:\\n\", arr)"
   ]
  },
  {
   "cell_type": "code",
   "execution_count": 22,
   "id": "c645892c",
   "metadata": {},
   "outputs": [
    {
     "name": "stdout",
     "output_type": "stream",
     "text": [
      "type:<class 'numpy.ndarray'>\n",
      "shape: (4, 6), dimension: 2, dtype:int32\n",
      "Array's Data:\n",
      " [[ 1  2  3  4  5  6]\n",
      " [ 7  8  9 10 11 12]\n",
      " [13 14 15 16 17 18]\n",
      " [19 20 21 22 23 24]]\n"
     ]
    }
   ],
   "source": [
    "a1 = np.arange(1, 25).reshape((4, 6))  # 2차원 배열\n",
    "pprint(a1)"
   ]
  },
  {
   "cell_type": "code",
   "execution_count": 23,
   "id": "7301bb2a",
   "metadata": {},
   "outputs": [
    {
     "name": "stdout",
     "output_type": "stream",
     "text": [
      "[ 7  8  9 10 11 12]\n"
     ]
    }
   ],
   "source": [
    "print(a1[1]) # 1행의 시작"
   ]
  },
  {
   "cell_type": "code",
   "execution_count": 24,
   "id": "b91aa403",
   "metadata": {},
   "outputs": [
    {
     "name": "stdout",
     "output_type": "stream",
     "text": [
      "10\n"
     ]
    }
   ],
   "source": [
    "print(a1[1,3]) #1행 3열 Node"
   ]
  },
  {
   "cell_type": "code",
   "execution_count": 25,
   "id": "877311af",
   "metadata": {},
   "outputs": [
    {
     "name": "stdout",
     "output_type": "stream",
     "text": [
      "[[ 7  8  9 10 11 12]\n",
      " [13 14 15 16 17 18]]\n"
     ]
    }
   ],
   "source": [
    "print(a1[1:3]) # 1행부터 2행까지 "
   ]
  },
  {
   "cell_type": "code",
   "execution_count": 26,
   "id": "e4fbfed2",
   "metadata": {},
   "outputs": [
    {
     "name": "stdout",
     "output_type": "stream",
     "text": [
      "[ 8 14]\n"
     ]
    }
   ],
   "source": [
    "print(a1[1:3,1]) # 1행부터 2행까지 중 1열data"
   ]
  },
  {
   "cell_type": "code",
   "execution_count": 27,
   "id": "8743b527",
   "metadata": {},
   "outputs": [
    {
     "name": "stdout",
     "output_type": "stream",
     "text": [
      "[[ 8]\n",
      " [14]]\n"
     ]
    }
   ],
   "source": [
    "print(a1[1:3,1:2]) # 1행부터 2행까지 중 1열data"
   ]
  },
  {
   "cell_type": "code",
   "execution_count": 28,
   "id": "eda37e60",
   "metadata": {},
   "outputs": [
    {
     "name": "stdout",
     "output_type": "stream",
     "text": [
      "[[ 7  8  9 10 11 12]\n",
      " [13 14 15 16 17 18]]\n"
     ]
    }
   ],
   "source": [
    "print(a1[1:-1]) #1행부터 다음행까지만///"
   ]
  },
  {
   "cell_type": "code",
   "execution_count": 29,
   "id": "28a46266",
   "metadata": {},
   "outputs": [
    {
     "name": "stdout",
     "output_type": "stream",
     "text": [
      "[[ 8  9 10 11]\n",
      " [14 15 16 17]]\n"
     ]
    }
   ],
   "source": [
    "print(a1[1:-1,1:5])# "
   ]
  },
  {
   "cell_type": "code",
   "execution_count": 30,
   "id": "25a1f55f",
   "metadata": {},
   "outputs": [
    {
     "name": "stdout",
     "output_type": "stream",
     "text": [
      "[[ 8  9 10 11]\n",
      " [14 15 16 17]]\n"
     ]
    }
   ],
   "source": [
    "print(a1[1:-1,1:-1])"
   ]
  },
  {
   "cell_type": "code",
   "execution_count": 31,
   "id": "f7c706f6",
   "metadata": {},
   "outputs": [
    {
     "name": "stdout",
     "output_type": "stream",
     "text": [
      "[[ 8  9 10 11 12]\n",
      " [14 15 16 17 18]]\n"
     ]
    }
   ],
   "source": [
    "print(a1[1:-1,1:6])"
   ]
  },
  {
   "cell_type": "code",
   "execution_count": 32,
   "id": "cb30589e",
   "metadata": {},
   "outputs": [
    {
     "name": "stdout",
     "output_type": "stream",
     "text": [
      "[]\n"
     ]
    }
   ],
   "source": [
    "print(a1[1:-1,1:0])"
   ]
  },
  {
   "cell_type": "code",
   "execution_count": 33,
   "id": "12ccf858",
   "metadata": {},
   "outputs": [],
   "source": [
    "sr=a1[1:3,1:5]"
   ]
  },
  {
   "cell_type": "code",
   "execution_count": 34,
   "id": "fad0c901",
   "metadata": {},
   "outputs": [
    {
     "name": "stdout",
     "output_type": "stream",
     "text": [
      "[[ 8  9 10 11]\n",
      " [14 15 16 17]]\n"
     ]
    }
   ],
   "source": [
    "print(sr)"
   ]
  },
  {
   "cell_type": "code",
   "execution_count": 35,
   "id": "ab25846e",
   "metadata": {},
   "outputs": [
    {
     "name": "stdout",
     "output_type": "stream",
     "text": [
      "[[ 9 10]\n",
      " [15 16]]\n"
     ]
    }
   ],
   "source": [
    "print(sr[:,1:3]) # 전체에서 1열~2열"
   ]
  },
  {
   "cell_type": "code",
   "execution_count": 36,
   "id": "e9dd3607",
   "metadata": {},
   "outputs": [
    {
     "name": "stdout",
     "output_type": "stream",
     "text": [
      "[[ 1  2  3  4  5  6]\n",
      " [ 7  8  9 10 11 12]\n",
      " [13 14 15 16 17 18]\n",
      " [19 20 21 22 23 24]]\n"
     ]
    }
   ],
   "source": [
    "arr=np.arange(1, 25).reshape((4, 6))\n",
    "print(arr)"
   ]
  },
  {
   "cell_type": "code",
   "execution_count": 37,
   "id": "6916cc06",
   "metadata": {},
   "outputs": [
    {
     "name": "stdout",
     "output_type": "stream",
     "text": [
      "1\n",
      "8\n",
      "15\n"
     ]
    }
   ],
   "source": [
    "print(arr[0,0])\n",
    "print(arr[1,1])\n",
    "print(arr[2,2])"
   ]
  },
  {
   "cell_type": "code",
   "execution_count": 38,
   "id": "cf687dca",
   "metadata": {},
   "outputs": [
    {
     "name": "stdout",
     "output_type": "stream",
     "text": [
      "[1, 8, 15, 22]\n"
     ]
    }
   ],
   "source": [
    "print([arr[0,0],arr[1,1],arr[2,2],arr[3,3]]) #Facncy"
   ]
  },
  {
   "cell_type": "code",
   "execution_count": 39,
   "id": "5d24b9a1",
   "metadata": {},
   "outputs": [
    {
     "data": {
      "text/plain": [
       "array([[ 1,  2,  3,  4,  5,  6],\n",
       "       [ 7,  8,  9, 10, 11, 12],\n",
       "       [13, 14, 15, 16, 17, 18],\n",
       "       [19, 20, 21, 22, 23, 24]])"
      ]
     },
     "execution_count": 39,
     "metadata": {},
     "output_type": "execute_result"
    }
   ],
   "source": [
    "arr[[0,1,2,3]]"
   ]
  },
  {
   "cell_type": "code",
   "execution_count": 40,
   "id": "c3649d5b",
   "metadata": {},
   "outputs": [
    {
     "data": {
      "text/plain": [
       "array([ 1,  8, 15, 22])"
      ]
     },
     "execution_count": 40,
     "metadata": {},
     "output_type": "execute_result"
    }
   ],
   "source": [
    "arr[[0,1,2,3],[0,1,2,3]] #0,0 1,1 2,2, 3,3"
   ]
  },
  {
   "cell_type": "code",
   "execution_count": 41,
   "id": "420ebcfc",
   "metadata": {},
   "outputs": [
    {
     "name": "stdout",
     "output_type": "stream",
     "text": [
      "[[ 2  3]\n",
      " [ 8  9]\n",
      " [14 15]\n",
      " [20 21]]\n"
     ]
    }
   ],
   "source": [
    "print(arr[:,[1,2]])"
   ]
  },
  {
   "cell_type": "code",
   "execution_count": null,
   "id": "bc00808b",
   "metadata": {},
   "outputs": [],
   "source": []
  },
  {
   "cell_type": "code",
   "execution_count": null,
   "id": "33a09999",
   "metadata": {},
   "outputs": [],
   "source": []
  },
  {
   "cell_type": "code",
   "execution_count": null,
   "id": "b352c93c",
   "metadata": {},
   "outputs": [],
   "source": []
  }
 ],
 "metadata": {
  "kernelspec": {
   "display_name": "Python 3 (ipykernel)",
   "language": "python",
   "name": "python3"
  },
  "language_info": {
   "codemirror_mode": {
    "name": "ipython",
    "version": 3
   },
   "file_extension": ".py",
   "mimetype": "text/x-python",
   "name": "python",
   "nbconvert_exporter": "python",
   "pygments_lexer": "ipython3",
   "version": "3.9.13"
  }
 },
 "nbformat": 4,
 "nbformat_minor": 5
}
