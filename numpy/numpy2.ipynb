{
 "cells": [
  {
   "cell_type": "markdown",
   "id": "b011281f",
   "metadata": {},
   "source": [
    "* NumPy"
   ]
  },
  {
   "cell_type": "code",
   "execution_count": 1,
   "id": "c9fbdcc2",
   "metadata": {},
   "outputs": [],
   "source": [
    "import numpy as np"
   ]
  },
  {
   "cell_type": "code",
   "execution_count": 25,
   "id": "aab7493f",
   "metadata": {},
   "outputs": [
    {
     "name": "stdout",
     "output_type": "stream",
     "text": [
      "[12, 59, 85] <class 'list'>\n",
      "type: <class 'numpy.ndarray'>\n",
      "shape: (3,)\n",
      "dimension: 1\n",
      "array2: \n",
      " [12 59 85]\n"
     ]
    }
   ],
   "source": [
    "listvalue1=[12, 59, 85]\n",
    "print(listvalue1, type(listvalue1))\n",
    "\n",
    "array1=np.array(listvalue1)\n",
    "print('type:', type(array1))\n",
    "print('shape:', array1.shape)\n",
    "print('dimension:', array1.ndim)\n",
    "print('array2: \\n', array1)"
   ]
  },
  {
   "cell_type": "code",
   "execution_count": 24,
   "id": "c1fe793a",
   "metadata": {},
   "outputs": [
    {
     "name": "stdout",
     "output_type": "stream",
     "text": [
      "[[62, 45, 12], [25, 6, 91]] <class 'list'>\n",
      "type: <class 'numpy.ndarray'>\n",
      "shape: (2, 3)\n",
      "dimension: 2\n",
      "array2: \n",
      " [[62 45 12]\n",
      " [25  6 91]]\n"
     ]
    }
   ],
   "source": [
    "listvalue2=[[62, 45, 12], [25, 6, 91]]\n",
    "print(listvalue2, type(listvalue2))\n",
    "\n",
    "array2=np.array(listvalue2)\n",
    "print('type:', type(array2))\n",
    "print('shape:', array2.shape)\n",
    "print('dimension:', array2.ndim)\n",
    "print('array2: \\n', array2)"
   ]
  },
  {
   "cell_type": "code",
   "execution_count": 23,
   "id": "d7f5d5e2",
   "metadata": {
    "scrolled": true
   },
   "outputs": [
    {
     "name": "stdout",
     "output_type": "stream",
     "text": [
      "type: <class 'numpy.ndarray'>\n",
      "shape: (2, 2, 3)\n",
      "dimension: 3\n",
      "array3: \n",
      " [[[ 1  2  3]\n",
      "  [ 4  5  6]]\n",
      "\n",
      " [[ 7  8  9]\n",
      "  [10 11 12]]]\n"
     ]
    }
   ],
   "source": [
    "array3=np.array([[[1,2,3], [4,5,6]], [[7,8,9], [10,11,12]]])\n",
    "print('type:', type(array3))\n",
    "print('shape:', array3.shape)\n",
    "print('dimension:', array3.ndim)\n",
    "print('array3: \\n', array3)"
   ]
  },
  {
   "cell_type": "code",
   "execution_count": null,
   "id": "3a16a9c0",
   "metadata": {},
   "outputs": [],
   "source": [
    "import numpy as np"
   ]
  },
  {
   "cell_type": "code",
   "execution_count": 37,
   "id": "946e0b99",
   "metadata": {},
   "outputs": [
    {
     "name": "stdout",
     "output_type": "stream",
     "text": [
      "<class 'numpy.ndarray'> --> [1 2 3]\n",
      "dtype: int32\n"
     ]
    }
   ],
   "source": [
    "list1=[1,2,3]\n",
    "array1=np.array(list1)\n",
    "print(type(array1), '-->', array1)\n",
    "print('dtype:', array1.dtype)"
   ]
  },
  {
   "cell_type": "code",
   "execution_count": 36,
   "id": "30fe3b88",
   "metadata": {},
   "outputs": [
    {
     "name": "stdout",
     "output_type": "stream",
     "text": [
      "<class 'numpy.ndarray'> --> ['1' '2' '3' 'test']\n",
      "dtype: <U11\n"
     ]
    }
   ],
   "source": [
    "list2=[1,2,3, 'test']  # -------- 홀따옴표가 들어간다. str\n",
    "array2=np.array(list2)\n",
    "print(type(array2), '-->', array2)\n",
    "print('dtype:', array2.dtype)"
   ]
  },
  {
   "cell_type": "code",
   "execution_count": 41,
   "id": "99ec2a71",
   "metadata": {},
   "outputs": [
    {
     "name": "stdout",
     "output_type": "stream",
     "text": [
      "array_int [10 20 30]\n",
      "type int32\n"
     ]
    }
   ],
   "source": [
    "array_int=np.array([10, 20, 30])\n",
    "print('array_int', array_int)\n",
    "print('dtype', array_int.dtype)"
   ]
  },
  {
   "cell_type": "code",
   "execution_count": 43,
   "id": "789058c3",
   "metadata": {},
   "outputs": [
    {
     "name": "stdout",
     "output_type": "stream",
     "text": [
      "array_float [10. 20. 30.]\n",
      "dtype float64\n"
     ]
    }
   ],
   "source": [
    "array_float=array_int.astype('float64')\n",
    "print('array_float', array_float)\n",
    "print('dtype', array_float.dtype)"
   ]
  },
  {
   "cell_type": "code",
   "execution_count": 47,
   "id": "6041a34d",
   "metadata": {},
   "outputs": [
    {
     "name": "stdout",
     "output_type": "stream",
     "text": [
      "array_float [ 1.4  2.6  4.2 34.1]\n",
      "dtype float64\n",
      "array_int [ 1  2  4 34]\n",
      "dtype int32\n"
     ]
    }
   ],
   "source": [
    "array_float=np.array([1.4, 2.6, 4.2, 34.1])\n",
    "print('array_float', array_float)\n",
    "print('dtype', array_float.dtype)\n",
    "array_int=array_float.astype('int32')\n",
    "print('array_int', array_int)\n",
    "print('dtype', array_int.dtype)"
   ]
  },
  {
   "cell_type": "code",
   "execution_count": 51,
   "id": "dce14bf3",
   "metadata": {},
   "outputs": [
    {
     "name": "stdout",
     "output_type": "stream",
     "text": [
      "array_str ['a' 'b' 'c']\n",
      "dtype <U1\n"
     ]
    },
    {
     "ename": "ValueError",
     "evalue": "invalid literal for int() with base 10: 'a'",
     "output_type": "error",
     "traceback": [
      "\u001b[1;31m---------------------------------------------------------------------------\u001b[0m",
      "\u001b[1;31mValueError\u001b[0m                                Traceback (most recent call last)",
      "\u001b[1;32m~\\AppData\\Local\\Temp\\ipykernel_10500\\4007874513.py\u001b[0m in \u001b[0;36m<module>\u001b[1;34m\u001b[0m\n\u001b[0;32m      2\u001b[0m \u001b[0mprint\u001b[0m\u001b[1;33m(\u001b[0m\u001b[1;34m'array_str'\u001b[0m\u001b[1;33m,\u001b[0m \u001b[0marray_str\u001b[0m\u001b[1;33m)\u001b[0m\u001b[1;33m\u001b[0m\u001b[1;33m\u001b[0m\u001b[0m\n\u001b[0;32m      3\u001b[0m \u001b[0mprint\u001b[0m\u001b[1;33m(\u001b[0m\u001b[1;34m'dtype'\u001b[0m\u001b[1;33m,\u001b[0m \u001b[0marray_str\u001b[0m\u001b[1;33m.\u001b[0m\u001b[0mdtype\u001b[0m\u001b[1;33m)\u001b[0m\u001b[1;33m\u001b[0m\u001b[1;33m\u001b[0m\u001b[0m\n\u001b[1;32m----> 4\u001b[1;33m \u001b[0marray_int\u001b[0m\u001b[1;33m=\u001b[0m\u001b[0marray_str\u001b[0m\u001b[1;33m.\u001b[0m\u001b[0mastype\u001b[0m\u001b[1;33m(\u001b[0m\u001b[1;34m'int32'\u001b[0m\u001b[1;33m)\u001b[0m\u001b[1;33m\u001b[0m\u001b[1;33m\u001b[0m\u001b[0m\n\u001b[0m\u001b[0;32m      5\u001b[0m \u001b[0mprint\u001b[0m\u001b[1;33m(\u001b[0m\u001b[1;34m'array_int'\u001b[0m\u001b[1;33m,\u001b[0m \u001b[0marray_int\u001b[0m\u001b[1;33m)\u001b[0m\u001b[1;33m\u001b[0m\u001b[1;33m\u001b[0m\u001b[0m\n\u001b[0;32m      6\u001b[0m \u001b[0mprint\u001b[0m\u001b[1;33m(\u001b[0m\u001b[1;34m'dtype'\u001b[0m\u001b[1;33m,\u001b[0m \u001b[0marray_int\u001b[0m\u001b[1;33m.\u001b[0m\u001b[0mdtype\u001b[0m\u001b[1;33m)\u001b[0m\u001b[1;33m\u001b[0m\u001b[1;33m\u001b[0m\u001b[0m\n",
      "\u001b[1;31mValueError\u001b[0m: invalid literal for int() with base 10: 'a'"
     ]
    }
   ],
   "source": [
    "array_str=np.array(['a','b','c'])\n",
    "print('array_str', array_str)\n",
    "print('dtype', array_str.dtype)\n",
    "array_int=array_str.astype('int32')\n",
    "print('array_int', array_int)\n",
    "print('dtype', array_int.dtype)"
   ]
  },
  {
   "cell_type": "code",
   "execution_count": 55,
   "id": "f0936710",
   "metadata": {},
   "outputs": [
    {
     "name": "stdout",
     "output_type": "stream",
     "text": [
      "[0 1 2 3 4 5 6 7 8 9]\n",
      "dtype: int32 , shape: (10,)\n",
      "ndim: 1\n"
     ]
    }
   ],
   "source": [
    "sequence_array=np.arange(10)\n",
    "print(sequence_array)\n",
    "print('dtype:', sequence_array.dtype, ', shape:', sequence_array.shape)\n",
    "print('ndim:', sequence_array.ndim)"
   ]
  },
  {
   "cell_type": "code",
   "execution_count": 62,
   "id": "84e9e9b6",
   "metadata": {},
   "outputs": [
    {
     "name": "stdout",
     "output_type": "stream",
     "text": [
      "type: <class 'numpy.ndarray'>\n",
      "shape: (3, 2)\n",
      "dimension: 2\n",
      "zero_array: \n",
      " [[0 0]\n",
      " [0 0]\n",
      " [0 0]]\n"
     ]
    }
   ],
   "source": [
    "zero_array=np.zeros((3,2), dtype='int32')\n",
    "print('type:', type(zero_array))\n",
    "print('shape:', zero_array.shape)\n",
    "print('dimension:', zero_array.ndim)\n",
    "print('zero_array: \\n', zero_array)"
   ]
  },
  {
   "cell_type": "code",
   "execution_count": 61,
   "id": "ff073e51",
   "metadata": {},
   "outputs": [
    {
     "name": "stdout",
     "output_type": "stream",
     "text": [
      "type: <class 'numpy.ndarray'>\n",
      "shape: (2, 2, 4)\n",
      "dimension: 3\n",
      "one_array: \n",
      " [[[1 1 1 1]\n",
      "  [1 1 1 1]]\n",
      "\n",
      " [[1 1 1 1]\n",
      "  [1 1 1 1]]]\n"
     ]
    }
   ],
   "source": [
    "one_array=np.ones((2, 2, 4), dtype='int32')\n",
    "print('type:', type(one_array))\n",
    "print('shape:', one_array.shape)\n",
    "print('dimension:', one_array.ndim)\n",
    "print('one_array: \\n', one_array)"
   ]
  },
  {
   "cell_type": "markdown",
   "id": "39a01b57",
   "metadata": {},
   "source": [
    "<hr>\n",
    "* ndarray의 차원과 크기 변경"
   ]
  },
  {
   "cell_type": "code",
   "execution_count": 63,
   "id": "2c0c20c4",
   "metadata": {},
   "outputs": [],
   "source": [
    "import numpy as np"
   ]
  },
  {
   "cell_type": "code",
   "execution_count": 69,
   "id": "6cf0bf40",
   "metadata": {},
   "outputs": [
    {
     "name": "stdout",
     "output_type": "stream",
     "text": [
      "[0 1 2 3 4 5 6 7 8 9]\n"
     ]
    }
   ],
   "source": [
    "array1=np.arange(10)\n",
    "print(array1)   # ----------------- 1행 10열"
   ]
  },
  {
   "cell_type": "code",
   "execution_count": 70,
   "id": "4b1cca82",
   "metadata": {},
   "outputs": [
    {
     "name": "stdout",
     "output_type": "stream",
     "text": [
      "[[0 1 2 3 4]\n",
      " [5 6 7 8 9]]\n"
     ]
    }
   ],
   "source": [
    "array2=array1.reshape(2,5) # ------ 2행 5열로 바꾸기\n",
    "print(array2)"
   ]
  },
  {
   "cell_type": "code",
   "execution_count": 72,
   "id": "6464df5f",
   "metadata": {},
   "outputs": [
    {
     "name": "stdout",
     "output_type": "stream",
     "text": [
      "[[0 1]\n",
      " [2 3]\n",
      " [4 5]\n",
      " [6 7]\n",
      " [8 9]]\n"
     ]
    }
   ],
   "source": [
    "array3=array2.reshape(5,2) # ------ 5행 2열로 바꾸기\n",
    "print(array3)"
   ]
  },
  {
   "cell_type": "code",
   "execution_count": 73,
   "id": "1894baf3",
   "metadata": {},
   "outputs": [
    {
     "name": "stdout",
     "output_type": "stream",
     "text": [
      "[ 0  1  2  3  4  5  6  7  8  9 10 11 12 13 14 15 16 17 18 19 20 21 22 23\n",
      " 24 25 26 27 28 29 30 31 32 33 34 35 36 37 38 39 40 41]\n"
     ]
    }
   ],
   "source": [
    "array1=np.arange(42)\n",
    "print(array1)"
   ]
  },
  {
   "cell_type": "code",
   "execution_count": 84,
   "id": "4f654f54",
   "metadata": {},
   "outputs": [
    {
     "name": "stdout",
     "output_type": "stream",
     "text": [
      "[[[ 0  1  2  3  4  5  6]\n",
      "  [ 7  8  9 10 11 12 13]\n",
      "  [14 15 16 17 18 19 20]]\n",
      "\n",
      " [[21 22 23 24 25 26 27]\n",
      "  [28 29 30 31 32 33 34]\n",
      "  [35 36 37 38 39 40 41]]]\n"
     ]
    }
   ],
   "source": [
    "array2=array1.reshape(2, 3, 7) # --- 2depth 3행 7열\n",
    "print(array2)"
   ]
  },
  {
   "cell_type": "code",
   "execution_count": 85,
   "id": "668fee87",
   "metadata": {},
   "outputs": [
    {
     "name": "stdout",
     "output_type": "stream",
     "text": [
      "[[ 0  1  2  3  4  5  6]\n",
      " [ 7  8  9 10 11 12 13]\n",
      " [14 15 16 17 18 19 20]\n",
      " [21 22 23 24 25 26 27]\n",
      " [28 29 30 31 32 33 34]\n",
      " [35 36 37 38 39 40 41]]\n"
     ]
    }
   ],
   "source": [
    "array3=array1.reshape(-1, 7) # ------ 7개씩 끊어주기 (2차원). 앞 음수의 절대값은 무관하다.\n",
    "print(array3)"
   ]
  },
  {
   "cell_type": "code",
   "execution_count": 87,
   "id": "2feed458",
   "metadata": {},
   "outputs": [
    {
     "name": "stdout",
     "output_type": "stream",
     "text": [
      "[[[ 0  1  2  3  4  5  6]\n",
      "  [ 7  8  9 10 11 12 13]]\n",
      "\n",
      " [[14 15 16 17 18 19 20]\n",
      "  [21 22 23 24 25 26 27]]\n",
      "\n",
      " [[28 29 30 31 32 33 34]\n",
      "  [35 36 37 38 39 40 41]]]\n"
     ]
    }
   ],
   "source": [
    "array4=array1.reshape(3, -1, 7) # ---- 7개씩 끊어서 3depth로 나누기\n",
    "print(array4)"
   ]
  },
  {
   "cell_type": "code",
   "execution_count": null,
   "id": "0643cf08",
   "metadata": {},
   "outputs": [],
   "source": []
  },
  {
   "cell_type": "code",
   "execution_count": null,
   "id": "e38490d7",
   "metadata": {},
   "outputs": [],
   "source": []
  },
  {
   "cell_type": "code",
   "execution_count": null,
   "id": "e422dd89",
   "metadata": {},
   "outputs": [],
   "source": []
  }
 ],
 "metadata": {
  "kernelspec": {
   "display_name": "Python [conda env:root]",
   "language": "python",
   "name": "conda-root-py"
  },
  "language_info": {
   "codemirror_mode": {
    "name": "ipython",
    "version": 3
   },
   "file_extension": ".py",
   "mimetype": "text/x-python",
   "name": "python",
   "nbconvert_exporter": "python",
   "pygments_lexer": "ipython3",
   "version": "3.9.13"
  }
 },
 "nbformat": 4,
 "nbformat_minor": 5
}
