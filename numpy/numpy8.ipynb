{
 "cells": [
  {
   "cell_type": "markdown",
   "id": "9f90d097",
   "metadata": {},
   "source": [
    "* NumPy"
   ]
  },
  {
   "cell_type": "code",
   "execution_count": 3,
   "id": "941f4109",
   "metadata": {},
   "outputs": [],
   "source": [
    "import numpy as np\n",
    "def pprint(arr):\n",
    "    print(\"type:{}\".format(type(arr)))\n",
    "    print(\"shape: {}, dimension: {}, dtype:{}\".format(arr.shape, arr.ndim, arr.dtype))\n",
    "    print(\"Array's Data:\\n\", arr)"
   ]
  },
  {
   "cell_type": "code",
   "execution_count": 4,
   "id": "bd3349be",
   "metadata": {},
   "outputs": [
    {
     "name": "stdout",
     "output_type": "stream",
     "text": [
      "[[[ 1  2  3]\n",
      "  [ 4  5  6]\n",
      "  [ 7  8  9]]\n",
      "\n",
      " [[10 11 12]\n",
      "  [13 14 15]\n",
      "  [16 17 18]]\n",
      "\n",
      " [[19 20 21]\n",
      "  [22 23 24]\n",
      "  [25 26 27]]]\n"
     ]
    }
   ],
   "source": [
    "a=np.arange(1,28).reshape(3,3,3)\n",
    "print(a)"
   ]
  },
  {
   "cell_type": "code",
   "execution_count": 25,
   "id": "e9215865",
   "metadata": {},
   "outputs": [
    {
     "name": "stdout",
     "output_type": "stream",
     "text": [
      "27\n",
      "[[19 20 21]\n",
      " [22 23 24]\n",
      " [25 26 27]]\n",
      "[[ 7  8  9]\n",
      " [16 17 18]\n",
      " [25 26 27]]\n",
      "[[ 3  6  9]\n",
      " [12 15 18]\n",
      " [21 24 27]]\n"
     ]
    }
   ],
   "source": [
    "print(np.max(a))\n",
    "print(np.max(a, axis=0))\n",
    "print(np.max(a, axis=1))\n",
    "print(np.max(a, axis=2))"
   ]
  },
  {
   "cell_type": "code",
   "execution_count": 23,
   "id": "5b829479",
   "metadata": {},
   "outputs": [
    {
     "name": "stdout",
     "output_type": "stream",
     "text": [
      "27\n",
      "[[19 20 21]\n",
      " [22 23 24]\n",
      " [25 26 27]]\n",
      "[[ 7  8  9]\n",
      " [16 17 18]\n",
      " [25 26 27]]\n",
      "[[ 3  6  9]\n",
      " [12 15 18]\n",
      " [21 24 27]]\n"
     ]
    }
   ],
   "source": [
    "print(a.max())\n",
    "print(a.max(axis=0))\n",
    "print(a.max(axis=1))\n",
    "print(a.max(axis=2))"
   ]
  },
  {
   "cell_type": "code",
   "execution_count": 27,
   "id": "58906fb1",
   "metadata": {},
   "outputs": [
    {
     "name": "stdout",
     "output_type": "stream",
     "text": [
      "1\n",
      "[[1 2 3]\n",
      " [4 5 6]\n",
      " [7 8 9]]\n",
      "[[ 1  2  3]\n",
      " [10 11 12]\n",
      " [19 20 21]]\n",
      "[[ 1  4  7]\n",
      " [10 13 16]\n",
      " [19 22 25]]\n"
     ]
    }
   ],
   "source": [
    "print(np.min(a))\n",
    "print(np.min(a, axis=0))\n",
    "print(np.min(a, axis=1))\n",
    "print(np.min(a, axis=2))"
   ]
  },
  {
   "cell_type": "code",
   "execution_count": 29,
   "id": "a36efd06",
   "metadata": {},
   "outputs": [
    {
     "name": "stdout",
     "output_type": "stream",
     "text": [
      "1\n",
      "[[1 2 3]\n",
      " [4 5 6]\n",
      " [7 8 9]]\n",
      "[[ 1  2  3]\n",
      " [10 11 12]\n",
      " [19 20 21]]\n",
      "[[ 1  4  7]\n",
      " [10 13 16]\n",
      " [19 22 25]]\n"
     ]
    }
   ],
   "source": [
    "print(a.min())\n",
    "print(a.min(axis=0))\n",
    "print(a.min(axis=1))\n",
    "print(a.min(axis=2))"
   ]
  },
  {
   "cell_type": "code",
   "execution_count": 11,
   "id": "62e8354f",
   "metadata": {},
   "outputs": [
    {
     "name": "stdout",
     "output_type": "stream",
     "text": [
      "[  1   3   6  10  15  21  28  36  45  55  66  78  91 105 120 136 153 171\n",
      " 190 210 231 253 276 300 325 351 378]\n",
      "[[[ 1  2  3]\n",
      "  [ 4  5  6]\n",
      "  [ 7  8  9]]\n",
      "\n",
      " [[11 13 15]\n",
      "  [17 19 21]\n",
      "  [23 25 27]]\n",
      "\n",
      " [[30 33 36]\n",
      "  [39 42 45]\n",
      "  [48 51 54]]]\n",
      "[[[ 1  2  3]\n",
      "  [ 5  7  9]\n",
      "  [12 15 18]]\n",
      "\n",
      " [[10 11 12]\n",
      "  [23 25 27]\n",
      "  [39 42 45]]\n",
      "\n",
      " [[19 20 21]\n",
      "  [41 43 45]\n",
      "  [66 69 72]]]\n",
      "[[[ 1  3  6]\n",
      "  [ 4  9 15]\n",
      "  [ 7 15 24]]\n",
      "\n",
      " [[10 21 33]\n",
      "  [13 27 42]\n",
      "  [16 33 51]]\n",
      "\n",
      " [[19 39 60]\n",
      "  [22 45 69]\n",
      "  [25 51 78]]]\n"
     ]
    }
   ],
   "source": [
    "print(np.cumsum(a))   # ------ 누적합계\n",
    "print(np.cumsum(a , axis=0))\n",
    "print(np.cumsum(a , axis=1))\n",
    "print(np.cumsum(a , axis=2))"
   ]
  },
  {
   "cell_type": "code",
   "execution_count": 14,
   "id": "49a868d9",
   "metadata": {},
   "outputs": [
    {
     "name": "stdout",
     "output_type": "stream",
     "text": [
      "14.0\n",
      "[[10. 11. 12.]\n",
      " [13. 14. 15.]\n",
      " [16. 17. 18.]]\n",
      "[[ 4.  5.  6.]\n",
      " [13. 14. 15.]\n",
      " [22. 23. 24.]]\n",
      "[[ 2.  5.  8.]\n",
      " [11. 14. 17.]\n",
      " [20. 23. 26.]]\n"
     ]
    }
   ],
   "source": [
    "print(np.mean(a))\n",
    "print(np.mean(a, axis=0))\n",
    "print(np.mean(a, axis=1))\n",
    "print(np.mean(a, axis=2))"
   ]
  },
  {
   "cell_type": "code",
   "execution_count": 16,
   "id": "29c17fb6",
   "metadata": {},
   "outputs": [
    {
     "name": "stdout",
     "output_type": "stream",
     "text": [
      "7.788880963698615\n",
      "[[7.34846923 7.34846923 7.34846923]\n",
      " [7.34846923 7.34846923 7.34846923]\n",
      " [7.34846923 7.34846923 7.34846923]]\n",
      "[[2.44948974 2.44948974 2.44948974]\n",
      " [2.44948974 2.44948974 2.44948974]\n",
      " [2.44948974 2.44948974 2.44948974]]\n",
      "[[0.81649658 0.81649658 0.81649658]\n",
      " [0.81649658 0.81649658 0.81649658]\n",
      " [0.81649658 0.81649658 0.81649658]]\n"
     ]
    }
   ],
   "source": [
    "print(np.std(a)) # ----------- 표준편차\n",
    "print(np.std(a, axis=0))\n",
    "print(np.std(a, axis=1))\n",
    "print(np.std(a, axis=2))"
   ]
  },
  {
   "cell_type": "code",
   "execution_count": 34,
   "id": "ba72cb95",
   "metadata": {},
   "outputs": [
    {
     "name": "stdout",
     "output_type": "stream",
     "text": [
      "[[[ 1  2  3]\n",
      "  [ 4  5  6]]\n",
      "\n",
      " [[ 7  8  9]\n",
      "  [10 11 12]]\n",
      "\n",
      " [[13 14 15]\n",
      "  [16 17 18]]\n",
      "\n",
      " [[19 20 21]\n",
      "  [22 23 24]]]\n"
     ]
    }
   ],
   "source": [
    "b=np.arange(1,25).reshape(4,2,3)\n",
    "print(b)"
   ]
  },
  {
   "cell_type": "code",
   "execution_count": 35,
   "id": "79ccf638",
   "metadata": {},
   "outputs": [
    {
     "name": "stdout",
     "output_type": "stream",
     "text": [
      "4\n"
     ]
    }
   ],
   "source": [
    "print(len(b))"
   ]
  },
  {
   "cell_type": "code",
   "execution_count": null,
   "id": "8589d5ef",
   "metadata": {},
   "outputs": [],
   "source": []
  }
 ],
 "metadata": {
  "kernelspec": {
   "display_name": "Python 3 (ipykernel)",
   "language": "python",
   "name": "python3"
  },
  "language_info": {
   "codemirror_mode": {
    "name": "ipython",
    "version": 3
   },
   "file_extension": ".py",
   "mimetype": "text/x-python",
   "name": "python",
   "nbconvert_exporter": "python",
   "pygments_lexer": "ipython3",
   "version": "3.9.13"
  }
 },
 "nbformat": 4,
 "nbformat_minor": 5
}
