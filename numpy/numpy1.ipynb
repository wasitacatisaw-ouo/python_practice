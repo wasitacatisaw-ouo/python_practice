{
 "cells": [
  {
   "cell_type": "code",
   "execution_count": 11,
   "id": "e21ff864",
   "metadata": {},
   "outputs": [
    {
     "name": "stdout",
     "output_type": "stream",
     "text": [
      "[1, 2, 3, 4] <class 'list'>\n",
      "[1 2 3 4] <class 'numpy.ndarray'>\n",
      "(4,)\n"
     ]
    }
   ],
   "source": [
    "import numpy as np\n",
    "list1=[1,2,3,4]\n",
    "array1=np.array(list1)\n",
    "print(list1, type(list1))\n",
    "#print(list1, list1.shape()) # ----- error\n",
    "print(array1, type(array1))\n",
    "print(array1.shape)"
   ]
  },
  {
   "cell_type": "markdown",
   "id": "0dd015f8",
   "metadata": {},
   "source": [
    "* numPy"
   ]
  },
  {
   "cell_type": "code",
   "execution_count": 12,
   "id": "628edc00",
   "metadata": {},
   "outputs": [
    {
     "name": "stdout",
     "output_type": "stream",
     "text": [
      "[0 1 2 3]\n",
      "[[0 1]\n",
      " [2 3]]\n",
      "[[0 1]\n",
      " [2 3]\n",
      " [4 5]\n",
      " [6 7]]\n",
      "7\n"
     ]
    }
   ],
   "source": [
    "import numpy as np\n",
    "print(np.arange(4)) #[0 1 2 3]\n",
    "print(np.arange(4).reshape(2,2))# [[0 1]\n",
    "                                # [2 3]]\n",
    "a=np.arange(8).reshape(4,2)\n",
    "print(a)\n",
    "print(np.amax(a))"
   ]
  },
  {
   "cell_type": "markdown",
   "id": "a22f8ad9",
   "metadata": {},
   "source": [
    "import numpy as np\n",
    "a=np.arange(7).reshape(4,2)  # ------------ 요소가 7개이므로 4행 2열로 만들 수 없다.\n",
    "print(a)\n",
    "print(np.amax(a))\n",
    "\n",
    "---------------------------------------------------------------------------\n",
    "ValueError                                Traceback (most recent call last)\n",
    "~\\AppData\\Local\\Temp\\ipykernel_8348\\1022154596.py in <module>\n",
    "      1 import numpy as np\n",
    "----> 2 a=np.arange(7).reshape(4,2)\n",
    "      3 print(a)\n",
    "      4 print(np.amax(a))\n",
    "\n",
    "ValueError: cannot reshape array of size 7 into shape (4,2)"
   ]
  },
  {
   "cell_type": "code",
   "execution_count": 17,
   "id": "f722007e",
   "metadata": {},
   "outputs": [
    {
     "name": "stdout",
     "output_type": "stream",
     "text": [
      "[0 1 2] [0 1 2 3]\n"
     ]
    }
   ],
   "source": [
    "a=np.array([0,1,2])\n",
    "b=np.append(a, 3)\n",
    "print(a, b)"
   ]
  },
  {
   "cell_type": "code",
   "execution_count": 19,
   "id": "70825cb4",
   "metadata": {},
   "outputs": [
    {
     "name": "stdout",
     "output_type": "stream",
     "text": [
      "[0 1 2 3 4] [1 2 3 4] [2 4 6 8]\n"
     ]
    }
   ],
   "source": [
    "x=np.arange(5)    # ------------------ 5 직전 까지\n",
    "y=np.arange(1, 5)   # ---------------- 1 부터 5\n",
    "z=np.arange(2, 10, 2)   # ------------ 2 부터 10, 간격 2\n",
    "print(x, y, z)"
   ]
  },
  {
   "cell_type": "code",
   "execution_count": 35,
   "id": "58e61eb2",
   "metadata": {},
   "outputs": [
    {
     "name": "stdout",
     "output_type": "stream",
     "text": [
      "[0 1 4 2 3]\n",
      "[5 0 1 4 2 3 4 2 3]\n",
      "[[1 2 3]\n",
      " [4 5 6]]\n",
      "amax= 4 argmax= 2\n",
      "amax= 5 argmax= 0\n",
      "amax= 6 argmax= 5\n"
     ]
    }
   ],
   "source": [
    "x=np.array([0, 1, 4, 2, 3])   \n",
    "y=np.array([5, 0, 1, 4, 2, 3, 4, 2, 3])   # ---------------- 중복 가능\n",
    "z=np.array([[1, 2, 3],[4, 5, 6]])   # ------------ 2 차원\n",
    "print(x)\n",
    "print(y)\n",
    "print(z)\n",
    "print(\"amax=\", np.amax(x), \"argmax=\", np.argmax(x)) # --------- amax = 전체의 최대값\n",
    "print(\"amax=\", np.amax(y), \"argmax=\", np.argmax(y)) # --------- argmax = 최대값의 index\n",
    "print(\"amax=\", np.amax(z), \"argmax=\", np.argmax(z))"
   ]
  },
  {
   "cell_type": "code",
   "execution_count": 42,
   "id": "ac98ce48",
   "metadata": {},
   "outputs": [
    {
     "name": "stdout",
     "output_type": "stream",
     "text": [
      "x [90  2  3]\n",
      "y [90  2  3]\n"
     ]
    }
   ],
   "source": [
    "x=np.array([1,2,3])\n",
    "#x[0]=90      ------------------ x [90  2  3]\n",
    "                               # y [90  2  3]\n",
    "y=np.copy(x)\n",
    "x[0]=90\n",
    "print('x', x)\n",
    "print('y', y)"
   ]
  },
  {
   "cell_type": "code",
   "execution_count": 48,
   "id": "221d1525",
   "metadata": {},
   "outputs": [
    {
     "name": "stdout",
     "output_type": "stream",
     "text": [
      "[]\n",
      "[0]\n",
      "[0 1]\n",
      "[ 0  1  2  3  4  5  6  7  8  9 10 11 12 13 14 15 16 17 18 19 20]\n",
      "21\n"
     ]
    }
   ],
   "source": [
    "arr = np.arange(0)\n",
    "print(arr)\n",
    "arr = np.arange(0, 1)\n",
    "print(arr)\n",
    "arr = np.arange(0, 2)\n",
    "print(arr)\n",
    "arr = np.arange(0, 4*5+1) # ---------- 연산 가능\n",
    "print(arr)\n",
    "print(len(arr))"
   ]
  },
  {
   "cell_type": "code",
   "execution_count": 53,
   "id": "c4c280f5",
   "metadata": {},
   "outputs": [
    {
     "name": "stdout",
     "output_type": "stream",
     "text": [
      "[[ 0  1  2  3  4  5  6]\n",
      " [ 7  8  9 10 11 12 13]\n",
      " [14 15 16 17 18 19 20]]\n"
     ]
    }
   ],
   "source": [
    "arr = np.arange(0, 4*5+1)\n",
    "v = arr.reshape(3, 7) # -------- 3행 7열\n",
    "print(v)"
   ]
  },
  {
   "cell_type": "code",
   "execution_count": 64,
   "id": "3f00ca30",
   "metadata": {},
   "outputs": [
    {
     "name": "stdout",
     "output_type": "stream",
     "text": [
      "[0 1 2 3 4 5 6 7]\n",
      "[[0 1 2 3]\n",
      " [4 5 6 7]]\n",
      "[[0 1 2 3]\n",
      " [4 5 6 7]]\n",
      "[[0 1 2 3]\n",
      " [4 5 6 7]]\n"
     ]
    }
   ],
   "source": [
    "arr = np.arange(0, 8)\n",
    "print(arr)\n",
    "v = arr.reshape([2, 4])\n",
    "print(v)\n",
    "v = arr.reshape((2, 4))\n",
    "print(v)\n",
    "v = arr.reshape(2, 4)\n",
    "print(v)"
   ]
  },
  {
   "cell_type": "code",
   "execution_count": 67,
   "id": "8b0476e5",
   "metadata": {},
   "outputs": [
    {
     "name": "stdout",
     "output_type": "stream",
     "text": [
      "[ 0  1  2  3  4  5  6  7  8  9 10 11 12 13 14 15 16 17 18 19 20 21 22 23\n",
      " 24 25 26 27 28 29 30 31]\n",
      "[[[ 0  1  2  3]\n",
      "  [ 4  5  6  7]]\n",
      "\n",
      " [[ 8  9 10 11]\n",
      "  [12 13 14 15]]\n",
      "\n",
      " [[16 17 18 19]\n",
      "  [20 21 22 23]]\n",
      "\n",
      " [[24 25 26 27]\n",
      "  [28 29 30 31]]]\n",
      "[[[ 0  1]\n",
      "  [ 2  3]\n",
      "  [ 4  5]\n",
      "  [ 6  7]]\n",
      "\n",
      " [[ 8  9]\n",
      "  [10 11]\n",
      "  [12 13]\n",
      "  [14 15]]\n",
      "\n",
      " [[16 17]\n",
      "  [18 19]\n",
      "  [20 21]\n",
      "  [22 23]]\n",
      "\n",
      " [[24 25]\n",
      "  [26 27]\n",
      "  [28 29]\n",
      "  [30 31]]]\n",
      "[[[ 0  1  2  3]\n",
      "  [ 4  5  6  7]\n",
      "  [ 8  9 10 11]\n",
      "  [12 13 14 15]]\n",
      "\n",
      " [[16 17 18 19]\n",
      "  [20 21 22 23]\n",
      "  [24 25 26 27]\n",
      "  [28 29 30 31]]]\n"
     ]
    }
   ],
   "source": [
    "arr = np.arange(0, 32)\n",
    "print(arr)\n",
    "v = arr.reshape([4, 2, 4]) # ----- depth 4개, 2행 4열\n",
    "print(v)\n",
    "v = arr.reshape(4, 4, 2) # ------- depth 4개, 4행 2열\n",
    "print(v)\n",
    "v = arr.reshape((2, 4, 4)) #------ depth 2개 4행 4열\n",
    "print(v)"
   ]
  },
  {
   "cell_type": "code",
   "execution_count": 71,
   "id": "c8d6b38c",
   "metadata": {},
   "outputs": [
    {
     "name": "stdout",
     "output_type": "stream",
     "text": [
      "[ 0  1  2  3  4  5  6  7  8  9 10 11 12 13 14 15 16 17 18 19 20 21 22 23\n",
      " 24 25 26 27 28 29 30 31]\n",
      "[[ 0  1  2  3  4  5  6  7]\n",
      " [ 8  9 10 11 12 13 14 15]\n",
      " [16 17 18 19 20 21 22 23]\n",
      " [24 25 26 27 28 29 30 31]]\n",
      "(32,)\n",
      "1\n"
     ]
    }
   ],
   "source": [
    "arr=np.arange(0,32)\n",
    "print(arr)\n",
    "print(arr.reshape(4,8)) \n",
    "print(arr.shape)\n",
    "print(arr.ndim) # -------- dimension\n"
   ]
  },
  {
   "cell_type": "markdown",
   "id": "b4ab5d06",
   "metadata": {},
   "source": [
    "### array = 1차원\n",
    "### 행+열 = 2차원\n",
    "### 행렬의 수 = depth\n",
    "--------------------------------------\n",
    "### x = axis 0\n",
    "### y = axis 1\n",
    "### depth = axis 2\n"
   ]
  },
  {
   "cell_type": "code",
   "execution_count": 79,
   "id": "ac363f8e",
   "metadata": {},
   "outputs": [
    {
     "name": "stdout",
     "output_type": "stream",
     "text": [
      "<class 'numpy.ndarray'>\n",
      "[[[ 0  1  2  3]\n",
      "  [ 4  5  6  7]]\n",
      "\n",
      " [[ 8  9 10 11]\n",
      "  [12 13 14 15]]\n",
      "\n",
      " [[16 17 18 19]\n",
      "  [20 21 22 23]]\n",
      "\n",
      " [[24 25 26 27]\n",
      "  [28 29 30 31]]]\n",
      "496\n"
     ]
    }
   ],
   "source": [
    "arr=np.arange(0,32)\n",
    "print(type(arr)) # -------------- <class 'numpy.ndarray'>\n",
    "v=arr.reshape([4, 2, 4]) # ------ 4개, 2행 4열\n",
    "print(v)\n",
    "print(v.sum())  # --------------- elements 합계"
   ]
  },
  {
   "cell_type": "code",
   "execution_count": 86,
   "id": "41ccb835",
   "metadata": {},
   "outputs": [
    {
     "name": "stdout",
     "output_type": "stream",
     "text": [
      "v.shape (4, 2, 4)\n",
      "v.ndim 3\n",
      "res01\n",
      " [[48 52 56 60]\n",
      " [64 68 72 76]]\n"
     ]
    }
   ],
   "source": [
    "res01=v.sum(axis=0) # ---------- 0축 (x축) elements 합\n",
    "print('v.shape', v.shape)\n",
    "print('v.ndim', v.ndim)\n",
    "print('res01\\n', res01)\n",
    "# 48 = (0, 0, 0) + (1, 0, 0) +...(3, 0, 0)\n",
    "# 52 = (0, 0, 1) + (1, 0, 1) +...(3, 0, 1)\n",
    "# ...\n",
    "# 76 = (0, 1, 3) + ... (3, 1, 3)"
   ]
  },
  {
   "cell_type": "code",
   "execution_count": 93,
   "id": "e704c5c5",
   "metadata": {},
   "outputs": [
    {
     "name": "stdout",
     "output_type": "stream",
     "text": [
      "v.shape (4, 2, 4)\n",
      "ndim 3\n",
      "res02\n",
      " [[ 4  6  8 10]\n",
      " [20 22 24 26]\n",
      " [36 38 40 42]\n",
      " [52 54 56 58]]\n"
     ]
    }
   ],
   "source": [
    "res02=v.sum(axis=1) # ---------- 1축 (y축) elements 합\n",
    "print('v.shape', v.shape)\n",
    "print('ndim', v.ndim)\n",
    "print('res02\\n', res02)\n",
    "# 4 --> (0 + 4) -->  (0, 0, 0) + (0, 1, 0)\n",
    "# 6 --> (1 + 5)\n",
    "# 8 --> (2 + 6) ..."
   ]
  },
  {
   "cell_type": "code",
   "execution_count": 87,
   "id": "1e641bdb",
   "metadata": {},
   "outputs": [
    {
     "name": "stdout",
     "output_type": "stream",
     "text": [
      "v.shape (4, 2, 4)\n",
      "ndim 3\n",
      "res03\n",
      " [[  6  22]\n",
      " [ 38  54]\n",
      " [ 70  86]\n",
      " [102 118]]\n"
     ]
    }
   ],
   "source": [
    "res03=v.sum(axis=2) # ---------- 2축 (depth) elements 합\n",
    "print('v.shape', v.shape)\n",
    "print('ndim', v.ndim)\n",
    "print('res03\\n', res03)\n",
    "# (0 + 1 + 2 + 3), (4 + 5 + 6 + 7)  -->       sum(0, 0, 0 ~ 3), sum (0, 1, 0 ~ 3)\n",
    "# (8 + 9 + 10 + 11), (12 + 13 + 14 + 15)  --> sum(1, 0, 0 ~ 3), sum(1, 0, 0 ~ 3)"
   ]
  },
  {
   "cell_type": "code",
   "execution_count": null,
   "id": "c75131b5",
   "metadata": {},
   "outputs": [],
   "source": []
  }
 ],
 "metadata": {
  "kernelspec": {
   "display_name": "Python [conda env:root]",
   "language": "python",
   "name": "conda-root-py"
  },
  "language_info": {
   "codemirror_mode": {
    "name": "ipython",
    "version": 3
   },
   "file_extension": ".py",
   "mimetype": "text/x-python",
   "name": "python",
   "nbconvert_exporter": "python",
   "pygments_lexer": "ipython3",
   "version": "3.9.13"
  }
 },
 "nbformat": 4,
 "nbformat_minor": 5
}
