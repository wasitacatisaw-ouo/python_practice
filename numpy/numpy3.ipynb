{
 "cells": [
  {
   "cell_type": "markdown",
   "id": "6c2a7825",
   "metadata": {},
   "source": [
    "*  Numpy"
   ]
  },
  {
   "cell_type": "code",
   "execution_count": 1,
   "id": "3a22ce3d",
   "metadata": {},
   "outputs": [
    {
     "name": "stdout",
     "output_type": "stream",
     "text": [
      "[[ 0  1  2  3]\n",
      " [ 4  5  6  7]\n",
      " [ 8  9 10 11]]\n",
      "[[ 0  1  2  3]\n",
      " [ 8  9 10 11]]\n"
     ]
    }
   ],
   "source": [
    "import numpy as np\n",
    "a=np.arange(12).reshape(3,4) # 1,2,3\n",
    "print(a)\n",
    "# [[ 0  1  2  3]\n",
    "#  [ 4  5  6  7]\n",
    "#  [ 8  9 10 11]]\n",
    "#print(np.delete(a,5)) #[ 0  1  2  3  4  6  7  8  9 10 11]  index5에 해당되는 데이터를 삭제하고 1차원\n",
    "#print(a)# 원본은 변하지 않는다...\n",
    "#print(np.delete(a,0,axis=1))  #axis=1 y축을 기준으로 삭제 \n",
    "# [[ 1  2  3]\n",
    "#  [ 5  6  7]\n",
    "#  [ 9 10 11]]\n",
    "\n",
    "print(np.delete(a,1,axis=0))  #axis=0 x축을 기준으로 삭제 \n",
    "#원본\n",
    "# [[ 0  1  2  3]\n",
    "#  [ 4  5  6  7]\n",
    "#  [ 8  9 10 11]]\n",
    "#delete(a,1,axis=0) 삭제\n",
    "# [[ 0  1  2  3]\n",
    "#  [ 8  9 10 11]]"
   ]
  },
  {
   "cell_type": "code",
   "execution_count": 2,
   "id": "cb1fde31",
   "metadata": {},
   "outputs": [
    {
     "name": "stdout",
     "output_type": "stream",
     "text": [
      "[[1. 0. 0. 0. 0. 0. 0. 0. 0. 0.]\n",
      " [0. 1. 0. 0. 0. 0. 0. 0. 0. 0.]\n",
      " [0. 0. 1. 0. 0. 0. 0. 0. 0. 0.]\n",
      " [0. 0. 0. 1. 0. 0. 0. 0. 0. 0.]\n",
      " [0. 0. 0. 0. 1. 0. 0. 0. 0. 0.]\n",
      " [0. 0. 0. 0. 0. 1. 0. 0. 0. 0.]\n",
      " [0. 0. 0. 0. 0. 0. 1. 0. 0. 0.]\n",
      " [0. 0. 0. 0. 0. 0. 0. 1. 0. 0.]\n",
      " [0. 0. 0. 0. 0. 0. 0. 0. 1. 0.]\n",
      " [0. 0. 0. 0. 0. 0. 0. 0. 0. 1.]]\n"
     ]
    }
   ],
   "source": [
    "print(np.identity(10)) #숫치만큼 행렬을 만든다..."
   ]
  },
  {
   "cell_type": "code",
   "execution_count": 3,
   "id": "a368bae8",
   "metadata": {},
   "outputs": [
    {
     "name": "stdout",
     "output_type": "stream",
     "text": [
      "[[1 2]\n",
      " [3 4]]\n",
      "[1 2 3 4]\n",
      "[[1 2]\n",
      " [3 4]]\n",
      "[1 2 3 4]\n",
      "[1 3 2 4]\n"
     ]
    }
   ],
   "source": [
    "a=np.array([[1,2],[3,4]])\n",
    "print(a)\n",
    "print(a.flatten())# 다차원을 1차원으로 변경 \n",
    "print(a)\n",
    "print(a.flatten('c'))\n",
    "print(a.flatten('f'))"
   ]
  },
  {
   "cell_type": "code",
   "execution_count": null,
   "id": "51a32047",
   "metadata": {},
   "outputs": [],
   "source": [
    "def pprint(arr):\n",
    "    print('type:{}'.format(type(arr)))\n",
    "    print(\"shape:{},dimension:{},dtype:{}\".format(arr.shape,arr.ndim,arr.dtype))\n",
    "    print(\"Array's Data:\\n\",arr)\n",
    "# 1차원배열로 numpy배열을 생성합니다\n",
    "# arr=[1,2,3]\n",
    "# a=np.array(arr)\n",
    "# pprint(a)\n",
    "\n",
    "#2차원\n",
    "#arr=[(1,2,3),(4,5,6)]\n",
    "#print(arr)\n",
    "#b=np.array(arr,dtype=float)\n",
    "#pprint(b)\n",
    "\n",
    "    "
   ]
  },
  {
   "cell_type": "code",
   "execution_count": null,
   "id": "b7f50265",
   "metadata": {},
   "outputs": [],
   "source": [
    "def pprint(arr):\n",
    "    print('type:{}'.format(type(arr)))\n",
    "    print(\"shape:{},dimension:{},dtype:{}\".format(arr.shape,arr.ndim,arr.dtype))\n",
    "    print(\"Array's Data:\\n\",arr)\n",
    "    \n",
    "# a=np.zeros((3,4))\n",
    "# pprint(a)\n",
    "\n",
    "# type:<class 'numpy.ndarray'>\n",
    "# shape:(3, 4),dimension:2,dtype:float64\n",
    "# Array's Data:\n",
    "#  [[0. 0. 0. 0.]\n",
    "#  [0. 0. 0. 0.]\n",
    "#  [0. 0. 0. 0.]]\n",
    "\n",
    "# a=np.ones((4,10,1),dtype=np.int16)\n",
    "# pprint(a)\n",
    "\n",
    "# a=np.full((5,9),7) 5행9열을 7로 full\n",
    "# pprint(a)\n",
    "\n",
    "# type:<class 'numpy.ndarray'>\n",
    "# shape:(5, 9),dimension:2,dtype:int32\n",
    "# Array's Data:\n",
    "#  [[7 7 7 7 7 7 7 7 7]\n",
    "#  [7 7 7 7 7 7 7 7 7]\n",
    "#  [7 7 7 7 7 7 7 7 7]\n",
    "#  [7 7 7 7 7 7 7 7 7]\n",
    "#  [7 7 7 7 7 7 7 7 7]]\n"
   ]
  },
  {
   "cell_type": "code",
   "execution_count": null,
   "id": "836951fe",
   "metadata": {},
   "outputs": [],
   "source": [
    "def pprint(arr):\n",
    "    print('type:{}'.format(type(arr)))\n",
    "    print(\"shape:{},dimension:{},dtype:{}\".format(arr.shape,arr.ndim,arr.dtype))\n",
    "    print(\"Array's Data:\\n\",arr)\n",
    "\n",
    "# a=np.eye(8) #float64로 matrix를 만든다 \n",
    "# pprint(a)\n",
    "# type:<class 'numpy.ndarray'>\n",
    "# shape:(8, 8),dimension:2,dtype:float64\n",
    "# Array's Data:\n",
    "#  [[1. 0. 0. 0. 0. 0. 0. 0.]\n",
    "#  [0. 1. 0. 0. 0. 0. 0. 0.]\n",
    "#  [0. 0. 1. 0. 0. 0. 0. 0.]\n",
    "#  [0. 0. 0. 1. 0. 0. 0. 0.]\n",
    "#  [0. 0. 0. 0. 1. 0. 0. 0.]\n",
    "#  [0. 0. 0. 0. 0. 1. 0. 0.]\n",
    "#  [0. 0. 0. 0. 0. 0. 1. 0.]\n",
    "#  [0. 0. 0. 0. 0. 0. 0. 1.]]"
   ]
  },
  {
   "cell_type": "code",
   "execution_count": null,
   "id": "4c56c713",
   "metadata": {},
   "outputs": [],
   "source": [
    "# a=np.empty((7,1))#초기화 과정이 없고 기존 메모리 그대로 사용\n",
    "# pprint(a)\n",
    "# type:<class 'numpy.ndarray'>\n",
    "# shape:(7, 1),dimension:2,dtype:float64\n",
    "# Array's Data:\n",
    "#  [[6.23042070e-307]\n",
    "#  [4.67296746e-307]\n",
    "#  [1.69121096e-306]\n",
    "#  [4.45039557e-307]\n",
    "#  [1.42419938e-306]\n",
    "#  [7.56603881e-307]\n",
    "#  [0.00000000e+000]]"
   ]
  },
  {
   "cell_type": "code",
   "execution_count": null,
   "id": "0443712a",
   "metadata": {},
   "outputs": [],
   "source": [
    "def pprint(arr):\n",
    "    print('type:{}'.format(type(arr)))\n",
    "    print(\"shape:{},dimension:{},dtype:{}\".format(arr.shape,arr.ndim,arr.dtype))\n",
    "    print(\"Array's Data:\\n\",arr)\n",
    "\n",
    "a=np.array([[1,2,3],[4,5,6]])  \n",
    "pprint(a)\n",
    "b=np.ones_like(a)\n",
    "pprint(b)\n",
    "# type:<class 'numpy.ndarray'>\n",
    "# shape:(2, 3),dimension:2,dtype:int32\n",
    "# Array's Data:\n",
    "#  [[1 2 3]\n",
    "#  [4 5 6]]\n",
    "# type:<class 'numpy.ndarray'>\n",
    "# shape:(2, 3),dimension:2,dtype:int32\n",
    "# Array's Data:\n",
    "#  [[1 1 1]\n",
    "#  [1 1 1]]    "
   ]
  },
  {
   "cell_type": "code",
   "execution_count": null,
   "id": "7ba6b322",
   "metadata": {},
   "outputs": [],
   "source": []
  },
  {
   "cell_type": "code",
   "execution_count": null,
   "id": "fbb2a6cb",
   "metadata": {},
   "outputs": [],
   "source": []
  }
 ],
 "metadata": {
  "kernelspec": {
   "display_name": "Python [conda env:root]",
   "language": "python",
   "name": "conda-root-py"
  },
  "language_info": {
   "codemirror_mode": {
    "name": "ipython",
    "version": 3
   },
   "file_extension": ".py",
   "mimetype": "text/x-python",
   "name": "python",
   "nbconvert_exporter": "python",
   "pygments_lexer": "ipython3",
   "version": "3.9.13"
  }
 },
 "nbformat": 4,
 "nbformat_minor": 5
}
