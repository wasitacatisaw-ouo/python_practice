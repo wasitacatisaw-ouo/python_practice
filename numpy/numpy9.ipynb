{
 "cells": [
  {
   "cell_type": "code",
   "execution_count": 1,
   "id": "582af89d",
   "metadata": {},
   "outputs": [],
   "source": [
    "import numpy as np\n",
    "\n",
    "def pprint(arr):\n",
    "    print(\"type:{}\".format(type(arr)))\n",
    "    print(\"shape: {}, dimension: {}, dtype:{}\".format(arr.shape, arr.ndim, arr.dtype))\n",
    "    print(\"Array's Data:\\n\", arr)"
   ]
  },
  {
   "cell_type": "code",
   "execution_count": 2,
   "id": "c1ab17b9",
   "metadata": {},
   "outputs": [
    {
     "name": "stdout",
     "output_type": "stream",
     "text": [
      "[[ 1  2  3  4  5  6]\n",
      " [ 7  8  9 10 11 12]\n",
      " [13 14 15 16 17 18]\n",
      " [19 20 21 22 23 24]]\n",
      "[[25 26 27 28 29 30]\n",
      " [31 32 33 34 35 36]\n",
      " [37 38 39 40 41 42]\n",
      " [43 44 45 46 47 48]]\n",
      "[[101 102 103 104 105 106]\n",
      " [107 108 109 110 111 112]\n",
      " [113 114 115 116 117 118]\n",
      " [119 120 121 122 123 124]]\n"
     ]
    }
   ],
   "source": [
    "a = np.arange(1, 25).reshape(4, 6)\n",
    "b = np.arange(25, 49).reshape(4, 6)\n",
    "print(a)\n",
    "print(b)\n",
    "# print(a>30)\n",
    "# print(b>30)\n",
    "# print(a+b)\n",
    "print(a+100) #브로드케스트 "
   ]
  },
  {
   "cell_type": "code",
   "execution_count": 3,
   "id": "50835762",
   "metadata": {},
   "outputs": [],
   "source": [
    "a = np.arange(5).reshape((1, 5))\n",
    "b = np.arange(5).reshape((5, 1))"
   ]
  },
  {
   "cell_type": "code",
   "execution_count": 4,
   "id": "5ba10a79",
   "metadata": {},
   "outputs": [
    {
     "name": "stdout",
     "output_type": "stream",
     "text": [
      "[[0 1 2 3 4]]\n",
      "[[0]\n",
      " [1]\n",
      " [2]\n",
      " [3]\n",
      " [4]]\n",
      "[[0 1 2 3 4]\n",
      " [1 2 3 4 5]\n",
      " [2 3 4 5 6]\n",
      " [3 4 5 6 7]\n",
      " [4 5 6 7 8]]\n"
     ]
    }
   ],
   "source": [
    "print(a)\n",
    "print(b)\n",
    "print(a+b)\n"
   ]
  },
  {
   "cell_type": "code",
   "execution_count": 5,
   "id": "a626819f",
   "metadata": {},
   "outputs": [
    {
     "name": "stdout",
     "output_type": "stream",
     "text": [
      "[[1 2 3 4]\n",
      " [2 4 6 8]\n",
      " [8 6 0 1]\n",
      " [5 4 5 1]]\n",
      "[[ 9 10 11 12]\n",
      " [10 12 14 16]\n",
      " [16 14  8  9]\n",
      " [13 12 13  9]]\n",
      "[[ 5  6  7  8]\n",
      " [ 6  8 10 12]\n",
      " [12 10  4  5]\n",
      " [ 9  8  9  5]]\n",
      "[[ 9 10 11 12]\n",
      " [11 13 15 17]\n",
      " [18 16 10 11]\n",
      " [16 15 16 12]]\n"
     ]
    }
   ],
   "source": [
    "v=np.array([[1,2,3,4],[2,4,6,8],[8,6,0,1],[5,4,5,1]])\n",
    "v1=np.array([8])\n",
    "v2=np.array([4,4,4,4])\n",
    "v3=np.array([8,9,10,11]).reshape(4,1)\n",
    "print(v)\n",
    "print(v+v1)\n",
    "print(v+v2)\n",
    "print(v+v3)\n"
   ]
  },
  {
   "cell_type": "code",
   "execution_count": 11,
   "id": "a2986fd3",
   "metadata": {},
   "outputs": [
    {
     "name": "stdout",
     "output_type": "stream",
     "text": [
      "[[[2 7]\n",
      "  [2 7]\n",
      "  [3 6]]\n",
      "\n",
      " [[7 3]\n",
      "  [5 0]\n",
      "  [1 0]]\n",
      "\n",
      " [[2 7]\n",
      "  [2 3]\n",
      "  [4 5]]]\n"
     ]
    }
   ],
   "source": [
    "a=np.random.randint(0,9,(3,3,2))\n",
    "print(a)"
   ]
  },
  {
   "cell_type": "code",
   "execution_count": 27,
   "id": "789368d1",
   "metadata": {},
   "outputs": [
    {
     "name": "stdout",
     "output_type": "stream",
     "text": [
      "[[[2 7]\n",
      "  [2 7]\n",
      "  [3 6]]\n",
      "\n",
      " [[7 3]\n",
      "  [5 0]\n",
      "  [1 0]]\n",
      "\n",
      " [[2 7]\n",
      "  [2 3]\n",
      "  [4 5]]]\n"
     ]
    }
   ],
   "source": [
    "cp_a1=np.copy(a)\n",
    "print(cp_a1)"
   ]
  },
  {
   "cell_type": "code",
   "execution_count": 28,
   "id": "8167fe14",
   "metadata": {},
   "outputs": [
    {
     "data": {
      "text/plain": [
       "array([], shape=(0, 3, 2), dtype=int32)"
      ]
     },
     "execution_count": 28,
     "metadata": {},
     "output_type": "execute_result"
    }
   ],
   "source": [
    "cp_a1[:0]"
   ]
  },
  {
   "cell_type": "code",
   "execution_count": 29,
   "id": "d9c1591e",
   "metadata": {},
   "outputs": [
    {
     "data": {
      "text/plain": [
       "array([[2, 7],\n",
       "       [7, 3],\n",
       "       [2, 7]])"
      ]
     },
     "execution_count": 29,
     "metadata": {},
     "output_type": "execute_result"
    }
   ],
   "source": [
    "cp_a1[:,0] # 행마다 0번째 index 출력"
   ]
  },
  {
   "cell_type": "code",
   "execution_count": 30,
   "id": "e5b03c4f",
   "metadata": {},
   "outputs": [
    {
     "data": {
      "text/plain": [
       "array([[2, 7],\n",
       "       [5, 0],\n",
       "       [2, 3]])"
      ]
     },
     "execution_count": 30,
     "metadata": {},
     "output_type": "execute_result"
    }
   ],
   "source": [
    "cp_a1[:,1]"
   ]
  },
  {
   "cell_type": "code",
   "execution_count": 19,
   "id": "4337de90",
   "metadata": {},
   "outputs": [
    {
     "data": {
      "text/plain": [
       "array([[3, 6],\n",
       "       [1, 0],\n",
       "       [4, 5]])"
      ]
     },
     "execution_count": 19,
     "metadata": {},
     "output_type": "execute_result"
    }
   ],
   "source": [
    "cp_a1[:,2]"
   ]
  },
  {
   "cell_type": "code",
   "execution_count": 31,
   "id": "67ec5443",
   "metadata": {},
   "outputs": [
    {
     "name": "stdout",
     "output_type": "stream",
     "text": [
      "[[[9 9]\n",
      "  [2 7]\n",
      "  [3 6]]\n",
      "\n",
      " [[9 9]\n",
      "  [5 0]\n",
      "  [1 0]]\n",
      "\n",
      " [[9 9]\n",
      "  [2 3]\n",
      "  [4 5]]]\n"
     ]
    }
   ],
   "source": [
    "cp_a1[:,0]=9\n",
    "print(cp_a1)"
   ]
  },
  {
   "cell_type": "code",
   "execution_count": 53,
   "id": "6b3a7c44",
   "metadata": {},
   "outputs": [
    {
     "name": "stdout",
     "output_type": "stream",
     "text": [
      "type:<class 'numpy.ndarray'>\n",
      "shape: (3, 3), dimension: 2, dtype:float64\n",
      "Array's Data:\n",
      " [[0.42311855 0.12627209 0.44981897]\n",
      " [0.60237484 0.89696482 0.44948647]\n",
      " [0.71645724 0.6803395  0.40171053]]\n"
     ]
    }
   ],
   "source": [
    "unsorted_arr = np.random.random((3, 3))\n",
    "pprint(unsorted_arr)"
   ]
  },
  {
   "cell_type": "code",
   "execution_count": 54,
   "id": "21c9ad43",
   "metadata": {},
   "outputs": [],
   "source": [
    "unsorted_arr1 = unsorted_arr.copy()\n",
    "unsorted_arr2 = unsorted_arr.copy()\n",
    "unsorted_arr3 = unsorted_arr.copy()"
   ]
  },
  {
   "cell_type": "code",
   "execution_count": 55,
   "id": "63c1e0f1",
   "metadata": {},
   "outputs": [
    {
     "name": "stdout",
     "output_type": "stream",
     "text": [
      "[[0.42311855 0.12627209 0.44981897]\n",
      " [0.60237484 0.89696482 0.44948647]\n",
      " [0.71645724 0.6803395  0.40171053]]\n",
      "None\n"
     ]
    }
   ],
   "source": [
    "print(unsorted_arr)\n",
    "unsorted_arr.sort()\n",
    "print(unsorted_arr.sort())  # ---------- none. sort()는 반환값이 없다."
   ]
  },
  {
   "cell_type": "code",
   "execution_count": 56,
   "id": "840cc152",
   "metadata": {},
   "outputs": [
    {
     "name": "stdout",
     "output_type": "stream",
     "text": [
      "[[0.42311855 0.12627209 0.44981897]\n",
      " [0.60237484 0.89696482 0.44948647]\n",
      " [0.71645724 0.6803395  0.40171053]]\n"
     ]
    }
   ],
   "source": [
    "print(unsorted_arr1)"
   ]
  },
  {
   "cell_type": "code",
   "execution_count": 57,
   "id": "a0e3d657",
   "metadata": {},
   "outputs": [
    {
     "name": "stdout",
     "output_type": "stream",
     "text": [
      "---------------------- unsorted_arr------------------------------------------\n",
      "[[0.12627209 0.42311855 0.44981897]\n",
      " [0.44948647 0.60237484 0.89696482]\n",
      " [0.40171053 0.6803395  0.71645724]]\n",
      "\n",
      "---------------------- unsorted_arr1------------------------------------------\n",
      "[[0.42311855 0.12627209 0.44981897]\n",
      " [0.60237484 0.89696482 0.44948647]\n",
      " [0.71645724 0.6803395  0.40171053]]\n",
      "\n",
      "---------------------- unsorted_arr2------------------------------------------\n",
      "[[0.42311855 0.12627209 0.40171053]\n",
      " [0.60237484 0.6803395  0.44948647]\n",
      " [0.71645724 0.89696482 0.44981897]]\n",
      "\n",
      "---------------------- unsorted_arr3------------------------------------------\n",
      "[[0.12627209 0.42311855 0.44981897]\n",
      " [0.44948647 0.60237484 0.89696482]\n",
      " [0.40171053 0.6803395  0.71645724]]\n"
     ]
    }
   ],
   "source": [
    "unsorted_arr2.sort(axis=0)\n",
    "unsorted_arr3.sort(axis=1)\n",
    "print('---------------------- unsorted_arr------------------------------------------')\n",
    "print(unsorted_arr)\n",
    "print('\\n---------------------- unsorted_arr1------------------------------------------')\n",
    "print(unsorted_arr1)\n",
    "print('\\n---------------------- unsorted_arr2------------------------------------------')\n",
    "print(unsorted_arr2)\n",
    "print('\\n---------------------- unsorted_arr3------------------------------------------')\n",
    "print(unsorted_arr3)"
   ]
  },
  {
   "cell_type": "code",
   "execution_count": 59,
   "id": "30b65425",
   "metadata": {},
   "outputs": [
    {
     "ename": "AttributeError",
     "evalue": "module 'numpy' has no attribute 'randint'",
     "output_type": "error",
     "traceback": [
      "\u001b[1;31m---------------------------------------------------------------------------\u001b[0m",
      "\u001b[1;31mAttributeError\u001b[0m                            Traceback (most recent call last)",
      "\u001b[1;32m~\\AppData\\Local\\Temp\\ipykernel_10952\\1684036001.py\u001b[0m in \u001b[0;36m<module>\u001b[1;34m\u001b[0m\n\u001b[1;32m----> 1\u001b[1;33m \u001b[0munsorted_arr\u001b[0m\u001b[1;33m=\u001b[0m\u001b[0mnp\u001b[0m\u001b[1;33m.\u001b[0m\u001b[0mrandint\u001b[0m\u001b[1;33m.\u001b[0m\u001b[0mrandom\u001b[0m\u001b[1;33m(\u001b[0m\u001b[1;36m3\u001b[0m\u001b[1;33m,\u001b[0m\u001b[1;36m3\u001b[0m\u001b[1;33m)\u001b[0m\u001b[1;33m\u001b[0m\u001b[1;33m\u001b[0m\u001b[0m\n\u001b[0m",
      "\u001b[1;32mC:\\ProgramData\\Anaconda3\\lib\\site-packages\\numpy\\__init__.py\u001b[0m in \u001b[0;36m__getattr__\u001b[1;34m(attr)\u001b[0m\n\u001b[0;32m    311\u001b[0m                 \u001b[1;32mreturn\u001b[0m \u001b[0mTester\u001b[0m\u001b[1;33m\u001b[0m\u001b[1;33m\u001b[0m\u001b[0m\n\u001b[0;32m    312\u001b[0m \u001b[1;33m\u001b[0m\u001b[0m\n\u001b[1;32m--> 313\u001b[1;33m             raise AttributeError(\"module {!r} has no attribute \"\n\u001b[0m\u001b[0;32m    314\u001b[0m                                  \"{!r}\".format(__name__, attr))\n\u001b[0;32m    315\u001b[0m \u001b[1;33m\u001b[0m\u001b[0m\n",
      "\u001b[1;31mAttributeError\u001b[0m: module 'numpy' has no attribute 'randint'"
     ]
    }
   ],
   "source": [
    "unsorted_arr="
   ]
  },
  {
   "cell_type": "code",
   "execution_count": 138,
   "id": "b84ba29c",
   "metadata": {},
   "outputs": [
    {
     "name": "stdout",
     "output_type": "stream",
     "text": [
      "[[[3 4 3]\n",
      "  [8 4 7]\n",
      "  [2 5 9]]\n",
      "\n",
      " [[3 3 8]\n",
      "  [5 7 3]\n",
      "  [1 7 9]]\n",
      "\n",
      " [[7 1 5]\n",
      "  [2 1 2]\n",
      "  [5 4 3]]]\n"
     ]
    }
   ],
   "source": [
    "a=np.random.randint(1,10,(3,3,3))\n",
    "print(a)"
   ]
  },
  {
   "cell_type": "code",
   "execution_count": 139,
   "id": "e80bda22",
   "metadata": {},
   "outputs": [],
   "source": [
    "acp1=a.copy()\n",
    "acp2=a.copy()\n",
    "acp3=a.copy()"
   ]
  },
  {
   "cell_type": "code",
   "execution_count": 140,
   "id": "6a66efa6",
   "metadata": {},
   "outputs": [
    {
     "name": "stdout",
     "output_type": "stream",
     "text": [
      "[[[3 3 4]\n",
      "  [4 7 8]\n",
      "  [2 5 9]]\n",
      "\n",
      " [[3 3 8]\n",
      "  [3 5 7]\n",
      "  [1 7 9]]\n",
      "\n",
      " [[1 5 7]\n",
      "  [1 2 2]\n",
      "  [3 4 5]]]\n"
     ]
    }
   ],
   "source": [
    "acp1.sort()\n",
    "print(acp1)"
   ]
  },
  {
   "cell_type": "code",
   "execution_count": 141,
   "id": "e683793e",
   "metadata": {},
   "outputs": [
    {
     "name": "stdout",
     "output_type": "stream",
     "text": [
      "[[[3 1 3]\n",
      "  [2 1 2]\n",
      "  [1 4 3]]\n",
      "\n",
      " [[3 3 5]\n",
      "  [5 4 3]\n",
      "  [2 5 9]]\n",
      "\n",
      " [[7 4 8]\n",
      "  [8 7 7]\n",
      "  [5 7 9]]]\n"
     ]
    }
   ],
   "source": [
    "acp2.sort(axis=0)\n",
    "print(acp2)"
   ]
  },
  {
   "cell_type": "code",
   "execution_count": 142,
   "id": "c7161178",
   "metadata": {},
   "outputs": [
    {
     "name": "stdout",
     "output_type": "stream",
     "text": [
      "[[[2 4 3]\n",
      "  [3 4 7]\n",
      "  [8 5 9]]\n",
      "\n",
      " [[1 3 3]\n",
      "  [3 7 8]\n",
      "  [5 7 9]]\n",
      "\n",
      " [[2 1 2]\n",
      "  [5 1 3]\n",
      "  [7 4 5]]]\n"
     ]
    }
   ],
   "source": [
    "acp3.sort(axis=1)\n",
    "print(acp3)"
   ]
  },
  {
   "cell_type": "code",
   "execution_count": 143,
   "id": "1bbb167f",
   "metadata": {},
   "outputs": [
    {
     "name": "stdout",
     "output_type": "stream",
     "text": [
      "[[[3 4 3]\n",
      "  [8 4 7]\n",
      "  [2 5 9]]\n",
      "\n",
      " [[3 3 8]\n",
      "  [5 7 3]\n",
      "  [1 7 9]]\n",
      "\n",
      " [[7 1 5]\n",
      "  [2 1 2]\n",
      "  [5 4 3]]] <----- unsorted\n",
      "\n",
      "[[[3 3 4]\n",
      "  [4 7 8]\n",
      "  [2 5 9]]\n",
      "\n",
      " [[3 3 8]\n",
      "  [3 5 7]\n",
      "  [1 7 9]]\n",
      "\n",
      " [[1 5 7]\n",
      "  [1 2 2]\n",
      "  [3 4 5]]] <----- sorted\n",
      "\n",
      "[[[3 1 3]\n",
      "  [2 1 2]\n",
      "  [1 4 3]]\n",
      "\n",
      " [[3 3 5]\n",
      "  [5 4 3]\n",
      "  [2 5 9]]\n",
      "\n",
      " [[7 4 8]\n",
      "  [8 7 7]\n",
      "  [5 7 9]]] <----- axis0 sorted\n",
      "\n",
      "[[[2 4 3]\n",
      "  [3 4 7]\n",
      "  [8 5 9]]\n",
      "\n",
      " [[1 3 3]\n",
      "  [3 7 8]\n",
      "  [5 7 9]]\n",
      "\n",
      " [[2 1 2]\n",
      "  [5 1 3]\n",
      "  [7 4 5]]] <----- axis1 sorted\n",
      "\n"
     ]
    }
   ],
   "source": [
    "print(a, '<----- unsorted\\n')\n",
    "print(acp1, '<----- sorted\\n')\n",
    "print(acp2, '<----- axis0 sorted\\n')\n",
    "print(acp3, '<----- axis1 sorted\\n')"
   ]
  },
  {
   "cell_type": "code",
   "execution_count": 123,
   "id": "5d5c0f2d",
   "metadata": {},
   "outputs": [
    {
     "name": "stdout",
     "output_type": "stream",
     "text": [
      "[[1 3 6]\n",
      " [4 2 4]\n",
      " [8 8 2]]\n"
     ]
    }
   ],
   "source": [
    "b=np.random.randint(1,10,(3,3))\n",
    "print(b)\n",
    "b1=b.copy()\n",
    "b2=b.copy()\n",
    "b3=b.copy()"
   ]
  },
  {
   "cell_type": "code",
   "execution_count": 124,
   "id": "f104cfdf",
   "metadata": {},
   "outputs": [],
   "source": [
    "b1.sort()\n",
    "b2.sort(axis=0)\n",
    "b3.sort(axis=1)"
   ]
  },
  {
   "cell_type": "code",
   "execution_count": 125,
   "id": "39189a2d",
   "metadata": {},
   "outputs": [
    {
     "name": "stdout",
     "output_type": "stream",
     "text": [
      "[[1 3 6]\n",
      " [4 2 4]\n",
      " [8 8 2]] <----- unsorted\n",
      "\n",
      "[[1 3 6]\n",
      " [2 4 4]\n",
      " [2 8 8]] <----- sorted\n",
      "\n",
      "[[1 2 2]\n",
      " [4 3 4]\n",
      " [8 8 6]] <----- axis0 sorted\n",
      "\n",
      "[[1 3 6]\n",
      " [2 4 4]\n",
      " [2 8 8]] <----- axis1 sorted\n",
      "\n"
     ]
    }
   ],
   "source": [
    "print(b, '<----- unsorted\\n')\n",
    "print(b1, '<----- sorted\\n')\n",
    "print(b2, '<----- axis0 sorted\\n')\n",
    "print(b3, '<----- axis1 sorted\\n')"
   ]
  },
  {
   "cell_type": "code",
   "execution_count": null,
   "id": "bdc24a2a",
   "metadata": {},
   "outputs": [],
   "source": []
  }
 ],
 "metadata": {
  "kernelspec": {
   "display_name": "Python 3 (ipykernel)",
   "language": "python",
   "name": "python3"
  },
  "language_info": {
   "codemirror_mode": {
    "name": "ipython",
    "version": 3
   },
   "file_extension": ".py",
   "mimetype": "text/x-python",
   "name": "python",
   "nbconvert_exporter": "python",
   "pygments_lexer": "ipython3",
   "version": "3.9.13"
  }
 },
 "nbformat": 4,
 "nbformat_minor": 5
}
