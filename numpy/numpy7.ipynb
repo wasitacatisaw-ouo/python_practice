{
 "cells": [
  {
   "cell_type": "markdown",
   "id": "c953f339",
   "metadata": {},
   "source": [
    "* NumPy"
   ]
  },
  {
   "cell_type": "code",
   "execution_count": 2,
   "id": "551d7979",
   "metadata": {},
   "outputs": [],
   "source": [
    "import numpy as np"
   ]
  },
  {
   "cell_type": "code",
   "execution_count": 3,
   "id": "00a9b158",
   "metadata": {},
   "outputs": [],
   "source": [
    "def pprint(arr):\n",
    "    print(\"type:{}\".format(type(arr)))\n",
    "    print(\"shape: {}, dimension: {}, dtype:{}\".format(arr.shape, arr.ndim, arr.dtype))\n",
    "    print(\"Array's Data:\\n\", arr)"
   ]
  },
  {
   "cell_type": "code",
   "execution_count": 6,
   "id": "75a48c79",
   "metadata": {},
   "outputs": [
    {
     "name": "stdout",
     "output_type": "stream",
     "text": [
      "[[[ 1  2  3]\n",
      "  [ 4  5  6]\n",
      "  [ 7  8  9]]\n",
      "\n",
      " [[10 11 12]\n",
      "  [13 14 15]\n",
      "  [16 17 18]]\n",
      "\n",
      " [[19 20 21]\n",
      "  [22 23 24]\n",
      "  [25 26 27]]]\n"
     ]
    }
   ],
   "source": [
    "a=np.arange(1,28).reshape(3,3,3)\n",
    "print(a)"
   ]
  },
  {
   "cell_type": "code",
   "execution_count": 12,
   "id": "7b83e628",
   "metadata": {},
   "outputs": [
    {
     "name": "stdout",
     "output_type": "stream",
     "text": [
      "1 27\n",
      "1 27\n"
     ]
    }
   ],
   "source": [
    "print(a.min(), a.max())\n",
    "print(np.min(a), np.max(a))"
   ]
  },
  {
   "cell_type": "code",
   "execution_count": 20,
   "id": "801e95ae",
   "metadata": {
    "scrolled": true
   },
   "outputs": [
    {
     "name": "stdout",
     "output_type": "stream",
     "text": [
      "[[1 2 3]\n",
      " [4 5 6]\n",
      " [7 8 9]]\n",
      "[[ 1  2  3]\n",
      " [10 11 12]\n",
      " [19 20 21]]\n",
      "[[ 1  4  7]\n",
      " [10 13 16]\n",
      " [19 22 25]]\n"
     ]
    }
   ],
   "source": [
    "print(np.min(a, axis=0)) # --- x. 행\n",
    "print(np.min(a, axis=1)) # --- y. 열\n",
    "print(np.min(a, axis=2))"
   ]
  },
  {
   "cell_type": "markdown",
   "id": "90a2fa2e",
   "metadata": {},
   "source": [
    "[[[ 1  2  3]\n",
    "  [ 4  5  6]\n",
    "  [ 7  8  9]]     axis=0        -------->     [ [1, 2, 3], [4, 5, 6], [7, 8, 9] ]\n",
    "\n",
    " [[10 11 12]\n",
    "  [13 14 15]\n",
    "  [16 17 18]]     axis=1        -------->     [ [1, 2, 3], [10, 11, 12], [19, 20, 21] ]\n",
    "\n",
    " [[19 20 21]\n",
    "  [22 23 24]\n",
    "  [25 26 27]]]    axis=2       -------->     [ [1, 4, 7], [10, 13, 16], [19, 22, 25] ]"
   ]
  },
  {
   "cell_type": "code",
   "execution_count": null,
   "id": "77e920c2",
   "metadata": {},
   "outputs": [],
   "source": []
  },
  {
   "cell_type": "code",
   "execution_count": null,
   "id": "2dca8bc6",
   "metadata": {},
   "outputs": [],
   "source": []
  },
  {
   "cell_type": "code",
   "execution_count": null,
   "id": "aa6204cf",
   "metadata": {},
   "outputs": [],
   "source": []
  }
 ],
 "metadata": {
  "kernelspec": {
   "display_name": "Python 3 (ipykernel)",
   "language": "python",
   "name": "python3"
  },
  "language_info": {
   "codemirror_mode": {
    "name": "ipython",
    "version": 3
   },
   "file_extension": ".py",
   "mimetype": "text/x-python",
   "name": "python",
   "nbconvert_exporter": "python",
   "pygments_lexer": "ipython3",
   "version": "3.9.13"
  }
 },
 "nbformat": 4,
 "nbformat_minor": 5
}
