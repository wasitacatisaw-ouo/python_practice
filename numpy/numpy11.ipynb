{
 "cells": [
  {
   "cell_type": "code",
   "execution_count": 2,
   "id": "241e7eed",
   "metadata": {},
   "outputs": [],
   "source": [
    "import numpy as np\n",
    "def pprint(arr):\n",
    "    print(\"type:{}\".format(type(arr)))\n",
    "    print(\"shape: {}, dimension: {}, dtype:{}\".format(arr.shape, arr.ndim, arr.dtype))\n",
    "    print(\"Array's Data:\\n\", arr)"
   ]
  },
  {
   "cell_type": "code",
   "execution_count": 3,
   "id": "ef6defd2",
   "metadata": {},
   "outputs": [
    {
     "name": "stdout",
     "output_type": "stream",
     "text": [
      "type:<class 'numpy.ndarray'>\n",
      "shape: (2, 3), dimension: 2, dtype:int32\n",
      "Array's Data:\n",
      " [[7 1 9]\n",
      " [7 1 2]]\n"
     ]
    }
   ],
   "source": [
    "# 행렬 생성\n",
    "a = np.random.randint(1, 10, (2, 3))\n",
    "pprint(a)"
   ]
  },
  {
   "cell_type": "code",
   "execution_count": 4,
   "id": "e36d93a1",
   "metadata": {},
   "outputs": [
    {
     "name": "stdout",
     "output_type": "stream",
     "text": [
      "type:<class 'numpy.ndarray'>\n",
      "shape: (3, 2), dimension: 2, dtype:int32\n",
      "Array's Data:\n",
      " [[7 7]\n",
      " [1 1]\n",
      " [9 2]]\n"
     ]
    }
   ],
   "source": [
    "# 행렬의 전치\n",
    "pprint(a.T)"
   ]
  },
  {
   "cell_type": "markdown",
   "id": "22290145",
   "metadata": {},
   "source": [
    "## ravel()"
   ]
  },
  {
   "cell_type": "code",
   "execution_count": 5,
   "id": "2570d983",
   "metadata": {},
   "outputs": [
    {
     "name": "stdout",
     "output_type": "stream",
     "text": [
      "type:<class 'numpy.ndarray'>\n",
      "shape: (2, 3), dimension: 2, dtype:int32\n",
      "Array's Data:\n",
      " [[9 7 9]\n",
      " [1 7 2]]\n"
     ]
    }
   ],
   "source": [
    "a = np.random.randint(1, 10, (2, 3))\n",
    "pprint(a)"
   ]
  },
  {
   "cell_type": "code",
   "execution_count": 7,
   "id": "974877c5",
   "metadata": {},
   "outputs": [
    {
     "name": "stdout",
     "output_type": "stream",
     "text": [
      "[9 7 9 1 7 2]\n"
     ]
    }
   ],
   "source": [
    "print(a.ravel())\n",
    "b=a.ravel()   #  --------------- 카피 x 뷰 o"
   ]
  },
  {
   "cell_type": "code",
   "execution_count": 8,
   "id": "81d1270e",
   "metadata": {},
   "outputs": [
    {
     "name": "stdout",
     "output_type": "stream",
     "text": [
      "[9 7 9 1 7 2]\n"
     ]
    }
   ],
   "source": [
    "print(b)"
   ]
  },
  {
   "cell_type": "code",
   "execution_count": 9,
   "id": "75ba90e8",
   "metadata": {},
   "outputs": [
    {
     "name": "stdout",
     "output_type": "stream",
     "text": [
      "[99  7  9  1  7  2]\n",
      "[[99  7  9]\n",
      " [ 1  7  2]]\n"
     ]
    }
   ],
   "source": [
    "b[0]=99\n",
    "print(b)    # ------ ravle로 카피(뷰)하고 복사본을 수정하면 원본도 바뀐다\n",
    "print(a)"
   ]
  },
  {
   "cell_type": "code",
   "execution_count": 10,
   "id": "745b7f5e",
   "metadata": {},
   "outputs": [
    {
     "name": "stdout",
     "output_type": "stream",
     "text": [
      "type:<class 'numpy.ndarray'>\n",
      "shape: (5, 3), dimension: 2, dtype:int32\n",
      "Array's Data:\n",
      " [[45 14 58]\n",
      " [32 36  9]\n",
      " [43 52  6]\n",
      " [87 64  8]\n",
      " [11 36 21]]\n"
     ]
    }
   ],
   "source": [
    "a = np.random.randint(1, 101, (5, 3))\n",
    "pprint(a)"
   ]
  },
  {
   "cell_type": "code",
   "execution_count": 11,
   "id": "770e2514",
   "metadata": {},
   "outputs": [
    {
     "name": "stdout",
     "output_type": "stream",
     "text": [
      "[45 14 58 32 36  9 43 52  6 87 64  8 11 36 21]\n"
     ]
    }
   ],
   "source": [
    "b=a.ravel()\n",
    "print(b)"
   ]
  },
  {
   "cell_type": "code",
   "execution_count": 12,
   "id": "5c02161e",
   "metadata": {},
   "outputs": [
    {
     "name": "stdout",
     "output_type": "stream",
     "text": [
      "[100  14  58  32  36   9  43  52   6  87  64   8  11  36  21]\n",
      "[[100  14  58]\n",
      " [ 32  36   9]\n",
      " [ 43  52   6]\n",
      " [ 87  64   8]\n",
      " [ 11  36  21]]\n"
     ]
    }
   ],
   "source": [
    "b[0]=100\n",
    "print(b)\n",
    "print(a)"
   ]
  },
  {
   "cell_type": "markdown",
   "id": "69ae39db",
   "metadata": {},
   "source": [
    "## flatten()"
   ]
  },
  {
   "cell_type": "code",
   "execution_count": 13,
   "id": "1b9925f8",
   "metadata": {},
   "outputs": [
    {
     "name": "stdout",
     "output_type": "stream",
     "text": [
      "type:<class 'numpy.ndarray'>\n",
      "shape: (5, 3), dimension: 2, dtype:int32\n",
      "Array's Data:\n",
      " [[76 74 59]\n",
      " [67 62 25]\n",
      " [29 92 76]\n",
      " [87 92 44]\n",
      " [54  3  7]]\n"
     ]
    }
   ],
   "source": [
    "c = np.random.randint(1, 100, (5, 3))\n",
    "pprint(c)"
   ]
  },
  {
   "cell_type": "code",
   "execution_count": 16,
   "id": "9e60ae41",
   "metadata": {},
   "outputs": [
    {
     "name": "stdout",
     "output_type": "stream",
     "text": [
      "[76 74 59 67 62 25 29 92 76 87 92 44 54  3  7]\n"
     ]
    }
   ],
   "source": [
    "d=c.flatten()  # flatten() 과 ravel() 비교 !!\n",
    "print(d)"
   ]
  },
  {
   "cell_type": "code",
   "execution_count": 17,
   "id": "19265608",
   "metadata": {},
   "outputs": [
    {
     "name": "stdout",
     "output_type": "stream",
     "text": [
      "[100  74  59  67  62  25  29  92  76  87  92  44  54   3   7]\n",
      "[[76 74 59]\n",
      " [67 62 25]\n",
      " [29 92 76]\n",
      " [87 92 44]\n",
      " [54  3  7]]\n"
     ]
    }
   ],
   "source": [
    "d[0]=100  # --------- flatten()으로 생성한 객체의 요소를 바꾸면 원본은 바뀌지 않는다. 원본과 독립적.\n",
    "print(d)\n",
    "print(c)"
   ]
  },
  {
   "cell_type": "markdown",
   "id": "fe0ea5b1",
   "metadata": {},
   "source": [
    "## resize()와 reshape()"
   ]
  },
  {
   "cell_type": "code",
   "execution_count": 18,
   "id": "a6d9f6d5",
   "metadata": {},
   "outputs": [
    {
     "name": "stdout",
     "output_type": "stream",
     "text": [
      "type:<class 'numpy.ndarray'>\n",
      "shape: (2, 6), dimension: 2, dtype:int32\n",
      "Array's Data:\n",
      " [[7 9 5 8 4 8]\n",
      " [3 3 3 7 2 4]]\n"
     ]
    }
   ],
   "source": [
    "e = np.random.randint(1, 10, (2, 6))\n",
    "pprint(e)"
   ]
  },
  {
   "cell_type": "code",
   "execution_count": 19,
   "id": "fa6c126c",
   "metadata": {},
   "outputs": [
    {
     "name": "stdout",
     "output_type": "stream",
     "text": [
      "type:<class 'numpy.ndarray'>\n",
      "shape: (6, 2), dimension: 2, dtype:int32\n",
      "Array's Data:\n",
      " [[7 9]\n",
      " [5 8]\n",
      " [4 8]\n",
      " [3 3]\n",
      " [3 7]\n",
      " [2 4]]\n"
     ]
    }
   ],
   "source": [
    "e.resize((6,2))\n",
    "pprint(e)"
   ]
  },
  {
   "cell_type": "code",
   "execution_count": 21,
   "id": "6b589c0d",
   "metadata": {},
   "outputs": [
    {
     "name": "stdout",
     "output_type": "stream",
     "text": [
      "type:<class 'numpy.ndarray'>\n",
      "shape: (2, 10), dimension: 2, dtype:int32\n",
      "Array's Data:\n",
      " [[7 9 5 8 4 8 3 3 3 7]\n",
      " [2 4 0 0 0 0 0 0 0 0]]\n"
     ]
    }
   ],
   "source": [
    "e.resize((2,10))  # -------- reshape와 달리 사이즈가 데이터보다 크면 0으로 채워진다.\n",
    "pprint(e)"
   ]
  },
  {
   "cell_type": "code",
   "execution_count": 22,
   "id": "890e46e8",
   "metadata": {},
   "outputs": [
    {
     "name": "stdout",
     "output_type": "stream",
     "text": [
      "type:<class 'numpy.ndarray'>\n",
      "shape: (2, 3), dimension: 2, dtype:int32\n",
      "Array's Data:\n",
      " [[7 9 5]\n",
      " [8 4 8]]\n"
     ]
    }
   ],
   "source": [
    "e.resize((2,3))   # -------- 사이즈가 데이터보다 작으면 잘린다.\n",
    "pprint(e)"
   ]
  },
  {
   "cell_type": "code",
   "execution_count": 23,
   "id": "e0323f18",
   "metadata": {},
   "outputs": [
    {
     "name": "stdout",
     "output_type": "stream",
     "text": [
      "type:<class 'numpy.ndarray'>\n",
      "shape: (2, 6), dimension: 2, dtype:int32\n",
      "Array's Data:\n",
      " [[5 6 6 1 5 4]\n",
      " [1 1 6 1 7 7]]\n"
     ]
    }
   ],
   "source": [
    "f = np.random.randint(1, 10, (2, 6))\n",
    "pprint(f)"
   ]
  },
  {
   "cell_type": "code",
   "execution_count": 24,
   "id": "2192879a",
   "metadata": {},
   "outputs": [
    {
     "ename": "ValueError",
     "evalue": "cannot reshape array of size 12 into shape (3,3)",
     "output_type": "error",
     "traceback": [
      "\u001b[1;31m---------------------------------------------------------------------------\u001b[0m",
      "\u001b[1;31mValueError\u001b[0m                                Traceback (most recent call last)",
      "\u001b[1;32m~\\AppData\\Local\\Temp\\ipykernel_2480\\282209029.py\u001b[0m in \u001b[0;36m<module>\u001b[1;34m\u001b[0m\n\u001b[1;32m----> 1\u001b[1;33m \u001b[0mf\u001b[0m\u001b[1;33m.\u001b[0m\u001b[0mreshape\u001b[0m\u001b[1;33m(\u001b[0m\u001b[1;33m(\u001b[0m\u001b[1;36m3\u001b[0m\u001b[1;33m,\u001b[0m\u001b[1;36m3\u001b[0m\u001b[1;33m)\u001b[0m\u001b[1;33m)\u001b[0m\u001b[1;33m\u001b[0m\u001b[1;33m\u001b[0m\u001b[0m\n\u001b[0m",
      "\u001b[1;31mValueError\u001b[0m: cannot reshape array of size 12 into shape (3,3)"
     ]
    }
   ],
   "source": [
    "f.reshape((3,3))   # --------- resize와 달리 element의 수와 차이가 나면 에러난다."
   ]
  },
  {
   "cell_type": "code",
   "execution_count": 25,
   "id": "954a222e",
   "metadata": {},
   "outputs": [
    {
     "data": {
      "text/plain": [
       "array([[5, 6, 6, 1],\n",
       "       [5, 4, 1, 1],\n",
       "       [6, 1, 7, 7]])"
      ]
     },
     "execution_count": 25,
     "metadata": {},
     "output_type": "execute_result"
    }
   ],
   "source": [
    "f.reshape((3,4))"
   ]
  },
  {
   "cell_type": "markdown",
   "id": "55be46a1",
   "metadata": {},
   "source": [
    "## append()"
   ]
  },
  {
   "cell_type": "code",
   "execution_count": 28,
   "id": "b993f82f",
   "metadata": {},
   "outputs": [
    {
     "name": "stdout",
     "output_type": "stream",
     "text": [
      "type:<class 'numpy.ndarray'>\n",
      "shape: (3, 3), dimension: 2, dtype:int32\n",
      "Array's Data:\n",
      " [[1 2 3]\n",
      " [4 5 6]\n",
      " [7 8 9]]\n",
      "type:<class 'numpy.ndarray'>\n",
      "shape: (3, 3), dimension: 2, dtype:int32\n",
      "Array's Data:\n",
      " [[10 11 12]\n",
      " [13 14 15]\n",
      " [16 17 18]]\n"
     ]
    }
   ],
   "source": [
    "# 데모 배열 생성\n",
    "a = np.arange(1, 10).reshape(3, 3)\n",
    "pprint(a)\n",
    "b = np.arange(10, 19).reshape(3, 3)\n",
    "pprint(b)"
   ]
  },
  {
   "cell_type": "code",
   "execution_count": 29,
   "id": "6c30ac4f",
   "metadata": {},
   "outputs": [
    {
     "name": "stdout",
     "output_type": "stream",
     "text": [
      "type:<class 'numpy.ndarray'>\n",
      "shape: (18,), dimension: 1, dtype:int32\n",
      "Array's Data:\n",
      " [ 1  2  3  4  5  6  7  8  9 10 11 12 13 14 15 16 17 18]\n"
     ]
    }
   ],
   "source": [
    "result = np.append(a, b)\n",
    "pprint(result)"
   ]
  },
  {
   "cell_type": "code",
   "execution_count": 30,
   "id": "dbcf23d2",
   "metadata": {},
   "outputs": [
    {
     "name": "stdout",
     "output_type": "stream",
     "text": [
      "type:<class 'numpy.ndarray'>\n",
      "shape: (6, 3), dimension: 2, dtype:int32\n",
      "Array's Data:\n",
      " [[ 1  2  3]\n",
      " [ 4  5  6]\n",
      " [ 7  8  9]\n",
      " [10 11 12]\n",
      " [13 14 15]\n",
      " [16 17 18]]\n"
     ]
    }
   ],
   "source": [
    "# axis 0 방향으로 b 배열 추가\n",
    "result = np.append(a, b, axis=0)\n",
    "pprint(result)"
   ]
  },
  {
   "cell_type": "code",
   "execution_count": 31,
   "id": "a743df43",
   "metadata": {},
   "outputs": [
    {
     "name": "stdout",
     "output_type": "stream",
     "text": [
      "type:<class 'numpy.ndarray'>\n",
      "shape: (3, 6), dimension: 2, dtype:int32\n",
      "Array's Data:\n",
      " [[ 1  2  3 10 11 12]\n",
      " [ 4  5  6 13 14 15]\n",
      " [ 7  8  9 16 17 18]]\n"
     ]
    }
   ],
   "source": [
    "result = np.append(a, b, axis=1)\n",
    "pprint(result)"
   ]
  },
  {
   "cell_type": "markdown",
   "id": "154560cb",
   "metadata": {},
   "source": [
    "## insert()"
   ]
  },
  {
   "cell_type": "code",
   "execution_count": 32,
   "id": "935d5472",
   "metadata": {},
   "outputs": [
    {
     "name": "stdout",
     "output_type": "stream",
     "text": [
      "type:<class 'numpy.ndarray'>\n",
      "shape: (3, 3), dimension: 2, dtype:int32\n",
      "Array's Data:\n",
      " [[1 2 3]\n",
      " [4 5 6]\n",
      " [7 8 9]]\n"
     ]
    }
   ],
   "source": [
    "# 데모 배열 생성\n",
    "a = np.arange(1, 10).reshape(3, 3)\n",
    "pprint(a)\n"
   ]
  },
  {
   "cell_type": "code",
   "execution_count": 34,
   "id": "c094632d",
   "metadata": {},
   "outputs": [
    {
     "name": "stdout",
     "output_type": "stream",
     "text": [
      "[  1 999   2   3   4   5   6   7   8   9]\n"
     ]
    }
   ],
   "source": [
    "#  a 배열을 일차원 배열로 변환하고 1번 index에 99 추가\n",
    "print(np.insert(a, 1, 999))"
   ]
  },
  {
   "cell_type": "code",
   "execution_count": 35,
   "id": "1c7f607e",
   "metadata": {},
   "outputs": [
    {
     "name": "stdout",
     "output_type": "stream",
     "text": [
      "[[  1   2   3]\n",
      " [999 999 999]\n",
      " [  4   5   6]\n",
      " [  7   8   9]]\n"
     ]
    }
   ],
   "source": [
    "# index가 1인 row에 999가 추가됨\n",
    "print(np.insert(a, 1, 999, axis=0))\n"
   ]
  },
  {
   "cell_type": "code",
   "execution_count": 36,
   "id": "eff7fe3c",
   "metadata": {},
   "outputs": [
    {
     "name": "stdout",
     "output_type": "stream",
     "text": [
      "[[  1 999   2   3]\n",
      " [  4 999   5   6]\n",
      " [  7 999   8   9]]\n"
     ]
    }
   ],
   "source": [
    "print(np.insert(a, 1, 999, axis=1))"
   ]
  },
  {
   "cell_type": "markdown",
   "id": "4208d13e",
   "metadata": {},
   "source": [
    "## delete()"
   ]
  },
  {
   "cell_type": "code",
   "execution_count": 37,
   "id": "26f02138",
   "metadata": {},
   "outputs": [
    {
     "name": "stdout",
     "output_type": "stream",
     "text": [
      "type:<class 'numpy.ndarray'>\n",
      "shape: (3, 3), dimension: 2, dtype:int32\n",
      "Array's Data:\n",
      " [[1 2 3]\n",
      " [4 5 6]\n",
      " [7 8 9]]\n"
     ]
    }
   ],
   "source": [
    "a = np.arange(1, 10).reshape(3, 3)\n",
    "pprint(a)"
   ]
  },
  {
   "cell_type": "code",
   "execution_count": 38,
   "id": "dc3f96a0",
   "metadata": {},
   "outputs": [
    {
     "name": "stdout",
     "output_type": "stream",
     "text": [
      "[1 3 4 5 6 7 8 9]\n"
     ]
    }
   ],
   "source": [
    "#  a 배열을 일차원 배열로 변환하고 1번 index 삭제\n",
    "print(np.delete(a, 1))"
   ]
  },
  {
   "cell_type": "code",
   "execution_count": 39,
   "id": "84da454e",
   "metadata": {},
   "outputs": [
    {
     "name": "stdout",
     "output_type": "stream",
     "text": [
      "[[1 2 3]\n",
      " [4 5 6]\n",
      " [7 8 9]]\n"
     ]
    }
   ],
   "source": [
    "print(a) # -------- delete해도 원본은 안바뀐다."
   ]
  },
  {
   "cell_type": "code",
   "execution_count": 43,
   "id": "5f64ba7c",
   "metadata": {},
   "outputs": [
    {
     "name": "stdout",
     "output_type": "stream",
     "text": [
      "[[1 2 3]\n",
      " [7 8 9]]\n"
     ]
    }
   ],
   "source": [
    "# a 배열의 axis 0 방향 1번 인덱스인 행을 삭제한 배열을 생성하여 반환\n",
    "print(np.delete(a, 1, axis=0))"
   ]
  },
  {
   "cell_type": "code",
   "execution_count": 44,
   "id": "b9748497",
   "metadata": {},
   "outputs": [
    {
     "name": "stdout",
     "output_type": "stream",
     "text": [
      "[[1 3]\n",
      " [4 6]\n",
      " [7 9]]\n"
     ]
    }
   ],
   "source": [
    "print(np.delete(a, 1, axis=1))"
   ]
  },
  {
   "cell_type": "code",
   "execution_count": 45,
   "id": "9170cf32",
   "metadata": {},
   "outputs": [
    {
     "name": "stdout",
     "output_type": "stream",
     "text": [
      "[[1 2 3]\n",
      " [4 5 6]\n",
      " [7 8 9]]\n"
     ]
    }
   ],
   "source": [
    "print(a)"
   ]
  },
  {
   "cell_type": "markdown",
   "id": "5d1a8299",
   "metadata": {},
   "source": [
    "## concatenate()"
   ]
  },
  {
   "cell_type": "code",
   "execution_count": 46,
   "id": "8711054d",
   "metadata": {},
   "outputs": [
    {
     "name": "stdout",
     "output_type": "stream",
     "text": [
      "type:<class 'numpy.ndarray'>\n",
      "shape: (2, 3), dimension: 2, dtype:int32\n",
      "Array's Data:\n",
      " [[1 2 3]\n",
      " [4 5 6]]\n",
      "type:<class 'numpy.ndarray'>\n",
      "shape: (2, 3), dimension: 2, dtype:int32\n",
      "Array's Data:\n",
      " [[ 7  8  9]\n",
      " [10 11 12]]\n"
     ]
    }
   ],
   "source": [
    "# 데모 배열\n",
    "a = np.arange(1, 7).reshape((2, 3))\n",
    "pprint(a)\n",
    "b = np.arange(7, 13).reshape((2, 3))\n",
    "pprint(b)"
   ]
  },
  {
   "cell_type": "code",
   "execution_count": 49,
   "id": "39608852",
   "metadata": {},
   "outputs": [
    {
     "name": "stdout",
     "output_type": "stream",
     "text": [
      "[[ 1  2  3]\n",
      " [ 4  5  6]\n",
      " [ 7  8  9]\n",
      " [10 11 12]]\n"
     ]
    }
   ],
   "source": [
    "result=np.concatenate((a,b))    #   ----- 이어붙여서 하나의 array로\n",
    "print(result)"
   ]
  },
  {
   "cell_type": "code",
   "execution_count": 50,
   "id": "64d695d0",
   "metadata": {},
   "outputs": [
    {
     "name": "stdout",
     "output_type": "stream",
     "text": [
      "[[ 1  2  3]\n",
      " [ 4  5  6]\n",
      " [ 7  8  9]\n",
      " [10 11 12]]\n"
     ]
    }
   ],
   "source": [
    "result=np.concatenate((a,b), axis=0) # ----- = vstack\n",
    "print(result)"
   ]
  },
  {
   "cell_type": "code",
   "execution_count": 51,
   "id": "652dad83",
   "metadata": {},
   "outputs": [
    {
     "name": "stdout",
     "output_type": "stream",
     "text": [
      "[[ 1  2  3  7  8  9]\n",
      " [ 4  5  6 10 11 12]]\n"
     ]
    }
   ],
   "source": [
    "result=np.concatenate((a,b), axis=1) # ----- = hstack\n",
    "print(result)"
   ]
  },
  {
   "cell_type": "markdown",
   "id": "04ed07c8",
   "metadata": {},
   "source": [
    "## vstack()"
   ]
  },
  {
   "cell_type": "code",
   "execution_count": 52,
   "id": "40db431d",
   "metadata": {},
   "outputs": [
    {
     "name": "stdout",
     "output_type": "stream",
     "text": [
      "type:<class 'numpy.ndarray'>\n",
      "shape: (2, 3), dimension: 2, dtype:int32\n",
      "Array's Data:\n",
      " [[1 2 3]\n",
      " [4 5 6]]\n",
      "type:<class 'numpy.ndarray'>\n",
      "shape: (2, 3), dimension: 2, dtype:int32\n",
      "Array's Data:\n",
      " [[ 7  8  9]\n",
      " [10 11 12]]\n"
     ]
    }
   ],
   "source": [
    "# 데모 배열\n",
    "a = np.arange(1, 7).reshape((2, 3))\n",
    "pprint(a)\n",
    "b = np.arange(7, 13).reshape((2, 3))\n",
    "pprint(b)"
   ]
  },
  {
   "cell_type": "code",
   "execution_count": 53,
   "id": "09a898ad",
   "metadata": {},
   "outputs": [
    {
     "name": "stdout",
     "output_type": "stream",
     "text": [
      "[[ 1  2  3]\n",
      " [ 4  5  6]\n",
      " [ 7  8  9]\n",
      " [10 11 12]]\n"
     ]
    }
   ],
   "source": [
    "result=np.vstack((a,b))   #   ----- 위아래로 붙이기.(a,b)순 = np.concatenate((a,b), axis=0)\n",
    "print(result)"
   ]
  },
  {
   "cell_type": "code",
   "execution_count": 55,
   "id": "cd75a5ad",
   "metadata": {},
   "outputs": [
    {
     "name": "stdout",
     "output_type": "stream",
     "text": [
      "[[ 1  2  3]\n",
      " [ 4  5  6]\n",
      " [ 7  8  9]\n",
      " [10 11 12]\n",
      " [ 1  2  3]\n",
      " [ 4  5  6]\n",
      " [ 7  8  9]\n",
      " [10 11 12]\n",
      " [ 7  8  9]\n",
      " [10 11 12]\n",
      " [ 7  8  9]\n",
      " [10 11 12]]\n"
     ]
    }
   ],
   "source": [
    "result=np.vstack((a,b,a,b,b,b))\n",
    "print(result)"
   ]
  },
  {
   "cell_type": "markdown",
   "id": "98751459",
   "metadata": {},
   "source": [
    "## hstack()"
   ]
  },
  {
   "cell_type": "code",
   "execution_count": 56,
   "id": "968c13c3",
   "metadata": {},
   "outputs": [
    {
     "name": "stdout",
     "output_type": "stream",
     "text": [
      "type:<class 'numpy.ndarray'>\n",
      "shape: (2, 3), dimension: 2, dtype:int32\n",
      "Array's Data:\n",
      " [[1 2 3]\n",
      " [4 5 6]]\n",
      "type:<class 'numpy.ndarray'>\n",
      "shape: (2, 3), dimension: 2, dtype:int32\n",
      "Array's Data:\n",
      " [[ 7  8  9]\n",
      " [10 11 12]]\n"
     ]
    }
   ],
   "source": [
    "# 데모 배열\n",
    "a = np.arange(1, 7).reshape((2, 3))\n",
    "pprint(a)\n",
    "b = np.arange(7, 13).reshape((2, 3))\n",
    "pprint(b)"
   ]
  },
  {
   "cell_type": "code",
   "execution_count": 57,
   "id": "73b82c26",
   "metadata": {},
   "outputs": [
    {
     "name": "stdout",
     "output_type": "stream",
     "text": [
      "[[ 1  2  3  7  8  9]\n",
      " [ 4  5  6 10 11 12]]\n"
     ]
    }
   ],
   "source": [
    "result=np.hstack((a,b))   #   ----- 옆으로 붙여나가기 = np.concatenate((a,b), axis=1)\n",
    "print(result)"
   ]
  },
  {
   "cell_type": "code",
   "execution_count": 58,
   "id": "20b2c57d",
   "metadata": {},
   "outputs": [
    {
     "name": "stdout",
     "output_type": "stream",
     "text": [
      "[[ 1  2  3  7  8  9  1  2  3  7  8  9  1  2  3  1  2  3]\n",
      " [ 4  5  6 10 11 12  4  5  6 10 11 12  4  5  6  4  5  6]]\n"
     ]
    }
   ],
   "source": [
    "result=np.hstack((a,b,a,b,a,a))\n",
    "print(result)"
   ]
  },
  {
   "cell_type": "markdown",
   "id": "942d78c8",
   "metadata": {},
   "source": [
    "## hsplit()"
   ]
  },
  {
   "cell_type": "code",
   "execution_count": 84,
   "id": "bdeab637",
   "metadata": {},
   "outputs": [
    {
     "name": "stdout",
     "output_type": "stream",
     "text": [
      "type:<class 'numpy.ndarray'>\n",
      "shape: (4, 6), dimension: 2, dtype:int32\n",
      "Array's Data:\n",
      " [[ 1  2  3  4  5  6]\n",
      " [ 7  8  9 10 11 12]\n",
      " [13 14 15 16 17 18]\n",
      " [19 20 21 22 23 24]]\n"
     ]
    }
   ],
   "source": [
    "a = np.arange(1, 25).reshape((4, 6))\n",
    "pprint(a)"
   ]
  },
  {
   "cell_type": "code",
   "execution_count": 85,
   "id": "d22d8ed3",
   "metadata": {},
   "outputs": [
    {
     "name": "stdout",
     "output_type": "stream",
     "text": [
      "[array([[ 1,  2,  3],\n",
      "       [ 7,  8,  9],\n",
      "       [13, 14, 15],\n",
      "       [19, 20, 21]]), array([[ 4,  5,  6],\n",
      "       [10, 11, 12],\n",
      "       [16, 17, 18],\n",
      "       [22, 23, 24]])]\n"
     ]
    }
   ],
   "source": [
    "result=np.hsplit(a, 2)   #   ----- 좌우 2개로 나눔.\n",
    "print(result)"
   ]
  },
  {
   "cell_type": "code",
   "execution_count": 86,
   "id": "b89064f5",
   "metadata": {},
   "outputs": [
    {
     "name": "stdout",
     "output_type": "stream",
     "text": [
      "[array([[ 1,  2],\n",
      "       [ 7,  8],\n",
      "       [13, 14],\n",
      "       [19, 20]]), array([[ 3,  4],\n",
      "       [ 9, 10],\n",
      "       [15, 16],\n",
      "       [21, 22]]), array([[ 5,  6],\n",
      "       [11, 12],\n",
      "       [17, 18],\n",
      "       [23, 24]])]\n"
     ]
    }
   ],
   "source": [
    "result=np.hsplit(a, 3)   #   ----- 좌우 3개로 나눔.\n",
    "print(result)"
   ]
  },
  {
   "cell_type": "code",
   "execution_count": 87,
   "id": "3560f91e",
   "metadata": {
    "scrolled": true
   },
   "outputs": [
    {
     "name": "stdout",
     "output_type": "stream",
     "text": [
      "type:<class 'numpy.ndarray'>\n",
      "shape: (2, 10), dimension: 2, dtype:int32\n",
      "Array's Data:\n",
      " [[ 1  2  3  4  5  6  7  8  9 10]\n",
      " [11 12 13 14 15 16 17 18 19 20]]\n"
     ]
    }
   ],
   "source": [
    "a = np.arange(1, 21).reshape((2, 10))\n",
    "pprint(a)"
   ]
  },
  {
   "cell_type": "code",
   "execution_count": 88,
   "id": "69aa0f85",
   "metadata": {},
   "outputs": [
    {
     "name": "stdout",
     "output_type": "stream",
     "text": [
      "[array([[ 1,  2,  3,  4,  5],\n",
      "       [11, 12, 13, 14, 15]]), array([[ 6,  7,  8,  9, 10],\n",
      "       [16, 17, 18, 19, 20]])]\n"
     ]
    }
   ],
   "source": [
    "result=np.hsplit(a, 2)\n",
    "print(result)"
   ]
  },
  {
   "cell_type": "code",
   "execution_count": 89,
   "id": "3aa6eeed",
   "metadata": {},
   "outputs": [
    {
     "name": "stdout",
     "output_type": "stream",
     "text": [
      "[array([[ 1,  2],\n",
      "       [11, 12]]), array([[ 3,  4],\n",
      "       [13, 14]]), array([[ 5,  6],\n",
      "       [15, 16]]), array([[ 7,  8],\n",
      "       [17, 18]]), array([[ 9, 10],\n",
      "       [19, 20]])]\n"
     ]
    }
   ],
   "source": [
    "result=np.hsplit(a, 5)\n",
    "print(result)"
   ]
  },
  {
   "cell_type": "code",
   "execution_count": 90,
   "id": "15c9a2da",
   "metadata": {},
   "outputs": [
    {
     "name": "stdout",
     "output_type": "stream",
     "text": [
      "[[ 1  2  3  4  5  6  7  8  9 10]\n",
      " [11 12 13 14 15 16 17 18 19 20]]\n",
      "[[ 1]\n",
      " [11]]\n",
      "[[ 2  3]\n",
      " [12 13]]\n",
      "[array([[ 1],\n",
      "       [11]]), array([[ 2,  3],\n",
      "       [12, 13]]), array([[ 4,  5],\n",
      "       [14, 15]]), array([[ 6,  7,  8,  9, 10],\n",
      "       [16, 17, 18, 19, 20]])]\n"
     ]
    }
   ],
   "source": [
    "print(a)\n",
    "print(a[:,:1])\n",
    "print(a[:,1:3])\n",
    "print(np.hsplit(a, [1, 3, 5]))# 1, 1~3, 3~5, 그리고 나머지로 자르기, horizontal 유지, vertical 수직선 그어서 나누기."
   ]
  },
  {
   "cell_type": "markdown",
   "id": "dd290c67",
   "metadata": {},
   "source": [
    "## vsplit()"
   ]
  },
  {
   "cell_type": "code",
   "execution_count": 91,
   "id": "772c84af",
   "metadata": {},
   "outputs": [
    {
     "name": "stdout",
     "output_type": "stream",
     "text": [
      "type:<class 'numpy.ndarray'>\n",
      "shape: (4, 6), dimension: 2, dtype:int32\n",
      "Array's Data:\n",
      " [[ 1  2  3  4  5  6]\n",
      " [ 7  8  9 10 11 12]\n",
      " [13 14 15 16 17 18]\n",
      " [19 20 21 22 23 24]]\n"
     ]
    }
   ],
   "source": [
    "a = np.arange(1, 25).reshape((4, 6))\n",
    "pprint(a)"
   ]
  },
  {
   "cell_type": "code",
   "execution_count": 92,
   "id": "23da229b",
   "metadata": {},
   "outputs": [
    {
     "name": "stdout",
     "output_type": "stream",
     "text": [
      "[array([[ 1,  2,  3,  4,  5,  6],\n",
      "       [ 7,  8,  9, 10, 11, 12]]), array([[13, 14, 15, 16, 17, 18],\n",
      "       [19, 20, 21, 22, 23, 24]])]\n"
     ]
    }
   ],
   "source": [
    "result=np.vsplit(a, 2)   #   ----- 위아래 2개로 나눔.\n",
    "print(result)"
   ]
  },
  {
   "cell_type": "code",
   "execution_count": 93,
   "id": "95d5bf49",
   "metadata": {},
   "outputs": [
    {
     "name": "stdout",
     "output_type": "stream",
     "text": [
      "[array([[1, 2, 3, 4, 5, 6]]), array([[ 7,  8,  9, 10, 11, 12]]), array([[13, 14, 15, 16, 17, 18]]), array([[19, 20, 21, 22, 23, 24]])]\n"
     ]
    }
   ],
   "source": [
    "result=np.vsplit(a, 4)   #   ----- 위아래 4개로 나눔.\n",
    "print(result)"
   ]
  },
  {
   "cell_type": "code",
   "execution_count": 94,
   "id": "72cb7300",
   "metadata": {},
   "outputs": [
    {
     "name": "stdout",
     "output_type": "stream",
     "text": [
      "type:<class 'numpy.ndarray'>\n",
      "shape: (6, 3), dimension: 2, dtype:int32\n",
      "Array's Data:\n",
      " [[ 1  2  3]\n",
      " [ 4  5  6]\n",
      " [ 7  8  9]\n",
      " [10 11 12]\n",
      " [13 14 15]\n",
      " [16 17 18]]\n"
     ]
    }
   ],
   "source": [
    "a = np.arange(1, 19).reshape((6, 3))\n",
    "pprint(a)"
   ]
  },
  {
   "cell_type": "code",
   "execution_count": 95,
   "id": "22bc3531",
   "metadata": {},
   "outputs": [
    {
     "name": "stdout",
     "output_type": "stream",
     "text": [
      "[array([[1, 2, 3],\n",
      "       [4, 5, 6]]), array([[ 7,  8,  9],\n",
      "       [10, 11, 12]]), array([[13, 14, 15],\n",
      "       [16, 17, 18]])]\n"
     ]
    }
   ],
   "source": [
    "result=np.vsplit(a, 3)\n",
    "print(result)"
   ]
  },
  {
   "cell_type": "code",
   "execution_count": 96,
   "id": "a0dc6ed2",
   "metadata": {},
   "outputs": [
    {
     "name": "stdout",
     "output_type": "stream",
     "text": [
      "[array([[1, 2, 3],\n",
      "       [4, 5, 6],\n",
      "       [7, 8, 9]]), array([[10, 11, 12],\n",
      "       [13, 14, 15],\n",
      "       [16, 17, 18]])]\n"
     ]
    }
   ],
   "source": [
    "result=np.vsplit(a, 2)\n",
    "print(result)"
   ]
  },
  {
   "cell_type": "code",
   "execution_count": 111,
   "id": "7d4619b7",
   "metadata": {},
   "outputs": [
    {
     "name": "stdout",
     "output_type": "stream",
     "text": [
      "type:<class 'numpy.ndarray'>\n",
      "shape: (6, 3), dimension: 2, dtype:int32\n",
      "Array's Data:\n",
      " [[ 1  2  3]\n",
      " [ 4  5  6]\n",
      " [ 7  8  9]\n",
      " [10 11 12]\n",
      " [13 14 15]\n",
      " [16 17 18]]\n"
     ]
    }
   ],
   "source": [
    "a = np.arange(1, 19).reshape((6, 3))\n",
    "pprint(a)"
   ]
  },
  {
   "cell_type": "code",
   "execution_count": 112,
   "id": "599dcbb2",
   "metadata": {},
   "outputs": [
    {
     "name": "stdout",
     "output_type": "stream",
     "text": [
      "[array([[1, 2, 3],\n",
      "       [4, 5, 6]]), array([[ 7,  8,  9],\n",
      "       [10, 11, 12]]), array([[13, 14, 15],\n",
      "       [16, 17, 18]])]\n"
     ]
    }
   ],
   "source": [
    "result=np.vsplit(a, 3)\n",
    "print(result)"
   ]
  },
  {
   "cell_type": "code",
   "execution_count": 120,
   "id": "8fa5f024",
   "metadata": {},
   "outputs": [
    {
     "name": "stdout",
     "output_type": "stream",
     "text": [
      "[[ 1  2  3]\n",
      " [ 4  5  6]\n",
      " [ 7  8  9]\n",
      " [10 11 12]\n",
      " [13 14 15]\n",
      " [16 17 18]]\n"
     ]
    }
   ],
   "source": [
    "print(a)"
   ]
  },
  {
   "cell_type": "code",
   "execution_count": 124,
   "id": "f9b37baa",
   "metadata": {},
   "outputs": [
    {
     "name": "stdout",
     "output_type": "stream",
     "text": [
      "[[1 2 3]]\n"
     ]
    }
   ],
   "source": [
    "print(a[:1,:]) #  1번행 전부"
   ]
  },
  {
   "cell_type": "code",
   "execution_count": 122,
   "id": "2ec79ba1",
   "metadata": {},
   "outputs": [
    {
     "name": "stdout",
     "output_type": "stream",
     "text": [
      "[[ 1  2]\n",
      " [ 4  5]\n",
      " [ 7  8]\n",
      " [10 11]]\n",
      "[array([[1, 2, 3]]), array([[4, 5, 6],\n",
      "       [7, 8, 9]]), array([[10, 11, 12],\n",
      "       [13, 14, 15]]), array([[16, 17, 18]])]\n"
     ]
    }
   ],
   "source": [
    "print(a[:4,:2]) # 맨 위부터 4번행까지, 왼쪽부터 2개열만"
   ]
  },
  {
   "cell_type": "code",
   "execution_count": 123,
   "id": "8ebb0297",
   "metadata": {},
   "outputs": [
    {
     "name": "stdout",
     "output_type": "stream",
     "text": [
      "[array([[1, 2, 3]]), array([[4, 5, 6],\n",
      "       [7, 8, 9]]), array([[10, 11, 12],\n",
      "       [13, 14, 15]]), array([[16, 17, 18]])]\n"
     ]
    }
   ],
   "source": [
    "print(np.vsplit(a, [1, 3, 5])) # 가로로 선 그어서 1, 1~3, 3~5, 그리고 나머지로 자르기\n",
    "# vertical 유지, horizontal 수평선 그어서 나눈다."
   ]
  },
  {
   "cell_type": "code",
   "execution_count": null,
   "id": "e73d8286",
   "metadata": {},
   "outputs": [],
   "source": []
  }
 ],
 "metadata": {
  "kernelspec": {
   "display_name": "Python 3 (ipykernel)",
   "language": "python",
   "name": "python3"
  },
  "language_info": {
   "codemirror_mode": {
    "name": "ipython",
    "version": 3
   },
   "file_extension": ".py",
   "mimetype": "text/x-python",
   "name": "python",
   "nbconvert_exporter": "python",
   "pygments_lexer": "ipython3",
   "version": "3.9.13"
  }
 },
 "nbformat": 4,
 "nbformat_minor": 5
}
