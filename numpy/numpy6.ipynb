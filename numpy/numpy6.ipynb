{
 "cells": [
  {
   "cell_type": "markdown",
   "id": "3101bdf1",
   "metadata": {},
   "source": [
    "* NumPy"
   ]
  },
  {
   "cell_type": "code",
   "execution_count": 11,
   "id": "826222af",
   "metadata": {},
   "outputs": [],
   "source": [
    "import numpy as np\n",
    "arr=np.random.random((5,2,3))"
   ]
  },
  {
   "cell_type": "code",
   "execution_count": 12,
   "id": "0026d662",
   "metadata": {},
   "outputs": [
    {
     "name": "stdout",
     "output_type": "stream",
     "text": [
      "[[[0.0579747  0.87251802 0.75326219]\n",
      "  [0.63170408 0.5669451  0.34449852]]\n",
      "\n",
      " [[0.12674345 0.88107411 0.85793227]\n",
      "  [0.4086663  0.18372972 0.28193744]]\n",
      "\n",
      " [[0.25389935 0.80274375 0.12384659]\n",
      "  [0.90907823 0.59835193 0.63737433]]\n",
      "\n",
      " [[0.9250394  0.04101338 0.08729288]\n",
      "  [0.00107365 0.75801746 0.9132455 ]]\n",
      "\n",
      " [[0.30542663 0.20978727 0.33075912]\n",
      "  [0.10821862 0.51432339 0.79772655]]]\n"
     ]
    }
   ],
   "source": [
    "print(arr)"
   ]
  },
  {
   "cell_type": "code",
   "execution_count": 13,
   "id": "8e4a963d",
   "metadata": {},
   "outputs": [
    {
     "name": "stdout",
     "output_type": "stream",
     "text": [
      "<class 'numpy.ndarray'>\n"
     ]
    }
   ],
   "source": [
    "print(type(arr))"
   ]
  },
  {
   "cell_type": "code",
   "execution_count": 14,
   "id": "248795eb",
   "metadata": {},
   "outputs": [
    {
     "name": "stdout",
     "output_type": "stream",
     "text": [
      "5\n"
     ]
    }
   ],
   "source": [
    "print(len(arr))"
   ]
  },
  {
   "cell_type": "code",
   "execution_count": 15,
   "id": "cb13cfcb",
   "metadata": {},
   "outputs": [
    {
     "name": "stdout",
     "output_type": "stream",
     "text": [
      "float64\n"
     ]
    }
   ],
   "source": [
    "print(arr.dtype)"
   ]
  },
  {
   "cell_type": "code",
   "execution_count": 20,
   "id": "0ba69f0d",
   "metadata": {},
   "outputs": [
    {
     "name": "stdout",
     "output_type": "stream",
     "text": [
      "3\n"
     ]
    }
   ],
   "source": [
    "print(arr.ndim)"
   ]
  },
  {
   "cell_type": "code",
   "execution_count": 21,
   "id": "ecba9da6",
   "metadata": {},
   "outputs": [
    {
     "name": "stdout",
     "output_type": "stream",
     "text": [
      "30\n"
     ]
    }
   ],
   "source": [
    "print(arr.size)"
   ]
  },
  {
   "cell_type": "code",
   "execution_count": 25,
   "id": "c64fa0d6",
   "metadata": {},
   "outputs": [
    {
     "name": "stdout",
     "output_type": "stream",
     "text": [
      "[[[0 0 0]\n",
      "  [0 0 0]]\n",
      "\n",
      " [[0 0 0]\n",
      "  [0 0 0]]\n",
      "\n",
      " [[0 0 0]\n",
      "  [0 0 0]]\n",
      "\n",
      " [[0 0 0]\n",
      "  [0 0 0]]\n",
      "\n",
      " [[0 0 0]\n",
      "  [0 0 0]]]\n"
     ]
    },
    {
     "name": "stderr",
     "output_type": "stream",
     "text": [
      "C:\\Users\\BIT'\\AppData\\Local\\Temp\\ipykernel_2084\\926832724.py:1: DeprecationWarning: `np.int` is a deprecated alias for the builtin `int`. To silence this warning, use `int` by itself. Doing this will not modify any behavior and is safe. When replacing `np.int`, you may wish to use e.g. `np.int64` or `np.int32` to specify the precision. If you wish to review your current use, check the release note link for additional information.\n",
      "Deprecated in NumPy 1.20; for more details and guidance: https://numpy.org/devdocs/release/1.20.0-notes.html#deprecations\n",
      "  print(arr.astype(np.int))\n"
     ]
    }
   ],
   "source": [
    "print(arr.astype(np.int))"
   ]
  },
  {
   "cell_type": "code",
   "execution_count": 18,
   "id": "2481b61e",
   "metadata": {},
   "outputs": [],
   "source": [
    "arr1=arr.reshape(3,2,5)"
   ]
  },
  {
   "cell_type": "code",
   "execution_count": 19,
   "id": "c42e7f1b",
   "metadata": {},
   "outputs": [
    {
     "name": "stdout",
     "output_type": "stream",
     "text": [
      "[[[0.0579747  0.87251802 0.75326219 0.63170408 0.5669451 ]\n",
      "  [0.34449852 0.12674345 0.88107411 0.85793227 0.4086663 ]]\n",
      "\n",
      " [[0.18372972 0.28193744 0.25389935 0.80274375 0.12384659]\n",
      "  [0.90907823 0.59835193 0.63737433 0.9250394  0.04101338]]\n",
      "\n",
      " [[0.08729288 0.00107365 0.75801746 0.9132455  0.30542663]\n",
      "  [0.20978727 0.33075912 0.10821862 0.51432339 0.79772655]]]\n"
     ]
    }
   ],
   "source": [
    "print(arr1)"
   ]
  },
  {
   "cell_type": "code",
   "execution_count": 24,
   "id": "7e66e919",
   "metadata": {},
   "outputs": [
    {
     "name": "stdout",
     "output_type": "stream",
     "text": [
      " squeeze(a, axis=None)\n",
      "\n",
      "Remove axes of length one from `a`.\n",
      "\n",
      "Parameters\n",
      "----------\n",
      "a : array_like\n",
      "    Input data.\n",
      "axis : None or int or tuple of ints, optional\n",
      "    .. versionadded:: 1.7.0\n",
      "\n",
      "    Selects a subset of the entries of length one in the\n",
      "    shape. If an axis is selected with shape entry greater than\n",
      "    one, an error is raised.\n",
      "\n",
      "Returns\n",
      "-------\n",
      "squeezed : ndarray\n",
      "    The input array, but with all or a subset of the\n",
      "    dimensions of length 1 removed. This is always `a` itself\n",
      "    or a view into `a`. Note that if all axes are squeezed,\n",
      "    the result is a 0d array and not a scalar.\n",
      "\n",
      "Raises\n",
      "------\n",
      "ValueError\n",
      "    If `axis` is not None, and an axis being squeezed is not of length 1\n",
      "\n",
      "See Also\n",
      "--------\n",
      "expand_dims : The inverse operation, adding entries of length one\n",
      "reshape : Insert, remove, and combine dimensions, and resize existing ones\n",
      "\n",
      "Examples\n",
      "--------\n",
      ">>> x = np.array([[[0], [1], [2]]])\n",
      ">>> x.shape\n",
      "(1, 3, 1)\n",
      ">>> np.squeeze(x).shape\n",
      "(3,)\n",
      ">>> np.squeeze(x, axis=0).shape\n",
      "(3, 1)\n",
      ">>> np.squeeze(x, axis=1).shape\n",
      "Traceback (most recent call last):\n",
      "...\n",
      "ValueError: cannot select an axis to squeeze out which has size not equal to one\n",
      ">>> np.squeeze(x, axis=2).shape\n",
      "(1, 3)\n",
      ">>> x = np.array([[1234]])\n",
      ">>> x.shape\n",
      "(1, 1)\n",
      ">>> np.squeeze(x)\n",
      "array(1234)  # 0d array\n",
      ">>> np.squeeze(x).shape\n",
      "()\n",
      ">>> np.squeeze(x)[()]\n",
      "1234\n"
     ]
    }
   ],
   "source": [
    "np.info(np.squeeze)"
   ]
  },
  {
   "cell_type": "code",
   "execution_count": 26,
   "id": "49c79802",
   "metadata": {},
   "outputs": [],
   "source": [
    "def pprint(arr):\n",
    "    print(\"type:{}\".format(type(arr)))\n",
    "    print(\"shape: {}, dimension: {}, dtype:{}\".format(arr.shape, arr.ndim, arr.dtype))\n",
    "    print(\"Array's Data:\\n\", arr)"
   ]
  },
  {
   "cell_type": "code",
   "execution_count": 28,
   "id": "806fe867",
   "metadata": {},
   "outputs": [
    {
     "name": "stdout",
     "output_type": "stream",
     "text": [
      "[[[ 1  2  3  4  5]\n",
      "  [ 6  7  8  9 10]\n",
      "  [11 12 13 14 15]]\n",
      "\n",
      " [[16 17 18 19 20]\n",
      "  [21 22 23 24 25]\n",
      "  [26 27 28 29 30]]\n",
      "\n",
      " [[31 32 33 34 35]\n",
      "  [36 37 38 39 40]\n",
      "  [41 42 43 44 45]]]\n"
     ]
    }
   ],
   "source": [
    "a=np.arange(1,46).reshape(3,3,5)\n",
    "print(a)"
   ]
  },
  {
   "cell_type": "code",
   "execution_count": 29,
   "id": "f2e07c8f",
   "metadata": {},
   "outputs": [
    {
     "name": "stdout",
     "output_type": "stream",
     "text": [
      "[[9 8 7]\n",
      " [6 5 4]\n",
      " [3 2 1]]\n"
     ]
    }
   ],
   "source": [
    "b=np.arange(9,0,-1).reshape(3,3)\n",
    "print(b)"
   ]
  },
  {
   "cell_type": "code",
   "execution_count": 33,
   "id": "a8198427",
   "metadata": {},
   "outputs": [
    {
     "name": "stdout",
     "output_type": "stream",
     "text": [
      "[[1 2 3]\n",
      " [4 5 6]\n",
      " [7 8 9]]\n"
     ]
    }
   ],
   "source": [
    "c=np.arange(1,10).reshape(3,3)\n",
    "print(c)"
   ]
  },
  {
   "cell_type": "code",
   "execution_count": 44,
   "id": "6b959231",
   "metadata": {},
   "outputs": [
    {
     "name": "stdout",
     "output_type": "stream",
     "text": [
      "[[ 8  6  4]\n",
      " [ 2  0 -2]\n",
      " [-4 -6 -8]]\n",
      "[[10 10 10]\n",
      " [10 10 10]\n",
      " [10 10 10]]\n",
      "[[ 9 16 21]\n",
      " [24 25 24]\n",
      " [21 16  9]]\n",
      "[[9.         4.         2.33333333]\n",
      " [1.5        1.         0.66666667]\n",
      " [0.42857143 0.25       0.11111111]]\n"
     ]
    }
   ],
   "source": [
    "# 같은 좌표의 요소끼리 연산 가능\n",
    "\n",
    "print(b-c) # ----------------------- np.subtract(b,c)\n",
    "print(b+c) # ----------------------- np.add(b, c)\n",
    "print(b*c) # ----------------------- np.muldiply(b, c)\n",
    "print(b/c) # ----------------------- np.divide(b, c)"
   ]
  },
  {
   "cell_type": "code",
   "execution_count": 45,
   "id": "c8f527d7",
   "metadata": {},
   "outputs": [
    {
     "data": {
      "text/plain": [
       "1.4142135623730951"
      ]
     },
     "execution_count": 45,
     "metadata": {},
     "output_type": "execute_result"
    }
   ],
   "source": [
    "np.sqrt(2) # 제곱근 함수"
   ]
  },
  {
   "cell_type": "code",
   "execution_count": 48,
   "id": "450c67ef",
   "metadata": {},
   "outputs": [
    {
     "data": {
      "text/plain": [
       "0.6483608274590866"
      ]
     },
     "execution_count": 48,
     "metadata": {},
     "output_type": "execute_result"
    }
   ],
   "source": [
    "np.sin(10)\n",
    "np.cos(10)\n",
    "np.tan(10)"
   ]
  },
  {
   "cell_type": "code",
   "execution_count": 49,
   "id": "8a51d18e",
   "metadata": {},
   "outputs": [
    {
     "data": {
      "text/plain": [
       "2.0794415416798357"
      ]
     },
     "execution_count": 49,
     "metadata": {},
     "output_type": "execute_result"
    }
   ],
   "source": [
    "np.log(8)"
   ]
  },
  {
   "cell_type": "code",
   "execution_count": 50,
   "id": "3e3abfb4",
   "metadata": {},
   "outputs": [
    {
     "data": {
      "text/plain": [
       "7.38905609893065"
      ]
     },
     "execution_count": 50,
     "metadata": {},
     "output_type": "execute_result"
    }
   ],
   "source": [
    "np.exp(2) # 지수"
   ]
  },
  {
   "cell_type": "code",
   "execution_count": 51,
   "id": "03262f7f",
   "metadata": {},
   "outputs": [
    {
     "name": "stdout",
     "output_type": "stream",
     "text": [
      "[[9 8 7]\n",
      " [6 5 4]\n",
      " [3 2 1]]\n",
      "[[1 2 3]\n",
      " [4 5 6]\n",
      " [7 8 9]]\n"
     ]
    }
   ],
   "source": [
    "print(b)\n",
    "print(c)"
   ]
  },
  {
   "cell_type": "code",
   "execution_count": 53,
   "id": "ef262883",
   "metadata": {},
   "outputs": [
    {
     "name": "stdout",
     "output_type": "stream",
     "text": [
      "[[3.         2.82842712 2.64575131]\n",
      " [2.44948974 2.23606798 2.        ]\n",
      " [1.73205081 1.41421356 1.        ]]\n"
     ]
    }
   ],
   "source": [
    "print(np.sqrt(b))"
   ]
  },
  {
   "cell_type": "code",
   "execution_count": 58,
   "id": "da413c83",
   "metadata": {},
   "outputs": [
    {
     "name": "stdout",
     "output_type": "stream",
     "text": [
      "[[ 90 114 138]\n",
      " [ 54  69  84]\n",
      " [ 18  24  30]]\n"
     ]
    }
   ],
   "source": [
    "# 행렬의 곱(선형대수)\n",
    "print(np.dot(b,c))  # ------- 가로축과 세로축의 곱의 합. 행렬 내적\n",
    "# 9*1 + 8*4 + 7*7, 9*2 + 8*5 + 7*8, 9*3 + 8*6 + 7*9 = 90"
   ]
  },
  {
   "cell_type": "code",
   "execution_count": 70,
   "id": "0cd15b44",
   "metadata": {},
   "outputs": [
    {
     "name": "stdout",
     "output_type": "stream",
     "text": [
      "[[9 8 7]\n",
      " [6 5 4]\n",
      " [3 2 1]]\n",
      "[[1 2 3]\n",
      " [4 5 6]\n",
      " [7 8 9]]\n",
      "[[1 2 3]\n",
      " [4 5 6]\n",
      " [7 8 9]]\n"
     ]
    }
   ],
   "source": [
    "b=np.arange(9,0,-1).reshape(3,3)\n",
    "print(b)\n",
    "c=np.arange(1,10).reshape(3,3)\n",
    "print(c)\n",
    "d=np.arange(1,10).reshape(3,3)\n",
    "print(d)"
   ]
  },
  {
   "cell_type": "code",
   "execution_count": 71,
   "id": "80de5d08",
   "metadata": {},
   "outputs": [
    {
     "name": "stdout",
     "output_type": "stream",
     "text": [
      "[[False False False]\n",
      " [False  True False]\n",
      " [False False False]]\n",
      "[[ True  True  True]\n",
      " [ True  True  True]\n",
      " [ True  True  True]]\n",
      "True\n",
      "False\n",
      "[[ True  True  True]\n",
      " [ True False False]\n",
      " [False False False]]\n"
     ]
    }
   ],
   "source": [
    "print(b==c)\n",
    "print(c==d)\n",
    "print(np.array_equal(c,d))\n",
    "print(np.array_equal(b,c))\n",
    "print(b>c)"
   ]
  },
  {
   "cell_type": "code",
   "execution_count": null,
   "id": "390fa5b6",
   "metadata": {},
   "outputs": [],
   "source": []
  },
  {
   "cell_type": "code",
   "execution_count": null,
   "id": "568edb71",
   "metadata": {},
   "outputs": [],
   "source": []
  },
  {
   "cell_type": "code",
   "execution_count": null,
   "id": "c779d616",
   "metadata": {},
   "outputs": [],
   "source": []
  },
  {
   "cell_type": "code",
   "execution_count": null,
   "id": "099e81d3",
   "metadata": {},
   "outputs": [],
   "source": []
  }
 ],
 "metadata": {
  "kernelspec": {
   "display_name": "Python 3 (ipykernel)",
   "language": "python",
   "name": "python3"
  },
  "language_info": {
   "codemirror_mode": {
    "name": "ipython",
    "version": 3
   },
   "file_extension": ".py",
   "mimetype": "text/x-python",
   "name": "python",
   "nbconvert_exporter": "python",
   "pygments_lexer": "ipython3",
   "version": "3.9.13"
  }
 },
 "nbformat": 4,
 "nbformat_minor": 5
}
