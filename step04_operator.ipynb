{
 "cells": [
  {
   "cell_type": "markdown",
   "id": "62a1146b",
   "metadata": {},
   "source": [
    "* 산술연산자"
   ]
  },
  {
   "cell_type": "code",
   "execution_count": null,
   "id": "5fafc719",
   "metadata": {
    "scrolled": true
   },
   "outputs": [],
   "source": [
    "print (2 ** 3)      # 8 (2의 3승 ==> 거듭제곱)\n",
    "print (5 / 2)       # 2.5 (나누기)\n",
    "print (5.0 / 2)     # 2.5 (나누기)\n",
    "print (5 // 2)      # 2 (정수 나누기)\n",
    "print (5.0 // 2)    # 2.0\n",
    "print (5 % 2)       # 1 (나머지)\n",
    "print(divmod(13,3)) # (4,1) 몫, 나머지\n",
    "print(abs(-7))      # 7 (절대값)"
   ]
  },
  {
   "cell_type": "markdown",
   "id": "50cf93e4",
   "metadata": {},
   "source": [
    "* 대입연산자"
   ]
  },
  {
   "cell_type": "code",
   "execution_count": null,
   "id": "794e684f",
   "metadata": {},
   "outputs": [],
   "source": [
    "name=\"홍길동\"; age=20\n",
    "print('이름: ',name, \"\\n나이: \",age)\n",
    "print(\"name: %s\\nage: %d\" %(name,age))"
   ]
  },
  {
   "cell_type": "markdown",
   "id": "34d76a26",
   "metadata": {},
   "source": [
    "* 문자열연산 (합치기, 반복)"
   ]
  },
  {
   "cell_type": "code",
   "execution_count": null,
   "id": "b727a07a",
   "metadata": {},
   "outputs": [],
   "source": [
    "str1=\"python is \"\n",
    "str2=\"good\"\n",
    "print(str1 + str2)\n",
    "print('=' * 15)"
   ]
  },
  {
   "cell_type": "markdown",
   "id": "d63f9b8e",
   "metadata": {},
   "source": [
    "* 복합 대입연산자"
   ]
  },
  {
   "cell_type": "code",
   "execution_count": null,
   "id": "3dde23f5",
   "metadata": {},
   "outputs": [],
   "source": [
    "a=5\n",
    "a+=1\n",
    "print(a)"
   ]
  },
  {
   "cell_type": "markdown",
   "id": "0d7dc5c5",
   "metadata": {},
   "source": [
    "* 비교연산자\n",
    "* != 같지않다, == 같다"
   ]
  },
  {
   "cell_type": "code",
   "execution_count": null,
   "id": "4ac04280",
   "metadata": {},
   "outputs": [],
   "source": [
    "print('a' < 'z')                # a(97), z(122)  True\n",
    "print('command' > 'common')     # False / a(97) < o(111) / print(ord('o'))\n",
    "print(2<3<4<5)                 # True\n",
    "print(2<4<3<5)                 # Fasle\n",
    "#print('a' < 100)              # error(오류), 문자와 숫자를 비교할수 없다\n",
    "print('a' < chr(100))          # True\n",
    "\n",
    "a = \"abc\"\n",
    "b = \"xyz\"\n",
    "print (a != b)"
   ]
  },
  {
   "cell_type": "markdown",
   "id": "0342776c",
   "metadata": {},
   "source": [
    "* 부울연산자<br>\n",
    "and: 모두 만족해야 참<br>\n",
    "or: 하나만 만복해도 참<br>\n",
    "not: not True 또는 not False"
   ]
  },
  {
   "cell_type": "code",
   "execution_count": 1,
   "id": "7fd31803",
   "metadata": {},
   "outputs": [
    {
     "name": "stdout",
     "output_type": "stream",
     "text": [
      "False\n",
      "False\n",
      "True\n"
     ]
    }
   ],
   "source": [
    "score=55\n",
    "print(score>=60 and score<=100)  # False\n",
    "\n",
    "str='서울'\n",
    "print(str=='부산' or str=='광주') # False\n",
    "\n",
    "print(not False)"
   ]
  },
  {
   "cell_type": "code",
   "execution_count": null,
   "id": "dfa91d57",
   "metadata": {},
   "outputs": [],
   "source": [
    "print(int(2.54))            # 2\n",
    "print(round(2.54))          # 3\n",
    "print(round(2.56, 1))       # 2.6\n",
    "print(round(123456, -3))    # 123000"
   ]
  },
  {
   "cell_type": "code",
   "execution_count": null,
   "id": "11838353",
   "metadata": {},
   "outputs": [],
   "source": [
    "# 인덱싱,슬라이싱--------------------------------\n",
    "#      01234567890123456789012345678901234\n",
    "str = 'Life is too short, You need Python.'\n",
    "print (str[12])    # 인덱스는 0부터 시작, 12번째 글자 출력     \n",
    "print (str[0:12])  # 인덱스 0부터 11까지 출력, 12는 출력 X  \n",
    "print (str[:12])   # 처음부터 인덱스 11까지 출력\n",
    "print (str[12:])   # 인덱스 12부터 끝까지 출력"
   ]
  },
  {
   "cell_type": "code",
   "execution_count": null,
   "id": "7d655d18",
   "metadata": {},
   "outputs": [],
   "source": []
  }
 ],
 "metadata": {
  "kernelspec": {
   "display_name": "Python 3 (ipykernel)",
   "language": "python",
   "name": "python3"
  },
  "language_info": {
   "codemirror_mode": {
    "name": "ipython",
    "version": 3
   },
   "file_extension": ".py",
   "mimetype": "text/x-python",
   "name": "python",
   "nbconvert_exporter": "python",
   "pygments_lexer": "ipython3",
   "version": "3.7.15"
  }
 },
 "nbformat": 4,
 "nbformat_minor": 5
}
