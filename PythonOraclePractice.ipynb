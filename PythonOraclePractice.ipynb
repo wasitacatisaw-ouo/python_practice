{
 "cells": [
  {
   "cell_type": "code",
   "execution_count": 1,
   "id": "c00c0bfa",
   "metadata": {},
   "outputs": [
    {
     "name": "stdout",
     "output_type": "stream",
     "text": [
      "Defaulting to user installation because normal site-packages is not writeable\n",
      "Collecting cx_Oracle\n",
      "  Downloading cx_Oracle-8.3.0-cp39-cp39-win_amd64.whl (213 kB)\n",
      "     ------------------------------------- 213.2/213.2 kB 12.7 MB/s eta 0:00:00\n",
      "Installing collected packages: cx_Oracle\n",
      "Successfully installed cx_Oracle-8.3.0\n"
     ]
    }
   ],
   "source": [
    "!pip install cx_Oracle"
   ]
  },
  {
   "cell_type": "code",
   "execution_count": 2,
   "id": "46b14b06",
   "metadata": {},
   "outputs": [
    {
     "name": "stdout",
     "output_type": "stream",
     "text": [
      "('admin', '1234', '관리자', datetime.datetime(1111, 5, 12, 0, 0), 'admin@naver.com', '010-1234-1231', datetime.datetime(2023, 3, 14, 16, 26, 48), None, None, None, 'noImage.jpg', 0, 0, 0.0, 0, 0, 'N')\n",
      "('blue', '1234', '블루', datetime.datetime(1111, 11, 11, 0, 0), 'blue@naver.com', '010-1234-5467', datetime.datetime(2023, 3, 14, 16, 26, 48), None, None, None, 'noImage.jpg', 0, 0, 0.0, 0, 0, 'N')\n",
      "('red', '1234', '레드', datetime.datetime(2222, 5, 12, 0, 0), 'red@naver.com', '010-4321-4321', datetime.datetime(2023, 3, 14, 16, 26, 48), None, None, None, 'noImage.jpg', 0, 0, 0.0, 0, 0, 'N')\n",
      "('green', '1234', '그린', datetime.datetime(2222, 2, 27, 0, 0), 'green@naver.com', '010-1234-1234', datetime.datetime(2023, 3, 14, 16, 26, 48), None, None, None, 'noImage.jpg', 0, 0, 0.0, 0, 0, 'N')\n",
      "('white', '1234', '화이트', datetime.datetime(2023, 8, 27, 0, 0), 'white@naver.com', '010-4321-1234', datetime.datetime(2023, 3, 14, 16, 26, 48), None, None, None, 'noImage.jpg', 0, 0, 0.0, 0, 0, 'N')\n"
     ]
    }
   ],
   "source": [
    "import cx_Oracle\n",
    "\n",
    "# id / pw @ host : port / service_name\n",
    "connection = cx_Oracle.connect('green/1234@localhost:1521/orcl')\n",
    "\n",
    "cursor = connection.cursor()\n",
    "\n",
    "cursor.execute('SELECT * FROM members')\n",
    "\n",
    "for row in cursor:\n",
    "    print(row)"
   ]
  },
  {
   "cell_type": "code",
   "execution_count": null,
   "id": "4caa193a",
   "metadata": {},
   "outputs": [],
   "source": [
    "# connection.close()"
   ]
  },
  {
   "cell_type": "code",
   "execution_count": null,
   "id": "77693e35",
   "metadata": {},
   "outputs": [],
   "source": []
  }
 ],
 "metadata": {
  "kernelspec": {
   "display_name": "Python 3 (ipykernel)",
   "language": "python",
   "name": "python3"
  },
  "language_info": {
   "codemirror_mode": {
    "name": "ipython",
    "version": 3
   },
   "file_extension": ".py",
   "mimetype": "text/x-python",
   "name": "python",
   "nbconvert_exporter": "python",
   "pygments_lexer": "ipython3",
   "version": "3.9.13"
  }
 },
 "nbformat": 4,
 "nbformat_minor": 5
}
