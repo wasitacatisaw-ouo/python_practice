{
 "cells": [
  {
   "cell_type": "markdown",
   "id": "7d7a4b60",
   "metadata": {},
   "source": [
    "* 제어문\n",
    "   - if문, if ~ else문 , if ~ elif ~ elif문 \n",
    "   - 두 문장이상일때는 { }이 아닌 들여쓰기를 한다"
   ]
  },
  {
   "cell_type": "code",
   "execution_count": 2,
   "id": "2e9a86ed",
   "metadata": {},
   "outputs": [
    {
     "name": "stdout",
     "output_type": "stream",
     "text": [
      "나이를 입력하시오:16\n",
      "16 세는 미성년이며   학생입니다\n",
      "** end **\n"
     ]
    }
   ],
   "source": [
    "age = int(input(\"나이를 입력하시오:\"))\n",
    "if age < 19:\n",
    "    print(age, \"세는 미성년이며 \", end=' ')\n",
    "    print(\" 학생입니다\")\n",
    "print(\"** end **\")"
   ]
  },
  {
   "cell_type": "code",
   "execution_count": 6,
   "id": "3ecd0a53",
   "metadata": {
    "scrolled": true
   },
   "outputs": [
    {
     "name": "stdout",
     "output_type": "stream",
     "text": [
      "점수를 입력하시오:75\n",
      "합격\n",
      "당신의 점수는  75 점 입니다\n"
     ]
    }
   ],
   "source": [
    "score=int(input('점수를 입력하시오:'))\n",
    "if score >= 60:\n",
    "    print(\"합격\")\n",
    "    print(\"당신의 점수는 \", score, \"점 입니다\")\n",
    "else:\n",
    "    print(\"불합격\")\n",
    "    print(\"당신의 점수는 \", score, \"점이고 재시험 대상입니다\")"
   ]
  },
  {
   "cell_type": "code",
   "execution_count": 10,
   "id": "aaf7f961",
   "metadata": {},
   "outputs": [
    {
     "name": "stdout",
     "output_type": "stream",
     "text": [
      "나의 점수는 120점이고 학점은 A입니다\n"
     ]
    }
   ],
   "source": [
    "score=120\n",
    "if score>=90:\n",
    "    grade='A'\n",
    "elif score>=80:\n",
    "    grade='B'\n",
    "elif score>=70:\n",
    "    grade='C'\n",
    "elif score>=60:\n",
    "    grade='D'\n",
    "else: \n",
    "    grade='F'    \n",
    "# print(\"나의 점수는 \",score,\"점이고 학점은 \",grade,\"입니다\")\n",
    "print(\"나의 점수는 %d점이고 학점은 %c입니다\" %(score,grade))"
   ]
  },
  {
   "cell_type": "code",
   "execution_count": 13,
   "id": "cc595f53",
   "metadata": {},
   "outputs": [
    {
     "name": "stdout",
     "output_type": "stream",
     "text": [
      "점수를 입력하시오:-50\n",
      "오류!!\n",
      "나의 점수는  -50 점이고 학점은  error 입니다\n"
     ]
    }
   ],
   "source": [
    "score=int(input(\"점수를 입력하시오:\"))\n",
    "grade='error'\n",
    "if score<0 or score>100:\n",
    "    print(\"오류!!\")\n",
    "    \n",
    "if score>=90 and score<=100:grade='A'\n",
    "if score>=80 and score<90:grade='B'    \n",
    "if score>=70 and score<80:grade='C'\n",
    "if score>=60 and score<70:grade='D'\n",
    "if score>=0 and score<60:grade='F'\n",
    "print(\"나의 점수는 \",score,\"점이고 학점은 \",grade,\"입니다\")  "
   ]
  },
  {
   "cell_type": "code",
   "execution_count": null,
   "id": "1f5a8328",
   "metadata": {},
   "outputs": [],
   "source": [
    "\"\"\"\n",
    "[문제]다음 프로그램을 작성하시오\n",
    "a변수에 55 또는 46을 대입한 후\n",
    "1. if문 이용\n",
    "    조건문을 비교해서 50보다 크면\n",
    "    \"55는 50보다 크거나 같다\", \"46은 50보다 작다\" 를 출력\n",
    "2. if ~ else이용(a%2==0)\n",
    "    a 변수의 값이 홀수 인지 짝수인지 출력하시오\n",
    "3. if~elif를 이용\n",
    "    a변수의 값이 \"양수\"인지 \"음수\"인지 \"zero\"인지를 출력\n",
    "    \n",
    "[출력]\n",
    "55는 50보다 크거나 같다\n",
    "55는 홀수입니다\n",
    "55는 양수입니다\n",
    "\"\"\""
   ]
  },
  {
   "cell_type": "code",
   "execution_count": 18,
   "id": "33fcfce7",
   "metadata": {},
   "outputs": [
    {
     "name": "stdout",
     "output_type": "stream",
     "text": [
      "55 는 50보다 크거나 같다\n",
      "55 는 홀수입니다\n",
      "55 는 양수입니다\n"
     ]
    }
   ],
   "source": [
    "a=55    #a=45\n",
    "\n",
    "if a >= 50:\n",
    "    print(a,\"는 50보다 크거나 같다\")\n",
    "if a < 50:\n",
    "    print(a,\"는 50보다 작다\")\n",
    "    \n",
    "if a%2==0:\n",
    "    print(a,\"는 짝수입니다\")\n",
    "else:\n",
    "    print(a, \"는 홀수입니다\")    \n",
    "    \n",
    "if a>0:\n",
    "    print(a,\"는 양수입니다\")\n",
    "elif a<0:\n",
    "    print(a,\"는 음수입니다\")\n",
    "else:\n",
    "    print(\"zero입니다\")"
   ]
  },
  {
   "cell_type": "markdown",
   "id": "b4bcc98a",
   "metadata": {},
   "source": [
    "* 중첩if\n",
    "* 1-19(미성년), 20-50(청년), 50이상(중장년)"
   ]
  },
  {
   "cell_type": "code",
   "execution_count": 22,
   "id": "af645e4a",
   "metadata": {},
   "outputs": [
    {
     "name": "stdout",
     "output_type": "stream",
     "text": [
      "청년\n"
     ]
    }
   ],
   "source": [
    "age=25\n",
    "if age > 19:\n",
    "    if age >= 50:\n",
    "        print(\"중장년\")\n",
    "    else:\n",
    "        print(\"청년\")\n",
    "else:\n",
    "    print(\"미성년\")"
   ]
  },
  {
   "cell_type": "code",
   "execution_count": null,
   "id": "c4adb7a3",
   "metadata": {},
   "outputs": [],
   "source": [
    "\"\"\"\n",
    "[문제]중첩 if이용\n",
    "3과목의 점수를 입력 받아서 합격인지 불합격인지 출력하시오\n",
    "3개 과목이 전부 40이상이어야 하고 평균이 60이상이어야 \"합격\"출력\n",
    "평균이 60이상이지만 1개 과목의 점수가 40미만이라면 \"과락으로 불합격\"출력\n",
    "평균이 60미만이면 불합격 출력\n",
    "\n",
    "[실행결과]\n",
    "국어점수입력 : 75\n",
    "영어점수입력 : 80\n",
    "수학점수입력 : 100\n",
    "결과 = 합격\n",
    "\n",
    "국어점수입력 : 95\n",
    "영어점수입력 : 80\n",
    "수학점수입력 : 38\n",
    "결과 = 과락으로 불합격\n",
    "\n",
    "국어점수입력 : 55\n",
    "영어점수입력 : 55\n",
    "수학점수입력 : 55\n",
    "결과 = 불합격\n",
    "\"\"\""
   ]
  },
  {
   "cell_type": "code",
   "execution_count": 6,
   "id": "8c50fba6",
   "metadata": {},
   "outputs": [
    {
     "name": "stdout",
     "output_type": "stream",
     "text": [
      "국어점수95\n",
      "영어점수80\n",
      "수학점수38\n",
      "과락으로 불합격\n"
     ]
    }
   ],
   "source": [
    "ks=int(input('국어점수'))\n",
    "es=int(input('영어점수'))\n",
    "ms=int(input('수학점수'))\n",
    "\n",
    "if (ks+es+ms)/3>60:\n",
    "    if ks>40 and es>40 and ms>40:\n",
    "            print('합격')\n",
    "    else:\n",
    "        print('과락으로 불합격')\n",
    "else:\n",
    "    print('불합격')"
   ]
  },
  {
   "cell_type": "code",
   "execution_count": 4,
   "id": "7237ac40",
   "metadata": {},
   "outputs": [
    {
     "name": "stdout",
     "output_type": "stream",
     "text": [
      "국어 점수를 입력하시오:50\n",
      "영어 점수를 입력하시오:50\n",
      "수학 점수를 입력하시오:50\n",
      "결과: 불합격\n"
     ]
    }
   ],
   "source": [
    "kor=int(input(\"국어 점수를 입력하시오:\"))\n",
    "mat=int(input(\"영어 점수를 입력하시오:\"))\n",
    "eng=int(input(\"수학 점수를 입력하시오:\"))\n",
    "\n",
    "avg=(kor+eng+mat)/3\n",
    "if avg>=60:\n",
    "    if kor<40 or eng <40 or mat<40:\n",
    "        print(\"결과:과락으로 불합격\")\n",
    "    else:\n",
    "        print(\"결과: 합격\")\n",
    "else:\n",
    "    print(\"결과: 불합격\")\n"
   ]
  }
 ],
 "metadata": {
  "kernelspec": {
   "display_name": "Python 3 (ipykernel)",
   "language": "python",
   "name": "python3"
  },
  "language_info": {
   "codemirror_mode": {
    "name": "ipython",
    "version": 3
   },
   "file_extension": ".py",
   "mimetype": "text/x-python",
   "name": "python",
   "nbconvert_exporter": "python",
   "pygments_lexer": "ipython3",
   "version": "3.7.15"
  }
 },
 "nbformat": 4,
 "nbformat_minor": 5
}
