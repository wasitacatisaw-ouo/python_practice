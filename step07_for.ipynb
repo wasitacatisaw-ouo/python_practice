{
 "cells": [
  {
   "cell_type": "markdown",
   "id": "2de7a3f9",
   "metadata": {},
   "source": [
    "* for(무조건 반복문)"
   ]
  },
  {
   "cell_type": "code",
   "execution_count": 3,
   "id": "a5e9ec40",
   "metadata": {},
   "outputs": [
    {
     "name": "stdout",
     "output_type": "stream",
     "text": [
      "Hello World   10\n",
      "Hello World   20\n",
      "Hello World   30\n",
      "Hello World   40\n",
      "Hello World   50\n"
     ]
    }
   ],
   "source": [
    "# 단일 for문\n",
    "for i in [10,20,30,40,50]:   #리스트(list)\n",
    "    print(\"Hello World  \", i)"
   ]
  },
  {
   "cell_type": "code",
   "execution_count": 5,
   "id": "08a1b521",
   "metadata": {},
   "outputs": [
    {
     "name": "stdout",
     "output_type": "stream",
     "text": [
      "10 20 30 40 50 "
     ]
    }
   ],
   "source": [
    "for k in range(10, 60, 10):  # range(시작,종료-1,[증가])\n",
    "    print(k , end=' ')"
   ]
  },
  {
   "cell_type": "code",
   "execution_count": 7,
   "id": "d30466f3",
   "metadata": {},
   "outputs": [
    {
     "name": "stdout",
     "output_type": "stream",
     "text": [
      "1 2 3 4 5 6 7 8 9 10 "
     ]
    }
   ],
   "source": [
    "for s in range(1, 11):\n",
    "    print(s, end=' ')"
   ]
  },
  {
   "cell_type": "code",
   "execution_count": 10,
   "id": "402c5514",
   "metadata": {
    "scrolled": false
   },
   "outputs": [
    {
     "name": "stdout",
     "output_type": "stream",
     "text": [
      "5 4 3 2 1 "
     ]
    }
   ],
   "source": [
    "# 5 4 3 2 1\n",
    "for i in (5,4,3,2,1):   # 튜플(tuple)\n",
    "    print(i, sep=',', end=' ')"
   ]
  },
  {
   "cell_type": "code",
   "execution_count": 13,
   "id": "b092abf6",
   "metadata": {},
   "outputs": [
    {
     "name": "stdout",
     "output_type": "stream",
     "text": [
      "5, 4, 3, 2, 1, "
     ]
    }
   ],
   "source": [
    "for i in (5, 4, 3, 2, 1):\n",
    "    print(\"%d,\" % i, end=' ')"
   ]
  },
  {
   "cell_type": "code",
   "execution_count": 12,
   "id": "53ad4df2",
   "metadata": {},
   "outputs": [
    {
     "name": "stdout",
     "output_type": "stream",
     "text": [
      "1,2,3,4 "
     ]
    }
   ],
   "source": [
    "a=1; b=2; c=3; d=4\n",
    "print(a,b,c,d, sep=',', end=' ')"
   ]
  },
  {
   "cell_type": "code",
   "execution_count": 14,
   "id": "2c2a6590",
   "metadata": {},
   "outputs": [
    {
     "name": "stdout",
     "output_type": "stream",
     "text": [
      "1 2 3 4 \n",
      "1 2 3 4 6 7 8 9 10 "
     ]
    }
   ],
   "source": [
    "# continue / break\n",
    "\n",
    "for i in range(1,11):\n",
    "    if i==5:\n",
    "        break\n",
    "    print (i, end=\" \")   # 1 2 3 4\n",
    "\n",
    "print()\n",
    "for i in range(1,11):\n",
    "    if i==5:\n",
    "        continue\n",
    "    print (i, end=\" \")   # 1 2 3 4 6 7 8 9 10"
   ]
  },
  {
   "cell_type": "code",
   "execution_count": 2,
   "id": "09205a66",
   "metadata": {},
   "outputs": [
    {
     "name": "stdout",
     "output_type": "stream",
     "text": [
      "1~100까지의 전체합 : 5050\n",
      "1~100까지의 홀수합 : 2500\n",
      "1~100까지의 짝수합 : 2550\n"
     ]
    }
   ],
   "source": [
    "'''\n",
    "[문제 1]\n",
    "1~100까지의 전체합 : 5050\n",
    "1~100까지의 홀수합 : 2500\n",
    "1~100까지의 짝수합 : 2550\n",
    "'''\n",
    "\n",
    "sum=0; odd=0;  even=0   #전체합, 홀수합, 짝수합\n",
    "for i in range(1,101):\n",
    "    sum += i\n",
    "    if i%2==0:\n",
    "        even += i\n",
    "    else:\n",
    "        odd+=i\n",
    "        \n",
    "print (\"1~100까지의 전체합 :\", sum)    \n",
    "print (\"1~100까지의 홀수합 :\", odd)\n",
    "print (\"1~100까지의 짝수합 :\", even)"
   ]
  },
  {
   "cell_type": "code",
   "execution_count": 3,
   "id": "8fc5b5f6",
   "metadata": {},
   "outputs": [
    {
     "name": "stdout",
     "output_type": "stream",
     "text": [
      "92 86 68 56 \n",
      "** 이상치 제거 처리 완료 **\n"
     ]
    }
   ],
   "source": [
    "'''\n",
    "[문제2] 점수가 0미만 이거나 100점을 초과하는 경우는 제외하고 출력하시오(continue)\n",
    "92\n",
    "86\n",
    "68\n",
    "56\n",
    "**이상치 제거 처리 완료**\n",
    "'''\n",
    "\n",
    "score = [92, 86, -12, 68, 120, 56]\n",
    "for i in score:\n",
    "    if i<0 or i>100:\n",
    "        continue\n",
    "    print(i, end=' ')\n",
    "print(\"\\n** 이상치 제거 처리 완료 **\")    "
   ]
  }
 ],
 "metadata": {
  "kernelspec": {
   "display_name": "Python 3 (ipykernel)",
   "language": "python",
   "name": "python3"
  },
  "language_info": {
   "codemirror_mode": {
    "name": "ipython",
    "version": 3
   },
   "file_extension": ".py",
   "mimetype": "text/x-python",
   "name": "python",
   "nbconvert_exporter": "python",
   "pygments_lexer": "ipython3",
   "version": "3.7.15"
  }
 },
 "nbformat": 4,
 "nbformat_minor": 5
}
