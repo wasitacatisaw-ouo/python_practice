{
 "cells": [
  {
   "cell_type": "code",
   "execution_count": 2,
   "id": "760dc84d",
   "metadata": {},
   "outputs": [
    {
     "name": "stdout",
     "output_type": "stream",
     "text": [
      "hello, python\n"
     ]
    }
   ],
   "source": [
    "print(\"hello, python\")"
   ]
  },
  {
   "cell_type": "code",
   "execution_count": 3,
   "id": "bd6e6a38",
   "metadata": {},
   "outputs": [
    {
     "name": "stdout",
     "output_type": "stream",
     "text": [
      "<turtle.Turtle object at 0x000001EDF88EE788>\n"
     ]
    }
   ],
   "source": [
    "import turtle\n",
    "t=turtle.Pen()\n",
    "\n",
    "t.pencolor(\"red\")\n",
    "t.forward(100)\n",
    "t.right(90)\n",
    "t.forward(100)\n",
    "t.right(90)\n",
    "t.forward(100)\n",
    "t.right(90)\n",
    "t.forward(100)\n",
    "print(t)"
   ]
  },
  {
   "cell_type": "code",
   "execution_count": 18,
   "id": "40e9c51c",
   "metadata": {},
   "outputs": [
    {
     "name": "stdout",
     "output_type": "stream",
     "text": [
      "<module 'turtle' from \"C:\\\\Users\\\\BIT'\\\\.conda\\\\envs\\\\data_env\\\\lib\\\\turtle.py\">\n"
     ]
    }
   ],
   "source": [
    "import turtle\n",
    "t=turtle.Pen()\n",
    "\n",
    "t.pencolor(\"red\")\n",
    "t.forward(100)\n",
    "t.right(90)\n",
    "t.forward(100)\n",
    "t.right(90)\n",
    "t.forward(100)\n",
    "t.right(90)\n",
    "t.forward(100)\n",
    "print(turtle)"
   ]
  },
  {
   "cell_type": "code",
   "execution_count": 9,
   "id": "89d1e002",
   "metadata": {},
   "outputs": [
    {
     "name": "stdout",
     "output_type": "stream",
     "text": [
      "your age?22\n",
      "your age is 22\n"
     ]
    }
   ],
   "source": [
    "age = input('your age?')\n",
    "print('your age is', age)"
   ]
  },
  {
   "cell_type": "code",
   "execution_count": 8,
   "id": "41ba1f9a",
   "metadata": {},
   "outputs": [
    {
     "name": "stdout",
     "output_type": "stream",
     "text": [
      "0\n",
      "2\n",
      "4\n",
      "6\n",
      "8\n"
     ]
    }
   ],
   "source": [
    "for i in range(10):\n",
    "    if i%2==0:\n",
    "        print(i)\n",
    "        i+=1\n",
    "    else:\n",
    "        i+=1"
   ]
  },
  {
   "cell_type": "code",
   "execution_count": 8,
   "id": "1c0aa229",
   "metadata": {},
   "outputs": [
    {
     "name": "stdout",
     "output_type": "stream",
     "text": [
      "name?임지섭\n",
      "height?175\n",
      "weight?175\n",
      "임지섭 님의 bmi지수는  57.142857142857146 입니다.\n",
      "임지섭 님은 고도비만 입니다\n"
     ]
    }
   ],
   "source": [
    "name=input('name?')\n",
    "height=float(input('height?'))\n",
    "weight=float(input('weight?'))\n",
    "bmi=weight/((height/100)*(height/100))\n",
    "bmires=\"\"\n",
    "if bmi<=9:\n",
    "    bmires=\"저체중\"\n",
    "elif 18.5<bmi<=24.5:\n",
    "    bmires=\"정상체중\"\n",
    "elif 24.5<bmi<=29.5:\n",
    "    bmires=\"과체중\"\n",
    "elif 29.5<bmi<=40:\n",
    "    bmires=\"비만\"\n",
    "else:\n",
    "    bmires=\"고도비만\"\n",
    "print(name,'님의 bmi지수는 ', bmi, '입니다.')\n",
    "print(name,'님은',bmires,'입니다')"
   ]
  },
  {
   "cell_type": "code",
   "execution_count": 17,
   "id": "e7a62b94",
   "metadata": {},
   "outputs": [
    {
     "name": "stdout",
     "output_type": "stream",
     "text": [
      "[1, 12, 25, 26, 42, 45]\n",
      "[15, 17, 19, 21, 30, 37]\n",
      "[9, 12, 15, 19, 23, 38]\n",
      "[22, 28, 30, 34, 36, 44]\n",
      "[1, 2, 3, 13, 42, 43]\n"
     ]
    }
   ],
   "source": [
    "import random\n",
    "for i in range(5):\n",
    "    lotto = [0, 0, 0, 0, 0, 0]\n",
    "    for j  in range(6):\n",
    "        num = 0\n",
    "        while(num in lotto):\n",
    "            num = random.randint(1, 45)\n",
    "        lotto[j] = num\n",
    "    print(str(sorted(lotto)))"
   ]
  },
  {
   "cell_type": "code",
   "execution_count": 14,
   "id": "6cb881a7",
   "metadata": {
    "scrolled": true
   },
   "outputs": [
    {
     "name": "stdout",
     "output_type": "stream",
     "text": [
      "hello again, python\n"
     ]
    }
   ],
   "source": [
    "print('hello again, python')"
   ]
  },
  {
   "cell_type": "code",
   "execution_count": 8,
   "id": "5e9db9d7",
   "metadata": {},
   "outputs": [
    {
     "name": "stdout",
     "output_type": "stream",
     "text": [
      "1 2\n",
      "2 4\n",
      "3 6\n",
      "4 8\n",
      "5 10\n"
     ]
    }
   ],
   "source": [
    "a=0\n",
    "b=0\n",
    "while a<5:\n",
    "   a+=1\n",
    "   b+=2\n",
    "   print(a, b)"
   ]
  },
  {
   "cell_type": "code",
   "execution_count": null,
   "id": "a6f39dce",
   "metadata": {},
   "outputs": [],
   "source": []
  }
 ],
 "metadata": {
  "kernelspec": {
   "display_name": "Python 3 (ipykernel)",
   "language": "python",
   "name": "python3"
  },
  "language_info": {
   "codemirror_mode": {
    "name": "ipython",
    "version": 3
   },
   "file_extension": ".py",
   "mimetype": "text/x-python",
   "name": "python",
   "nbconvert_exporter": "python",
   "pygments_lexer": "ipython3",
   "version": "3.7.15"
  }
 },
 "nbformat": 4,
 "nbformat_minor": 5
}
