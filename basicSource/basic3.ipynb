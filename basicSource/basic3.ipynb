{
 "cells": [
  {
   "cell_type": "markdown",
   "id": "2302b047",
   "metadata": {},
   "source": [
    "# Bool"
   ]
  },
  {
   "cell_type": "code",
   "execution_count": 12,
   "id": "cf94d3ca",
   "metadata": {},
   "outputs": [
    {
     "name": "stdout",
     "output_type": "stream",
     "text": [
      "False <class 'int'>\n",
      "True <class 'int'>\n",
      "True\n",
      "False <class 'str'>\n",
      "True\n",
      "False <class 'list'>\n"
     ]
    }
   ],
   "source": [
    "print(bool(0), type(0))\n",
    "print(bool(5), type(0))\n",
    "print(bool('hello python'))\n",
    "print(bool(''), type(''))\n",
    "print(bool([1, 2, 3]))\n",
    "print(bool([]), type([]))"
   ]
  },
  {
   "cell_type": "code",
   "execution_count": 14,
   "id": "076c52e1",
   "metadata": {},
   "outputs": [
    {
     "name": "stdout",
     "output_type": "stream",
     "text": [
      "True\n",
      "False <class 'tuple'>\n"
     ]
    }
   ],
   "source": [
    "print(bool( (1,2,3,4,5) ))\n",
    "print(bool( () ),type(()))"
   ]
  },
  {
   "cell_type": "code",
   "execution_count": 21,
   "id": "ea7e2dcb",
   "metadata": {},
   "outputs": [
    {
     "name": "stdout",
     "output_type": "stream",
     "text": [
      "True\n",
      "False <class 'set'>\n"
     ]
    }
   ],
   "source": [
    "print(bool( {1,2,3,4,5} ))\n",
    "print(bool( set() ),type(set()))"
   ]
  },
  {
   "cell_type": "code",
   "execution_count": 22,
   "id": "aa0bd2ad",
   "metadata": {},
   "outputs": [
    {
     "name": "stdout",
     "output_type": "stream",
     "text": [
      "True\n",
      "False <class 'dict'>\n"
     ]
    }
   ],
   "source": [
    "print(bool( {1:'a',2:'b',3:'c'} ))\n",
    "print( bool({}) ,type( {} ))\n"
   ]
  },
  {
   "cell_type": "markdown",
   "id": "a1469381",
   "metadata": {},
   "source": [
    "# Dict"
   ]
  },
  {
   "cell_type": "code",
   "execution_count": 27,
   "id": "742ce702",
   "metadata": {},
   "outputs": [
    {
     "name": "stdout",
     "output_type": "stream",
     "text": [
      "{'name': '이원복', 'age': 32, 'tel': '010-9335-8831', 'birth': ['8/6', '7/8']}\n"
     ]
    }
   ],
   "source": [
    "dic={'name':'이원복', 'age':32, 'tel':'010-9335-8831', 'birth':[\"8/6\", \"7/8\"]}\n",
    "print(dic)"
   ]
  },
  {
   "cell_type": "code",
   "execution_count": 35,
   "id": "0b3ef110",
   "metadata": {},
   "outputs": [
    {
     "ename": "TypeError",
     "evalue": "unhashable type: 'dict'",
     "output_type": "error",
     "traceback": [
      "\u001b[1;31m---------------------------------------------------------------------------\u001b[0m",
      "\u001b[1;31mTypeError\u001b[0m                                 Traceback (most recent call last)",
      "\u001b[1;32m~\\AppData\\Local\\Temp\\ipykernel_7888\\2619569505.py\u001b[0m in \u001b[0;36m<module>\u001b[1;34m\u001b[0m\n\u001b[1;32m----> 1\u001b[1;33m \u001b[0ma\u001b[0m\u001b[1;33m=\u001b[0m\u001b[1;33m{\u001b[0m\u001b[1;36m1\u001b[0m\u001b[1;33m:\u001b[0m\u001b[1;33m(\u001b[0m\u001b[1;36m77\u001b[0m\u001b[1;33m,\u001b[0m\u001b[1;36m99\u001b[0m\u001b[1;33m,\u001b[0m\u001b[1;36m80\u001b[0m\u001b[1;33m)\u001b[0m\u001b[1;33m,\u001b[0m \u001b[1;36m2\u001b[0m\u001b[1;33m:\u001b[0m\u001b[1;33m[\u001b[0m\u001b[1;36m66\u001b[0m\u001b[1;33m,\u001b[0m \u001b[1;36m44\u001b[0m\u001b[1;33m,\u001b[0m \u001b[1;36m55\u001b[0m\u001b[1;33m]\u001b[0m\u001b[1;33m,\u001b[0m \u001b[1;33m(\u001b[0m\u001b[1;36m2\u001b[0m\u001b[1;33m,\u001b[0m\u001b[1;36m3\u001b[0m\u001b[1;33m)\u001b[0m\u001b[1;33m:\u001b[0m\u001b[1;34m\"aa\"\u001b[0m\u001b[1;33m,\u001b[0m \u001b[1;36m4\u001b[0m\u001b[1;33m:\u001b[0m\u001b[1;33m{\u001b[0m\u001b[1;34m\"하나\"\u001b[0m\u001b[1;33m:\u001b[0m\u001b[1;34m\"java\"\u001b[0m\u001b[1;33m,\u001b[0m \u001b[1;34m\"둘\"\u001b[0m\u001b[1;33m:\u001b[0m\u001b[1;34m\"python\"\u001b[0m\u001b[1;33m}\u001b[0m\u001b[1;33m,\u001b[0m \u001b[1;33m{\u001b[0m\u001b[1;34m\"one\"\u001b[0m\u001b[1;33m:\u001b[0m\u001b[1;36m1\u001b[0m\u001b[1;33m,\u001b[0m \u001b[1;34m\"two\"\u001b[0m\u001b[1;33m:\u001b[0m\u001b[1;36m2\u001b[0m\u001b[1;33m}\u001b[0m\u001b[1;33m:\u001b[0m\u001b[1;36m5\u001b[0m \u001b[1;33m}\u001b[0m\u001b[1;33m\u001b[0m\u001b[1;33m\u001b[0m\u001b[0m\n\u001b[0m\u001b[0;32m      2\u001b[0m \u001b[0mprint\u001b[0m\u001b[1;33m(\u001b[0m\u001b[0ma\u001b[0m\u001b[1;33m)\u001b[0m\u001b[1;33m\u001b[0m\u001b[1;33m\u001b[0m\u001b[0m\n",
      "\u001b[1;31mTypeError\u001b[0m: unhashable type: 'dict'"
     ]
    }
   ],
   "source": [
    "# a={1:(77,99,80), 2:[66, 44, 55], (2,3):\"aa\", 4:{\"하나\":\"java\", \"둘\":\"python\"}, {\"one\":1, \"two\":2}:5 }\n",
    "# print(a)\n",
    "# ---------------------------------------------------------------------------\n",
    "# TypeError                                 Traceback (most recent call last)\n",
    "# ~\\AppData\\Local\\Temp\\ipykernel_7888\\2619569505.py in <module>\n",
    "# ----> 1 a={1:(77,99,80), 2:[66, 44, 55], (2,3):\"aa\", 4:{\"하나\":\"java\", \"둘\":\"python\"}, {\"one\":1, \"two\":2}:5 }\n",
    "#       2 print(a)\n",
    "\n",
    "# TypeError: unhashable type: 'dict'\n",
    "\n",
    "# KEY에 dict가 안들어간다. HashMap 형태 사용 불가"
   ]
  },
  {
   "cell_type": "code",
   "execution_count": 40,
   "id": "4141bdf6",
   "metadata": {},
   "outputs": [
    {
     "name": "stdout",
     "output_type": "stream",
     "text": [
      "{} <class 'dict'>\n"
     ]
    }
   ],
   "source": [
    "dict1={}\n",
    "print(dict1, type(dict1))"
   ]
  },
  {
   "cell_type": "code",
   "execution_count": 42,
   "id": "0c1c059a",
   "metadata": {},
   "outputs": [
    {
     "name": "stdout",
     "output_type": "stream",
     "text": [
      "22\n"
     ]
    }
   ],
   "source": [
    "dict2={'age':22, 'gender':'male'}\n",
    "print(dict2['age'])"
   ]
  },
  {
   "cell_type": "code",
   "execution_count": null,
   "id": "7df3d016",
   "metadata": {},
   "outputs": [],
   "source": []
  },
  {
   "cell_type": "code",
   "execution_count": null,
   "id": "7aa70020",
   "metadata": {},
   "outputs": [],
   "source": []
  }
 ],
 "metadata": {
  "kernelspec": {
   "display_name": "Python 3 (ipykernel)",
   "language": "python",
   "name": "python3"
  },
  "language_info": {
   "codemirror_mode": {
    "name": "ipython",
    "version": 3
   },
   "file_extension": ".py",
   "mimetype": "text/x-python",
   "name": "python",
   "nbconvert_exporter": "python",
   "pygments_lexer": "ipython3",
   "version": "3.7.15"
  }
 },
 "nbformat": 4,
 "nbformat_minor": 5
}
