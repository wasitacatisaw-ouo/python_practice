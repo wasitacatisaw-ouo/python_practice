{
 "cells": [
  {
   "cell_type": "markdown",
   "id": "ea01264e",
   "metadata": {},
   "source": [
    "#    기본자료형, 제어문, List, Tuple, Dict, Set, Loop(for, while), String"
   ]
  },
  {
   "cell_type": "code",
   "execution_count": 1,
   "id": "2e8c0fdc",
   "metadata": {},
   "outputs": [
    {
     "name": "stdout",
     "output_type": "stream",
     "text": [
      "[0, 1, 10, 20, 30, 40, 50, 60, 5, 6, 7, 8, 9, 10]\n"
     ]
    }
   ],
   "source": [
    "nums = [0, 1, 2, 3, 4, 5, 6, 7, 8, 9, 10]\n",
    "nums[2:5] = [10, 20, 30, 40, 50, 60]\n",
    "print(nums)"
   ]
  },
  {
   "cell_type": "code",
   "execution_count": 7,
   "id": "11b73c08",
   "metadata": {},
   "outputs": [
    {
     "name": "stdout",
     "output_type": "stream",
     "text": [
      "[88, 78, 50]\n"
     ]
    }
   ],
   "source": [
    "score = [88,95,70,100,99,80,78,50]\n",
    "del(score[2])\n",
    "score.remove(100)\n",
    "score[1:4]=[]\n",
    "print(score)"
   ]
  },
  {
   "cell_type": "code",
   "execution_count": 81,
   "id": "340d427d",
   "metadata": {},
   "outputs": [
    {
     "name": "stdout",
     "output_type": "stream",
     "text": [
      "Words are flowing out like endless rain into a paper cup\n",
      "They slither wildly as they slip away across the universe\n",
      "Pools of sorrow, waves of joy are drifting through my opened mind\n",
      "Possessing and caressing me\n",
      "Jai guru deva, om\n",
      "Nothing's gonna change my world\n",
      "Images of broken light which dance before me like a million eyes\n",
      "They call me on and on across the universe\n",
      "Thoughts meander like a restless wind inside a letterbox they\n",
      "They tumble blindly as they make their way across the universe\n",
      "Jai guru deva, om\n",
      "Nothing's gonna change my world\n",
      "Sounds of laughter shades of life are ringing\n",
      "Through my open ears inciting and inviting me\n",
      "Limitless undying love which shines around me like a million suns\n",
      "It calls me on and on across the universe\n",
      "Jai guru deva, om\n",
      "Nothing's gonna change my world\n",
      "Jai guru deva\n"
     ]
    }
   ],
   "source": [
    "song=\"\"\"Words are flowing out like endless rain into a paper cup\n",
    "They slither wildly as they slip away across the universe\n",
    "Pools of sorrow, waves of joy are drifting through my opened mind\n",
    "Possessing and caressing me\n",
    "Jai guru deva, om\n",
    "Nothing's gonna change my world\n",
    "Images of broken light which dance before me like a million eyes\n",
    "They call me on and on across the universe\n",
    "Thoughts meander like a restless wind inside a letterbox they\n",
    "They tumble blindly as they make their way across the universe\n",
    "Jai guru deva, om\n",
    "Nothing's gonna change my world\n",
    "Sounds of laughter shades of life are ringing\n",
    "Through my open ears inciting and inviting me\n",
    "Limitless undying love which shines around me like a million suns\n",
    "It calls me on and on across the universe\n",
    "Jai guru deva, om\n",
    "Nothing's gonna change my world\n",
    "Jai guru deva\"\"\"\n",
    "print (song)"
   ]
  },
  {
   "cell_type": "code",
   "execution_count": 82,
   "id": "3704fa19",
   "metadata": {},
   "outputs": [
    {
     "name": "stdout",
     "output_type": "stream",
     "text": [
      "{'w': 13, 'o': 48, 'r': 38, 'd': 26, 's': 50, 'a': 49, 'e': 72, 'f': 9, 'l': 33, 'i': 53, 'n': 57, 'g': 28, 'u': 23, 't': 32, 'k': 6, 'p': 8, 'c': 15, 'h': 32, 'y': 18, 'v': 11, 'j': 5, 'm': 22, 'b': 5, 'x': 1}\n"
     ]
    }
   ],
   "source": [
    "alphabet = dict()\n",
    "\n",
    "for c in song:\n",
    "    if c.isalpha() == False:\n",
    "        continue\n",
    "    c=c.lower() # 소문자로 만들어준다\n",
    "    if c not in alphabet:\n",
    "        alphabet[c] = 1\n",
    "    else:\n",
    "        alphabet[c]+=1\n",
    "print(alphabet)"
   ]
  },
  {
   "cell_type": "code",
   "execution_count": 83,
   "id": "90732f82",
   "metadata": {
    "scrolled": true
   },
   "outputs": [
    {
     "name": "stdout",
     "output_type": "stream",
     "text": [
      "w 13\n",
      "o 48\n",
      "r 38\n",
      "d 26\n",
      "s 50\n",
      "a 49\n",
      "e 72\n",
      "f 9\n",
      "l 33\n",
      "i 53\n",
      "n 57\n",
      "g 28\n",
      "u 23\n",
      "t 32\n",
      "k 6\n",
      "p 8\n",
      "c 15\n",
      "h 32\n",
      "y 18\n",
      "v 11\n",
      "j 5\n",
      "m 22\n",
      "b 5\n",
      "x 1\n"
     ]
    }
   ],
   "source": [
    "for key in alphabet.keys():\n",
    "    print(key, alphabet.get(key))"
   ]
  },
  {
   "cell_type": "markdown",
   "id": "70544935",
   "metadata": {},
   "source": [
    "# 사전구조선언"
   ]
  },
  {
   "cell_type": "code",
   "execution_count": 87,
   "id": "274925c6",
   "metadata": {},
   "outputs": [
    {
     "name": "stdout",
     "output_type": "stream",
     "text": [
      "{'a': 1, 'b': 2, 'c': 5}\n"
     ]
    }
   ],
   "source": [
    "dic_value={}\n",
    "dic_value['a']=1\n",
    "dic_value['b']=2\n",
    "dic_value['c']=5\n",
    "print(dic_value)"
   ]
  },
  {
   "cell_type": "code",
   "execution_count": 2,
   "id": "01d047b5",
   "metadata": {},
   "outputs": [
    {
     "name": "stdout",
     "output_type": "stream",
     "text": [
      "{'list': [1, 2, 3, 4, 5], 'tuple': (10, 20, 30), 'dict': {'a': 'a', 'b': 24, 'c': 10.6}}\n",
      "{'a': 'a', 'b': 24, 'c': 10.6}\n",
      "cant find\n"
     ]
    }
   ],
   "source": [
    "map={}\n",
    "map['list']=[1, 2, 3, 4, 5]\n",
    "map['tuple']=(10, 20, 30)\n",
    "map['dict']={'a':'a', 'b':24, 'c':10.6}\n",
    "print(map)\n",
    "print(map.get('dict'))\n",
    "if map.get('dict').values()=='a':\n",
    "    print(map.get('dict').keys())\n",
    "else:\n",
    "    print('cant find')"
   ]
  }
 ],
 "metadata": {
  "kernelspec": {
   "display_name": "Python 3 (ipykernel)",
   "language": "python",
   "name": "python3"
  },
  "language_info": {
   "codemirror_mode": {
    "name": "ipython",
    "version": 3
   },
   "file_extension": ".py",
   "mimetype": "text/x-python",
   "name": "python",
   "nbconvert_exporter": "python",
   "pygments_lexer": "ipython3",
   "version": "3.7.15"
  }
 },
 "nbformat": 4,
 "nbformat_minor": 5
}
