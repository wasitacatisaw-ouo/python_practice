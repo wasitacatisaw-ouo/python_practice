{
 "cells": [
  {
   "cell_type": "markdown",
   "id": "1e2b009c",
   "metadata": {},
   "source": [
    "# ListApp"
   ]
  },
  {
   "cell_type": "code",
   "execution_count": 8,
   "id": "fe6f0ce2",
   "metadata": {},
   "outputs": [
    {
     "name": "stdout",
     "output_type": "stream",
     "text": [
      "[1, 2]\n",
      "[]\n",
      "3\n",
      "[2, 3, 4, 5]\n",
      "[4, 5]\n"
     ]
    }
   ],
   "source": [
    "a=[1,2,3,4,5]\n",
    "print(a[0:2])\n",
    "print(a[3:2])\n",
    "b=a[2]\n",
    "print(b)\n",
    "c=a[1:]\n",
    "print(c)\n",
    "d=c[2:]\n",
    "print(d)"
   ]
  },
  {
   "cell_type": "code",
   "execution_count": 12,
   "id": "cafd85af",
   "metadata": {},
   "outputs": [
    {
     "name": "stdout",
     "output_type": "stream",
     "text": [
      "[0, 1, 2, 3, 4, 5, 6, 7, 8, 9]\n"
     ]
    }
   ],
   "source": [
    "num=0\n",
    "a=[]\n",
    "while num<10:\n",
    "    a.append(num)\n",
    "    num+=1\n",
    "print(a)"
   ]
  },
  {
   "cell_type": "markdown",
   "id": "7494150d",
   "metadata": {},
   "source": [
    "## Set"
   ]
  },
  {
   "cell_type": "code",
   "execution_count": 18,
   "id": "c07b3d5b",
   "metadata": {
    "scrolled": true
   },
   "outputs": [
    {
     "name": "stdout",
     "output_type": "stream",
     "text": [
      "{'n', 'H', 'P', 'h', 'e', ' ', 'o', 't', 'l', 'y'}\n"
     ]
    }
   ],
   "source": [
    "set1=set('Hello Python')\n",
    "print(set1)  # set 중복없고 순서없다\n",
    "# {'n', 'H', 'P', 'h', 'e', ' ', 'o', 't', 'l', 'y'}"
   ]
  },
  {
   "cell_type": "code",
   "execution_count": 16,
   "id": "5d93655c",
   "metadata": {},
   "outputs": [
    {
     "name": "stdout",
     "output_type": "stream",
     "text": [
      "[1, 2, 3] <class 'list'>\n"
     ]
    }
   ],
   "source": [
    "set2=[1,2,3]\n",
    "print(set2, type(set2))"
   ]
  },
  {
   "cell_type": "code",
   "execution_count": 22,
   "id": "b94c7299",
   "metadata": {},
   "outputs": [
    {
     "name": "stdout",
     "output_type": "stream",
     "text": [
      "{False, True, 2, 3, 3.14, 'b', 'c', 'a'}\n"
     ]
    }
   ],
   "source": [
    "set3={2,3,'a','b','c',True,False,3.14}  # True는 1과 겹친다\n",
    "print(set3)"
   ]
  },
  {
   "cell_type": "code",
   "execution_count": 27,
   "id": "f700c1b3",
   "metadata": {},
   "outputs": [
    {
     "name": "stdout",
     "output_type": "stream",
     "text": [
      "{1, 2, 3, 4, 5} <class 'set'>\n"
     ]
    }
   ],
   "source": [
    "set4=set({1,2,3,4,5,1,4,5})\n",
    "print(set4, type(set4))"
   ]
  },
  {
   "cell_type": "code",
   "execution_count": 28,
   "id": "7cdb835d",
   "metadata": {},
   "outputs": [
    {
     "name": "stdout",
     "output_type": "stream",
     "text": [
      "[1, 2, 3, 4, 5, 1, 1, 2, 3] <class 'list'>\n"
     ]
    }
   ],
   "source": [
    "set5=([1,2,3,4,5,1,1,2,3,])\n",
    "print(set5, type(set5))"
   ]
  },
  {
   "cell_type": "code",
   "execution_count": 36,
   "id": "020c0fb8",
   "metadata": {},
   "outputs": [
    {
     "name": "stdout",
     "output_type": "stream",
     "text": [
      "{'b', 'c', 'a'} <class 'set'>\n",
      "dict_keys(['a', 'b', 'c'])\n",
      "dict_values([12, 56, [1, 2, 3, 4, 5]])\n",
      "<class 'set'>\n"
     ]
    }
   ],
   "source": [
    "testdict={'a':12, 'b':56, 'c':[1,2,3,4,5]}\n",
    "set6=set(testdict)    # 딕셔너리를 set 하면 key만 나온다.\n",
    "print(set6, type(set6))\n",
    "print(testdict.keys())\n",
    "print(testdict.values())"
   ]
  },
  {
   "cell_type": "code",
   "execution_count": 37,
   "id": "db792b5a",
   "metadata": {},
   "outputs": [
    {
     "name": "stdout",
     "output_type": "stream",
     "text": [
      "{1, 2, 3, 4, 5} {4, 5, 6, 7, 8}\n"
     ]
    }
   ],
   "source": [
    "s1={1,2,3,4,5}\n",
    "s2={4,5,6,7,8}\n",
    "print(s1, s2)"
   ]
  },
  {
   "cell_type": "code",
   "execution_count": 38,
   "id": "6af0d6b7",
   "metadata": {},
   "outputs": [
    {
     "name": "stdout",
     "output_type": "stream",
     "text": [
      "{4, 5}\n"
     ]
    }
   ],
   "source": [
    "# 교집합\n",
    "print(s1.intersection(s2))"
   ]
  },
  {
   "cell_type": "code",
   "execution_count": 39,
   "id": "3f536abc",
   "metadata": {},
   "outputs": [
    {
     "name": "stdout",
     "output_type": "stream",
     "text": [
      "{1, 2, 3, 4, 5, 6, 7, 8}\n"
     ]
    }
   ],
   "source": [
    "# 합집합\n",
    "print(s1|s2)\n",
    "print(s1.union(s2))"
   ]
  },
  {
   "cell_type": "code",
   "execution_count": 46,
   "id": "925b8885",
   "metadata": {},
   "outputs": [
    {
     "name": "stdout",
     "output_type": "stream",
     "text": [
      "{1, 2, 3}\n",
      "{1, 2, 3}\n",
      "----------\n",
      "{8, 6, 7}\n",
      "{8, 6, 7}\n"
     ]
    }
   ],
   "source": [
    "# 차집합\n",
    "print(s1-s2)\n",
    "print(s1.difference(s2))\n",
    "print('-'*10)\n",
    "print(s2-s1)\n",
    "print(s2.difference(s1))"
   ]
  },
  {
   "cell_type": "code",
   "execution_count": 50,
   "id": "e9edd67c",
   "metadata": {},
   "outputs": [
    {
     "name": "stdout",
     "output_type": "stream",
     "text": [
      "{1, 2, 6, 7}\n",
      "{1, 2, 6, 7}\n",
      "{1, 2, 6, 7}\n"
     ]
    }
   ],
   "source": [
    "# 대칭차집합 (합집합 - 교집합)\n",
    "a={1,2,3,4,5}\n",
    "b={3,4,5,6,7}\n",
    "c=a^b\n",
    "print(c)\n",
    "c=a.symmetric_difference(b)\n",
    "print(c)\n",
    "c=a.union(b).difference(a.intersection(b))\n",
    "print(c)"
   ]
  },
  {
   "cell_type": "code",
   "execution_count": null,
   "id": "3a356536",
   "metadata": {},
   "outputs": [],
   "source": []
  }
 ],
 "metadata": {
  "kernelspec": {
   "display_name": "Python 3 (ipykernel)",
   "language": "python",
   "name": "python3"
  },
  "language_info": {
   "codemirror_mode": {
    "name": "ipython",
    "version": 3
   },
   "file_extension": ".py",
   "mimetype": "text/x-python",
   "name": "python",
   "nbconvert_exporter": "python",
   "pygments_lexer": "ipython3",
   "version": "3.7.15"
  }
 },
 "nbformat": 4,
 "nbformat_minor": 5
}
