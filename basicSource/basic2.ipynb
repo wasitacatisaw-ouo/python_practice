{
 "cells": [
  {
   "cell_type": "markdown",
   "id": "8ad4b056",
   "metadata": {},
   "source": [
    "# Basic2"
   ]
  },
  {
   "cell_type": "code",
   "execution_count": 1,
   "id": "eaeddf4e",
   "metadata": {},
   "outputs": [
    {
     "name": "stdout",
     "output_type": "stream",
     "text": [
      "21\n"
     ]
    }
   ],
   "source": [
    "a=1+2+3+\\\n",
    "4+5+6\n",
    "print(a)"
   ]
  },
  {
   "cell_type": "code",
   "execution_count": 3,
   "id": "77e4c8ad",
   "metadata": {},
   "outputs": [
    {
     "data": {
      "text/plain": [
       "15"
      ]
     },
     "execution_count": 3,
     "metadata": {},
     "output_type": "execute_result"
    }
   ],
   "source": [
    "# b=1+2+3+4+5+\n",
    "# 6+7\n",
    "# print(b)\n",
    "# File \"C:\\Users\\BIT'\\AppData\\Local\\Temp\\ipykernel_6720\\4272263734.py\", line 1\n",
    "#     b=1+2+3+4+5+\n",
    "#                 ^\n",
    "# SyntaxError: invalid syntax\n",
    "\n",
    "b=(1+2+3+\n",
    "   4+5)\n",
    "b"
   ]
  },
  {
   "cell_type": "code",
   "execution_count": 13,
   "id": "94b5653f",
   "metadata": {},
   "outputs": [
    {
     "name": "stdout",
     "output_type": "stream",
     "text": [
      "hello @@ python\n",
      "hello || python *+* hello\n"
     ]
    }
   ],
   "source": [
    "print('hello','python', end=\"\\n\", sep=\" @@ \")\n",
    "print('hello','python', end=\" *+* \", sep=\" || \")\n",
    "print('hello')"
   ]
  },
  {
   "cell_type": "markdown",
   "id": "ba5b4526",
   "metadata": {},
   "source": [
    "# 난수발생"
   ]
  },
  {
   "cell_type": "code",
   "execution_count": 24,
   "id": "3a5e1d15",
   "metadata": {},
   "outputs": [
    {
     "name": "stdout",
     "output_type": "stream",
     "text": [
      "21\n"
     ]
    }
   ],
   "source": [
    "from random import *\n",
    "i=randint(1,100)\n",
    "print(i)"
   ]
  },
  {
   "cell_type": "code",
   "execution_count": null,
   "id": "0492d69c",
   "metadata": {},
   "outputs": [],
   "source": [
    "f = random()  # 0부터 1 사이의 임의의 float\n",
    "print(f)\n",
    "\n",
    "f = uniform(1.0, 36.5)  # 1부터 36.5 사이의 임의의 float\n",
    "print(f)\n",
    "\n",
    "i = randrange(1, 101, 2)  # 1부터 100 사이의 임의의 짝수\n",
    "print(i)\n",
    "\n",
    "i = randrange(10)  # 0부터 9 사이의 임의의 정수\n",
    "print(i)"
   ]
  },
  {
   "cell_type": "markdown",
   "id": "98615cae",
   "metadata": {},
   "source": [
    "# Format1"
   ]
  },
  {
   "cell_type": "code",
   "execution_count": 28,
   "id": "ae268c87",
   "metadata": {},
   "outputs": [
    {
     "name": "stdout",
     "output_type": "stream",
     "text": [
      "[ 1010]\n",
      "[   10]\n",
      "[   10] [ 1010] [  11] [1011]\n"
     ]
    }
   ],
   "source": [
    "print('[{0:5b}]'.format(10)) # 2진수\n",
    "print('[{0:5d}]'.format(10)) #10진수\n",
    "print('[{0:5d}] [{0:5b}] [{1:4d}] [{1:4b}]'.format(10, 11))"
   ]
  },
  {
   "cell_type": "code",
   "execution_count": 32,
   "id": "3ac4f0df",
   "metadata": {},
   "outputs": [
    {
     "name": "stdout",
     "output_type": "stream",
     "text": [
      "[   12] [   13] [     c] [  12]\n"
     ]
    }
   ],
   "source": [
    "print('[{0:5o}] [{1:5o}] [{2:6x}] [{2:4d}]'.format(10, 11, 12)) # o 8진수, x1 6진수"
   ]
  },
  {
   "cell_type": "code",
   "execution_count": 37,
   "id": "43de68fd",
   "metadata": {},
   "outputs": [
    {
     "name": "stdout",
     "output_type": "stream",
     "text": [
      "[3.142]\n",
      "[3.1415927]\n",
      "[     3.142]\n",
      "[3.141593]\n"
     ]
    }
   ],
   "source": [
    "import math\n",
    "print('[{0:.3f}]'.format(math.pi)) # .3f 소수 셋째자리까지.\n",
    "print('[{0:.7f}]'.format(math.pi))\n",
    "print('[{0:10.3f}]'.format(math.pi)) # 빈칸 + .3f\n",
    "print('[{0:1f}]'.format(math.pi))"
   ]
  },
  {
   "cell_type": "code",
   "execution_count": 39,
   "id": "697b255a",
   "metadata": {},
   "outputs": [
    {
     "name": "stdout",
     "output_type": "stream",
     "text": [
      "하나 둘 1 2---->"
     ]
    }
   ],
   "source": [
    "print('하나','둘',1,2, end=\"---->\")"
   ]
  },
  {
   "cell_type": "markdown",
   "id": "41970cd6",
   "metadata": {},
   "source": [
    "# 진리값"
   ]
  },
  {
   "cell_type": "code",
   "execution_count": 41,
   "id": "46c629f4",
   "metadata": {},
   "outputs": [
    {
     "name": "stdout",
     "output_type": "stream",
     "text": [
      "none: None\n"
     ]
    }
   ],
   "source": [
    "print(\"none:\",None)"
   ]
  },
  {
   "cell_type": "code",
   "execution_count": 42,
   "id": "fbc09501",
   "metadata": {},
   "outputs": [
    {
     "name": "stdout",
     "output_type": "stream",
     "text": [
      "False\n"
     ]
    }
   ],
   "source": [
    "print(None==0)"
   ]
  },
  {
   "cell_type": "code",
   "execution_count": 43,
   "id": "1087566c",
   "metadata": {},
   "outputs": [
    {
     "name": "stdout",
     "output_type": "stream",
     "text": [
      "False\n"
     ]
    }
   ],
   "source": [
    "print(None==[])"
   ]
  },
  {
   "cell_type": "code",
   "execution_count": 44,
   "id": "eb4b4c09",
   "metadata": {},
   "outputs": [
    {
     "name": "stdout",
     "output_type": "stream",
     "text": [
      "False\n"
     ]
    }
   ],
   "source": [
    "print(None==False)"
   ]
  },
  {
   "cell_type": "code",
   "execution_count": 45,
   "id": "e490ad81",
   "metadata": {},
   "outputs": [
    {
     "name": "stdout",
     "output_type": "stream",
     "text": [
      "False\n"
     ]
    }
   ],
   "source": [
    "print(None=='')"
   ]
  },
  {
   "cell_type": "code",
   "execution_count": 47,
   "id": "392ebce5",
   "metadata": {},
   "outputs": [
    {
     "name": "stdout",
     "output_type": "stream",
     "text": [
      "True\n"
     ]
    }
   ],
   "source": [
    "x=None\n",
    "y=None\n",
    "print(x==y)"
   ]
  },
  {
   "cell_type": "code",
   "execution_count": 50,
   "id": "cf69ddf3",
   "metadata": {},
   "outputs": [
    {
     "name": "stdout",
     "output_type": "stream",
     "text": [
      "None\n"
     ]
    }
   ],
   "source": [
    "def void_function():\n",
    "    a=10\n",
    "    b=20\n",
    "    c=a+b\n",
    "result=void_function()\n",
    "print(result)"
   ]
  },
  {
   "cell_type": "code",
   "execution_count": 54,
   "id": "22d2a555",
   "metadata": {},
   "outputs": [
    {
     "name": "stdout",
     "output_type": "stream",
     "text": [
      "2023-01-10 11:18:54.736358\n"
     ]
    }
   ],
   "source": [
    "import datetime\n",
    "now=datetime.datetime.now()\n",
    "print(now)"
   ]
  },
  {
   "cell_type": "code",
   "execution_count": 57,
   "id": "6998535a",
   "metadata": {},
   "outputs": [
    {
     "name": "stdout",
     "output_type": "stream",
     "text": [
      "Pi is... 3.141592653589793\n",
      "Pi is... 3.141592653589793\n"
     ]
    }
   ],
   "source": [
    "import math as m\n",
    "print('Pi is...', math.pi)\n",
    "print('Pi is...', m.pi)"
   ]
  },
  {
   "cell_type": "code",
   "execution_count": 58,
   "id": "de934a05",
   "metadata": {},
   "outputs": [
    {
     "name": "stdout",
     "output_type": "stream",
     "text": [
      "00012\n"
     ]
    }
   ],
   "source": [
    "print('12'.zfill(5))"
   ]
  },
  {
   "cell_type": "code",
   "execution_count": null,
   "id": "efe79db2",
   "metadata": {},
   "outputs": [],
   "source": []
  }
 ],
 "metadata": {
  "kernelspec": {
   "display_name": "Python 3 (ipykernel)",
   "language": "python",
   "name": "python3"
  },
  "language_info": {
   "codemirror_mode": {
    "name": "ipython",
    "version": 3
   },
   "file_extension": ".py",
   "mimetype": "text/x-python",
   "name": "python",
   "nbconvert_exporter": "python",
   "pygments_lexer": "ipython3",
   "version": "3.7.15"
  }
 },
 "nbformat": 4,
 "nbformat_minor": 5
}
