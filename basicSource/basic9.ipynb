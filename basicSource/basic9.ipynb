{
 "cells": [
  {
   "cell_type": "markdown",
   "id": "57fd7815",
   "metadata": {},
   "source": [
    "# Collection Loop"
   ]
  },
  {
   "cell_type": "code",
   "execution_count": 18,
   "id": "f3a060e4",
   "metadata": {},
   "outputs": [
    {
     "name": "stdout",
     "output_type": "stream",
     "text": [
      "['System', 'Css', 'Html', 'ReAct']\n",
      "System Message:\n",
      "Css Message:\n",
      "Html Message:\n",
      "ReAct Message:\n"
     ]
    }
   ],
   "source": [
    "value=['System','Css','Html','ReAct']\n",
    "print(value)\n",
    "for v in value:\n",
    "    #print(v)\n",
    "    print('%s Message:'%v)"
   ]
  },
  {
   "cell_type": "markdown",
   "id": "2440a327",
   "metadata": {},
   "source": [
    "## Tuple Loop"
   ]
  },
  {
   "cell_type": "code",
   "execution_count": null,
   "id": "8c9eb50b",
   "metadata": {},
   "outputs": [],
   "source": [
    "value=(\"System\",\"Css\",\"Html\",\"ReAct\")\n",
    "for v in value:\n",
    "    print(\"%s Message:\" % v)"
   ]
  },
  {
   "cell_type": "code",
   "execution_count": null,
   "id": "71a52b49",
   "metadata": {},
   "outputs": [],
   "source": [
    "value=((1,2,3),(4,5,6),(7,8,9))\n",
    "#print(type(value),value)\n",
    "\n",
    "for x in value :\n",
    "    for element in x:\n",
    "        print(element,end=' ')\n",
    "    print()    \n"
   ]
  },
  {
   "cell_type": "markdown",
   "id": "232cd218",
   "metadata": {},
   "source": [
    "## Set Loop"
   ]
  },
  {
   "cell_type": "code",
   "execution_count": null,
   "id": "2912faa9",
   "metadata": {},
   "outputs": [],
   "source": [
    "value={\"System\",\"Css\",\"Html\",\"ReAct\"}\n",
    "for v in value:\n",
    "    print(\"%s Message:\" % v)"
   ]
  },
  {
   "cell_type": "code",
   "execution_count": null,
   "id": "0f8186be",
   "metadata": {},
   "outputs": [],
   "source": [
    "value={(1,2),(3,4),(5,6)}\n",
    "print(type(value))\n",
    "#value=[[1,2,3],[4,5,6],[7,8,9]]\n",
    "# #print(type(value),value)\n",
    "\n",
    "for x in {(1,2),(3,4),(5,6)} :\n",
    "    for y in x:\n",
    "        print(y,end=' ')\n",
    "    print()    \n",
    "   \n"
   ]
  },
  {
   "cell_type": "markdown",
   "id": "0cbac9d2",
   "metadata": {},
   "source": [
    "## Dictionary Loop"
   ]
  },
  {
   "cell_type": "code",
   "execution_count": null,
   "id": "01236e21",
   "metadata": {},
   "outputs": [],
   "source": [
    "value={'Program':'System','Design':'Css','DesignForm':'Html',\"AjaxFrameWork\":'ReAct'}\n",
    "print(value)"
   ]
  },
  {
   "cell_type": "code",
   "execution_count": null,
   "id": "73422ad5",
   "metadata": {},
   "outputs": [],
   "source": [
    "print(value.items())"
   ]
  },
  {
   "cell_type": "code",
   "execution_count": null,
   "id": "61dd0d7f",
   "metadata": {},
   "outputs": [],
   "source": [
    "print(value.keys())"
   ]
  },
  {
   "cell_type": "code",
   "execution_count": null,
   "id": "9b724ec8",
   "metadata": {},
   "outputs": [],
   "source": [
    "map={'a':{'b':{'c':10}},'aa':{'bb':{'cc':20}},'aaa':{'bbb':{'ccc':30}}}\n",
    "\n",
    "for key1 in map.keys():\n",
    "    for key2 in map[key1].keys():\n",
    "        for key3 in map[key1][key2]:\n",
    "            print(key3,map[key1][key2].get(key3))"
   ]
  },
  {
   "cell_type": "code",
   "execution_count": null,
   "id": "0106cff1",
   "metadata": {},
   "outputs": [],
   "source": [
    "for k,v in value.items():\n",
    "    print(\"%s  ,  %s\" % (k,v))"
   ]
  },
  {
   "cell_type": "code",
   "execution_count": null,
   "id": "6b0134c7",
   "metadata": {},
   "outputs": [],
   "source": [
    "for i in value.keys():\n",
    "    print(i,value.get(i))\n",
    "    #print(i,value[i])"
   ]
  },
  {
   "cell_type": "code",
   "execution_count": null,
   "id": "9ec09499",
   "metadata": {},
   "outputs": [],
   "source": []
  },
  {
   "cell_type": "code",
   "execution_count": null,
   "id": "fb6033ce",
   "metadata": {},
   "outputs": [],
   "source": []
  },
  {
   "cell_type": "code",
   "execution_count": null,
   "id": "7256d690",
   "metadata": {},
   "outputs": [],
   "source": []
  },
  {
   "cell_type": "code",
   "execution_count": null,
   "id": "94be71a5",
   "metadata": {},
   "outputs": [],
   "source": []
  },
  {
   "cell_type": "code",
   "execution_count": null,
   "id": "7e8f84a2",
   "metadata": {},
   "outputs": [],
   "source": []
  },
  {
   "cell_type": "code",
   "execution_count": null,
   "id": "7c95a070",
   "metadata": {},
   "outputs": [],
   "source": []
  }
 ],
 "metadata": {
  "kernelspec": {
   "display_name": "Python 3 (ipykernel)",
   "language": "python",
   "name": "python3"
  },
  "language_info": {
   "codemirror_mode": {
    "name": "ipython",
    "version": 3
   },
   "file_extension": ".py",
   "mimetype": "text/x-python",
   "name": "python",
   "nbconvert_exporter": "python",
   "pygments_lexer": "ipython3",
   "version": "3.7.15"
  }
 },
 "nbformat": 4,
 "nbformat_minor": 5
}
