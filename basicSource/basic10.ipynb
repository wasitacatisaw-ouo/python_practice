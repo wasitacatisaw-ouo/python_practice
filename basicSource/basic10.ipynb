{
 "cells": [
  {
   "cell_type": "markdown",
   "id": "bc2ceeae",
   "metadata": {},
   "source": [
    "# Basic Loop Collection"
   ]
  },
  {
   "cell_type": "code",
   "execution_count": 1,
   "id": "cade698d",
   "metadata": {},
   "outputs": [
    {
     "name": "stdout",
     "output_type": "stream",
     "text": [
      "0,1,2,3,4,"
     ]
    }
   ],
   "source": [
    "for i in range(5):\n",
    "    print(i,end=',')\n"
   ]
  },
  {
   "cell_type": "code",
   "execution_count": 2,
   "id": "8c906193",
   "metadata": {},
   "outputs": [
    {
     "name": "stdout",
     "output_type": "stream",
     "text": [
      "0,1,2,3,4,5,6,7,8,9,10,11,12,13,14,15,16,17,18,19,20,21,22,23,24,25,26,27,28,29,30,31,32,33,34,35,36,37,38,39,40,41,42,43,44,45,46,47,48,49,"
     ]
    }
   ],
   "source": [
    "for i in range(50):\n",
    "    print(i,end=',')"
   ]
  },
  {
   "cell_type": "code",
   "execution_count": 3,
   "id": "acb38190",
   "metadata": {},
   "outputs": [
    {
     "name": "stdout",
     "output_type": "stream",
     "text": [
      "1,2,3,4,5,6,7,8,9,10,"
     ]
    }
   ],
   "source": [
    "for i in range(1,11):\n",
    "    print(i,end=',')"
   ]
  },
  {
   "cell_type": "code",
   "execution_count": 4,
   "id": "fd9ee63d",
   "metadata": {},
   "outputs": [
    {
     "name": "stdout",
     "output_type": "stream",
     "text": [
      "1,4,7,10,13,16,19,22,25,28,31,34,37,40,43,46,49,52,55,58,61,64,67,70,73,76,79,82,85,88,91,94,97,"
     ]
    }
   ],
   "source": [
    "for i in range(1,100,3):\n",
    "    print(i,end=',')"
   ]
  },
  {
   "cell_type": "code",
   "execution_count": 5,
   "id": "c7d72889",
   "metadata": {},
   "outputs": [
    {
     "name": "stdout",
     "output_type": "stream",
     "text": [
      "10,9,8,7,6,5,4,3,2,1,0,"
     ]
    }
   ],
   "source": [
    "for i in range(10,-1,-1):\n",
    "    print(i,end=',')"
   ]
  },
  {
   "cell_type": "code",
   "execution_count": 6,
   "id": "067a5b53",
   "metadata": {},
   "outputs": [
    {
     "name": "stdout",
     "output_type": "stream",
     "text": [
      "90 우수점수\n",
      "99 우수점수\n",
      "100 우수점수\n",
      "80 우수점수\n"
     ]
    }
   ],
   "source": [
    "score=[90,78,99,100,80]\n",
    "index=0\n",
    "for i in score:\n",
    "    if i<80 :\n",
    "        continue\n",
    "    print(i,'우수점수')\n"
   ]
  },
  {
   "cell_type": "code",
   "execution_count": 14,
   "id": "ed170b4d",
   "metadata": {},
   "outputs": [
    {
     "name": "stdout",
     "output_type": "stream",
     "text": [
      "[1, 9, 25, 49, 81]\n"
     ]
    }
   ],
   "source": [
    "list1=[i**2 for i in range(1,11)]\n",
    "print(list1)"
   ]
  },
  {
   "cell_type": "code",
   "execution_count": 8,
   "id": "f15a5346",
   "metadata": {},
   "outputs": [
    {
     "name": "stdout",
     "output_type": "stream",
     "text": [
      "128\n"
     ]
    }
   ],
   "source": [
    "print(2 **7)"
   ]
  },
  {
   "cell_type": "code",
   "execution_count": 15,
   "id": "e3326677",
   "metadata": {},
   "outputs": [
    {
     "name": "stdout",
     "output_type": "stream",
     "text": [
      "[2, 4, 6, 8, 10]\n"
     ]
    }
   ],
   "source": [
    "list2=[i for i in range(1, 11) if not i % 2]\n",
    "print(list2)"
   ]
  },
  {
   "cell_type": "code",
   "execution_count": 22,
   "id": "a3336e75",
   "metadata": {},
   "outputs": [
    {
     "name": "stdout",
     "output_type": "stream",
     "text": [
      "[2, 3, 3, 4]\n"
     ]
    }
   ],
   "source": [
    "list3=[i+j for i in range(1,3) for j in range(1,3)]\n",
    "print(list3)\n",
    "# i=[1,1,2,2] j=[1,2,1,2]"
   ]
  },
  {
   "cell_type": "code",
   "execution_count": 24,
   "id": "75f08568",
   "metadata": {},
   "outputs": [
    {
     "name": "stdout",
     "output_type": "stream",
     "text": [
      "[1, 2, 3, 4, 2, 4, 6, 8, 3, 6, 9, 12, 4, 8, 12, 16]\n"
     ]
    }
   ],
   "source": [
    "list3=[i*j for i in range(1,5) for j in range(1,5)]\n",
    "print(list3)"
   ]
  },
  {
   "cell_type": "code",
   "execution_count": 27,
   "id": "600fcc4f",
   "metadata": {},
   "outputs": [
    {
     "name": "stdout",
     "output_type": "stream",
     "text": [
      "['2 * 1 = 2', '2 * 2 = 4', '2 * 3 = 6', '2 * 4 = 8', '2 * 5 = 10', '2 * 6 = 12', '2 * 7 = 14', '2 * 8 = 16', '2 * 9 = 18', '3 * 1 = 3', '3 * 2 = 6', '3 * 3 = 9', '3 * 4 = 12', '3 * 5 = 15', '3 * 6 = 18', '3 * 7 = 21', '3 * 8 = 24', '3 * 9 = 27', '4 * 1 = 4', '4 * 2 = 8', '4 * 3 = 12', '4 * 4 = 16', '4 * 5 = 20', '4 * 6 = 24', '4 * 7 = 28', '4 * 8 = 32', '4 * 9 = 36', '5 * 1 = 5', '5 * 2 = 10', '5 * 3 = 15', '5 * 4 = 20', '5 * 5 = 25', '5 * 6 = 30', '5 * 7 = 35', '5 * 8 = 40', '5 * 9 = 45', '6 * 1 = 6', '6 * 2 = 12', '6 * 3 = 18', '6 * 4 = 24', '6 * 5 = 30', '6 * 6 = 36', '6 * 7 = 42', '6 * 8 = 48', '6 * 9 = 54', '7 * 1 = 7', '7 * 2 = 14', '7 * 3 = 21', '7 * 4 = 28', '7 * 5 = 35', '7 * 6 = 42', '7 * 7 = 49', '7 * 8 = 56', '7 * 9 = 63', '8 * 1 = 8', '8 * 2 = 16', '8 * 3 = 24', '8 * 4 = 32', '8 * 5 = 40', '8 * 6 = 48', '8 * 7 = 56', '8 * 8 = 64', '8 * 9 = 72', '9 * 1 = 9', '9 * 2 = 18', '9 * 3 = 27', '9 * 4 = 36', '9 * 5 = 45', '9 * 6 = 54', '9 * 7 = 63', '9 * 8 = 72', '9 * 9 = 81']\n"
     ]
    }
   ],
   "source": [
    "list4=['%s * %s = %s' %(i, j, i*j) for i in range(2,10) for j in range(1,10)]\n",
    "print(list4)"
   ]
  },
  {
   "cell_type": "code",
   "execution_count": 32,
   "id": "51dd4f2e",
   "metadata": {},
   "outputs": [
    {
     "name": "stdout",
     "output_type": "stream",
     "text": [
      "2 단\n",
      "2 * 1 = 2,  2 * 2 = 4,  2 * 3 = 6,  2 * 4 = 8,  2 * 5 = 10,  2 * 6 = 12,  2 * 7 = 14,  2 * 8 = 16,  2 * 9 = 18,  \n",
      "3 단\n",
      "3 * 1 = 3,  3 * 2 = 6,  3 * 3 = 9,  3 * 4 = 12,  3 * 5 = 15,  3 * 6 = 18,  3 * 7 = 21,  3 * 8 = 24,  3 * 9 = 27,  \n",
      "4 단\n",
      "4 * 1 = 4,  4 * 2 = 8,  4 * 3 = 12,  4 * 4 = 16,  4 * 5 = 20,  4 * 6 = 24,  4 * 7 = 28,  4 * 8 = 32,  4 * 9 = 36,  \n",
      "5 단\n",
      "5 * 1 = 5,  5 * 2 = 10,  5 * 3 = 15,  5 * 4 = 20,  5 * 5 = 25,  5 * 6 = 30,  5 * 7 = 35,  5 * 8 = 40,  5 * 9 = 45,  \n",
      "6 단\n",
      "6 * 1 = 6,  6 * 2 = 12,  6 * 3 = 18,  6 * 4 = 24,  6 * 5 = 30,  6 * 6 = 36,  6 * 7 = 42,  6 * 8 = 48,  6 * 9 = 54,  \n",
      "7 단\n",
      "7 * 1 = 7,  7 * 2 = 14,  7 * 3 = 21,  7 * 4 = 28,  7 * 5 = 35,  7 * 6 = 42,  7 * 7 = 49,  7 * 8 = 56,  7 * 9 = 63,  \n",
      "8 단\n",
      "8 * 1 = 8,  8 * 2 = 16,  8 * 3 = 24,  8 * 4 = 32,  8 * 5 = 40,  8 * 6 = 48,  8 * 7 = 56,  8 * 8 = 64,  8 * 9 = 72,  \n",
      "9 단\n",
      "9 * 1 = 9,  9 * 2 = 18,  9 * 3 = 27,  9 * 4 = 36,  9 * 5 = 45,  9 * 6 = 54,  9 * 7 = 63,  9 * 8 = 72,  9 * 9 = 81,  \n"
     ]
    }
   ],
   "source": [
    "for x in range(2,10):\n",
    "    print(x,'단')\n",
    "    for y in range(1,10):\n",
    "        print(x,'*',y,'=',x*y,end=',  ')\n",
    "    print()"
   ]
  },
  {
   "cell_type": "code",
   "execution_count": 95,
   "id": "bf070560",
   "metadata": {},
   "outputs": [
    {
     "name": "stdout",
     "output_type": "stream",
     "text": [
      "messageRandom = 4\n"
     ]
    }
   ],
   "source": [
    "import random\n",
    "messageRandom=random.randint(1,10)\n",
    "print('messageRandom = %d' %(messageRandom))"
   ]
  },
  {
   "cell_type": "code",
   "execution_count": 98,
   "id": "53c14d2b",
   "metadata": {},
   "outputs": [
    {
     "name": "stdout",
     "output_type": "stream",
     "text": [
      "messageRandom is 6\n"
     ]
    }
   ],
   "source": [
    "import random\n",
    "messageRandom=random.randint(1,10)\n",
    "print(f'messageRandom is {messageRandom}')"
   ]
  },
  {
   "cell_type": "code",
   "execution_count": 103,
   "id": "2535d8b5",
   "metadata": {},
   "outputs": [
    {
     "name": "stdout",
     "output_type": "stream",
     "text": [
      "a=0\n",
      "a=1\n",
      "a=2\n",
      "a=3\n",
      "a=4\n"
     ]
    }
   ],
   "source": [
    "for a in range(10):\n",
    "    if a==5:\n",
    "        break\n",
    "    print(f'a={a}')"
   ]
  },
  {
   "cell_type": "code",
   "execution_count": null,
   "id": "ae33610f",
   "metadata": {},
   "outputs": [],
   "source": []
  },
  {
   "cell_type": "code",
   "execution_count": null,
   "id": "65fda3e4",
   "metadata": {},
   "outputs": [],
   "source": []
  },
  {
   "cell_type": "code",
   "execution_count": null,
   "id": "0e0fafe4",
   "metadata": {},
   "outputs": [],
   "source": []
  },
  {
   "cell_type": "code",
   "execution_count": null,
   "id": "1ef63378",
   "metadata": {},
   "outputs": [],
   "source": []
  }
 ],
 "metadata": {
  "kernelspec": {
   "display_name": "Python 3 (ipykernel)",
   "language": "python",
   "name": "python3"
  },
  "language_info": {
   "codemirror_mode": {
    "name": "ipython",
    "version": 3
   },
   "file_extension": ".py",
   "mimetype": "text/x-python",
   "name": "python",
   "nbconvert_exporter": "python",
   "pygments_lexer": "ipython3",
   "version": "3.7.15"
  }
 },
 "nbformat": 4,
 "nbformat_minor": 5
}
