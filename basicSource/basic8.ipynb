{
 "cells": [
  {
   "cell_type": "markdown",
   "id": "28c3c571",
   "metadata": {},
   "source": [
    "# Slicing"
   ]
  },
  {
   "cell_type": "code",
   "execution_count": 2,
   "id": "faa390bf",
   "metadata": {},
   "outputs": [],
   "source": [
    "v='Life is too short, You need Python'"
   ]
  },
  {
   "cell_type": "code",
   "execution_count": 3,
   "id": "028137f6",
   "metadata": {},
   "outputs": [
    {
     "name": "stdout",
     "output_type": "stream",
     "text": [
      "L i\n"
     ]
    }
   ],
   "source": [
    "print(v[0], v[1])"
   ]
  },
  {
   "cell_type": "code",
   "execution_count": 4,
   "id": "8a0e1c43",
   "metadata": {},
   "outputs": [
    {
     "name": "stdout",
     "output_type": "stream",
     "text": [
      "Life\n"
     ]
    }
   ],
   "source": [
    "print(v[0:4])"
   ]
  },
  {
   "cell_type": "code",
   "execution_count": 5,
   "id": "f7b5c05d",
   "metadata": {},
   "outputs": [
    {
     "name": "stdout",
     "output_type": "stream",
     "text": [
      "is too short, You need Python\n"
     ]
    }
   ],
   "source": [
    "print(v[5:])"
   ]
  },
  {
   "cell_type": "code",
   "execution_count": 6,
   "id": "79b99b89",
   "metadata": {},
   "outputs": [
    {
     "name": "stdout",
     "output_type": "stream",
     "text": [
      "Life is too\n"
     ]
    }
   ],
   "source": [
    "print(v[:11])"
   ]
  },
  {
   "cell_type": "code",
   "execution_count": 9,
   "id": "a56d353a",
   "metadata": {},
   "outputs": [
    {
     "name": "stdout",
     "output_type": "stream",
     "text": [
      "short, You need \n"
     ]
    }
   ],
   "source": [
    "print(v[12:-6])"
   ]
  },
  {
   "cell_type": "code",
   "execution_count": 13,
   "id": "166d0572",
   "metadata": {},
   "outputs": [
    {
     "name": "stdout",
     "output_type": "stream",
     "text": [
      "Python\n"
     ]
    }
   ],
   "source": [
    "a='Python'\n",
    "print(a[:1]+'y'+a[2:])"
   ]
  },
  {
   "cell_type": "code",
   "execution_count": 33,
   "id": "aee88c94",
   "metadata": {},
   "outputs": [
    {
     "name": "stdout",
     "output_type": "stream",
     "text": [
      "W e l c o m e !\n",
      "  e\n",
      "Welcome!\n",
      "Wloe\n",
      "c o m e !\n",
      " l m \n"
     ]
    }
   ],
   "source": [
    "b='W e l c o m e !'\n",
    "print(b)\n",
    "print(b[1],b[2])\n",
    "print(b[::2])\n",
    "print(b[::4])\n",
    "print(b[6:])\n",
    "print(b[1:15:3])"
   ]
  },
  {
   "cell_type": "code",
   "execution_count": 37,
   "id": "84a94e9c",
   "metadata": {},
   "outputs": [
    {
     "name": "stdout",
     "output_type": "stream",
     "text": [
      "irdamoi  n aeyod\n"
     ]
    }
   ],
   "source": [
    "c=\"jaiguru deva om nothing is gonna change my world\"\n",
    "print(c[2::3])"
   ]
  },
  {
   "cell_type": "code",
   "execution_count": 41,
   "id": "3f7f5c5e",
   "metadata": {
    "scrolled": true
   },
   "outputs": [
    {
     "name": "stdout",
     "output_type": "stream",
     "text": [
      "Python String Test1\n",
      "Python String Test2\n",
      "Python String Test3\n",
      "Pyhon String Test4\n"
     ]
    }
   ],
   "source": [
    "str1='Python String Test1'\n",
    "str2=\"Python String Test2\"\n",
    "str3='''Python String Test3'''\n",
    "str4=\"\"\"Pyhon String Test4\"\"\"\n",
    "print(str1,str2,str3,str4, sep=\"\\n\")"
   ]
  },
  {
   "cell_type": "code",
   "execution_count": 51,
   "id": "2fa9ef2b",
   "metadata": {},
   "outputs": [
    {
     "name": "stdout",
     "output_type": "stream",
     "text": [
      "Python \"String\" Test1\n",
      "Python 'String' Test2\n",
      "Python 'String' Test3\n",
      "Pyhon \"String\" Test4\n",
      "Python 'String' Test5\n"
     ]
    }
   ],
   "source": [
    "str1='Python \"String\" Test1'\n",
    "str2=\"Python 'String' Test2\"\n",
    "str3='''Python 'String' Test3'''\n",
    "str4=\"\"\"Pyhon \"String\" Test4\"\"\"\n",
    "str5='Python \\'String\\' Test5'  # 원래 에러나야 정상인데 \\'덕분에 에러 안난다\n",
    "print(str1,str2,str3,str4,str5, sep=\"\\n\")"
   ]
  },
  {
   "cell_type": "code",
   "execution_count": 53,
   "id": "9411bed4",
   "metadata": {},
   "outputs": [
    {
     "name": "stdout",
     "output_type": "stream",
     "text": [
      "Python's easy\n"
     ]
    }
   ],
   "source": [
    "str6=\"Python's easy\"\n",
    "print(str6)"
   ]
  },
  {
   "cell_type": "code",
   "execution_count": 55,
   "id": "f25aa3fb",
   "metadata": {},
   "outputs": [
    {
     "name": "stdout",
     "output_type": "stream",
     "text": [
      "\n",
      "동해물과 백두산이\n",
      "마르고 닳도록\n"
     ]
    }
   ],
   "source": [
    "str7='''\n",
    "동해물과 백두산이\n",
    "마르고 닳도록'''\n",
    "print(str7)"
   ]
  },
  {
   "cell_type": "code",
   "execution_count": null,
   "id": "4a3634f4",
   "metadata": {},
   "outputs": [],
   "source": []
  }
 ],
 "metadata": {
  "kernelspec": {
   "display_name": "Python 3 (ipykernel)",
   "language": "python",
   "name": "python3"
  },
  "language_info": {
   "codemirror_mode": {
    "name": "ipython",
    "version": 3
   },
   "file_extension": ".py",
   "mimetype": "text/x-python",
   "name": "python",
   "nbconvert_exporter": "python",
   "pygments_lexer": "ipython3",
   "version": "3.7.15"
  }
 },
 "nbformat": 4,
 "nbformat_minor": 5
}
