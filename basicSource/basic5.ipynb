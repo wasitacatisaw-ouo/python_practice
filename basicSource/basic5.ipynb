{
 "cells": [
  {
   "cell_type": "markdown",
   "id": "ed0299c7",
   "metadata": {},
   "source": [
    " ### controller, collection, function"
   ]
  },
  {
   "cell_type": "code",
   "execution_count": 12,
   "id": "beb56626",
   "metadata": {},
   "outputs": [
    {
     "name": "stdout",
     "output_type": "stream",
     "text": [
      "{'java': '응용프로그램', 'oracle': 'db프로그램', 'spring': '웹프레임워크', 'python': '응용프로그램'}\n",
      "oopApp\n",
      "{'java': '응용프로그램', 'oracle': 'db프로그램', 'spring': '웹프레임워크', 'python': '응용프로그램'}\n"
     ]
    }
   ],
   "source": [
    "system={'java':'응용프로그램', 'oracle':'db프로그램', 'spring':'웹프레임워크'}\n",
    "system['python']='응용프로그램'\n",
    "print(a)\n",
    "system['java']='oopApp'\n",
    "print(system['java'])\n",
    "print(a)"
   ]
  },
  {
   "cell_type": "code",
   "execution_count": 18,
   "id": "7b60390f",
   "metadata": {
    "scrolled": true
   },
   "outputs": [
    {
     "name": "stdout",
     "output_type": "stream",
     "text": [
      "{'name': '최남이', 'addr': '서울시'}\n"
     ]
    }
   ],
   "source": [
    "app1=dict(name='최남이', addr='서울시')\n",
    "print(app1)"
   ]
  },
  {
   "cell_type": "code",
   "execution_count": 28,
   "id": "ce5bb96f",
   "metadata": {},
   "outputs": [
    {
     "name": "stdout",
     "output_type": "stream",
     "text": [
      "{'age': 22, 'name': 'aa', 'email': '', 'id': 'blu'}\n"
     ]
    }
   ],
   "source": [
    "app3=dict(zip(['age', 'name', 'email', 'id'],[22, 'aa', '', 'blu']))\n",
    "print(app3)"
   ]
  },
  {
   "cell_type": "code",
   "execution_count": 30,
   "id": "f744103c",
   "metadata": {},
   "outputs": [
    {
     "name": "stdout",
     "output_type": "stream",
     "text": [
      "{'irum': 'oop', 'id': 'blue'}\n"
     ]
    }
   ],
   "source": [
    "app4=dict([('irum','oop'), ('id', 'blue')])\n",
    "print(app4)"
   ]
  },
  {
   "cell_type": "code",
   "execution_count": 32,
   "id": "47dd1d1f",
   "metadata": {
    "scrolled": true
   },
   "outputs": [
    {
     "ename": "ValueError",
     "evalue": "dictionary update sequence element #0 has length 4; 2 is required",
     "output_type": "error",
     "traceback": [
      "\u001b[1;31m---------------------------------------------------------------------------\u001b[0m",
      "\u001b[1;31mValueError\u001b[0m                                Traceback (most recent call last)",
      "\u001b[1;32m~\\AppData\\Local\\Temp\\ipykernel_11592\\3506387232.py\u001b[0m in \u001b[0;36m<module>\u001b[1;34m\u001b[0m\n\u001b[1;32m----> 1\u001b[1;33m \u001b[0mapp5\u001b[0m\u001b[1;33m=\u001b[0m\u001b[0mdict\u001b[0m\u001b[1;33m(\u001b[0m\u001b[1;33m{\u001b[0m\u001b[1;34m'name'\u001b[0m\u001b[1;33m,\u001b[0m \u001b[1;34m'bit'\u001b[0m\u001b[1;33m,\u001b[0m \u001b[1;34m'addr'\u001b[0m\u001b[1;33m,\u001b[0m \u001b[1;34m'서울'\u001b[0m\u001b[1;33m}\u001b[0m\u001b[1;33m)\u001b[0m\u001b[1;33m\u001b[0m\u001b[1;33m\u001b[0m\u001b[0m\n\u001b[0m\u001b[0;32m      2\u001b[0m \u001b[0mprint\u001b[0m\u001b[1;33m(\u001b[0m\u001b[0mapp5\u001b[0m\u001b[1;33m)\u001b[0m\u001b[1;33m\u001b[0m\u001b[1;33m\u001b[0m\u001b[0m\n",
      "\u001b[1;31mValueError\u001b[0m: dictionary update sequence element #0 has length 4; 2 is required"
     ]
    }
   ],
   "source": [
    "app5=dict({'name', 'bit', 'addr', '서울'})\n",
    "print(app5)"
   ]
  },
  {
   "cell_type": "markdown",
   "id": "3fe2b54e",
   "metadata": {},
   "source": [
    "# List"
   ]
  },
  {
   "cell_type": "code",
   "execution_count": 39,
   "id": "5ee7c0c3",
   "metadata": {},
   "outputs": [
    {
     "name": "stdout",
     "output_type": "stream",
     "text": [
      "<class 'list'> []\n",
      "[1, 2, 3]\n"
     ]
    }
   ],
   "source": [
    "listValue=[]\n",
    "print(type(listValue), listValue)\n",
    "listValue=[1,2,3]\n",
    "print(listValue)"
   ]
  },
  {
   "cell_type": "code",
   "execution_count": 40,
   "id": "63ee3db2",
   "metadata": {},
   "outputs": [
    {
     "name": "stdout",
     "output_type": "stream",
     "text": [
      "['app', 'system', 'database']\n"
     ]
    }
   ],
   "source": [
    "listValue2=['app', 'system', 'database']\n",
    "print(listValue2)"
   ]
  },
  {
   "cell_type": "code",
   "execution_count": 41,
   "id": "b166301b",
   "metadata": {},
   "outputs": [
    {
     "name": "stdout",
     "output_type": "stream",
     "text": [
      "[99.9, 24.8, 45.1]\n"
     ]
    }
   ],
   "source": [
    "listValue3=[99.9, 24.8, 45.1]\n",
    "print(listValue3)"
   ]
  },
  {
   "cell_type": "code",
   "execution_count": 42,
   "id": "47dda1e8",
   "metadata": {},
   "outputs": [
    {
     "name": "stdout",
     "output_type": "stream",
     "text": [
      "[[1, 2, 3], ['app', 'system', 'database'], [99.9, 24.8, 45.1]]\n"
     ]
    }
   ],
   "source": [
    "listValueTotal=[listValue, listValue2, listValue3]\n",
    "print(listValueTotal)"
   ]
  },
  {
   "cell_type": "code",
   "execution_count": 43,
   "id": "e126a4a8",
   "metadata": {},
   "outputs": [
    {
     "name": "stdout",
     "output_type": "stream",
     "text": [
      "[[1, 2, 3, [1, 2, 3]], [[1, 2, 3], ['app', 'system', 'database'], [99.9, 24.8, 45.1]]]\n"
     ]
    }
   ],
   "source": [
    "listValueTotal2=[[1, 2, 3, listValue], listValueTotal]\n",
    "print(listValueTotal2)"
   ]
  },
  {
   "cell_type": "code",
   "execution_count": 46,
   "id": "35ddcb45",
   "metadata": {},
   "outputs": [
    {
     "name": "stdout",
     "output_type": "stream",
     "text": [
      "[1, 2, 3, 4, 5]\n"
     ]
    }
   ],
   "source": [
    "listVal=[]\n",
    "for i in range(1,6):\n",
    "    listVal.append(i)\n",
    "print(listVal)"
   ]
  },
  {
   "cell_type": "code",
   "execution_count": 49,
   "id": "56c3c5fd",
   "metadata": {},
   "outputs": [
    {
     "name": "stdout",
     "output_type": "stream",
     "text": [
      "[1, 2, 3, 4, 5, ['a', 'b', 'c']]\n"
     ]
    }
   ],
   "source": [
    "a=[1,2,3,4,5,['a','b','c']]\n",
    "print(a)"
   ]
  },
  {
   "cell_type": "code",
   "execution_count": 55,
   "id": "d7d4aecd",
   "metadata": {
    "scrolled": true
   },
   "outputs": [
    {
     "name": "stdout",
     "output_type": "stream",
     "text": [
      "a\n",
      "c\n"
     ]
    }
   ],
   "source": [
    "print(a[5][0])\n",
    "print(a[-1][-1])"
   ]
  },
  {
   "cell_type": "code",
   "execution_count": 63,
   "id": "5e36357a",
   "metadata": {},
   "outputs": [
    {
     "name": "stdout",
     "output_type": "stream",
     "text": [
      "life\n",
      "is\n"
     ]
    }
   ],
   "source": [
    "a=[1,2,['a','b',['life','is']]]\n",
    "print(a[-1][-1][0])\n",
    "print(a[2][2][1])"
   ]
  },
  {
   "cell_type": "code",
   "execution_count": 68,
   "id": "49adf7a5",
   "metadata": {},
   "outputs": [
    {
     "name": "stdout",
     "output_type": "stream",
     "text": [
      "[9, 10]\n"
     ]
    }
   ],
   "source": [
    "b=[1,2,[3,4,[5,6,[7,8]]],[9,10]]\n",
    "print(b[-1])"
   ]
  }
 ],
 "metadata": {
  "kernelspec": {
   "display_name": "Python 3 (ipykernel)",
   "language": "python",
   "name": "python3"
  },
  "language_info": {
   "codemirror_mode": {
    "name": "ipython",
    "version": 3
   },
   "file_extension": ".py",
   "mimetype": "text/x-python",
   "name": "python",
   "nbconvert_exporter": "python",
   "pygments_lexer": "ipython3",
   "version": "3.7.15"
  }
 },
 "nbformat": 4,
 "nbformat_minor": 5
}
