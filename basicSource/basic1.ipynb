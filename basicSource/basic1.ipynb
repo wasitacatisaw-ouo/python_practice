{
 "cells": [
  {
   "cell_type": "markdown",
   "id": "07085d91",
   "metadata": {},
   "source": [
    "# PythonStart 0110"
   ]
  },
  {
   "cell_type": "code",
   "execution_count": 3,
   "id": "a2a37b2f",
   "metadata": {},
   "outputs": [
    {
     "name": "stdout",
     "output_type": "stream",
     "text": [
      "Hello, Python\n"
     ]
    }
   ],
   "source": [
    "print('Hello, Python')"
   ]
  },
  {
   "cell_type": "markdown",
   "id": "a9ad5114",
   "metadata": {},
   "source": [
    "#   채움문자"
   ]
  },
  {
   "cell_type": "code",
   "execution_count": 4,
   "id": "f14c8f73",
   "metadata": {},
   "outputs": [
    {
     "name": "stdout",
     "output_type": "stream",
     "text": [
      "----------------------------------------\n"
     ]
    }
   ],
   "source": [
    "print('-'*40)"
   ]
  },
  {
   "cell_type": "code",
   "execution_count": 10,
   "id": "55cca4c8",
   "metadata": {},
   "outputs": [
    {
     "name": "stdout",
     "output_type": "stream",
     "text": [
      "[00001][-0002][00003]\n"
     ]
    }
   ],
   "source": [
    "print('[{0:05d}][{1:05d}][{2:05d}]'.format(1,-2,3))"
   ]
  },
  {
   "cell_type": "code",
   "execution_count": 15,
   "id": "1fc1aa96",
   "metadata": {},
   "outputs": [
    {
     "name": "stdout",
     "output_type": "stream",
     "text": [
      "이원복씨는 상위 4% 안에 있는 사람입니다\n"
     ]
    }
   ],
   "source": [
    "print('{0}씨는 상위 {1}% 안에 있는 사람입니다'.format('이원복',4))"
   ]
  },
  {
   "cell_type": "markdown",
   "id": "decd2966",
   "metadata": {},
   "source": [
    "* 문자관련 주석"
   ]
  },
  {
   "cell_type": "code",
   "execution_count": 18,
   "id": "9a444d80",
   "metadata": {},
   "outputs": [
    {
     "data": {
      "text/plain": [
       "'\\n안녕하세요 여러분\\n여러 줄 주석입니다\\n'"
      ]
     },
     "execution_count": 18,
     "metadata": {},
     "output_type": "execute_result"
    }
   ],
   "source": [
    "#  한 줄 주석입니다\n",
    "'''\n",
    "안녕하세요 여러분\n",
    "여러 줄 주석입니다\n",
    "'''\n",
    "\n",
    "# 한 번에 주석\n",
    "# ctrl + / 입니다"
   ]
  },
  {
   "cell_type": "markdown",
   "id": "46d1ca44",
   "metadata": {},
   "source": [
    "# 표준입력"
   ]
  },
  {
   "cell_type": "code",
   "execution_count": 24,
   "id": "cadff1c3",
   "metadata": {},
   "outputs": [
    {
     "name": "stdout",
     "output_type": "stream",
     "text": [
      "string으로 인식합니다862\n",
      "862 <class 'str'>\n",
      "float으로 인식합니다87.5\n",
      "87.5 <class 'float'>\n"
     ]
    }
   ],
   "source": [
    "data1=input('string으로 인식합니다')\n",
    "print(data1, type(data1))\n",
    "data2=float(input('float으로 인식합니다'))\n",
    "print(data2, type(data2))"
   ]
  },
  {
   "cell_type": "markdown",
   "id": "a75ea86a",
   "metadata": {},
   "source": [
    "# indent"
   ]
  },
  {
   "cell_type": "code",
   "execution_count": 28,
   "id": "978cca4b",
   "metadata": {},
   "outputs": [
    {
     "name": "stdout",
     "output_type": "stream",
     "text": [
      "10입니다\n",
      "정상작동\n"
     ]
    }
   ],
   "source": [
    "#  a=9\n",
    "#  if a==10:\n",
    "#      print('10입니다')\n",
    "#      print('정상작동')\n",
    "# 출력 x\n",
    "#  a=10\n",
    "#  if a==10:\n",
    "#     print('10입니다')\n",
    "#     print('정상작동')\n",
    "# 출력\n",
    "# 10입니다\n",
    "# 정상작동"
   ]
  },
  {
   "cell_type": "code",
   "execution_count": 32,
   "id": "d6d7d5a6",
   "metadata": {},
   "outputs": [
    {
     "name": "stdout",
     "output_type": "stream",
     "text": [
      "a는 10 b는 6입니다\n"
     ]
    }
   ],
   "source": [
    "# a=10\n",
    "# b=7\n",
    "# if a==10 and b==7:\n",
    "#     print('a는 10 b는 7입니다')\n",
    "# else:\n",
    "#     print('else 동작')"
   ]
  },
  {
   "cell_type": "code",
   "execution_count": null,
   "id": "42dcda71",
   "metadata": {},
   "outputs": [],
   "source": []
  }
 ],
 "metadata": {
  "kernelspec": {
   "display_name": "Python 3 (ipykernel)",
   "language": "python",
   "name": "python3"
  },
  "language_info": {
   "codemirror_mode": {
    "name": "ipython",
    "version": 3
   },
   "file_extension": ".py",
   "mimetype": "text/x-python",
   "name": "python",
   "nbconvert_exporter": "python",
   "pygments_lexer": "ipython3",
   "version": "3.7.15"
  }
 },
 "nbformat": 4,
 "nbformat_minor": 5
}
