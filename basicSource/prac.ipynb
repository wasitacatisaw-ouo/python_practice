{
 "cells": [
  {
   "cell_type": "code",
   "execution_count": 14,
   "id": "6bd1f1d2",
   "metadata": {},
   "outputs": [
    {
     "name": "stdout",
     "output_type": "stream",
     "text": [
      "[1, 1, 1, 1, 6, 8, 8, 10, 10, 11, 12, 13, 13, 15, 17, 17, 18, 18, 22, 23, 28, 34, 36, 38, 38, 40, 40, 43, 43, 44]\n"
     ]
    }
   ],
   "source": [
    "from random import *\n",
    "a=[]\n",
    "\n",
    "cnt=0\n",
    "while cnt<5:\n",
    "    for i in range(6):\n",
    "        num=randint(1,45)\n",
    "        a.append(num)\n",
    "        a.sort()\n",
    "    cnt+=1\n",
    "print(a)\n",
    "\n",
    "    "
   ]
  },
  {
   "cell_type": "code",
   "execution_count": null,
   "id": "6d7e82b5",
   "metadata": {},
   "outputs": [],
   "source": []
  }
 ],
 "metadata": {
  "kernelspec": {
   "display_name": "Python 3 (ipykernel)",
   "language": "python",
   "name": "python3"
  },
  "language_info": {
   "codemirror_mode": {
    "name": "ipython",
    "version": 3
   },
   "file_extension": ".py",
   "mimetype": "text/x-python",
   "name": "python",
   "nbconvert_exporter": "python",
   "pygments_lexer": "ipython3",
   "version": "3.7.15"
  }
 },
 "nbformat": 4,
 "nbformat_minor": 5
}
