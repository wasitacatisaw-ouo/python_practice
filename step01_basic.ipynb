{
 "cells": [
  {
   "cell_type": "markdown",
   "id": "32c42da2",
   "metadata": {},
   "source": [
    "# Hello World\n",
    "## Hello World\n",
    "### Hello World"
   ]
  },
  {
   "cell_type": "markdown",
   "id": "d34e3a84",
   "metadata": {},
   "source": [
    "* 파이썬이란 무엇인가?\n",
    "* 파이썬 사용 툴\n",
    "    * 파이참\n",
    "    * 주피터노트북\n",
    "    * 코랩\n",
    "    \n",
    "1. 파이썬 기초\n",
    "    * 연산자\n",
    "    * 변수와 상수\n",
    "2. 파이썬중급\n",
    "    1. 제어문\n",
    "    2. 반복문"
   ]
  },
  {
   "cell_type": "markdown",
   "id": "3bebba27",
   "metadata": {},
   "source": [
    "<font color=blue>텍스트(text)</font>\n",
    "<font color=red>텍스트(text)</font>\n",
    "<font color=green>텍스트(text)</font>\n",
    "<font color=pink>텍스트(text)</font>\n",
    "<font color=yellow>텍스트(text)</font>"
   ]
  },
  {
   "cell_type": "markdown",
   "id": "d57df1af",
   "metadata": {},
   "source": [
    "<h1>Hello World</h1>"
   ]
  },
  {
   "cell_type": "markdown",
   "id": "eb10c7a7",
   "metadata": {},
   "source": [
    "***\n",
    "\n",
    "---"
   ]
  },
  {
   "cell_type": "markdown",
   "id": "c4fbd2e4",
   "metadata": {},
   "source": [
    "* 강아지\n",
    "+ 고양이\n",
    "- 원숭이"
   ]
  },
  {
   "cell_type": "markdown",
   "id": "f96c2ed7",
   "metadata": {},
   "source": [
    "| 제목  | 내용 | 조회수|\n",
    "|-------|------|-------|\n",
    "| aa    | bb   | cc    |\n",
    "| 11    | 22   | 33    |\n",
    "| 가나  | 다라 | 마바  |"
   ]
  },
  {
   "cell_type": "code",
   "execution_count": 1,
   "id": "58e87aba",
   "metadata": {},
   "outputs": [
    {
     "name": "stdout",
     "output_type": "stream",
     "text": [
      "Hello World\n"
     ]
    }
   ],
   "source": [
    "print(\"Hello World\") "
   ]
  },
  {
   "cell_type": "code",
   "execution_count": 5,
   "id": "5630c5db",
   "metadata": {},
   "outputs": [
    {
     "name": "stdout",
     "output_type": "stream",
     "text": [
      "2곱하기 3은  6 입니다\n"
     ]
    }
   ],
   "source": [
    "print(\"2곱하기 3은 \", 2*3 ,\"입니다\")"
   ]
  },
  {
   "cell_type": "code",
   "execution_count": null,
   "id": "7854141a",
   "metadata": {},
   "outputs": [],
   "source": [
    "print(\"2곱하기 3은 \"+ str(2*3) + \"입니다\")"
   ]
  },
  {
   "cell_type": "code",
   "execution_count": 3,
   "id": "4944aa84",
   "metadata": {},
   "outputs": [
    {
     "name": "stdout",
     "output_type": "stream",
     "text": [
      "23\n"
     ]
    }
   ],
   "source": [
    "print(int('20') + int('3'))"
   ]
  },
  {
   "cell_type": "code",
   "execution_count": 6,
   "id": "78b5a3b4",
   "metadata": {},
   "outputs": [],
   "source": [
    "import turtle\n",
    "t=turtle.Pen()\n",
    "\n",
    "t.pencolor(\"red\")\n",
    "t.forward(100)\n",
    "t.right(90)\n",
    "t.forward(100)\n",
    "t.right(90)\n",
    "t.forward(100)\n",
    "t.right(90)\n",
    "t.forward(100)"
   ]
  },
  {
   "cell_type": "code",
   "execution_count": 2,
   "id": "40a509c6",
   "metadata": {
    "scrolled": true
   },
   "outputs": [
    {
     "name": "stdout",
     "output_type": "stream",
     "text": [
      "Hello Python\n",
      "Hello Html\n"
     ]
    }
   ],
   "source": [
    "# 파이썬에서 함수 사용\n",
    "def viewPrint():\n",
    "    print(\"Hello Python\")\n",
    "    print(\"Hello Html\")\n",
    "\n",
    "viewPrint()\n",
    "#viewPrint()"
   ]
  },
  {
   "cell_type": "code",
   "execution_count": 12,
   "id": "7b42cc5d",
   "metadata": {
    "scrolled": true
   },
   "outputs": [
    {
     "name": "stdout",
     "output_type": "stream",
     "text": [
      "Hi Python\n",
      "Hi Python\n",
      "Hi Python\n",
      "\n"
     ]
    }
   ],
   "source": [
    "print(\"Hi Python\\n\" * 3)   # \\n 줄바꾸기"
   ]
  },
  {
   "cell_type": "code",
   "execution_count": 13,
   "id": "8c0c1578",
   "metadata": {},
   "outputs": [
    {
     "name": "stdout",
     "output_type": "stream",
     "text": [
      "서울*부산*대구*진주\n"
     ]
    }
   ],
   "source": [
    "# 파이썬에서는 문자,문자열(' ' 또는 \" \")로 표시한다\n",
    "a='서울'\n",
    "b='부산'\n",
    "c='대구'\n",
    "d='진주'\n",
    "print(a,b,c,d,sep='*')"
   ]
  },
  {
   "cell_type": "code",
   "execution_count": null,
   "id": "170ed47e",
   "metadata": {},
   "outputs": [],
   "source": [
    "# end=''  줄바꿈이 일어나지 않는다\n",
    "print(\"나는 홍길동입니다\", end='/')  \n",
    "print(\"나이는 25세 입니다\")"
   ]
  },
  {
   "cell_type": "code",
   "execution_count": null,
   "id": "db1f95bb",
   "metadata": {},
   "outputs": [],
   "source": [
    "name=input('이름을 입력하시오: ')\n",
    "#print(\"나의 이름은 \"+name+\" 입니다\")\n",
    "print(\"나의 이름은 \",name,\" 입니다\")"
   ]
  },
  {
   "cell_type": "code",
   "execution_count": 14,
   "id": "1c7775be",
   "metadata": {
    "scrolled": true
   },
   "outputs": [
    {
     "name": "stdout",
     "output_type": "stream",
     "text": [
      "가격을 입력하세요:100\n",
      "개수를 입력하세요:10\n",
      "총액은  1000 원 입니다\n"
     ]
    }
   ],
   "source": [
    "price = input('가격을 입력하세요:')\n",
    "num = input('개수를 입력하세요:')\n",
    "#sum=price * num\n",
    "sum=int(price) * int(num)\n",
    "print('총액은 ', sum , '원 입니다')"
   ]
  },
  {
   "cell_type": "code",
   "execution_count": 15,
   "id": "71ed55ca",
   "metadata": {
    "scrolled": true
   },
   "outputs": [
    {
     "name": "stdout",
     "output_type": "stream",
     "text": [
      "가격을 입력하세요:1200\n",
      "개수를 입력하세요:12\n",
      "총액은  14400 원 입니다\n"
     ]
    }
   ],
   "source": [
    "price = int(input('가격을 입력하세요:'))\n",
    "num = int(input('개수를 입력하세요:'))\n",
    "sum=price * num\n",
    "print('총액은 ', sum , '원 입니다')"
   ]
  },
  {
   "cell_type": "code",
   "execution_count": null,
   "id": "cbc74384",
   "metadata": {
    "scrolled": true
   },
   "outputs": [],
   "source": [
    "# [문제]\n",
    "# 이름을 입력하시오: 홍길동\n",
    "# 국어점수를 입력하시오: 75\n",
    "# 수학점수를 입력하시오: 80\n",
    "# 홍길동의 평균은 77.5점 입니다.\n",
    "\n",
    "name = input('이름을 입력하시오:')\n",
    "kor = int(input('국어점수를 입력하시오:'))\n",
    "mat = int(input('수학점수를 입력하시오:'))\n",
    "av=(kor+mat)/2\n",
    "print(name, '의 평균은 ', str(av) ,'점 입니다.')"
   ]
  },
  {
   "cell_type": "code",
   "execution_count": null,
   "id": "b4aefbae",
   "metadata": {},
   "outputs": [],
   "source": [
    "name=input(\"이름을 입력하시오: \")\n",
    "korSco=int(input(\"국어점수를 입력하시오: \"))\n",
    "matSco=int(input(\"수학점수를 입력하시오: \"))\n",
    "print(name + \"의 평균은 \" + str((korSco+matSco)/2) + \"점 입니다.\" )"
   ]
  },
  {
   "cell_type": "code",
   "execution_count": null,
   "id": "580e7766",
   "metadata": {
    "scrolled": true
   },
   "outputs": [],
   "source": [
    "a=10\n",
    "b='Hello'\n",
    "c=True\n",
    "d=50.3\n",
    "\n",
    "print(type(a))  # int\n",
    "print(type(b))  # str\n",
    "print(type(c))  # bool\n",
    "print(type(d))  # float"
   ]
  },
  {
   "cell_type": "code",
   "execution_count": null,
   "id": "20bfa5a7",
   "metadata": {},
   "outputs": [],
   "source": [
    "# 강력하지만 위험할 수 있는 eval()함수\n",
    "# eval(): 전달된 문자열의 내용을 평가, 해석해서 결괏값을 도출\n",
    "\n",
    "rs=input('수식을 입력하시오:')\n",
    "print(rs)    \n",
    "\n",
    "print(eval(rs))   # 입력값 ==> 2-4+3*2,   결괏값 ===> 4"
   ]
  },
  {
   "cell_type": "code",
   "execution_count": null,
   "id": "5fb70785",
   "metadata": {},
   "outputs": [],
   "source": [
    "#[문제1]\n",
    "#이름을 입력하시오: 홍길동\n",
    "#국어를 입력하시오: 90\n",
    "#수학를 입력하시오: 85\n",
    "#영어를 입력하시오: 70\n",
    "\n",
    "#교육생의 이름은 홍길동입니다\n",
    "#3과목의 점수는 각각 90/85/70점 입니다\n",
    "#총점은 245점이고, 평균은 81.6666점 입니다"
   ]
  },
  {
   "cell_type": "code",
   "execution_count": null,
   "id": "8c8aa52c",
   "metadata": {},
   "outputs": [],
   "source": [
    "name=input(\"이름을 입력하시오:\")\n",
    "kor = int(input(\"국어를 입력하시오: \"))\n",
    "eng = int(input(\"수학를 입력하시오: \"))\n",
    "mat = int(input(\"영어를 입력하시오: \"))\n",
    "tot = kor + eng + mat\n",
    "avg = tot / 3\n",
    "\n",
    "print(\"교육생의 이름은 \", name, \"입니다\")\n",
    "print(\"3과목의 점수는 각각 \", end=' ')\n",
    "print(kor,eng,mat, sep='/', end='점 입니다 \\n')\n",
    "print(\"총점은 \", tot, \"점이고 평균은 \", avg, \"점 입니다\")"
   ]
  }
 ],
 "metadata": {
  "kernelspec": {
   "display_name": "Python 3 (ipykernel)",
   "language": "python",
   "name": "python3"
  },
  "language_info": {
   "codemirror_mode": {
    "name": "ipython",
    "version": 3
   },
   "file_extension": ".py",
   "mimetype": "text/x-python",
   "name": "python",
   "nbconvert_exporter": "python",
   "pygments_lexer": "ipython3",
   "version": "3.7.15"
  }
 },
 "nbformat": 4,
 "nbformat_minor": 5
}
