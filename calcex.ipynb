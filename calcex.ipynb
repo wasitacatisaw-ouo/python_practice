{
 "cells": [
  {
   "cell_type": "code",
   "execution_count": 1,
   "id": "a6987c2c",
   "metadata": {},
   "outputs": [
    {
     "name": "stdout",
     "output_type": "stream",
     "text": [
      "30\n",
      "200\n"
     ]
    }
   ],
   "source": [
    "#아래코드를 만들고 Download as -> Python(.py)로 다운 받는다\n",
    "#파일명은 calc.py로 하고 현재 경로에 복사한다.\n",
    "def add(a,b):\n",
    "    return a+b\n",
    "\n",
    "def multi(a,b):\n",
    "    return a*b\n",
    "\n",
    "# if __name__ == '__main__':\n",
    "#     print(add(10,20))\n",
    "#     print(multi(10,20))"
   ]
  }
 ],
 "metadata": {
  "kernelspec": {
   "display_name": "Python 3 (ipykernel)",
   "language": "python",
   "name": "python3"
  },
  "language_info": {
   "codemirror_mode": {
    "name": "ipython",
    "version": 3
   },
   "file_extension": ".py",
   "mimetype": "text/x-python",
   "name": "python",
   "nbconvert_exporter": "python",
   "pygments_lexer": "ipython3",
   "version": "3.9.7"
  }
 },
 "nbformat": 4,
 "nbformat_minor": 5
}
