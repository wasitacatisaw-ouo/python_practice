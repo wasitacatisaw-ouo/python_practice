{
 "cells": [
  {
   "cell_type": "markdown",
   "id": "8b56d847",
   "metadata": {},
   "source": [
    "* 서식문자\n",
    "* %d : 정수(10진수)\n",
    "* %o : 정수(8진수)\n",
    "* %x : 정수(16진수)\n",
    "* %f : 실수(부동 소수점)\n",
    "* %c : 문자\n",
    "* %s : 문자열\n",
    "* %% : 문자 %"
   ]
  },
  {
   "cell_type": "code",
   "execution_count": null,
   "id": "ff39ea1d",
   "metadata": {
    "scrolled": true
   },
   "outputs": [],
   "source": [
    "tall=173.5\n",
    "print('나의 키는 ', tall, 'cm 입니다')\n",
    "print('나의 키는 '+ str(tall) + 'cm 입니다')   # str(): 숫자를 문자로 바꿈\n",
    "print('나의 키는 %20.3f cm 입니다'% tall)      # %[-][전체자릿수].[소수이하]f"
   ]
  },
  {
   "cell_type": "code",
   "execution_count": null,
   "id": "1e97bcf8",
   "metadata": {},
   "outputs": [],
   "source": [
    "num1=3\n",
    "num2=5\n",
    "s='python'\n",
    "print(\"num1: %d\" % num1)\n",
    "print(\"num1: %d,  num2: %d\" % (num1, num2))\n",
    "print(\"%s is my favorite computer language.\" % s)"
   ]
  },
  {
   "cell_type": "code",
   "execution_count": 1,
   "id": "58188785",
   "metadata": {},
   "outputs": [
    {
     "name": "stdout",
     "output_type": "stream",
     "text": [
      "###     85.50###\n",
      "###85.50     ###\n",
      "###85.50###\n"
     ]
    }
   ],
   "source": [
    "# 포멧팅(정렬, 공백, 소수점 표현)\n",
    "value = 85.5\n",
    "print(\"###%10.2f###\" % value)\n",
    "print(\"###%-10.2f###\" % value)\n",
    "print(\"###%.2f###\" % value)"
   ]
  },
  {
   "cell_type": "code",
   "execution_count": null,
   "id": "a808ad7e",
   "metadata": {
    "scrolled": true
   },
   "outputs": [],
   "source": [
    "\"\"\"\n",
    "num1 = 3\n",
    "num2 = 5.2381726\n",
    "print (\"num1 : %10d\" % num1)\n",
    "print (\"num2 : %-10.4f\" % num2)\n",
    "\"\"\""
   ]
  },
  {
   "cell_type": "code",
   "execution_count": 2,
   "id": "71fc8813",
   "metadata": {},
   "outputs": [
    {
     "name": "stdout",
     "output_type": "stream",
     "text": [
      "*       300\n",
      "*     13200\n",
      "*      5000\n"
     ]
    }
   ],
   "source": [
    "num=[300, 13200, 5000]\n",
    "for p in num:\n",
    "    print(\"*%10d\" % p)"
   ]
  },
  {
   "cell_type": "code",
   "execution_count": null,
   "id": "d41c73c1",
   "metadata": {},
   "outputs": [],
   "source": []
  }
 ],
 "metadata": {
  "kernelspec": {
   "display_name": "Python 3 (ipykernel)",
   "language": "python",
   "name": "python3"
  },
  "language_info": {
   "codemirror_mode": {
    "name": "ipython",
    "version": 3
   },
   "file_extension": ".py",
   "mimetype": "text/x-python",
   "name": "python",
   "nbconvert_exporter": "python",
   "pygments_lexer": "ipython3",
   "version": "3.7.15"
  }
 },
 "nbformat": 4,
 "nbformat_minor": 5
}
