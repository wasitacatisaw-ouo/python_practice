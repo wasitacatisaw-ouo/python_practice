{
 "cells": [
  {
   "cell_type": "markdown",
   "id": "e9afd692",
   "metadata": {},
   "source": [
    "* 수집, 저장 = 전처리\n",
    "* Pandas는 data 전처리의 마지막 단계"
   ]
  },
  {
   "cell_type": "code",
   "execution_count": 10,
   "id": "e41fb694",
   "metadata": {},
   "outputs": [],
   "source": [
    "import pandas as pd\n",
    "import numpy as np\n",
    "import matplotlib.pyplot as plt"
   ]
  },
  {
   "cell_type": "code",
   "execution_count": 9,
   "id": "41b0f193",
   "metadata": {
    "scrolled": true
   },
   "outputs": [
    {
     "name": "stdout",
     "output_type": "stream",
     "text": [
      "2023-02-07 09:27:21\n",
      "[0, 1, 2, 3, 4, 5, 6, 7, 8, 9, 10, 11, 12, 13, 14, 15, 16, 17, 18, 19, 20, 21, 22, 23, 24, 25, 26, 27, 28, 29]\n",
      "['java', 'pthon']\n",
      "Categories (2, object): ['java', 'pthon'] <class 'pandas.core.arrays.categorical.Categorical'>\n"
     ]
    }
   ],
   "source": [
    "print(pd.Timestamp('20230207092721'))\n",
    "\n",
    "print(list(range(30)))\n",
    "\n",
    "print(pd.Categorical({'java', 'pthon'}), type(pd.Categorical({'java', 'pthon'}))) # ----- 값이 제한적일때 사용한다\n"
   ]
  },
  {
   "cell_type": "markdown",
   "id": "53b7c9a9",
   "metadata": {},
   "source": [
    "datas=pd.data_range(5)\n",
    "\n",
    "---------------------------------------------------------------------------\n",
    "AttributeError                            Traceback (most recent call last)\n",
    "~\\AppData\\Local\\Temp\\ipykernel_7344\\1140348877.py in <module>\n",
    "----> 1 datas=pd.data_range(5)\n",
    "\n",
    "C:\\ProgramData\\Anaconda3\\lib\\site-packages\\pandas\\__init__.py in __getattr__(name)\n",
    "    259         return _SparseArray\n",
    "    260 \n",
    "--> 261     raise AttributeError(f\"module 'pandas' has no attribute '{name}'\")\n",
    "    262 \n",
    "    263 \n",
    "\n",
    "AttributeError: module 'pandas' has no attribute 'data_range'"
   ]
  },
  {
   "cell_type": "code",
   "execution_count": 21,
   "id": "cce19536",
   "metadata": {},
   "outputs": [
    {
     "name": "stdout",
     "output_type": "stream",
     "text": [
      "DatetimeIndex(['2023-01-01', '2023-01-02', '2023-01-03', '2023-01-04',\n",
      "               '2023-01-05', '2023-01-06'],\n",
      "              dtype='datetime64[ns]', freq='D')\n"
     ]
    }
   ],
   "source": [
    "dates=pd.date_range('20230101', periods = 6) # ---------- 시작날짜, 시작날 포함 날짜의 수\n",
    "print(dates)"
   ]
  },
  {
   "cell_type": "code",
   "execution_count": 17,
   "id": "d15f84e4",
   "metadata": {},
   "outputs": [
    {
     "name": "stdout",
     "output_type": "stream",
     "text": [
      "          0         1         2         3\n",
      "0 -1.010392 -0.748449  0.037477  0.789761\n",
      "1 -1.406452 -1.303201 -0.954950  0.419431\n",
      "2 -0.773176  1.312811  1.927423 -0.393753\n",
      "3 -0.868479 -0.573963 -1.232709 -0.025634\n",
      "4 -1.534835 -0.830131  0.211670 -1.151487\n",
      "5 -0.161890  0.767209  0.842895 -1.194469\n"
     ]
    }
   ],
   "source": [
    "df=pd.DataFrame(np.random.randn(6,4)) # 6행 4열\n",
    "print(df)"
   ]
  },
  {
   "cell_type": "code",
   "execution_count": 22,
   "id": "bb8c3717",
   "metadata": {},
   "outputs": [
    {
     "name": "stdout",
     "output_type": "stream",
     "text": [
      "                   A         B         C         D\n",
      "2023-01-01  0.477489 -0.806357  1.119394  0.793341\n",
      "2023-01-02  1.126045  0.459792  0.898781  1.558258\n",
      "2023-01-03  0.642174  1.338440  0.399005 -0.552217\n",
      "2023-01-04 -0.669977  0.298453 -1.303827 -1.247249\n",
      "2023-01-05  1.470528  0.221825 -0.892425 -0.279009\n",
      "2023-01-06  0.743112 -0.337719 -1.102740  0.768867\n"
     ]
    }
   ],
   "source": [
    "df=pd.DataFrame(np.random.randn(6,4), index=dates, columns=list('ABCD')) # ---------- 6행 4열이므로 dates는 6개여야 한다."
   ]
  },
  {
   "cell_type": "code",
   "execution_count": 23,
   "id": "fc63752f",
   "metadata": {},
   "outputs": [
    {
     "name": "stdout",
     "output_type": "stream",
     "text": [
      "                   A         B         C         D\n",
      "2023-01-01  0.477489 -0.806357  1.119394  0.793341\n",
      "2023-01-02  1.126045  0.459792  0.898781  1.558258\n",
      "2023-01-03  0.642174  1.338440  0.399005 -0.552217\n",
      "2023-01-04 -0.669977  0.298453 -1.303827 -1.247249\n",
      "2023-01-05  1.470528  0.221825 -0.892425 -0.279009\n",
      "2023-01-06  0.743112 -0.337719 -1.102740  0.768867\n"
     ]
    }
   ],
   "source": [
    "print(df) # ---------- 전체데이터 출력"
   ]
  },
  {
   "cell_type": "code",
   "execution_count": 24,
   "id": "3d30fc92",
   "metadata": {},
   "outputs": [
    {
     "name": "stdout",
     "output_type": "stream",
     "text": [
      "2023-01-01    0.477489\n",
      "2023-01-02    1.126045\n",
      "2023-01-03    0.642174\n",
      "2023-01-04   -0.669977\n",
      "2023-01-05    1.470528\n",
      "2023-01-06    0.743112\n",
      "Freq: D, Name: A, dtype: float64\n"
     ]
    }
   ],
   "source": [
    "print(df['A']) # ---------- A열만 출력. 정형데이터에서는 열의 이름 자체가 주소가 된다. 대소문자 구분"
   ]
  },
  {
   "cell_type": "code",
   "execution_count": 31,
   "id": "99b80ca8",
   "metadata": {},
   "outputs": [
    {
     "name": "stdout",
     "output_type": "stream",
     "text": [
      "                   A         B         C         D\n",
      "2023-01-01  0.477489 -0.806357  1.119394  0.793341\n",
      "2023-01-02  1.126045  0.459792  0.898781  1.558258\n",
      "2023-01-03  0.642174  1.338440  0.399005 -0.552217\n",
      "                   A         B         C         D\n",
      "2023-01-02  1.126045  0.459792  0.898781  1.558258\n"
     ]
    }
   ],
   "source": [
    "print(df[0:3]) # ---------- 0행부터 2행까지 출력\n",
    "print(df[1:2])"
   ]
  },
  {
   "cell_type": "code",
   "execution_count": 34,
   "id": "a9424b59",
   "metadata": {},
   "outputs": [
    {
     "name": "stdout",
     "output_type": "stream",
     "text": [
      "                   A         B         C         D\n",
      "2023-01-01  0.477489 -0.806357  1.119394  0.793341\n",
      "2023-01-02  1.126045  0.459792  0.898781  1.558258\n",
      "2023-01-03  0.642174  1.338440  0.399005 -0.552217\n"
     ]
    }
   ],
   "source": [
    "print(df['2023-01-01':'2023-01-03']) # ---------- index로 출력값 지정할때도 범위로 지정해야 한다."
   ]
  },
  {
   "cell_type": "code",
   "execution_count": 35,
   "id": "4070ba17",
   "metadata": {},
   "outputs": [],
   "source": [
    "datas=pd.date_range('20230101',periods=6)\n",
    "df=pd.DataFrame(np.random.randn(6,6),index=datas,columns=list('ABCDEF'))"
   ]
  },
  {
   "cell_type": "markdown",
   "id": "1225bcf4",
   "metadata": {},
   "source": [
    "print(df[0])\n",
    "\n",
    "---------------------------------------------------------------------------\n",
    "KeyError                                  Traceback (most recent call last)\n",
    "C:\\ProgramData\\Anaconda3\\lib\\site-packages\\pandas\\core\\indexes\\base.py in get_loc(self, key, method, tolerance)\n",
    "   3628             try:\n",
    "-> 3629                 return self._engine.get_loc(casted_key)\n",
    "   3630             except KeyError as err:\n",
    " -----\n",
    "   3632             except TypeError:\n",
    "   3633                 # If we have a listlike key, _check_indexing_error will raise\n",
    "\n",
    "KeyError: 0"
   ]
  },
  {
   "cell_type": "code",
   "execution_count": 61,
   "id": "0b9c92fe",
   "metadata": {
    "scrolled": true
   },
   "outputs": [
    {
     "name": "stdout",
     "output_type": "stream",
     "text": [
      "                   A         B         C         D         E         F\n",
      "2023-01-01  0.020891 -0.321969  2.354723 -0.283980  1.030292 -0.157475\n",
      "2023-01-02 -0.084773 -0.445438  1.166273  0.325855  1.631462  0.871130\n",
      "2023-01-03 -0.889192  0.457526 -1.503544 -0.651347  1.030508  1.119182\n",
      "2023-01-04 -0.257786 -0.067221 -0.599769  0.256113  2.042173 -1.530666\n",
      "2023-01-05  0.961431 -1.287537  0.192645 -1.770771  1.812957  0.249222\n",
      "2023-01-06  0.026883  0.073768  1.727119  0.961582 -1.377997  0.502337\n",
      "                   A         B         C         D         E         F\n",
      "2023-01-01  0.020891 -0.321969  2.354723 -0.283980  1.030292 -0.157475\n",
      "2023-01-02 -0.084773 -0.445438  1.166273  0.325855  1.631462  0.871130\n",
      "2023-01-03 -0.889192  0.457526 -1.503544 -0.651347  1.030508  1.119182\n",
      "2023-01-04 -0.257786 -0.067221 -0.599769  0.256113  2.042173 -1.530666\n",
      "2023-01-05  0.961431 -1.287537  0.192645 -1.770771  1.812957  0.249222\n",
      "2023-01-06  0.026883  0.073768  1.727119  0.961582 -1.377997  0.502337\n"
     ]
    }
   ],
   "source": [
    "print(df)\n",
    "print(df.loc[datas])"
   ]
  },
  {
   "cell_type": "code",
   "execution_count": 48,
   "id": "baef2bde",
   "metadata": {},
   "outputs": [
    {
     "name": "stdout",
     "output_type": "stream",
     "text": [
      "A    0.020891\n",
      "B   -0.321969\n",
      "C    2.354723\n",
      "D   -0.283980\n",
      "E    1.030292\n",
      "F   -0.157475\n",
      "Name: 2023-01-01 00:00:00, dtype: float64\n",
      "------------------------------------------------------------\n",
      "A   -0.889192\n",
      "B    0.457526\n",
      "C   -1.503544\n",
      "D   -0.651347\n",
      "E    1.030508\n",
      "F    1.119182\n",
      "Name: 2023-01-03 00:00:00, dtype: float64\n"
     ]
    }
   ],
   "source": [
    "print(df.loc[datas[0]]) # ---------- 첫 행을 출력할 때\n",
    "print('------'*10)\n",
    "print(df.loc[datas[2]])# ---------- 세번째 행을 출력할 때"
   ]
  },
  {
   "cell_type": "code",
   "execution_count": 49,
   "id": "cff4ba1d",
   "metadata": {},
   "outputs": [
    {
     "name": "stdout",
     "output_type": "stream",
     "text": [
      "                   A         B         C         D         E         F\n",
      "2023-01-01  0.020891 -0.321969  2.354723 -0.283980  1.030292 -0.157475\n",
      "2023-01-02 -0.084773 -0.445438  1.166273  0.325855  1.631462  0.871130\n",
      "2023-01-03 -0.889192  0.457526 -1.503544 -0.651347  1.030508  1.119182\n",
      "2023-01-04 -0.257786 -0.067221 -0.599769  0.256113  2.042173 -1.530666\n",
      "2023-01-05  0.961431 -1.287537  0.192645 -1.770771  1.812957  0.249222\n",
      "2023-01-06  0.026883  0.073768  1.727119  0.961582 -1.377997  0.502337\n"
     ]
    }
   ],
   "source": [
    "# loc를 이용하여 전체 데이터 출력\n",
    "print(df.loc[:])"
   ]
  },
  {
   "cell_type": "code",
   "execution_count": 53,
   "id": "c1d673bc",
   "metadata": {},
   "outputs": [
    {
     "name": "stdout",
     "output_type": "stream",
     "text": [
      "                   A         B\n",
      "2023-01-01  0.020891 -0.321969\n",
      "2023-01-02 -0.084773 -0.445438\n",
      "2023-01-03 -0.889192  0.457526\n",
      "2023-01-04 -0.257786 -0.067221\n",
      "2023-01-05  0.961431 -1.287537\n",
      "2023-01-06  0.026883  0.073768\n"
     ]
    }
   ],
   "source": [
    "# loc를 이용하여 A열, B열 출력\n",
    "print(df.loc[:,['A', 'B']]) "
   ]
  },
  {
   "cell_type": "code",
   "execution_count": 58,
   "id": "ccdd284e",
   "metadata": {},
   "outputs": [
    {
     "name": "stdout",
     "output_type": "stream",
     "text": [
      "C   -0.599769\n",
      "B   -0.067221\n",
      "F   -1.530666\n",
      "Name: 2023-01-04 00:00:00, dtype: float64\n"
     ]
    }
   ],
   "source": [
    "# 2023-01-04 행의 C, B, F열 순으로 데이터 출력\n",
    "print(df.loc['2023-01-04',['C', 'B', 'F']]) "
   ]
  },
  {
   "cell_type": "code",
   "execution_count": 68,
   "id": "970fcda2",
   "metadata": {},
   "outputs": [
    {
     "name": "stdout",
     "output_type": "stream",
     "text": [
      "0.020890605780545458\n",
      "2.042172845771592\n",
      "-0.6513471065700577\n"
     ]
    }
   ],
   "source": [
    "print(df.loc[datas[0], 'A']) # ---------- 0행 A열의 Scalar 데이터값 출력\n",
    "print(df.loc[datas[3], 'E']) # ---------- 3행 E열의 Scalar 데이터값 출력\n",
    "\n",
    "print(df.at[datas[2], 'D']) # ---------- 2행 D열의 Scalar 데이터값 출력. at[]이 처리속도가 조금 더 빠르다"
   ]
  },
  {
   "cell_type": "markdown",
   "id": "2f1fdb66",
   "metadata": {},
   "source": [
    "# iloc"
   ]
  },
  {
   "cell_type": "code",
   "execution_count": 69,
   "id": "5bba082b",
   "metadata": {},
   "outputs": [],
   "source": [
    "datas=pd.date_range('20230101',periods=6)\n",
    "df=pd.DataFrame(np.random.randn(6,6),index=datas,columns=list('ABCDEF'))"
   ]
  },
  {
   "cell_type": "code",
   "execution_count": 70,
   "id": "a13d71df",
   "metadata": {},
   "outputs": [
    {
     "name": "stdout",
     "output_type": "stream",
     "text": [
      "                   A         B         C         D         E         F\n",
      "2023-01-01 -1.044618 -0.805942 -0.698570  0.230364 -1.055304 -1.657517\n",
      "2023-01-02  0.243248  1.552922 -0.826733 -0.048442 -1.124382  0.590167\n",
      "2023-01-03 -0.279617 -0.384317  0.917094 -0.036756 -2.038964 -1.629190\n",
      "2023-01-04  0.025628  0.584838  1.563838 -1.012066 -0.227151 -0.779691\n",
      "2023-01-05 -0.733935  1.465328  0.175937 -1.709216 -0.112242 -1.041833\n",
      "2023-01-06 -0.586366  0.566008 -0.295853 -1.671469  1.099193  0.310459\n"
     ]
    }
   ],
   "source": [
    "print(df)"
   ]
  },
  {
   "cell_type": "code",
   "execution_count": 72,
   "id": "3709a688",
   "metadata": {},
   "outputs": [
    {
     "name": "stdout",
     "output_type": "stream",
     "text": [
      "A    0.025628\n",
      "B    0.584838\n",
      "C    1.563838\n",
      "D   -1.012066\n",
      "E   -0.227151\n",
      "F   -0.779691\n",
      "Name: 2023-01-04 00:00:00, dtype: float64\n"
     ]
    }
   ],
   "source": [
    "print(df.iloc[3]) # --------- index를 통한 행 출력"
   ]
  },
  {
   "cell_type": "code",
   "execution_count": 75,
   "id": "edc8c417",
   "metadata": {},
   "outputs": [
    {
     "name": "stdout",
     "output_type": "stream",
     "text": [
      "                   A         B         C         D         E         F\n",
      "2023-01-04  0.025628  0.584838  1.563838 -1.012066 -0.227151 -0.779691\n",
      "2023-01-05 -0.733935  1.465328  0.175937 -1.709216 -0.112242 -1.041833\n",
      "Empty DataFrame\n",
      "Columns: [A, B, C, D, E, F]\n",
      "Index: []\n"
     ]
    }
   ],
   "source": [
    "print(df.iloc[3:5]) # --------- iloc로 범위 출력\n",
    "print(df.iloc[3:3]) # --------- column만 (empty data frame)"
   ]
  },
  {
   "cell_type": "code",
   "execution_count": 81,
   "id": "88b1134c",
   "metadata": {},
   "outputs": [
    {
     "name": "stdout",
     "output_type": "stream",
     "text": [
      "                   C         D\n",
      "2023-01-04  1.563838 -1.012066\n",
      "2023-01-05  0.175937 -1.709216\n"
     ]
    }
   ],
   "source": [
    "print(df.iloc[3:5, 2:4]) # --------- 인덱스 3,4행 2,3열"
   ]
  },
  {
   "cell_type": "code",
   "execution_count": 87,
   "id": "f9b76b3f",
   "metadata": {},
   "outputs": [
    {
     "name": "stdout",
     "output_type": "stream",
     "text": [
      "-0.6985703673622937\n",
      "                   A         B         C         D         E         F\n",
      "2023-01-01 -1.044618 -0.805942 -0.698570  0.230364 -1.055304 -1.657517\n",
      "2023-01-03 -0.279617 -0.384317  0.917094 -0.036756 -2.038964 -1.629190\n",
      "2023-01-06 -0.586366  0.566008 -0.295853 -1.671469  1.099193  0.310459\n",
      "                   A         C\n",
      "2023-01-01 -1.044618 -0.698570\n",
      "2023-01-03 -0.279617  0.917094\n",
      "2023-01-06 -0.586366 -0.295853\n"
     ]
    }
   ],
   "source": [
    "print(df.iloc[0,2])  # -------- 0행 2열\n",
    "print(df.iloc[[0,2,5]]) # -------- 0행, 2행, 5행 출력\n",
    "print(df.iloc[[0,2,5], [0,2]]) # -------- 0행, 2행, 5행 중에 0열, 2열 출력"
   ]
  },
  {
   "cell_type": "code",
   "execution_count": 98,
   "id": "1d27ec20",
   "metadata": {},
   "outputs": [
    {
     "name": "stdout",
     "output_type": "stream",
     "text": [
      "                   A         B         C         D         E         F\n",
      "2023-01-01 -1.044618 -0.805942 -0.698570  0.230364 -1.055304 -1.657517\n",
      "2023-01-02  0.243248  1.552922 -0.826733 -0.048442 -1.124382  0.590167\n",
      "2023-01-03 -0.279617 -0.384317  0.917094 -0.036756 -2.038964 -1.629190\n",
      "2023-01-04  0.025628  0.584838  1.563838 -1.012066 -0.227151 -0.779691\n",
      "2023-01-05 -0.733935  1.465328  0.175937 -1.709216 -0.112242 -1.041833\n",
      "2023-01-06 -0.586366  0.566008 -0.295853 -1.671469  1.099193  0.310459 \n",
      "\n",
      "1.552922226534168\n",
      "1.552922226534168\n"
     ]
    }
   ],
   "source": [
    "print(df, '\\n')\n",
    "print(df.iloc[1,1]) # index로 1행1열\n",
    "print(df.iat[1,1]) # index로 1행1열, at함수. 조금 더 빠르다"
   ]
  },
  {
   "cell_type": "code",
   "execution_count": null,
   "id": "5771e0ae",
   "metadata": {},
   "outputs": [],
   "source": []
  },
  {
   "cell_type": "code",
   "execution_count": null,
   "id": "f3bd77f1",
   "metadata": {},
   "outputs": [],
   "source": []
  },
  {
   "cell_type": "code",
   "execution_count": null,
   "id": "055c96f6",
   "metadata": {},
   "outputs": [],
   "source": []
  }
 ],
 "metadata": {
  "kernelspec": {
   "display_name": "Python 3 (ipykernel)",
   "language": "python",
   "name": "python3"
  },
  "language_info": {
   "codemirror_mode": {
    "name": "ipython",
    "version": 3
   },
   "file_extension": ".py",
   "mimetype": "text/x-python",
   "name": "python",
   "nbconvert_exporter": "python",
   "pygments_lexer": "ipython3",
   "version": "3.9.13"
  }
 },
 "nbformat": 4,
 "nbformat_minor": 5
}
