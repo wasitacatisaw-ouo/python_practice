{
 "cells": [
  {
   "cell_type": "code",
   "execution_count": 2,
   "id": "7322529d",
   "metadata": {},
   "outputs": [],
   "source": [
    "import pandas as pd\n",
    "import numpy as np\n",
    "import matplotlib.pyplot as plt"
   ]
  },
  {
   "cell_type": "code",
   "execution_count": 3,
   "id": "19a107d9",
   "metadata": {},
   "outputs": [
    {
     "name": "stdout",
     "output_type": "stream",
     "text": [
      "                   A         B         C         D         E         F\n",
      "2023-01-01 -1.570710 -0.518359 -1.221928  0.553699 -0.885554 -0.866201\n",
      "2023-01-02  0.437732 -0.113313  0.316925 -1.949545 -0.842268 -0.397921\n",
      "2023-01-03  0.027555 -0.616871  0.322856  0.511331 -0.433222 -0.753059\n",
      "2023-01-04 -1.710308 -0.421166 -0.517504 -0.536561 -0.634612 -0.519610\n",
      "2023-01-05 -1.092412  0.567721  0.451634 -3.191867  1.136081  1.213619\n",
      "2023-01-06 -0.755903  0.063867  0.443570  0.040149 -0.335966 -0.303338\n"
     ]
    }
   ],
   "source": [
    "datas=pd.date_range('20230101',periods=6)\n",
    "df=pd.DataFrame(np.random.randn(6,6),index=datas,columns=list('ABCDEF'))\n",
    "print(df)"
   ]
  },
  {
   "cell_type": "code",
   "execution_count": 4,
   "id": "1f81e74f",
   "metadata": {},
   "outputs": [],
   "source": [
    "df2=df.copy()"
   ]
  },
  {
   "cell_type": "code",
   "execution_count": 5,
   "id": "3f303261",
   "metadata": {},
   "outputs": [
    {
     "name": "stdout",
     "output_type": "stream",
     "text": [
      "                   A         B         C         D         E         F\n",
      "2023-01-01 -1.570710 -0.518359 -1.221928  0.553699 -0.885554 -0.866201\n",
      "2023-01-02  0.437732 -0.113313  0.316925 -1.949545 -0.842268 -0.397921\n",
      "2023-01-03  0.027555 -0.616871  0.322856  0.511331 -0.433222 -0.753059\n",
      "2023-01-04 -1.710308 -0.421166 -0.517504 -0.536561 -0.634612 -0.519610\n",
      "2023-01-05 -1.092412  0.567721  0.451634 -3.191867  1.136081  1.213619\n",
      "2023-01-06 -0.755903  0.063867  0.443570  0.040149 -0.335966 -0.303338\n"
     ]
    }
   ],
   "source": [
    "print(df2)"
   ]
  },
  {
   "cell_type": "code",
   "execution_count": 6,
   "id": "03a584fb",
   "metadata": {},
   "outputs": [],
   "source": [
    "df2['E']=['one', 'one', 'two', 'three', 'four', 'three'] # ---- 컬럼 지정, 튜플 수정"
   ]
  },
  {
   "cell_type": "code",
   "execution_count": 7,
   "id": "a34433ac",
   "metadata": {},
   "outputs": [
    {
     "name": "stdout",
     "output_type": "stream",
     "text": [
      "                   A         B         C         D      E         F\n",
      "2023-01-01 -1.570710 -0.518359 -1.221928  0.553699    one -0.866201\n",
      "2023-01-02  0.437732 -0.113313  0.316925 -1.949545    one -0.397921\n",
      "2023-01-03  0.027555 -0.616871  0.322856  0.511331    two -0.753059\n",
      "2023-01-04 -1.710308 -0.421166 -0.517504 -0.536561  three -0.519610\n",
      "2023-01-05 -1.092412  0.567721  0.451634 -3.191867   four  1.213619\n",
      "2023-01-06 -0.755903  0.063867  0.443570  0.040149  three -0.303338\n"
     ]
    }
   ],
   "source": [
    "print(df2)"
   ]
  },
  {
   "cell_type": "code",
   "execution_count": 13,
   "id": "fdca1459",
   "metadata": {},
   "outputs": [],
   "source": [
    "df2['G']=[1,2,3,4,5,6] # ---- 컬럼 생성, 내용 삽입. 행 갯수에 맞춰서 넣어야."
   ]
  },
  {
   "cell_type": "code",
   "execution_count": 14,
   "id": "e8c11cc7",
   "metadata": {},
   "outputs": [
    {
     "name": "stdout",
     "output_type": "stream",
     "text": [
      "                   A         B         C         D         E         F\n",
      "2023-01-01 -1.570710 -0.518359 -1.221928  0.553699 -0.885554 -0.866201\n",
      "2023-01-02  0.437732 -0.113313  0.316925 -1.949545 -0.842268 -0.397921\n",
      "2023-01-03  0.027555 -0.616871  0.322856  0.511331 -0.433222 -0.753059\n",
      "2023-01-04 -1.710308 -0.421166 -0.517504 -0.536561 -0.634612 -0.519610\n",
      "2023-01-05 -1.092412  0.567721  0.451634 -3.191867  1.136081  1.213619\n",
      "2023-01-06 -0.755903  0.063867  0.443570  0.040149 -0.335966 -0.303338\n",
      "                   A         B         C         D      E         F  G\n",
      "2023-01-01 -1.570710 -0.518359 -1.221928  0.553699    one -0.866201  1\n",
      "2023-01-02  0.437732 -0.113313  0.316925 -1.949545    one -0.397921  2\n",
      "2023-01-03  0.027555 -0.616871  0.322856  0.511331    two -0.753059  3\n",
      "2023-01-04 -1.710308 -0.421166 -0.517504 -0.536561  three -0.519610  4\n",
      "2023-01-05 -1.092412  0.567721  0.451634 -3.191867   four  1.213619  5\n",
      "2023-01-06 -0.755903  0.063867  0.443570  0.040149  three -0.303338  6\n"
     ]
    }
   ],
   "source": [
    "print(df) # ----------- 원본은 그대로 유지\n",
    "print(df2)"
   ]
  },
  {
   "cell_type": "code",
   "execution_count": 16,
   "id": "f14cdf40",
   "metadata": {},
   "outputs": [
    {
     "name": "stdout",
     "output_type": "stream",
     "text": [
      "                   A         B         C         D    E         F  G\n",
      "2023-01-02  0.437732 -0.113313  0.316925 -1.949545  one -0.397921  2\n",
      "2023-01-03  0.027555 -0.616871  0.322856  0.511331  two -0.753059  3\n"
     ]
    }
   ],
   "source": [
    "print(df2[df.A>0]) # --------- A열에 대한 조건식"
   ]
  },
  {
   "cell_type": "code",
   "execution_count": 26,
   "id": "99afc1a1",
   "metadata": {},
   "outputs": [
    {
     "name": "stdout",
     "output_type": "stream",
     "text": [
      "             A         B   C         D     E         F   G\n",
      "2023-01-01 NaN       NaN NaN  0.553699   NaN       NaN NaN\n",
      "2023-01-02 NaN       NaN NaN       NaN   NaN       NaN NaN\n",
      "2023-01-03 NaN       NaN NaN  0.511331   NaN       NaN NaN\n",
      "2023-01-04 NaN       NaN NaN       NaN   NaN       NaN NaN\n",
      "2023-01-05 NaN  0.567721 NaN       NaN  four  1.213619 NaN\n",
      "2023-01-06 NaN       NaN NaN       NaN   NaN       NaN NaN\n"
     ]
    }
   ],
   "source": [
    "print(df2[df>0.5]) # --------- 전체에 대한 조건식"
   ]
  },
  {
   "cell_type": "code",
   "execution_count": 24,
   "id": "42eb0574",
   "metadata": {},
   "outputs": [
    {
     "name": "stdout",
     "output_type": "stream",
     "text": [
      "2023-01-03      two\n",
      "2023-01-05     four\n",
      "2023-01-06    three\n",
      "Name: E, dtype: object\n"
     ]
    }
   ],
   "source": [
    "print(df2[df.E>-0.6].loc[:,'E'])"
   ]
  },
  {
   "cell_type": "code",
   "execution_count": 28,
   "id": "0859ac76",
   "metadata": {},
   "outputs": [
    {
     "name": "stdout",
     "output_type": "stream",
     "text": [
      "2023-01-01      one\n",
      "2023-01-02      one\n",
      "2023-01-03      two\n",
      "2023-01-04    three\n",
      "2023-01-05     four\n",
      "2023-01-06    three\n",
      "Freq: D, Name: E, dtype: object\n"
     ]
    }
   ],
   "source": [
    "print(df2.E)"
   ]
  },
  {
   "cell_type": "code",
   "execution_count": 29,
   "id": "2fd1521b",
   "metadata": {},
   "outputs": [
    {
     "name": "stdout",
     "output_type": "stream",
     "text": [
      "                   A         B         C         D    E         F  G\n",
      "2023-01-01 -1.570710 -0.518359 -1.221928  0.553699  one -0.866201  1\n",
      "2023-01-02  0.437732 -0.113313  0.316925 -1.949545  one -0.397921  2\n"
     ]
    }
   ],
   "source": [
    "print(df2[(df2.E=='one')])"
   ]
  },
  {
   "cell_type": "code",
   "execution_count": 30,
   "id": "17977d76",
   "metadata": {},
   "outputs": [
    {
     "name": "stdout",
     "output_type": "stream",
     "text": [
      "                   A         B         C         D      E         F  G\n",
      "2023-01-03  0.027555 -0.616871  0.322856  0.511331    two -0.753059  3\n",
      "2023-01-04 -1.710308 -0.421166 -0.517504 -0.536561  three -0.519610  4\n",
      "2023-01-05 -1.092412  0.567721  0.451634 -3.191867   four  1.213619  5\n",
      "2023-01-06 -0.755903  0.063867  0.443570  0.040149  three -0.303338  6\n"
     ]
    }
   ],
   "source": [
    "print(df2[(df2.E!='one')])"
   ]
  },
  {
   "cell_type": "code",
   "execution_count": 31,
   "id": "cdf82e6f",
   "metadata": {},
   "outputs": [
    {
     "name": "stdout",
     "output_type": "stream",
     "text": [
      "                   A         B         C         D    E         F  G\n",
      "2023-01-01 -1.570710 -0.518359 -1.221928  0.553699  one -0.866201  1\n",
      "2023-01-02  0.437732 -0.113313  0.316925 -1.949545  one -0.397921  2\n"
     ]
    }
   ],
   "source": [
    "print(df2[~(df2.E!='one')]) # -------- 이중부정"
   ]
  },
  {
   "cell_type": "code",
   "execution_count": 36,
   "id": "af2b8f21",
   "metadata": {},
   "outputs": [
    {
     "name": "stdout",
     "output_type": "stream",
     "text": [
      "                   A         B         C         D      E         F  G\n",
      "2023-01-01 -1.570710 -0.518359 -1.221928  0.553699    one -0.866201  1\n",
      "2023-01-02  0.437732 -0.113313  0.316925 -1.949545    one -0.397921  2\n",
      "2023-01-03  0.027555 -0.616871  0.322856  0.511331    two -0.753059  3\n",
      "2023-01-04 -1.710308 -0.421166 -0.517504 -0.536561  three -0.519610  4\n",
      "2023-01-05 -1.092412  0.567721  0.451634 -3.191867   four  1.213619  5\n",
      "2023-01-06 -0.755903  0.063867  0.443570  0.040149  three -0.303338  6\n",
      "                   A         B         C         D      E         F  G\n",
      "2023-01-05 -1.092412  0.567721  0.451634 -3.191867   four  1.213619  5\n",
      "2023-01-06 -0.755903  0.063867  0.443570  0.040149  three -0.303338  6\n",
      "                   A         B         C         D      E         F  G\n",
      "2023-01-01 -1.570710 -0.518359 -1.221928  0.553699    one -0.866201  1\n",
      "2023-01-02  0.437732 -0.113313  0.316925 -1.949545    one -0.397921  2\n",
      "2023-01-03  0.027555 -0.616871  0.322856  0.511331    two -0.753059  3\n",
      "2023-01-04 -1.710308 -0.421166 -0.517504 -0.536561  three -0.519610  4\n",
      "2023-01-05 -1.092412  0.567721  0.451634 -3.191867   four  1.213619  5\n",
      "2023-01-06 -0.755903  0.063867  0.443570  0.040149  three -0.303338  6\n"
     ]
    }
   ],
   "source": [
    "print(df2)\n",
    "print(df2[df2.C>0.4])\n",
    "print(df2[(df2.C>0.4) | (df2.A<0.8)])"
   ]
  },
  {
   "cell_type": "code",
   "execution_count": 51,
   "id": "8c080996",
   "metadata": {},
   "outputs": [
    {
     "name": "stdout",
     "output_type": "stream",
     "text": [
      "                   A         B         C         D    E         F  G\n",
      "2023-01-01 -1.570710 -0.518359 -1.221928  0.553699  one -0.866201  1\n",
      "2023-01-02  0.437732 -0.113313  0.316925 -1.949545  one -0.397921  2\n"
     ]
    }
   ],
   "source": [
    "print(df2[df2['E'].isin(['one'])])"
   ]
  },
  {
   "cell_type": "code",
   "execution_count": 55,
   "id": "34fec191",
   "metadata": {},
   "outputs": [
    {
     "name": "stdout",
     "output_type": "stream",
     "text": [
      "                   A         B         C         D      E         F  G\n",
      "2023-01-02  0.437732 -0.113313  0.316925 -1.949545    one -0.397921  2\n",
      "2023-01-06 -0.755903  0.063867  0.443570  0.040149  three -0.303338  6\n"
     ]
    }
   ],
   "source": [
    "print(df2[df2['F'].between(-0.5, 0.5)])"
   ]
  },
  {
   "cell_type": "code",
   "execution_count": null,
   "id": "3a900dc6",
   "metadata": {},
   "outputs": [],
   "source": []
  },
  {
   "cell_type": "code",
   "execution_count": null,
   "id": "ceaa4686",
   "metadata": {},
   "outputs": [],
   "source": []
  },
  {
   "cell_type": "code",
   "execution_count": null,
   "id": "047bb394",
   "metadata": {},
   "outputs": [],
   "source": []
  }
 ],
 "metadata": {
  "kernelspec": {
   "display_name": "Python 3 (ipykernel)",
   "language": "python",
   "name": "python3"
  },
  "language_info": {
   "codemirror_mode": {
    "name": "ipython",
    "version": 3
   },
   "file_extension": ".py",
   "mimetype": "text/x-python",
   "name": "python",
   "nbconvert_exporter": "python",
   "pygments_lexer": "ipython3",
   "version": "3.9.13"
  }
 },
 "nbformat": 4,
 "nbformat_minor": 5
}
