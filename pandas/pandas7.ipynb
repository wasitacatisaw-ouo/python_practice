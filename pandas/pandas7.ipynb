{
 "cells": [
  {
   "cell_type": "markdown",
   "id": "a71691dd",
   "metadata": {},
   "source": [
    "#  *PandasText"
   ]
  },
  {
   "cell_type": "code",
   "execution_count": 1,
   "id": "d88bcea7",
   "metadata": {},
   "outputs": [],
   "source": [
    "import pandas as pd\n",
    "import numpy as np\n"
   ]
  },
  {
   "cell_type": "code",
   "execution_count": null,
   "id": "6be029f5",
   "metadata": {},
   "outputs": [],
   "source": [
    "s = pd.Series(['A', 'B', 'C', 'Aaba', 'Baca', np.nan, 'CABA', 'dog', 'cat']) # ------- 문자열 data"
   ]
  },
  {
   "cell_type": "code",
   "execution_count": null,
   "id": "d3e60e52",
   "metadata": {},
   "outputs": [],
   "source": [
    "print(s)"
   ]
  },
  {
   "cell_type": "code",
   "execution_count": null,
   "id": "95631749",
   "metadata": {},
   "outputs": [],
   "source": [
    "print(s,type(s))"
   ]
  },
  {
   "cell_type": "code",
   "execution_count": null,
   "id": "47dd8890",
   "metadata": {},
   "outputs": [],
   "source": [
    "print(s.str,type(s.str)) # ------- str은 StringMethods object"
   ]
  },
  {
   "cell_type": "code",
   "execution_count": null,
   "id": "f2a9a6fd",
   "metadata": {},
   "outputs": [],
   "source": [
    "print(s.str.lower())"
   ]
  },
  {
   "cell_type": "code",
   "execution_count": null,
   "id": "3e7d77a9",
   "metadata": {},
   "outputs": [],
   "source": [
    "s.str.lower()"
   ]
  },
  {
   "cell_type": "code",
   "execution_count": null,
   "id": "8a291901",
   "metadata": {},
   "outputs": [],
   "source": [
    "s=s.str.lower() # ------- 소문자 \n",
    "print(s)"
   ]
  },
  {
   "cell_type": "code",
   "execution_count": null,
   "id": "fa192a77",
   "metadata": {},
   "outputs": [],
   "source": [
    "print(s.str.upper()) # ------- 대문자 "
   ]
  },
  {
   "cell_type": "code",
   "execution_count": null,
   "id": "81853f89",
   "metadata": {},
   "outputs": [],
   "source": [
    "print(s)\n",
    "print(s.str.len())"
   ]
  },
  {
   "cell_type": "code",
   "execution_count": 2,
   "id": "88b21596",
   "metadata": {},
   "outputs": [
    {
     "data": {
      "text/plain": [
       "Index(['   jack', ' or acle ', ' Spring', 'python'], dtype='object')"
      ]
     },
     "execution_count": 2,
     "metadata": {},
     "output_type": "execute_result"
    }
   ],
   "source": [
    "idx=pd.Index(['   jack',' or acle ',' Spring','python'])\n",
    "idx"
   ]
  },
  {
   "cell_type": "code",
   "execution_count": 3,
   "id": "20e50f89",
   "metadata": {},
   "outputs": [
    {
     "name": "stdout",
     "output_type": "stream",
     "text": [
      "Index(['jack', 'or acle', 'Spring', 'python'], dtype='object')\n"
     ]
    }
   ],
   "source": [
    "print(idx.str.strip()) # ------- 좌우 공백제거 "
   ]
  },
  {
   "cell_type": "code",
   "execution_count": 4,
   "id": "073e16b9",
   "metadata": {},
   "outputs": [
    {
     "name": "stdout",
     "output_type": "stream",
     "text": [
      "Index(['jack', 'or acle ', 'Spring', 'python'], dtype='object')\n"
     ]
    }
   ],
   "source": [
    "print(idx.str.lstrip()) # ------- 좌 공백제거 "
   ]
  },
  {
   "cell_type": "code",
   "execution_count": 5,
   "id": "d13705a0",
   "metadata": {},
   "outputs": [
    {
     "name": "stdout",
     "output_type": "stream",
     "text": [
      "Index(['   jack', ' or acle', ' Spring', 'python'], dtype='object')\n"
     ]
    }
   ],
   "source": [
    "print(idx.str.rstrip()) # ------- 오른쪽  공백제거 "
   ]
  },
  {
   "cell_type": "code",
   "execution_count": 17,
   "id": "8321f592",
   "metadata": {},
   "outputs": [],
   "source": [
    "s2 = pd.Series(['a_b_c', 'c_d_e', np.nan, 'f_g_h'])\n"
   ]
  },
  {
   "cell_type": "code",
   "execution_count": 19,
   "id": "9fea61ee",
   "metadata": {},
   "outputs": [
    {
     "name": "stdout",
     "output_type": "stream",
     "text": [
      "0    [a, b, c]\n",
      "1    [c, d, e]\n",
      "2          NaN\n",
      "3    [f, g, h]\n",
      "dtype: object\n"
     ]
    }
   ],
   "source": [
    "print(s2.str.split('_')) # ------- 특정문자열 구분자를 통해서 리스트화 "
   ]
  },
  {
   "cell_type": "code",
   "execution_count": 22,
   "id": "8ff04e5a",
   "metadata": {},
   "outputs": [
    {
     "name": "stdout",
     "output_type": "stream",
     "text": [
      "0      a\n",
      "1      c\n",
      "2    NaN\n",
      "3      f\n",
      "dtype: object\n"
     ]
    }
   ],
   "source": [
    "print(s2.str.split('_').str.get(0))"
   ]
  },
  {
   "cell_type": "code",
   "execution_count": 23,
   "id": "caeeccad",
   "metadata": {},
   "outputs": [
    {
     "name": "stdout",
     "output_type": "stream",
     "text": [
      "0      b\n",
      "1      d\n",
      "2    NaN\n",
      "3      g\n",
      "dtype: object\n"
     ]
    }
   ],
   "source": [
    "print(s2.str.split('_').str.get(1))"
   ]
  },
  {
   "cell_type": "code",
   "execution_count": 24,
   "id": "8506ecdd",
   "metadata": {},
   "outputs": [
    {
     "name": "stdout",
     "output_type": "stream",
     "text": [
      "0      c\n",
      "1      e\n",
      "2    NaN\n",
      "3      h\n",
      "dtype: object\n"
     ]
    }
   ],
   "source": [
    "print(s2.str.split('_').str.get(2))"
   ]
  },
  {
   "cell_type": "code",
   "execution_count": 26,
   "id": "75a4a1a4",
   "metadata": {},
   "outputs": [
    {
     "name": "stdout",
     "output_type": "stream",
     "text": [
      "0      c\n",
      "1      e\n",
      "2    NaN\n",
      "3      h\n",
      "dtype: object\n"
     ]
    }
   ],
   "source": [
    "print(s2.str.split('_').str[2])"
   ]
  },
  {
   "cell_type": "code",
   "execution_count": 34,
   "id": "e143f3bd",
   "metadata": {},
   "outputs": [
    {
     "name": "stdout",
     "output_type": "stream",
     "text": [
      "     0    1    2\n",
      "0    a    b    c\n",
      "1    c    d    e\n",
      "2  NaN  NaN  NaN\n",
      "3    f    g    h <class 'pandas.core.frame.DataFrame'>\n"
     ]
    }
   ],
   "source": [
    "# ------- 2차원 매트릭스 확장\n",
    "sm=s2.str.split('_',expand=True)\n",
    "print(sm,type(sm))"
   ]
  },
  {
   "cell_type": "code",
   "execution_count": 39,
   "id": "7df1c668",
   "metadata": {},
   "outputs": [
    {
     "name": "stdout",
     "output_type": "stream",
     "text": [
      "     0    1\n",
      "0    a  b_c\n",
      "1    c  d_e\n",
      "2  NaN  NaN\n",
      "3    f  g_h\n"
     ]
    }
   ],
   "source": [
    "# ------- 2차원 매트릭스 확장\n",
    "sm=s2.str.split('_',expand=True,n=1) # ------- 위 기능에서 해당 열 index까지 출력 \n",
    "print(sm)"
   ]
  },
  {
   "cell_type": "code",
   "execution_count": 45,
   "id": "a5b2588c",
   "metadata": {},
   "outputs": [
    {
     "data": {
      "text/plain": [
       "0      j#ava\n",
       "1    pytho#n\n",
       "2    pan#das\n",
       "3      numpy\n",
       "dtype: object"
      ]
     },
     "execution_count": 45,
     "metadata": {},
     "output_type": "execute_result"
    }
   ],
   "source": [
    "svalue=pd.Series(['j ava','pytho n',' pan das ','numpy'])\n",
    "svalue.str.lstrip().str.rstrip().str.replace(' ','#')"
   ]
  },
  {
   "cell_type": "code",
   "execution_count": 47,
   "id": "8848bbad",
   "metadata": {},
   "outputs": [
    {
     "name": "stdout",
     "output_type": "stream",
     "text": [
      "0    a\n",
      "1    b\n",
      "2    c\n",
      "3    d\n",
      "dtype: object\n"
     ]
    }
   ],
   "source": [
    "s = pd.Series(['a', 'b', 'c', 'd'])\n",
    "print(s)"
   ]
  },
  {
   "cell_type": "code",
   "execution_count": 49,
   "id": "1dfb3bbb",
   "metadata": {},
   "outputs": [
    {
     "name": "stdout",
     "output_type": "stream",
     "text": [
      "a,b,c,d\n"
     ]
    }
   ],
   "source": [
    "print(s.str.cat(sep=','))"
   ]
  },
  {
   "cell_type": "code",
   "execution_count": 50,
   "id": "7633ecda",
   "metadata": {},
   "outputs": [
    {
     "name": "stdout",
     "output_type": "stream",
     "text": [
      "abcd\n"
     ]
    }
   ],
   "source": [
    "print(s.str.cat())"
   ]
  },
  {
   "cell_type": "code",
   "execution_count": 53,
   "id": "33f20122",
   "metadata": {},
   "outputs": [
    {
     "name": "stdout",
     "output_type": "stream",
     "text": [
      "0      a\n",
      "1      b\n",
      "2    NaN\n",
      "3      d\n",
      "dtype: object\n"
     ]
    }
   ],
   "source": [
    "t = pd.Series(['a', 'b', np.nan, 'd'])\n",
    "print(t)"
   ]
  },
  {
   "cell_type": "code",
   "execution_count": 55,
   "id": "52b1651c",
   "metadata": {},
   "outputs": [
    {
     "name": "stdout",
     "output_type": "stream",
     "text": [
      "a,b,-,d\n"
     ]
    }
   ],
   "source": [
    "print(t.str.cat(sep=',',na_rep='-'))"
   ]
  },
  {
   "cell_type": "code",
   "execution_count": 60,
   "id": "9616a2dd",
   "metadata": {},
   "outputs": [
    {
     "name": "stdout",
     "output_type": "stream",
     "text": [
      "<class 'pandas.core.series.Series'>\n"
     ]
    }
   ],
   "source": [
    "print(type((s.str.cat(['A', 'B', 'C', 'D'])).str.cat(['kkk','qqq','ttt','ooo'])))"
   ]
  },
  {
   "cell_type": "code",
   "execution_count": 61,
   "id": "57e503cd",
   "metadata": {},
   "outputs": [
    {
     "name": "stdout",
     "output_type": "stream",
     "text": [
      "0    aAkkk\n",
      "1    bBqqq\n",
      "2    cCttt\n",
      "3    dDooo\n",
      "dtype: object\n"
     ]
    }
   ],
   "source": [
    "print((s.str.cat(['A', 'B', 'C', 'D'])).str.cat(['kkk','qqq','ttt','ooo']))"
   ]
  },
  {
   "cell_type": "code",
   "execution_count": null,
   "id": "e15de061",
   "metadata": {},
   "outputs": [],
   "source": []
  },
  {
   "cell_type": "code",
   "execution_count": null,
   "id": "860d7e75",
   "metadata": {},
   "outputs": [],
   "source": []
  },
  {
   "cell_type": "code",
   "execution_count": null,
   "id": "2ea97708",
   "metadata": {},
   "outputs": [],
   "source": []
  },
  {
   "cell_type": "code",
   "execution_count": null,
   "id": "1278926f",
   "metadata": {},
   "outputs": [],
   "source": []
  },
  {
   "cell_type": "code",
   "execution_count": null,
   "id": "a8df646e",
   "metadata": {},
   "outputs": [],
   "source": []
  }
 ],
 "metadata": {
  "kernelspec": {
   "display_name": "Python 3 (ipykernel)",
   "language": "python",
   "name": "python3"
  },
  "language_info": {
   "codemirror_mode": {
    "name": "ipython",
    "version": 3
   },
   "file_extension": ".py",
   "mimetype": "text/x-python",
   "name": "python",
   "nbconvert_exporter": "python",
   "pygments_lexer": "ipython3",
   "version": "3.9.13"
  }
 },
 "nbformat": 4,
 "nbformat_minor": 5
}
