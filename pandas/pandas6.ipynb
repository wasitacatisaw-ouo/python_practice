{
 "cells": [
  {
   "cell_type": "markdown",
   "id": "b3282a20",
   "metadata": {},
   "source": [
    "* Pandas"
   ]
  },
  {
   "cell_type": "code",
   "execution_count": 4,
   "id": "017b4581",
   "metadata": {},
   "outputs": [
    {
     "name": "stdout",
     "output_type": "stream",
     "text": [
      "          0         1         2         3\n",
      "0  1.388746 -1.017161 -0.014925  0.492176\n",
      "1 -0.423597  0.754415  1.236846 -1.044993\n",
      "2  1.193181 -0.308999 -0.526328 -0.295312\n",
      "3 -1.495650 -0.939354 -0.879717  1.508003\n",
      "4 -0.117125 -0.570662 -1.348334  0.265956\n",
      "5 -1.899354  0.995826  0.846770 -0.244827\n"
     ]
    }
   ],
   "source": [
    "import pandas as pd\n",
    "import numpy as np\n",
    "df = pd.DataFrame(np.random.randn(6, 4))\n",
    "print(df)"
   ]
  },
  {
   "cell_type": "code",
   "execution_count": 5,
   "id": "05cc6451",
   "metadata": {},
   "outputs": [
    {
     "name": "stdout",
     "output_type": "stream",
     "text": [
      "                   A         B         C         D\n",
      "2016-07-01  1.388746 -1.017161 -0.014925  0.492176\n",
      "2016-07-02 -0.423597  0.754415  1.236846 -1.044993\n",
      "2016-07-03  1.193181 -0.308999 -0.526328 -0.295312\n",
      "2016-07-04 -1.495650 -0.939354 -0.879717  1.508003\n",
      "2016-07-05 -0.117125 -0.570662 -1.348334  0.265956\n",
      "2016-07-06 -1.899354  0.995826  0.846770 -0.244827\n"
     ]
    }
   ],
   "source": [
    "df.columns = ['A', 'B', 'C', 'D']\n",
    "df.index = pd.date_range('20160701', periods=6)\n",
    "print(df)"
   ]
  },
  {
   "cell_type": "code",
   "execution_count": 6,
   "id": "40d09150",
   "metadata": {},
   "outputs": [
    {
     "name": "stdout",
     "output_type": "stream",
     "text": [
      "                   A         B         C         D    F\n",
      "2016-07-01  1.388746 -1.017161 -0.014925  0.492176  1.0\n",
      "2016-07-02 -0.423597  0.754415  1.236846 -1.044993  NaN\n",
      "2016-07-03  1.193181 -0.308999 -0.526328 -0.295312  3.5\n",
      "2016-07-04 -1.495650 -0.939354 -0.879717  1.508003  6.1\n",
      "2016-07-05 -0.117125 -0.570662 -1.348334  0.265956  NaN\n",
      "2016-07-06 -1.899354  0.995826  0.846770 -0.244827  7.0\n"
     ]
    }
   ],
   "source": [
    "df['F'] = [1.0, np.nan, 3.5, 6.1, np.nan, 7.0]\n",
    "print(df)"
   ]
  },
  {
   "cell_type": "code",
   "execution_count": 7,
   "id": "72f7b923",
   "metadata": {},
   "outputs": [
    {
     "name": "stdout",
     "output_type": "stream",
     "text": [
      "                   A         B         C         D    F\n",
      "2016-07-01  1.388746 -1.017161 -0.014925  0.492176  1.0\n",
      "2016-07-03  1.193181 -0.308999 -0.526328 -0.295312  3.5\n",
      "2016-07-04 -1.495650 -0.939354 -0.879717  1.508003  6.1\n",
      "2016-07-06 -1.899354  0.995826  0.846770 -0.244827  7.0\n"
     ]
    }
   ],
   "source": [
    "print(df.dropna(how='any'))"
   ]
  },
  {
   "cell_type": "code",
   "execution_count": 8,
   "id": "961d02b3",
   "metadata": {},
   "outputs": [
    {
     "name": "stdout",
     "output_type": "stream",
     "text": [
      "                   A         B         C         D    F\n",
      "2016-07-01  1.388746 -1.017161 -0.014925  0.492176  1.0\n",
      "2016-07-02 -0.423597  0.754415  1.236846 -1.044993  NaN\n",
      "2016-07-03  1.193181 -0.308999 -0.526328 -0.295312  3.5\n",
      "2016-07-04 -1.495650 -0.939354 -0.879717  1.508003  6.1\n",
      "2016-07-05 -0.117125 -0.570662 -1.348334  0.265956  NaN\n",
      "2016-07-06 -1.899354  0.995826  0.846770 -0.244827  7.0\n"
     ]
    }
   ],
   "source": [
    "print(df) # ------- 원본은 유지 "
   ]
  },
  {
   "cell_type": "code",
   "execution_count": 9,
   "id": "16478f24",
   "metadata": {},
   "outputs": [],
   "source": [
    "df.loc[pd.to_datetime('20160707'), :] = np.NaN"
   ]
  },
  {
   "cell_type": "code",
   "execution_count": 10,
   "id": "afc8576a",
   "metadata": {},
   "outputs": [
    {
     "name": "stdout",
     "output_type": "stream",
     "text": [
      "                   A         B         C         D    F\n",
      "2016-07-01  1.388746 -1.017161 -0.014925  0.492176  1.0\n",
      "2016-07-02 -0.423597  0.754415  1.236846 -1.044993  NaN\n",
      "2016-07-03  1.193181 -0.308999 -0.526328 -0.295312  3.5\n",
      "2016-07-04 -1.495650 -0.939354 -0.879717  1.508003  6.1\n",
      "2016-07-05 -0.117125 -0.570662 -1.348334  0.265956  NaN\n",
      "2016-07-06 -1.899354  0.995826  0.846770 -0.244827  7.0\n",
      "2016-07-07       NaN       NaN       NaN       NaN  NaN\n"
     ]
    }
   ],
   "source": [
    "print(df) "
   ]
  },
  {
   "cell_type": "code",
   "execution_count": 11,
   "id": "f6f42d75",
   "metadata": {},
   "outputs": [
    {
     "name": "stdout",
     "output_type": "stream",
     "text": [
      "                   A         B         C         D    F\n",
      "2016-07-01  1.388746 -1.017161 -0.014925  0.492176  1.0\n",
      "2016-07-03  1.193181 -0.308999 -0.526328 -0.295312  3.5\n",
      "2016-07-04 -1.495650 -0.939354 -0.879717  1.508003  6.1\n",
      "2016-07-06 -1.899354  0.995826  0.846770 -0.244827  7.0\n"
     ]
    }
   ],
   "source": [
    "print(df.dropna(how='any')) #or nan"
   ]
  },
  {
   "cell_type": "code",
   "execution_count": 12,
   "id": "52f48e90",
   "metadata": {},
   "outputs": [
    {
     "name": "stdout",
     "output_type": "stream",
     "text": [
      "                   A         B         C         D    F\n",
      "2016-07-01  1.388746 -1.017161 -0.014925  0.492176  1.0\n",
      "2016-07-02 -0.423597  0.754415  1.236846 -1.044993  NaN\n",
      "2016-07-03  1.193181 -0.308999 -0.526328 -0.295312  3.5\n",
      "2016-07-04 -1.495650 -0.939354 -0.879717  1.508003  6.1\n",
      "2016-07-05 -0.117125 -0.570662 -1.348334  0.265956  NaN\n",
      "2016-07-06 -1.899354  0.995826  0.846770 -0.244827  7.0\n"
     ]
    }
   ],
   "source": [
    "print(df.dropna(how='all'))# and  A,B,C,D ,F 모두 NAN"
   ]
  },
  {
   "cell_type": "code",
   "execution_count": 16,
   "id": "6ca51767",
   "metadata": {},
   "outputs": [
    {
     "name": "stdout",
     "output_type": "stream",
     "text": [
      "                   A         B         C         D    F\n",
      "2016-07-01  1.388746 -1.017161 -0.014925  0.492176  1.0\n",
      "2016-07-02 -0.423597  0.754415  1.236846 -1.044993  NaN\n",
      "2016-07-03  1.193181 -0.308999 -0.526328 -0.295312  3.5\n",
      "2016-07-04 -1.495650 -0.939354 -0.879717  1.508003  6.1\n",
      "2016-07-05 -0.117125 -0.570662 -1.348334  0.265956  NaN\n",
      "2016-07-06 -1.899354  0.995826  0.846770 -0.244827  7.0\n",
      "2016-07-07       NaN       NaN       NaN       NaN  NaN\n",
      "                A      B      C      D      F\n",
      "2016-07-01  False  False  False  False  False\n",
      "2016-07-02  False  False  False  False   True\n",
      "2016-07-03  False  False  False  False  False\n",
      "2016-07-04  False  False  False  False  False\n",
      "2016-07-05  False  False  False  False   True\n",
      "2016-07-06  False  False  False  False  False\n",
      "2016-07-07   True   True   True   True   True\n"
     ]
    }
   ],
   "source": [
    "print(df)\n",
    "booldf=df.isna()\n",
    "print(booldf)"
   ]
  },
  {
   "cell_type": "code",
   "execution_count": 17,
   "id": "eb50d876",
   "metadata": {},
   "outputs": [
    {
     "name": "stdout",
     "output_type": "stream",
     "text": [
      "A    1\n",
      "B    1\n",
      "C    1\n",
      "D    1\n",
      "F    3\n",
      "dtype: int64\n"
     ]
    }
   ],
   "source": [
    "# ------- nan 개수 표시하기\n",
    "print(df.isna().sum())"
   ]
  },
  {
   "cell_type": "code",
   "execution_count": 18,
   "id": "018d35f0",
   "metadata": {},
   "outputs": [
    {
     "name": "stdout",
     "output_type": "stream",
     "text": [
      "                   A         B         C         D    F\n",
      "2016-07-01  1.388746 -1.017161 -0.014925  0.492176  1.0\n",
      "2016-07-02 -0.423597  0.754415  1.236846 -1.044993  NaN\n",
      "2016-07-03  1.193181 -0.308999 -0.526328 -0.295312  3.5\n",
      "2016-07-04 -1.495650 -0.939354 -0.879717  1.508003  6.1\n",
      "2016-07-05 -0.117125 -0.570662 -1.348334  0.265956  NaN\n",
      "2016-07-06 -1.899354  0.995826  0.846770 -0.244827  7.0\n",
      "2016-07-07       NaN       NaN       NaN       NaN  NaN\n"
     ]
    }
   ],
   "source": [
    "print(df)"
   ]
  },
  {
   "cell_type": "code",
   "execution_count": 19,
   "id": "7db8a145",
   "metadata": {},
   "outputs": [
    {
     "data": {
      "text/html": [
       "<div>\n",
       "<style scoped>\n",
       "    .dataframe tbody tr th:only-of-type {\n",
       "        vertical-align: middle;\n",
       "    }\n",
       "\n",
       "    .dataframe tbody tr th {\n",
       "        vertical-align: top;\n",
       "    }\n",
       "\n",
       "    .dataframe thead th {\n",
       "        text-align: right;\n",
       "    }\n",
       "</style>\n",
       "<table border=\"1\" class=\"dataframe\">\n",
       "  <thead>\n",
       "    <tr style=\"text-align: right;\">\n",
       "      <th></th>\n",
       "      <th>A</th>\n",
       "      <th>B</th>\n",
       "      <th>C</th>\n",
       "      <th>D</th>\n",
       "      <th>F</th>\n",
       "    </tr>\n",
       "  </thead>\n",
       "  <tbody>\n",
       "    <tr>\n",
       "      <th>2016-07-01</th>\n",
       "      <td>1.388746</td>\n",
       "      <td>-1.017161</td>\n",
       "      <td>-0.014925</td>\n",
       "      <td>0.492176</td>\n",
       "      <td>1.0</td>\n",
       "    </tr>\n",
       "    <tr>\n",
       "      <th>2016-07-02</th>\n",
       "      <td>-0.423597</td>\n",
       "      <td>0.754415</td>\n",
       "      <td>1.236846</td>\n",
       "      <td>-1.044993</td>\n",
       "      <td>0.0</td>\n",
       "    </tr>\n",
       "    <tr>\n",
       "      <th>2016-07-03</th>\n",
       "      <td>1.193181</td>\n",
       "      <td>-0.308999</td>\n",
       "      <td>-0.526328</td>\n",
       "      <td>-0.295312</td>\n",
       "      <td>3.5</td>\n",
       "    </tr>\n",
       "    <tr>\n",
       "      <th>2016-07-04</th>\n",
       "      <td>-1.495650</td>\n",
       "      <td>-0.939354</td>\n",
       "      <td>-0.879717</td>\n",
       "      <td>1.508003</td>\n",
       "      <td>6.1</td>\n",
       "    </tr>\n",
       "    <tr>\n",
       "      <th>2016-07-05</th>\n",
       "      <td>-0.117125</td>\n",
       "      <td>-0.570662</td>\n",
       "      <td>-1.348334</td>\n",
       "      <td>0.265956</td>\n",
       "      <td>0.0</td>\n",
       "    </tr>\n",
       "    <tr>\n",
       "      <th>2016-07-06</th>\n",
       "      <td>-1.899354</td>\n",
       "      <td>0.995826</td>\n",
       "      <td>0.846770</td>\n",
       "      <td>-0.244827</td>\n",
       "      <td>7.0</td>\n",
       "    </tr>\n",
       "    <tr>\n",
       "      <th>2016-07-07</th>\n",
       "      <td>0.000000</td>\n",
       "      <td>0.000000</td>\n",
       "      <td>0.000000</td>\n",
       "      <td>0.000000</td>\n",
       "      <td>0.0</td>\n",
       "    </tr>\n",
       "  </tbody>\n",
       "</table>\n",
       "</div>"
      ],
      "text/plain": [
       "                   A         B         C         D    F\n",
       "2016-07-01  1.388746 -1.017161 -0.014925  0.492176  1.0\n",
       "2016-07-02 -0.423597  0.754415  1.236846 -1.044993  0.0\n",
       "2016-07-03  1.193181 -0.308999 -0.526328 -0.295312  3.5\n",
       "2016-07-04 -1.495650 -0.939354 -0.879717  1.508003  6.1\n",
       "2016-07-05 -0.117125 -0.570662 -1.348334  0.265956  0.0\n",
       "2016-07-06 -1.899354  0.995826  0.846770 -0.244827  7.0\n",
       "2016-07-07  0.000000  0.000000  0.000000  0.000000  0.0"
      ]
     },
     "execution_count": 19,
     "metadata": {},
     "output_type": "execute_result"
    }
   ],
   "source": [
    "df.fillna(value=0) # ------- nan를 o으로 채워라.."
   ]
  },
  {
   "cell_type": "code",
   "execution_count": 20,
   "id": "26648a62",
   "metadata": {},
   "outputs": [
    {
     "name": "stdout",
     "output_type": "stream",
     "text": [
      "                   A         B         C         D   F\n",
      "2016-07-02 -0.423597  0.754415  1.236846 -1.044993 NaN\n",
      "2016-07-05 -0.117125 -0.570662 -1.348334  0.265956 NaN\n",
      "2016-07-07       NaN       NaN       NaN       NaN NaN\n"
     ]
    }
   ],
   "source": [
    "print(df.loc[df.isnull()['F'], :]) # ------- F열에서 NAN값을 포함하는 행만 추출하기 "
   ]
  },
  {
   "cell_type": "code",
   "execution_count": 21,
   "id": "0dbf0240",
   "metadata": {},
   "outputs": [
    {
     "data": {
      "text/html": [
       "<div>\n",
       "<style scoped>\n",
       "    .dataframe tbody tr th:only-of-type {\n",
       "        vertical-align: middle;\n",
       "    }\n",
       "\n",
       "    .dataframe tbody tr th {\n",
       "        vertical-align: top;\n",
       "    }\n",
       "\n",
       "    .dataframe thead th {\n",
       "        text-align: right;\n",
       "    }\n",
       "</style>\n",
       "<table border=\"1\" class=\"dataframe\">\n",
       "  <thead>\n",
       "    <tr style=\"text-align: right;\">\n",
       "      <th></th>\n",
       "      <th>A</th>\n",
       "      <th>B</th>\n",
       "      <th>C</th>\n",
       "      <th>D</th>\n",
       "      <th>F</th>\n",
       "    </tr>\n",
       "  </thead>\n",
       "  <tbody>\n",
       "    <tr>\n",
       "      <th>2016-07-01</th>\n",
       "      <td>1.388746</td>\n",
       "      <td>-1.017161</td>\n",
       "      <td>-0.014925</td>\n",
       "      <td>0.492176</td>\n",
       "      <td>1.0</td>\n",
       "    </tr>\n",
       "    <tr>\n",
       "      <th>2016-07-02</th>\n",
       "      <td>-0.423597</td>\n",
       "      <td>0.754415</td>\n",
       "      <td>1.236846</td>\n",
       "      <td>-1.044993</td>\n",
       "      <td>NaN</td>\n",
       "    </tr>\n",
       "    <tr>\n",
       "      <th>2016-07-03</th>\n",
       "      <td>1.193181</td>\n",
       "      <td>-0.308999</td>\n",
       "      <td>-0.526328</td>\n",
       "      <td>-0.295312</td>\n",
       "      <td>3.5</td>\n",
       "    </tr>\n",
       "    <tr>\n",
       "      <th>2016-07-04</th>\n",
       "      <td>-1.495650</td>\n",
       "      <td>-0.939354</td>\n",
       "      <td>-0.879717</td>\n",
       "      <td>1.508003</td>\n",
       "      <td>6.1</td>\n",
       "    </tr>\n",
       "    <tr>\n",
       "      <th>2016-07-05</th>\n",
       "      <td>-0.117125</td>\n",
       "      <td>-0.570662</td>\n",
       "      <td>-1.348334</td>\n",
       "      <td>0.265956</td>\n",
       "      <td>NaN</td>\n",
       "    </tr>\n",
       "    <tr>\n",
       "      <th>2016-07-06</th>\n",
       "      <td>-1.899354</td>\n",
       "      <td>0.995826</td>\n",
       "      <td>0.846770</td>\n",
       "      <td>-0.244827</td>\n",
       "      <td>7.0</td>\n",
       "    </tr>\n",
       "    <tr>\n",
       "      <th>2016-07-07</th>\n",
       "      <td>NaN</td>\n",
       "      <td>NaN</td>\n",
       "      <td>NaN</td>\n",
       "      <td>NaN</td>\n",
       "      <td>NaN</td>\n",
       "    </tr>\n",
       "  </tbody>\n",
       "</table>\n",
       "</div>"
      ],
      "text/plain": [
       "                   A         B         C         D    F\n",
       "2016-07-01  1.388746 -1.017161 -0.014925  0.492176  1.0\n",
       "2016-07-02 -0.423597  0.754415  1.236846 -1.044993  NaN\n",
       "2016-07-03  1.193181 -0.308999 -0.526328 -0.295312  3.5\n",
       "2016-07-04 -1.495650 -0.939354 -0.879717  1.508003  6.1\n",
       "2016-07-05 -0.117125 -0.570662 -1.348334  0.265956  NaN\n",
       "2016-07-06 -1.899354  0.995826  0.846770 -0.244827  7.0\n",
       "2016-07-07       NaN       NaN       NaN       NaN  NaN"
      ]
     },
     "execution_count": 21,
     "metadata": {},
     "output_type": "execute_result"
    }
   ],
   "source": [
    "df"
   ]
  },
  {
   "cell_type": "code",
   "execution_count": 22,
   "id": "148e2f33",
   "metadata": {},
   "outputs": [
    {
     "data": {
      "text/html": [
       "<div>\n",
       "<style scoped>\n",
       "    .dataframe tbody tr th:only-of-type {\n",
       "        vertical-align: middle;\n",
       "    }\n",
       "\n",
       "    .dataframe tbody tr th {\n",
       "        vertical-align: top;\n",
       "    }\n",
       "\n",
       "    .dataframe thead th {\n",
       "        text-align: right;\n",
       "    }\n",
       "</style>\n",
       "<table border=\"1\" class=\"dataframe\">\n",
       "  <thead>\n",
       "    <tr style=\"text-align: right;\">\n",
       "      <th></th>\n",
       "      <th>A</th>\n",
       "      <th>B</th>\n",
       "      <th>C</th>\n",
       "      <th>D</th>\n",
       "      <th>F</th>\n",
       "    </tr>\n",
       "  </thead>\n",
       "  <tbody>\n",
       "    <tr>\n",
       "      <th>2016-07-01</th>\n",
       "      <td>1.388746</td>\n",
       "      <td>-1.017161</td>\n",
       "      <td>-0.014925</td>\n",
       "      <td>0.492176</td>\n",
       "      <td>1.0</td>\n",
       "    </tr>\n",
       "    <tr>\n",
       "      <th>2016-07-03</th>\n",
       "      <td>1.193181</td>\n",
       "      <td>-0.308999</td>\n",
       "      <td>-0.526328</td>\n",
       "      <td>-0.295312</td>\n",
       "      <td>3.5</td>\n",
       "    </tr>\n",
       "    <tr>\n",
       "      <th>2016-07-04</th>\n",
       "      <td>-1.495650</td>\n",
       "      <td>-0.939354</td>\n",
       "      <td>-0.879717</td>\n",
       "      <td>1.508003</td>\n",
       "      <td>6.1</td>\n",
       "    </tr>\n",
       "    <tr>\n",
       "      <th>2016-07-05</th>\n",
       "      <td>-0.117125</td>\n",
       "      <td>-0.570662</td>\n",
       "      <td>-1.348334</td>\n",
       "      <td>0.265956</td>\n",
       "      <td>NaN</td>\n",
       "    </tr>\n",
       "    <tr>\n",
       "      <th>2016-07-06</th>\n",
       "      <td>-1.899354</td>\n",
       "      <td>0.995826</td>\n",
       "      <td>0.846770</td>\n",
       "      <td>-0.244827</td>\n",
       "      <td>7.0</td>\n",
       "    </tr>\n",
       "    <tr>\n",
       "      <th>2016-07-07</th>\n",
       "      <td>NaN</td>\n",
       "      <td>NaN</td>\n",
       "      <td>NaN</td>\n",
       "      <td>NaN</td>\n",
       "      <td>NaN</td>\n",
       "    </tr>\n",
       "  </tbody>\n",
       "</table>\n",
       "</div>"
      ],
      "text/plain": [
       "                   A         B         C         D    F\n",
       "2016-07-01  1.388746 -1.017161 -0.014925  0.492176  1.0\n",
       "2016-07-03  1.193181 -0.308999 -0.526328 -0.295312  3.5\n",
       "2016-07-04 -1.495650 -0.939354 -0.879717  1.508003  6.1\n",
       "2016-07-05 -0.117125 -0.570662 -1.348334  0.265956  NaN\n",
       "2016-07-06 -1.899354  0.995826  0.846770 -0.244827  7.0\n",
       "2016-07-07       NaN       NaN       NaN       NaN  NaN"
      ]
     },
     "execution_count": 22,
     "metadata": {},
     "output_type": "execute_result"
    }
   ],
   "source": [
    "df.drop(pd.to_datetime('20160702'))"
   ]
  },
  {
   "cell_type": "code",
   "execution_count": 23,
   "id": "161864f2",
   "metadata": {},
   "outputs": [
    {
     "data": {
      "text/html": [
       "<div>\n",
       "<style scoped>\n",
       "    .dataframe tbody tr th:only-of-type {\n",
       "        vertical-align: middle;\n",
       "    }\n",
       "\n",
       "    .dataframe tbody tr th {\n",
       "        vertical-align: top;\n",
       "    }\n",
       "\n",
       "    .dataframe thead th {\n",
       "        text-align: right;\n",
       "    }\n",
       "</style>\n",
       "<table border=\"1\" class=\"dataframe\">\n",
       "  <thead>\n",
       "    <tr style=\"text-align: right;\">\n",
       "      <th></th>\n",
       "      <th>A</th>\n",
       "      <th>B</th>\n",
       "      <th>C</th>\n",
       "      <th>D</th>\n",
       "      <th>F</th>\n",
       "    </tr>\n",
       "  </thead>\n",
       "  <tbody>\n",
       "    <tr>\n",
       "      <th>2016-07-01</th>\n",
       "      <td>1.388746</td>\n",
       "      <td>-1.017161</td>\n",
       "      <td>-0.014925</td>\n",
       "      <td>0.492176</td>\n",
       "      <td>1.0</td>\n",
       "    </tr>\n",
       "    <tr>\n",
       "      <th>2016-07-02</th>\n",
       "      <td>-0.423597</td>\n",
       "      <td>0.754415</td>\n",
       "      <td>1.236846</td>\n",
       "      <td>-1.044993</td>\n",
       "      <td>NaN</td>\n",
       "    </tr>\n",
       "    <tr>\n",
       "      <th>2016-07-03</th>\n",
       "      <td>1.193181</td>\n",
       "      <td>-0.308999</td>\n",
       "      <td>-0.526328</td>\n",
       "      <td>-0.295312</td>\n",
       "      <td>3.5</td>\n",
       "    </tr>\n",
       "    <tr>\n",
       "      <th>2016-07-04</th>\n",
       "      <td>-1.495650</td>\n",
       "      <td>-0.939354</td>\n",
       "      <td>-0.879717</td>\n",
       "      <td>1.508003</td>\n",
       "      <td>6.1</td>\n",
       "    </tr>\n",
       "    <tr>\n",
       "      <th>2016-07-05</th>\n",
       "      <td>-0.117125</td>\n",
       "      <td>-0.570662</td>\n",
       "      <td>-1.348334</td>\n",
       "      <td>0.265956</td>\n",
       "      <td>NaN</td>\n",
       "    </tr>\n",
       "    <tr>\n",
       "      <th>2016-07-06</th>\n",
       "      <td>-1.899354</td>\n",
       "      <td>0.995826</td>\n",
       "      <td>0.846770</td>\n",
       "      <td>-0.244827</td>\n",
       "      <td>7.0</td>\n",
       "    </tr>\n",
       "    <tr>\n",
       "      <th>2016-07-07</th>\n",
       "      <td>NaN</td>\n",
       "      <td>NaN</td>\n",
       "      <td>NaN</td>\n",
       "      <td>NaN</td>\n",
       "      <td>NaN</td>\n",
       "    </tr>\n",
       "  </tbody>\n",
       "</table>\n",
       "</div>"
      ],
      "text/plain": [
       "                   A         B         C         D    F\n",
       "2016-07-01  1.388746 -1.017161 -0.014925  0.492176  1.0\n",
       "2016-07-02 -0.423597  0.754415  1.236846 -1.044993  NaN\n",
       "2016-07-03  1.193181 -0.308999 -0.526328 -0.295312  3.5\n",
       "2016-07-04 -1.495650 -0.939354 -0.879717  1.508003  6.1\n",
       "2016-07-05 -0.117125 -0.570662 -1.348334  0.265956  NaN\n",
       "2016-07-06 -1.899354  0.995826  0.846770 -0.244827  7.0\n",
       "2016-07-07       NaN       NaN       NaN       NaN  NaN"
      ]
     },
     "execution_count": 23,
     "metadata": {},
     "output_type": "execute_result"
    }
   ],
   "source": [
    "df\n"
   ]
  },
  {
   "cell_type": "code",
   "execution_count": 26,
   "id": "41807290",
   "metadata": {},
   "outputs": [
    {
     "data": {
      "text/html": [
       "<div>\n",
       "<style scoped>\n",
       "    .dataframe tbody tr th:only-of-type {\n",
       "        vertical-align: middle;\n",
       "    }\n",
       "\n",
       "    .dataframe tbody tr th {\n",
       "        vertical-align: top;\n",
       "    }\n",
       "\n",
       "    .dataframe thead th {\n",
       "        text-align: right;\n",
       "    }\n",
       "</style>\n",
       "<table border=\"1\" class=\"dataframe\">\n",
       "  <thead>\n",
       "    <tr style=\"text-align: right;\">\n",
       "      <th></th>\n",
       "      <th>A</th>\n",
       "      <th>B</th>\n",
       "      <th>C</th>\n",
       "      <th>D</th>\n",
       "      <th>F</th>\n",
       "    </tr>\n",
       "  </thead>\n",
       "  <tbody>\n",
       "    <tr>\n",
       "      <th>2016-07-01</th>\n",
       "      <td>1.388746</td>\n",
       "      <td>-1.017161</td>\n",
       "      <td>-0.014925</td>\n",
       "      <td>0.492176</td>\n",
       "      <td>1.0</td>\n",
       "    </tr>\n",
       "    <tr>\n",
       "      <th>2016-07-03</th>\n",
       "      <td>1.193181</td>\n",
       "      <td>-0.308999</td>\n",
       "      <td>-0.526328</td>\n",
       "      <td>-0.295312</td>\n",
       "      <td>3.5</td>\n",
       "    </tr>\n",
       "    <tr>\n",
       "      <th>2016-07-04</th>\n",
       "      <td>-1.495650</td>\n",
       "      <td>-0.939354</td>\n",
       "      <td>-0.879717</td>\n",
       "      <td>1.508003</td>\n",
       "      <td>6.1</td>\n",
       "    </tr>\n",
       "    <tr>\n",
       "      <th>2016-07-05</th>\n",
       "      <td>-0.117125</td>\n",
       "      <td>-0.570662</td>\n",
       "      <td>-1.348334</td>\n",
       "      <td>0.265956</td>\n",
       "      <td>NaN</td>\n",
       "    </tr>\n",
       "    <tr>\n",
       "      <th>2016-07-07</th>\n",
       "      <td>NaN</td>\n",
       "      <td>NaN</td>\n",
       "      <td>NaN</td>\n",
       "      <td>NaN</td>\n",
       "      <td>NaN</td>\n",
       "    </tr>\n",
       "  </tbody>\n",
       "</table>\n",
       "</div>"
      ],
      "text/plain": [
       "                   A         B         C         D    F\n",
       "2016-07-01  1.388746 -1.017161 -0.014925  0.492176  1.0\n",
       "2016-07-03  1.193181 -0.308999 -0.526328 -0.295312  3.5\n",
       "2016-07-04 -1.495650 -0.939354 -0.879717  1.508003  6.1\n",
       "2016-07-05 -0.117125 -0.570662 -1.348334  0.265956  NaN\n",
       "2016-07-07       NaN       NaN       NaN       NaN  NaN"
      ]
     },
     "execution_count": 26,
     "metadata": {},
     "output_type": "execute_result"
    }
   ],
   "source": [
    "df.drop([pd.to_datetime('20160702'),pd.to_datetime('20160706')])"
   ]
  },
  {
   "cell_type": "code",
   "execution_count": 27,
   "id": "8912c6c6",
   "metadata": {},
   "outputs": [
    {
     "name": "stdout",
     "output_type": "stream",
     "text": [
      "                   A         B         C         D\n",
      "2016-07-01  1.388746 -1.017161 -0.014925  0.492176\n",
      "2016-07-02 -0.423597  0.754415  1.236846 -1.044993\n",
      "2016-07-03  1.193181 -0.308999 -0.526328 -0.295312\n",
      "2016-07-04 -1.495650 -0.939354 -0.879717  1.508003\n",
      "2016-07-05 -0.117125 -0.570662 -1.348334  0.265956\n",
      "2016-07-06 -1.899354  0.995826  0.846770 -0.244827\n",
      "2016-07-07       NaN       NaN       NaN       NaN\n"
     ]
    }
   ],
   "source": [
    "print(df.drop('F', axis=1))"
   ]
  },
  {
   "cell_type": "code",
   "execution_count": 28,
   "id": "9d891860",
   "metadata": {},
   "outputs": [
    {
     "name": "stdout",
     "output_type": "stream",
     "text": [
      "                   A         C    F\n",
      "2016-07-01  1.388746 -0.014925  1.0\n",
      "2016-07-02 -0.423597  1.236846  NaN\n",
      "2016-07-03  1.193181 -0.526328  3.5\n",
      "2016-07-04 -1.495650 -0.879717  6.1\n",
      "2016-07-05 -0.117125 -1.348334  NaN\n",
      "2016-07-06 -1.899354  0.846770  7.0\n",
      "2016-07-07       NaN       NaN  NaN\n"
     ]
    }
   ],
   "source": [
    "print(df.drop(['B', 'D'], axis=1))"
   ]
  },
  {
   "cell_type": "code",
   "execution_count": 30,
   "id": "b18d6d15",
   "metadata": {},
   "outputs": [
    {
     "name": "stdout",
     "output_type": "stream",
     "text": [
      "                   A         C    F\n",
      "2016-07-01  1.388746 -0.014925  1.0\n",
      "2016-07-02 -0.423597  1.236846  NaN\n",
      "2016-07-03  1.193181 -0.526328  3.5\n",
      "2016-07-04 -1.495650 -0.879717  6.1\n",
      "2016-07-05 -0.117125 -1.348334  NaN\n",
      "2016-07-06 -1.899354  0.846770  7.0\n",
      "2016-07-07       NaN       NaN  NaN\n"
     ]
    }
   ],
   "source": [
    "print(df.drop(['B', 'D'], axis=1))"
   ]
  },
  {
   "cell_type": "code",
   "execution_count": null,
   "id": "8e5e9fb5",
   "metadata": {},
   "outputs": [],
   "source": []
  }
 ],
 "metadata": {
  "kernelspec": {
   "display_name": "Python 3 (ipykernel)",
   "language": "python",
   "name": "python3"
  },
  "language_info": {
   "codemirror_mode": {
    "name": "ipython",
    "version": 3
   },
   "file_extension": ".py",
   "mimetype": "text/x-python",
   "name": "python",
   "nbconvert_exporter": "python",
   "pygments_lexer": "ipython3",
   "version": "3.9.13"
  }
 },
 "nbformat": 4,
 "nbformat_minor": 5
}
