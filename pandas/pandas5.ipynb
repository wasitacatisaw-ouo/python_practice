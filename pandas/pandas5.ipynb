{
 "cells": [
  {
   "cell_type": "markdown",
   "id": "0a826d3b",
   "metadata": {},
   "source": [
    "* pandasSet"
   ]
  },
  {
   "cell_type": "code",
   "execution_count": 24,
   "id": "1001d342",
   "metadata": {},
   "outputs": [],
   "source": [
    "import pandas as pd\n",
    "import numpy as np\n",
    "import matplotlib.pyplot as plt"
   ]
  },
  {
   "cell_type": "code",
   "execution_count": 25,
   "id": "a98de48c",
   "metadata": {},
   "outputs": [
    {
     "name": "stdout",
     "output_type": "stream",
     "text": [
      "{'names': ['java', 'java', 'pandas', 'java', 'python', 'pandas'], 'year': [2022, 2019, 2023, 2021, 2018, 2023], 'counts': [1, 6, 3, 7, 8, 2]}\n"
     ]
    }
   ],
   "source": [
    "data={'names':['java','java','pandas','java','python','pandas'],\n",
    "     'year':[2022, 2019, 2023, 2021, 2018, 2023],\n",
    "     'counts':[1,6,3,7,8,2]}\n",
    "print(data)"
   ]
  },
  {
   "cell_type": "code",
   "execution_count": 26,
   "id": "b0f8aea7",
   "metadata": {},
   "outputs": [
    {
     "name": "stdout",
     "output_type": "stream",
     "text": [
      "Empty DataFrame\n",
      "Columns: []\n",
      "Index: []\n"
     ]
    }
   ],
   "source": [
    "df=pd.DataFrame()\n",
    "print(df)"
   ]
  },
  {
   "cell_type": "code",
   "execution_count": 27,
   "id": "f9832165",
   "metadata": {},
   "outputs": [
    {
     "name": "stdout",
     "output_type": "stream",
     "text": [
      "    names\n",
      "0    java\n",
      "1    java\n",
      "2  pandas\n",
      "3    java\n",
      "4  python\n",
      "5  pandas\n"
     ]
    }
   ],
   "source": [
    "df=pd.DataFrame(data, columns=['names'])\n",
    "print(df)"
   ]
  },
  {
   "cell_type": "code",
   "execution_count": 28,
   "id": "9471a509",
   "metadata": {},
   "outputs": [
    {
     "name": "stdout",
     "output_type": "stream",
     "text": [
      "    names  year  counts\n",
      "0    java  2022       1\n",
      "1    java  2019       6\n",
      "2  pandas  2023       3\n",
      "3    java  2021       7\n",
      "4  python  2018       8\n",
      "5  pandas  2023       2\n"
     ]
    }
   ],
   "source": [
    "df=pd.DataFrame(data, columns=['names', 'year', 'counts'])\n",
    "print(df)"
   ]
  },
  {
   "cell_type": "code",
   "execution_count": 29,
   "id": "2bc943de",
   "metadata": {},
   "outputs": [
    {
     "name": "stdout",
     "output_type": "stream",
     "text": [
      "        names  year  counts\n",
      "one      java  2022       1\n",
      "two      java  2019       6\n",
      "three  pandas  2023       3\n",
      "four     java  2021       7\n",
      "five   python  2018       8\n",
      "six    pandas  2023       2\n"
     ]
    }
   ],
   "source": [
    "df=pd.DataFrame(data, columns=['names', 'year', 'counts'], index=['one', 'two', 'three', 'four', 'five', 'six'])\n",
    "print(df)"
   ]
  },
  {
   "cell_type": "code",
   "execution_count": 33,
   "id": "5d81c391",
   "metadata": {},
   "outputs": [
    {
     "name": "stdout",
     "output_type": "stream",
     "text": [
      "        names  year  counts  increment  zeros\n",
      "one      java  2022       1        0.1      0\n",
      "two      java  2019       6        0.6      1\n",
      "three  pandas  2023       3        0.3      2\n",
      "four     java  2021       7        0.9      3\n",
      "five   python  2018       8        0.2      4\n",
      "six    pandas  2023       2        0.2      5\n"
     ]
    }
   ],
   "source": [
    "df['increment']=0.5\n",
    "df['increment']=[0.1, 0.6, 0.3, 0.9, 0.2, 0.2]\n",
    "print(df)"
   ]
  },
  {
   "cell_type": "code",
   "execution_count": 34,
   "id": "2696bb28",
   "metadata": {},
   "outputs": [
    {
     "name": "stdout",
     "output_type": "stream",
     "text": [
      "        names  year  counts  increment  zeros\n",
      "one      java  2022       1        0.1      0\n",
      "two      java  2019       6        0.6      1\n",
      "three  pandas  2023       3        0.3      2\n",
      "four     java  2021       7        0.9      3\n",
      "five   python  2018       8        0.2      4\n",
      "six    pandas  2023       2        0.2      5\n"
     ]
    }
   ],
   "source": [
    "df['zeros']=np.arange(6)\n",
    "print(df)"
   ]
  },
  {
   "cell_type": "code",
   "execution_count": 44,
   "id": "a00513a4",
   "metadata": {},
   "outputs": [
    {
     "name": "stdout",
     "output_type": "stream",
     "text": [
      "one      1\n",
      "two      3\n",
      "three    5\n",
      "dtype: int64\n",
      "        names  year  counts  increment  zeros  debt  net_cnt  hg_cnt\n",
      "one      java  2022       1        0.1      0   1.0      0.9   False\n",
      "two      java  2019       6        0.6      1   NaN      5.4    True\n",
      "three  pandas  2023       3        0.3      2   3.0      2.7   False\n",
      "four     java  2021       7        0.9      3   NaN      6.1    True\n",
      "five   python  2018       8        0.2      4   5.0      7.8    True\n",
      "six    pandas  2023       2        0.2      5   NaN      1.8   False\n"
     ]
    }
   ],
   "source": [
    "print(pd.Series([1, 3, 5], index=['one', 'two', 'three']))\n",
    "df['debt']=pd.Series([1, 3, 5], index=['one', 'three', 'five'])\n",
    "print(df)"
   ]
  },
  {
   "cell_type": "code",
   "execution_count": 45,
   "id": "814512c8",
   "metadata": {},
   "outputs": [
    {
     "name": "stdout",
     "output_type": "stream",
     "text": [
      "        names  year  counts  increment  zeros  debt  net_cnt  hg_cnt\n",
      "one      java  2022       1        0.1      0   1.0      0.9   False\n",
      "two      java  2019       6        0.6      1   NaN      5.4    True\n",
      "three  pandas  2023       3        0.3      2   3.0      2.7   False\n",
      "four     java  2021       7        0.9      3   NaN      6.1    True\n",
      "five   python  2018       8        0.2      4   5.0      7.8    True\n",
      "six    pandas  2023       2        0.2      5   NaN      1.8   False\n"
     ]
    }
   ],
   "source": [
    "df['net_cnt']=df['counts']-df['increment']\n",
    "print(df)"
   ]
  },
  {
   "cell_type": "code",
   "execution_count": 46,
   "id": "a2d35420",
   "metadata": {},
   "outputs": [
    {
     "name": "stdout",
     "output_type": "stream",
     "text": [
      "        names  year  counts  increment  zeros  debt  net_cnt  hg_cnt\n",
      "one      java  2022       1        0.1      0   1.0      0.9   False\n",
      "two      java  2019       6        0.6      1   NaN      5.4    True\n",
      "three  pandas  2023       3        0.3      2   3.0      2.7   False\n",
      "four     java  2021       7        0.9      3   NaN      6.1    True\n",
      "five   python  2018       8        0.2      4   5.0      7.8    True\n",
      "six    pandas  2023       2        0.2      5   NaN      1.8   False\n"
     ]
    }
   ],
   "source": [
    "df['hg_cnt']=df['net_cnt']>3.0\n",
    "print(df)"
   ]
  },
  {
   "cell_type": "code",
   "execution_count": 47,
   "id": "f6a59990",
   "metadata": {},
   "outputs": [],
   "source": [
    "del df['net_cnt']"
   ]
  },
  {
   "cell_type": "code",
   "execution_count": 48,
   "id": "9accfd6c",
   "metadata": {},
   "outputs": [
    {
     "name": "stdout",
     "output_type": "stream",
     "text": [
      "        names  year  counts  increment  zeros  debt  hg_cnt\n",
      "one      java  2022       1        0.1      0   1.0   False\n",
      "two      java  2019       6        0.6      1   NaN    True\n",
      "three  pandas  2023       3        0.3      2   3.0   False\n",
      "four     java  2021       7        0.9      3   NaN    True\n",
      "five   python  2018       8        0.2      4   5.0    True\n",
      "six    pandas  2023       2        0.2      5   NaN   False\n"
     ]
    }
   ],
   "source": [
    "print(df)"
   ]
  },
  {
   "cell_type": "code",
   "execution_count": 49,
   "id": "01d0be78",
   "metadata": {},
   "outputs": [
    {
     "name": "stdout",
     "output_type": "stream",
     "text": [
      "        names  year  counts  increment  zeros\n",
      "one      java  2022       1        0.1      0\n",
      "two      java  2019       6        0.6      1\n",
      "three  pandas  2023       3        0.3      2\n",
      "four     java  2021       7        0.9      3\n",
      "five   python  2018       8        0.2      4\n",
      "six    pandas  2023       2        0.2      5\n"
     ]
    }
   ],
   "source": [
    "del df['debt']\n",
    "del df['hg_cnt']\n",
    "print(df)"
   ]
  },
  {
   "cell_type": "code",
   "execution_count": 51,
   "id": "881ce822",
   "metadata": {},
   "outputs": [
    {
     "name": "stdout",
     "output_type": "stream",
     "text": [
      "        names  year  counts  increment  zeros\n",
      "one      java  2022       1        0.1      1\n",
      "two      java  2019       6        0.6      1\n",
      "three  pandas  2023       3        0.3      1\n",
      "four     java  2021       7        0.9      1\n",
      "five   python  2018       8        0.2      1\n",
      "six    pandas  2023       2        0.2      1\n"
     ]
    }
   ],
   "source": [
    "df['zeros']=1 # ---------- 열 update\n",
    "print(df)"
   ]
  },
  {
   "cell_type": "code",
   "execution_count": 52,
   "id": "40adcc5a",
   "metadata": {},
   "outputs": [
    {
     "name": "stdout",
     "output_type": "stream",
     "text": [
      "Index(['names', 'year', 'counts', 'increment', 'zeros'], dtype='object')\n"
     ]
    }
   ],
   "source": [
    "print(df.columns)"
   ]
  },
  {
   "cell_type": "code",
   "execution_count": 53,
   "id": "5a4026be",
   "metadata": {},
   "outputs": [
    {
     "name": "stdout",
     "output_type": "stream",
     "text": [
      "        names    year  counts  increment  zeros\n",
      "one      java  2022.0     1.0        0.1    1.0\n",
      "two      java  2019.0     6.0        0.6    1.0\n",
      "three  pandas  2023.0     3.0        0.3    1.0\n",
      "four     java  2021.0     7.0        0.9    1.0\n",
      "five   python  2018.0     8.0        0.2    1.0\n",
      "six    pandas  2023.0     2.0        0.2    1.0\n",
      "seven  oracle  2021.0     4.0        0.9    0.0\n"
     ]
    }
   ],
   "source": [
    "df.loc['seven',:]=['oracle', 2021, 4, 0.9, 0] # ---------------- 행 추가\n",
    "print(df)"
   ]
  },
  {
   "cell_type": "code",
   "execution_count": 56,
   "id": "47df1500",
   "metadata": {},
   "outputs": [
    {
     "name": "stdout",
     "output_type": "stream",
     "text": [
      "          0         1         2         3\n",
      "0 -0.630641  0.453256  0.469154  0.827845\n",
      "1 -0.268919 -0.519804 -0.493536  2.210448\n",
      "2 -0.458578  0.188674 -0.636292  1.759491\n",
      "3 -0.002722  2.536318 -0.705086 -0.683428\n",
      "4 -1.050365 -0.972183 -0.997767 -0.394044\n",
      "5  0.037181 -0.488449 -0.467335  1.314506\n"
     ]
    }
   ],
   "source": [
    "df = pd.DataFrame(np.random.randn(6, 4))\n",
    "print(df)"
   ]
  },
  {
   "cell_type": "code",
   "execution_count": 57,
   "id": "a4976514",
   "metadata": {},
   "outputs": [
    {
     "name": "stdout",
     "output_type": "stream",
     "text": [
      "                   A         B         C         D\n",
      "2016-07-01 -0.630641  0.453256  0.469154  0.827845\n",
      "2016-07-02 -0.268919 -0.519804 -0.493536  2.210448\n",
      "2016-07-03 -0.458578  0.188674 -0.636292  1.759491\n",
      "2016-07-04 -0.002722  2.536318 -0.705086 -0.683428\n",
      "2016-07-05 -1.050365 -0.972183 -0.997767 -0.394044\n",
      "2016-07-06  0.037181 -0.488449 -0.467335  1.314506\n"
     ]
    }
   ],
   "source": [
    "df.columns = ['A', 'B', 'C', 'D']\n",
    "df.index = pd.date_range('20160701', periods=6)\n",
    "print(df)"
   ]
  },
  {
   "cell_type": "code",
   "execution_count": 60,
   "id": "da1641fa",
   "metadata": {},
   "outputs": [
    {
     "name": "stdout",
     "output_type": "stream",
     "text": [
      "                   A         B         C         D    F\n",
      "2016-07-01 -0.630641  0.453256  0.469154  0.827845  2.0\n",
      "2016-07-02 -0.268919 -0.519804 -0.493536  2.210448  NaN\n",
      "2016-07-03 -0.458578  0.188674 -0.636292  1.759491  3.0\n",
      "2016-07-04 -0.002722  2.536318 -0.705086 -0.683428  1.0\n",
      "2016-07-05 -1.050365 -0.972183 -0.997767 -0.394044  5.0\n",
      "2016-07-06  0.037181 -0.488449 -0.467335  1.314506  0.0\n"
     ]
    }
   ],
   "source": [
    "df['F']=[2, np.nan, 3, 1, 5, 0]\n",
    "print(df)"
   ]
  },
  {
   "cell_type": "code",
   "execution_count": 61,
   "id": "cf15ae98",
   "metadata": {},
   "outputs": [
    {
     "name": "stdout",
     "output_type": "stream",
     "text": [
      "                   A         B         C         D    F\n",
      "2016-07-01 -0.630641  0.453256  0.469154  0.827845  2.0\n",
      "2016-07-03 -0.458578  0.188674 -0.636292  1.759491  3.0\n",
      "2016-07-04 -0.002722  2.536318 -0.705086 -0.683428  1.0\n",
      "2016-07-05 -1.050365 -0.972183 -0.997767 -0.394044  5.0\n",
      "2016-07-06  0.037181 -0.488449 -0.467335  1.314506  0.0\n"
     ]
    }
   ],
   "source": [
    "print(df.dropna(how='any')) # --------- 행 값중 하나라도(any) NaN이면 해당 행 삭제, 원본은 그대로 유지!!"
   ]
  },
  {
   "cell_type": "code",
   "execution_count": 62,
   "id": "6c8c3005",
   "metadata": {},
   "outputs": [
    {
     "name": "stdout",
     "output_type": "stream",
     "text": [
      "                   A         B         C         D    F\n",
      "2016-07-01 -0.630641  0.453256  0.469154  0.827845  2.0\n",
      "2016-07-02 -0.268919 -0.519804 -0.493536  2.210448  NaN\n",
      "2016-07-03 -0.458578  0.188674 -0.636292  1.759491  3.0\n",
      "2016-07-04 -0.002722  2.536318 -0.705086 -0.683428  1.0\n",
      "2016-07-05 -1.050365 -0.972183 -0.997767 -0.394044  5.0\n",
      "2016-07-06  0.037181 -0.488449 -0.467335  1.314506  0.0\n"
     ]
    }
   ],
   "source": [
    "print(df)"
   ]
  },
  {
   "cell_type": "code",
   "execution_count": 64,
   "id": "13359170",
   "metadata": {},
   "outputs": [
    {
     "name": "stdout",
     "output_type": "stream",
     "text": [
      "                   A         B         C         D    F\n",
      "2016-07-01 -0.630641  0.453256  0.469154  0.827845  2.0\n",
      "2016-07-02 -0.268919 -0.519804 -0.493536  2.210448  NaN\n",
      "2016-07-03 -0.458578  0.188674 -0.636292  1.759491  3.0\n",
      "2016-07-04 -0.002722  2.536318 -0.705086 -0.683428  1.0\n",
      "2016-07-05 -1.050365 -0.972183 -0.997767 -0.394044  5.0\n",
      "2016-07-06  0.037181 -0.488449 -0.467335  1.314506  0.0\n"
     ]
    }
   ],
   "source": [
    "print(df.dropna(how='all')) # --------- 행의 모든 값이 NaN일때 지워준다."
   ]
  },
  {
   "cell_type": "code",
   "execution_count": 65,
   "id": "677772ab",
   "metadata": {},
   "outputs": [
    {
     "name": "stdout",
     "output_type": "stream",
     "text": [
      "                A      B      C      D      F\n",
      "2016-07-01  False  False  False  False  False\n",
      "2016-07-02  False  False  False  False   True\n",
      "2016-07-03  False  False  False  False  False\n",
      "2016-07-04  False  False  False  False  False\n",
      "2016-07-05  False  False  False  False  False\n",
      "2016-07-06  False  False  False  False  False\n"
     ]
    }
   ],
   "source": [
    "print(df.isna())"
   ]
  },
  {
   "cell_type": "code",
   "execution_count": 66,
   "id": "4a28a34c",
   "metadata": {},
   "outputs": [
    {
     "name": "stdout",
     "output_type": "stream",
     "text": [
      "                   A         B         C         D            F\n",
      "2016-07-01 -0.630641  0.453256  0.469154  0.827845          2.0\n",
      "2016-07-02 -0.268919 -0.519804 -0.493536  2.210448  df.fillna()\n",
      "2016-07-03 -0.458578  0.188674 -0.636292  1.759491          3.0\n",
      "2016-07-04 -0.002722  2.536318 -0.705086 -0.683428          1.0\n",
      "2016-07-05 -1.050365 -0.972183 -0.997767 -0.394044          5.0\n",
      "2016-07-06  0.037181 -0.488449 -0.467335  1.314506          0.0\n"
     ]
    }
   ],
   "source": [
    "print(df.fillna(value='df.fillna()'))  # --------- 모든 NaN값에 value값 넣어준다"
   ]
  },
  {
   "cell_type": "code",
   "execution_count": 67,
   "id": "f7c3c6c4",
   "metadata": {},
   "outputs": [
    {
     "name": "stdout",
     "output_type": "stream",
     "text": [
      "<bound method DataFrame.isnull of                    A         B         C         D    F\n",
      "2016-07-01 -0.630641  0.453256  0.469154  0.827845  2.0\n",
      "2016-07-02 -0.268919 -0.519804 -0.493536  2.210448  NaN\n",
      "2016-07-03 -0.458578  0.188674 -0.636292  1.759491  3.0\n",
      "2016-07-04 -0.002722  2.536318 -0.705086 -0.683428  1.0\n",
      "2016-07-05 -1.050365 -0.972183 -0.997767 -0.394044  5.0\n",
      "2016-07-06  0.037181 -0.488449 -0.467335  1.314506  0.0>\n"
     ]
    }
   ],
   "source": [
    "print(df.isnull)"
   ]
  },
  {
   "cell_type": "code",
   "execution_count": null,
   "id": "b241cf82",
   "metadata": {},
   "outputs": [],
   "source": []
  }
 ],
 "metadata": {
  "kernelspec": {
   "display_name": "Python 3 (ipykernel)",
   "language": "python",
   "name": "python3"
  },
  "language_info": {
   "codemirror_mode": {
    "name": "ipython",
    "version": 3
   },
   "file_extension": ".py",
   "mimetype": "text/x-python",
   "name": "python",
   "nbconvert_exporter": "python",
   "pygments_lexer": "ipython3",
   "version": "3.9.13"
  }
 },
 "nbformat": 4,
 "nbformat_minor": 5
}
