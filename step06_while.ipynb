{
 "cells": [
  {
   "cell_type": "markdown",
   "id": "fcff353b",
   "metadata": {},
   "source": [
    "* while(조건 반복문)"
   ]
  },
  {
   "cell_type": "code",
   "execution_count": 1,
   "id": "8fcf36f1",
   "metadata": {},
   "outputs": [
    {
     "name": "stdout",
     "output_type": "stream",
     "text": [
      "Hello World\n",
      "Hello World\n",
      "Hello World\n",
      "Hello World\n",
      "Hello World\n"
     ]
    }
   ],
   "source": [
    "cnt=0\n",
    "while True:\n",
    "    if cnt < 5:\n",
    "        print('Hello World')\n",
    "        cnt += 1\n",
    "    else:\n",
    "        break"
   ]
  },
  {
   "cell_type": "code",
   "execution_count": 2,
   "id": "75214084",
   "metadata": {},
   "outputs": [
    {
     "name": "stdout",
     "output_type": "stream",
     "text": [
      "Hello World\n",
      "Hello World\n",
      "Hello World\n",
      "Hello World\n",
      "Hello World\n"
     ]
    }
   ],
   "source": [
    "cnt=0\n",
    "while cnt < 5:\n",
    "    print('Hello World')\n",
    "    cnt += 1"
   ]
  },
  {
   "cell_type": "code",
   "execution_count": 4,
   "id": "c09f45ae",
   "metadata": {},
   "outputs": [
    {
     "name": "stdout",
     "output_type": "stream",
     "text": [
      "10  9  8  7  6  5  4  3  2  1  "
     ]
    }
   ],
   "source": [
    "# 10 9 8 7 6 5 4 3 2 1\n",
    "n=10\n",
    "while n > 0:\n",
    "    print(n, end='  ')\n",
    "    n -= 1"
   ]
  },
  {
   "cell_type": "code",
   "execution_count": null,
   "id": "7b8bcdcf",
   "metadata": {},
   "outputs": [],
   "source": [
    "'''\n",
    "[문제]단을 입력받아서 구구단을 출력하시오\n",
    "단을 입력하시오: 7\n",
    "7 * 1 =  7\n",
    "7 * 2 = 14\n",
    "7 * 3 = 21\n",
    "   :\n",
    "7 * 9 = 63\n",
    "'''"
   ]
  },
  {
   "cell_type": "code",
   "execution_count": 6,
   "id": "304a67f0",
   "metadata": {
    "scrolled": true
   },
   "outputs": [
    {
     "name": "stdout",
     "output_type": "stream",
     "text": [
      "단을 입력하시오: 5\n",
      " 5 * 1 =  5\n",
      " 5 * 2 = 10\n",
      " 5 * 3 = 15\n",
      " 5 * 4 = 20\n",
      " 5 * 5 = 25\n",
      " 5 * 6 = 30\n",
      " 5 * 7 = 35\n",
      " 5 * 8 = 40\n",
      " 5 * 9 = 45\n"
     ]
    }
   ],
   "source": [
    "dan=int(input('단을 입력하시오: '))\n",
    "n=0\n",
    "while n < 9:\n",
    "    n += 1\n",
    "    #print(dan, '*', n , '=', (dan * n))\n",
    "    print(\"%2d *%2d = %2d\" % (dan, n, dan*n)) "
   ]
  }
 ],
 "metadata": {
  "kernelspec": {
   "display_name": "Python 3 (ipykernel)",
   "language": "python",
   "name": "python3"
  },
  "language_info": {
   "codemirror_mode": {
    "name": "ipython",
    "version": 3
   },
   "file_extension": ".py",
   "mimetype": "text/x-python",
   "name": "python",
   "nbconvert_exporter": "python",
   "pygments_lexer": "ipython3",
   "version": "3.7.15"
  }
 },
 "nbformat": 4,
 "nbformat_minor": 5
}
